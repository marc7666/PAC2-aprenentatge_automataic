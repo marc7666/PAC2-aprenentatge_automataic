{
 "cells": [
  {
   "cell_type": "markdown",
   "metadata": {
    "id": "Kkjzq5PUPAD9"
   },
   "source": [
    "<div style=\"width: 100%; clear: both;\">\n",
    "\n",
    "<div style=\"float: left; width: 50%;\">\n",
    "\n",
    "<img src=\"http://www.uoc.edu/portal/_resources/common/imatges/marca_UOC/UOC_Masterbrand.jpg\" align=\"left\">\n",
    "\n",
    "</div>\n",
    "\n",
    "<div style=\"float: right; width: 50%;\">\n",
    "\n",
    "<p style=\"margin: 0; padding-top: 22px; text-align:right;\">M2.991 · Aprenentatge automàtic · PAC1</p>\n",
    "\n",
    "<p style=\"margin: 0; text-align:right;\">2024-2 · Màster universitari en Ciència de dades (Data science)</p>\n",
    "\n",
    "<p style=\"margin: 0; text-align:right; padding-button: 100px;\">Estudis d'Informàtica, Multimèdia i Telecomunicació</p>\n",
    "\n",
    "</div>\n",
    "\n",
    "</div>\n",
    "\n",
    "<div style=\"width:100%;\">&nbsp;</div>"
   ]
  },
  {
   "cell_type": "markdown",
   "metadata": {
    "id": "w3k6VSA7PAEA"
   },
   "source": [
    "# PEC 2 - Descobrint patrons ocults: projeccions, agrupacions i significat latent en dades no etiquetades\n",
    "\n",
    "En aquesta pràctica treballarem amb un [dataset real de sessions d'escolta de música procedent de 1000 usuaris de LastFM](http://ocelma.net/MusicRecommendationDataset/lastfm-1K.html). A partir d'aquest escenari, aprendràs a explorar i transformar les dades, a projectar-les en diferents espais i a descobrir estructures ocultes sense necessitat d'etiquetes.\n",
    "\n",
    "Aplicarem diferents tècniques d'aprenentatge no supervisat per detectar agrupacions i afinitats musicals, entenent millor el comportament dels oients i les relacions entre cançons o artistes.\n",
    "\n",
    "Començarem **explorant i preparant les dades** per a les diferents tècniques que aplicarem. Donada la gran dimensionalitat de les dades, necessitem representar-les de manera densa a través de diferents tècniques de projecció no supervisades, començarem amb una tècnica basada en **coocurrència** (de cançons o artistes en sessions d'un usuari). Donades les seves limitacions, provarem dos mètodes de projecció alternatius: un **probabilístic** (LDA que a més és un algoritme de clustering) i un altre que **factoritza matrius** (ALS que a més ens permet fer recomanacions). *Opcionalment* es presenta l'oportunitat d'explorar les **projeccions algebraiques** a través d'una versió simplificada d'un model item2vec.\n",
    "\n",
    "**Important:** cadascun dels exercicis pot suposar diversos minuts d'execució (molts mètodes utilitzats a la pràctica tenen un paràmetre anomenat `n_jobs` que amb valor `-1` paral·leliza tasques i pot reduir els temps d'execució), per la qual cosa el lliurament s'ha de fer en format notebook i en format html, on es vegi el codi, els resultats i comentaris de cada exercici. Es pot exportar el notebook a html des del menú File $\\to$ Download as $\\to$ HTML.\n",
    "\n",
    "**Important:** existeix un tipus de cel·la especial per albergar text. Aquest tipus de cel·la us serà molt útil per respondre a les diferents preguntes teòriques plantejades al llarg de cada PEC. Per canviar el tipus de cel·la a aquest tipus, trieu al menú: Cell $\\to$ Cell Type $\\to$ Markdown.\n",
    "\n",
    "**Important:** la solució plantejada no ha d'utilitzar mètodes, funcions o paràmetres declarats \"deprecated\" en futures versions.\n",
    "\n",
    "**Important:** és convenient que utilitzeu una llavor amb un valor fix (en aquest Notebook se us proposa la variable _seed_ inicialitzada a 100) en tots aquells mètodes o funcions que continguin alguna component aleatòria per assegurar-vos que obtindreu sempre el mateix resultat en les diferents execucions del vostre codi.\n",
    "\n",
    "**Important:** no oblideu posar el vostre nom i cognoms a la següent cel·la."
   ]
  },
  {
   "cell_type": "markdown",
   "metadata": {
    "id": "uuHiW6iWPAEB"
   },
   "source": [
    "<div class=\"alert alert-block alert-info\">\n",
    "<strong>Nom i cognoms: Marc Cervera Rosell</strong>\n",
    "</div>"
   ]
  },
  {
   "cell_type": "code",
   "execution_count": null,
   "metadata": {
    "id": "Zv8CPaJ8PAEC"
   },
   "outputs": [],
   "source": []
  },
  {
   "cell_type": "markdown",
   "metadata": {
    "id": "FrgodeyGPAEC"
   },
   "source": [
    "Per a la realització de la pràctica necessitarem instal·lar i importar els següents mòduls:"
   ]
  },
  {
   "cell_type": "code",
   "execution_count": 1,
   "metadata": {
    "colab": {
     "base_uri": "https://localhost:8080/"
    },
    "executionInfo": {
     "elapsed": 13545,
     "status": "ok",
     "timestamp": 1743164947572,
     "user": {
      "displayName": "Magda L. Ruiz Ordoñez",
      "userId": "14825706077751454765"
     },
     "user_tz": -60
    },
    "id": "rAGXNrruPAED",
    "outputId": "bf5a710c-5310-445f-f430-b47fcd0ad65a"
   },
   "outputs": [
    {
     "name": "stdout",
     "output_type": "stream",
     "text": [
      "Requirement already satisfied: smogn==0.1.2 in c:\\users\\mcr99\\anaconda3\\envs\\env_uoc202402pec2\\lib\\site-packages (0.1.2)\n",
      "Requirement already satisfied: numpy in c:\\users\\mcr99\\anaconda3\\envs\\env_uoc202402pec2\\lib\\site-packages (from smogn==0.1.2) (1.26.4)\n",
      "Requirement already satisfied: pandas in c:\\users\\mcr99\\anaconda3\\envs\\env_uoc202402pec2\\lib\\site-packages (from smogn==0.1.2) (2.2.3)\n",
      "Requirement already satisfied: tqdm in c:\\users\\mcr99\\anaconda3\\envs\\env_uoc202402pec2\\lib\\site-packages (from smogn==0.1.2) (4.67.1)\n",
      "Requirement already satisfied: python-dateutil>=2.8.2 in c:\\users\\mcr99\\anaconda3\\envs\\env_uoc202402pec2\\lib\\site-packages (from pandas->smogn==0.1.2) (2.9.0.post0)\n",
      "Requirement already satisfied: pytz>=2020.1 in c:\\users\\mcr99\\anaconda3\\envs\\env_uoc202402pec2\\lib\\site-packages (from pandas->smogn==0.1.2) (2024.1)\n",
      "Requirement already satisfied: tzdata>=2022.7 in c:\\users\\mcr99\\anaconda3\\envs\\env_uoc202402pec2\\lib\\site-packages (from pandas->smogn==0.1.2) (2025.2)\n",
      "Requirement already satisfied: colorama in c:\\users\\mcr99\\anaconda3\\envs\\env_uoc202402pec2\\lib\\site-packages (from tqdm->smogn==0.1.2) (0.4.6)\n",
      "Requirement already satisfied: six>=1.5 in c:\\users\\mcr99\\anaconda3\\envs\\env_uoc202402pec2\\lib\\site-packages (from python-dateutil>=2.8.2->pandas->smogn==0.1.2) (1.17.0)\n",
      "Requirement already satisfied: implicit in c:\\users\\mcr99\\anaconda3\\envs\\env_uoc202402pec2\\lib\\site-packages (0.7.2)\n",
      "Requirement already satisfied: numpy>=1.17.0 in c:\\users\\mcr99\\anaconda3\\envs\\env_uoc202402pec2\\lib\\site-packages (from implicit) (1.26.4)\n",
      "Requirement already satisfied: scipy>=0.16 in c:\\users\\mcr99\\anaconda3\\envs\\env_uoc202402pec2\\lib\\site-packages (from implicit) (1.15.2)\n",
      "Requirement already satisfied: tqdm>=4.27 in c:\\users\\mcr99\\anaconda3\\envs\\env_uoc202402pec2\\lib\\site-packages (from implicit) (4.67.1)\n",
      "Requirement already satisfied: threadpoolctl in c:\\users\\mcr99\\anaconda3\\envs\\env_uoc202402pec2\\lib\\site-packages (from implicit) (3.6.0)\n",
      "Requirement already satisfied: colorama in c:\\users\\mcr99\\anaconda3\\envs\\env_uoc202402pec2\\lib\\site-packages (from tqdm>=4.27->implicit) (0.4.6)\n",
      "Requirement already satisfied: matplotlib-venn in c:\\users\\mcr99\\anaconda3\\envs\\env_uoc202402pec2\\lib\\site-packages (1.1.2)\n",
      "Requirement already satisfied: matplotlib in c:\\users\\mcr99\\anaconda3\\envs\\env_uoc202402pec2\\lib\\site-packages (from matplotlib-venn) (3.10.0)\n",
      "Requirement already satisfied: numpy in c:\\users\\mcr99\\anaconda3\\envs\\env_uoc202402pec2\\lib\\site-packages (from matplotlib-venn) (1.26.4)\n",
      "Requirement already satisfied: scipy in c:\\users\\mcr99\\anaconda3\\envs\\env_uoc202402pec2\\lib\\site-packages (from matplotlib-venn) (1.15.2)\n",
      "Requirement already satisfied: contourpy>=1.0.1 in c:\\users\\mcr99\\anaconda3\\envs\\env_uoc202402pec2\\lib\\site-packages (from matplotlib->matplotlib-venn) (1.3.1)\n",
      "Requirement already satisfied: cycler>=0.10 in c:\\users\\mcr99\\anaconda3\\envs\\env_uoc202402pec2\\lib\\site-packages (from matplotlib->matplotlib-venn) (0.12.1)\n",
      "Requirement already satisfied: fonttools>=4.22.0 in c:\\users\\mcr99\\anaconda3\\envs\\env_uoc202402pec2\\lib\\site-packages (from matplotlib->matplotlib-venn) (4.57.0)\n",
      "Requirement already satisfied: kiwisolver>=1.3.1 in c:\\users\\mcr99\\anaconda3\\envs\\env_uoc202402pec2\\lib\\site-packages (from matplotlib->matplotlib-venn) (1.4.8)\n",
      "Requirement already satisfied: packaging>=20.0 in c:\\users\\mcr99\\anaconda3\\envs\\env_uoc202402pec2\\lib\\site-packages (from matplotlib->matplotlib-venn) (24.2)\n",
      "Requirement already satisfied: pillow>=8 in c:\\users\\mcr99\\anaconda3\\envs\\env_uoc202402pec2\\lib\\site-packages (from matplotlib->matplotlib-venn) (11.1.0)\n",
      "Requirement already satisfied: pyparsing>=2.3.1 in c:\\users\\mcr99\\anaconda3\\envs\\env_uoc202402pec2\\lib\\site-packages (from matplotlib->matplotlib-venn) (3.2.3)\n",
      "Requirement already satisfied: python-dateutil>=2.7 in c:\\users\\mcr99\\anaconda3\\envs\\env_uoc202402pec2\\lib\\site-packages (from matplotlib->matplotlib-venn) (2.9.0.post0)\n",
      "Requirement already satisfied: six>=1.5 in c:\\users\\mcr99\\anaconda3\\envs\\env_uoc202402pec2\\lib\\site-packages (from python-dateutil>=2.7->matplotlib->matplotlib-venn) (1.17.0)\n",
      "Requirement already satisfied: adjustText in c:\\users\\mcr99\\anaconda3\\envs\\env_uoc202402pec2\\lib\\site-packages (1.3.0)\n",
      "Requirement already satisfied: numpy in c:\\users\\mcr99\\anaconda3\\envs\\env_uoc202402pec2\\lib\\site-packages (from adjustText) (1.26.4)\n",
      "Requirement already satisfied: matplotlib in c:\\users\\mcr99\\anaconda3\\envs\\env_uoc202402pec2\\lib\\site-packages (from adjustText) (3.10.0)\n",
      "Requirement already satisfied: scipy in c:\\users\\mcr99\\anaconda3\\envs\\env_uoc202402pec2\\lib\\site-packages (from adjustText) (1.15.2)\n",
      "Requirement already satisfied: contourpy>=1.0.1 in c:\\users\\mcr99\\anaconda3\\envs\\env_uoc202402pec2\\lib\\site-packages (from matplotlib->adjustText) (1.3.1)\n",
      "Requirement already satisfied: cycler>=0.10 in c:\\users\\mcr99\\anaconda3\\envs\\env_uoc202402pec2\\lib\\site-packages (from matplotlib->adjustText) (0.12.1)\n",
      "Requirement already satisfied: fonttools>=4.22.0 in c:\\users\\mcr99\\anaconda3\\envs\\env_uoc202402pec2\\lib\\site-packages (from matplotlib->adjustText) (4.57.0)\n",
      "Requirement already satisfied: kiwisolver>=1.3.1 in c:\\users\\mcr99\\anaconda3\\envs\\env_uoc202402pec2\\lib\\site-packages (from matplotlib->adjustText) (1.4.8)\n",
      "Requirement already satisfied: packaging>=20.0 in c:\\users\\mcr99\\anaconda3\\envs\\env_uoc202402pec2\\lib\\site-packages (from matplotlib->adjustText) (24.2)\n",
      "Requirement already satisfied: pillow>=8 in c:\\users\\mcr99\\anaconda3\\envs\\env_uoc202402pec2\\lib\\site-packages (from matplotlib->adjustText) (11.1.0)\n",
      "Requirement already satisfied: pyparsing>=2.3.1 in c:\\users\\mcr99\\anaconda3\\envs\\env_uoc202402pec2\\lib\\site-packages (from matplotlib->adjustText) (3.2.3)\n",
      "Requirement already satisfied: python-dateutil>=2.7 in c:\\users\\mcr99\\anaconda3\\envs\\env_uoc202402pec2\\lib\\site-packages (from matplotlib->adjustText) (2.9.0.post0)\n",
      "Requirement already satisfied: six>=1.5 in c:\\users\\mcr99\\anaconda3\\envs\\env_uoc202402pec2\\lib\\site-packages (from python-dateutil>=2.7->matplotlib->adjustText) (1.17.0)\n"
     ]
    }
   ],
   "source": [
    "!pip install smogn==0.1.2\n",
    "!pip install implicit\n",
    "!pip install matplotlib-venn\n",
    "#!apt-get -qq install -y libfluidsynth1\n",
    "!pip install adjustText"
   ]
  },
  {
   "cell_type": "code",
   "execution_count": 2,
   "metadata": {
    "id": "U296kJQ-PAEE"
   },
   "outputs": [],
   "source": [
    "from collections import defaultdict\n",
    "from itertools import permutations\n",
    "import pickle\n",
    "import random\n",
    "import warnings\n",
    "\n",
    "from adjustText import adjust_text\n",
    "from implicit.als import AlternatingLeastSquares\n",
    "from matplotlib import pyplot as plt\n",
    "import numpy as np\n",
    "import pandas as pd\n",
    "from scipy.sparse import csr_matrix\n",
    "from sklearn.decomposition import LatentDirichletAllocation\n",
    "import torch\n",
    "import torch.nn as nn\n",
    "import torch.nn.functional as F\n",
    "from torch.utils.data import TensorDataset, DataLoader, Dataset\n",
    "import tqdm\n",
    "import umap\n",
    "\n",
    "%matplotlib inline\n"
   ]
  },
  {
   "cell_type": "markdown",
   "metadata": {
    "id": "54XreOYbPAEG"
   },
   "source": [
    "# 1. Preparació de les dades: LastFM 1K (1 punt)\n",
    "\n",
    "Treballarem amb una versió del dataset LastFM 1K, un conjunt real de dades recopilat des de la plataforma musical Last.fm. Conté l'historial d'escolta d'aproximadament 1.000 usuaris, on es registren les cançons que cada usuari ha escoltat, amb informació sobre:\n",
    "\n",
    "- L'usuari (en format id)\n",
    "\n",
    "- La data i hora de reproducció\n",
    "\n",
    "- L'artista (en format id i nom)\n",
    "\n",
    "- La cançó (en format id i títol)\n",
    "\n",
    "Per a això pots carregar les dades de la següent manera:"
   ]
  },
  {
   "cell_type": "code",
   "execution_count": 3,
   "metadata": {
    "id": "S3T1YXDZQoSr"
   },
   "outputs": [],
   "source": [
    "df = pd.read_csv(\"music_sample.tsv\", sep=\"\\t\", header=0)"
   ]
  },
  {
   "cell_type": "code",
   "execution_count": 4,
   "metadata": {
    "colab": {
     "base_uri": "https://localhost:8080/",
     "height": 206
    },
    "executionInfo": {
     "elapsed": 56,
     "status": "ok",
     "timestamp": 1743164957297,
     "user": {
      "displayName": "Magda L. Ruiz Ordoñez",
      "userId": "14825706077751454765"
     },
     "user_tz": -60
    },
    "id": "O9datC2PQqgR",
    "outputId": "46d3b21b-02d9-4841-be64-0fbef1118b7b"
   },
   "outputs": [
    {
     "data": {
      "text/html": [
       "<div>\n",
       "<style scoped>\n",
       "    .dataframe tbody tr th:only-of-type {\n",
       "        vertical-align: middle;\n",
       "    }\n",
       "\n",
       "    .dataframe tbody tr th {\n",
       "        vertical-align: top;\n",
       "    }\n",
       "\n",
       "    .dataframe thead th {\n",
       "        text-align: right;\n",
       "    }\n",
       "</style>\n",
       "<table border=\"1\" class=\"dataframe\">\n",
       "  <thead>\n",
       "    <tr style=\"text-align: right;\">\n",
       "      <th></th>\n",
       "      <th>user_id</th>\n",
       "      <th>artist</th>\n",
       "      <th>track</th>\n",
       "    </tr>\n",
       "  </thead>\n",
       "  <tbody>\n",
       "    <tr>\n",
       "      <th>210288</th>\n",
       "      <td>user_000857</td>\n",
       "      <td>The Doors</td>\n",
       "      <td>The Unknown Soldier</td>\n",
       "    </tr>\n",
       "    <tr>\n",
       "      <th>301367</th>\n",
       "      <td>user_000977</td>\n",
       "      <td>The Last Shadow Puppets</td>\n",
       "      <td>The Age Of The Understatement</td>\n",
       "    </tr>\n",
       "    <tr>\n",
       "      <th>199621</th>\n",
       "      <td>user_000427</td>\n",
       "      <td>Jackson Browne</td>\n",
       "      <td>Before The Deluge</td>\n",
       "    </tr>\n",
       "    <tr>\n",
       "      <th>375161</th>\n",
       "      <td>user_000877</td>\n",
       "      <td>Marcus Miller</td>\n",
       "      <td>Visions</td>\n",
       "    </tr>\n",
       "    <tr>\n",
       "      <th>177673</th>\n",
       "      <td>user_000147</td>\n",
       "      <td>Siouxsie And The Banshees</td>\n",
       "      <td>Take Me Back</td>\n",
       "    </tr>\n",
       "  </tbody>\n",
       "</table>\n",
       "</div>"
      ],
      "text/plain": [
       "            user_id                     artist                          track\n",
       "210288  user_000857                  The Doors            The Unknown Soldier\n",
       "301367  user_000977    The Last Shadow Puppets  The Age Of The Understatement\n",
       "199621  user_000427             Jackson Browne              Before The Deluge\n",
       "375161  user_000877              Marcus Miller                        Visions\n",
       "177673  user_000147  Siouxsie And The Banshees                   Take Me Back"
      ]
     },
     "execution_count": 4,
     "metadata": {},
     "output_type": "execute_result"
    }
   ],
   "source": [
    "df.sample(5)"
   ]
  },
  {
   "cell_type": "markdown",
   "metadata": {
    "id": "bTszgswnmzax"
   },
   "source": [
    "## 1.1 Eliminar duplicats\n",
    "\n",
    "Un mateix usuari pot haver escoltat una mateixa cançó diverses vegades al llarg del temps. Com que en aquest cas no ens interessa quan va ocórrer cada escolta, eliminarem els registres duplicats.\n",
    "\n"
   ]
  },
  {
   "cell_type": "markdown",
   "metadata": {
    "id": "p-yJjFtQPAEG"
   },
   "source": [
    "<div style=\"background-color: #EDF7FF; border-color: #7C9DBF; border-left: 5px solid #7C9DBF; padding: 0.5em;\">\n",
    "<strong>Implementació:</strong> Conserva només una fila per combinació d'`usuari`, `artista` i `cançó`, ignorant el `timestamp`.\n",
    "</div>\n"
   ]
  },
  {
   "cell_type": "code",
   "execution_count": 5,
   "metadata": {},
   "outputs": [],
   "source": [
    "# Eliminació de línies corrompudes\n",
    "df.dropna(inplace=True)\n",
    "df = df[~df['track'].str.contains(r\"\\t\")]"
   ]
  },
  {
   "cell_type": "code",
   "execution_count": 6,
   "metadata": {
    "id": "ThSEdQoWPAEG"
   },
   "outputs": [
    {
     "data": {
      "text/plain": [
       "user_id    False\n",
       "artist     False\n",
       "track      False\n",
       "dtype: bool"
      ]
     },
     "execution_count": 6,
     "metadata": {},
     "output_type": "execute_result"
    }
   ],
   "source": [
    "df.isna().any()"
   ]
  },
  {
   "cell_type": "code",
   "execution_count": 7,
   "metadata": {},
   "outputs": [],
   "source": [
    "df_no_duplicates = df.drop_duplicates()"
   ]
  },
  {
   "cell_type": "code",
   "execution_count": 8,
   "metadata": {},
   "outputs": [
    {
     "data": {
      "text/plain": [
       "False"
      ]
     },
     "execution_count": 8,
     "metadata": {},
     "output_type": "execute_result"
    }
   ],
   "source": [
    "df_no_duplicates.duplicated().any() # Comprovar si hi ha duplicats"
   ]
  },
  {
   "cell_type": "markdown",
   "metadata": {},
   "source": [
    "**Documentació consultada:**\n",
    "\n",
    "[Pandas.(nd)._pandas.DataFrame.isna_.Pandas](https://pandas.pydata.org/docs/reference/api/pandas.DataFrame.isna.html)\n",
    "\n",
    "[Pandas.(nd)._pandas.DataFrame.any_.Pandas](https://pandas.pydata.org/docs/reference/api/pandas.DataFrame.any.html)\n",
    "\n",
    "[Pandas.(nd)._pandas.DataFrame.drop_duplicates_.Pandas](https://pandas.pydata.org/docs/reference/api/pandas.DataFrame.drop_duplicates.html)\n",
    "\n",
    "[Pandas.(nd)._pandas.DataFrame.duplicated_.Pandas](https://pandas.pydata.org/docs/reference/api/pandas.DataFrame.duplicated.html)"
   ]
  },
  {
   "cell_type": "markdown",
   "metadata": {
    "id": "xRpEMu0an0iY"
   },
   "source": [
    "## 1.2 Filtratge de cançons amb poca repercussió\n",
    "\n",
    "Per reduir la mida del dataset i centrar-nos en les cançons amb més rellevància, eliminarem aquelles que hagin tingut molt poca repercussió.\n",
    "\n",
    "Aquest filtratge ens ajudarà a estalviar **temps de càlcul** i **memòria** en els passos posteriors.\n",
    "\n",
    "\n",
    "\n"
   ]
  },
  {
   "cell_type": "markdown",
   "metadata": {
    "id": "rxivJWUU2syq"
   },
   "source": [
    "<div style=\"background-color: #EDF7FF; border-color: #7C9DBF; border-left: 5px solid #7C9DBF; padding: 0.5em;\">\n",
    "<strong>Implementació:</strong> Conserva només les cançons que hagin estat escoltades per més de 20 usuaris diferents.\n",
    "</div>\n"
   ]
  },
  {
   "cell_type": "code",
   "execution_count": 9,
   "metadata": {
    "id": "3DtNU_8T3Gkq"
   },
   "outputs": [
    {
     "data": {
      "text/html": [
       "<div>\n",
       "<style scoped>\n",
       "    .dataframe tbody tr th:only-of-type {\n",
       "        vertical-align: middle;\n",
       "    }\n",
       "\n",
       "    .dataframe tbody tr th {\n",
       "        vertical-align: top;\n",
       "    }\n",
       "\n",
       "    .dataframe thead th {\n",
       "        text-align: right;\n",
       "    }\n",
       "</style>\n",
       "<table border=\"1\" class=\"dataframe\">\n",
       "  <thead>\n",
       "    <tr style=\"text-align: right;\">\n",
       "      <th></th>\n",
       "      <th>artist</th>\n",
       "      <th>track</th>\n",
       "      <th>user_id</th>\n",
       "    </tr>\n",
       "  </thead>\n",
       "  <tbody>\n",
       "    <tr>\n",
       "      <th>2501</th>\n",
       "      <td>3 Doors Down</td>\n",
       "      <td>Here Without You</td>\n",
       "      <td>[user_000270, user_000338, user_000435, user_0...</td>\n",
       "    </tr>\n",
       "    <tr>\n",
       "      <th>2649</th>\n",
       "      <td>30 Seconds To Mars</td>\n",
       "      <td>The Kill</td>\n",
       "      <td>[user_000300, user_000761, user_000044, user_0...</td>\n",
       "    </tr>\n",
       "    <tr>\n",
       "      <th>5240</th>\n",
       "      <td>A Perfect Circle</td>\n",
       "      <td>3 Libras</td>\n",
       "      <td>[user_000729, user_000206, user_000912, user_0...</td>\n",
       "    </tr>\n",
       "    <tr>\n",
       "      <th>5274</th>\n",
       "      <td>A Perfect Circle</td>\n",
       "      <td>Imagine</td>\n",
       "      <td>[user_000341, user_000290, user_000206, user_0...</td>\n",
       "    </tr>\n",
       "    <tr>\n",
       "      <th>5828</th>\n",
       "      <td>A-Ha</td>\n",
       "      <td>Take On Me</td>\n",
       "      <td>[user_000537, user_000638, user_000374, user_0...</td>\n",
       "    </tr>\n",
       "    <tr>\n",
       "      <th>...</th>\n",
       "      <td>...</td>\n",
       "      <td>...</td>\n",
       "      <td>...</td>\n",
       "    </tr>\n",
       "    <tr>\n",
       "      <th>479221</th>\n",
       "      <td>Zero 7</td>\n",
       "      <td>Likufanele</td>\n",
       "      <td>[user_000609, user_000989, user_000478, user_0...</td>\n",
       "    </tr>\n",
       "    <tr>\n",
       "      <th>479232</th>\n",
       "      <td>Zero 7</td>\n",
       "      <td>Polaris</td>\n",
       "      <td>[user_000860, user_000153, user_000451, user_0...</td>\n",
       "    </tr>\n",
       "    <tr>\n",
       "      <th>479234</th>\n",
       "      <td>Zero 7</td>\n",
       "      <td>Red Dust</td>\n",
       "      <td>[user_000734, user_000627, user_000716, user_0...</td>\n",
       "    </tr>\n",
       "    <tr>\n",
       "      <th>479241</th>\n",
       "      <td>Zero 7</td>\n",
       "      <td>Somersault</td>\n",
       "      <td>[user_000695, user_000159, user_000180, user_0...</td>\n",
       "    </tr>\n",
       "    <tr>\n",
       "      <th>479253</th>\n",
       "      <td>Zero 7</td>\n",
       "      <td>This World</td>\n",
       "      <td>[user_000609, user_000358, user_000687, user_0...</td>\n",
       "    </tr>\n",
       "  </tbody>\n",
       "</table>\n",
       "<p>2231 rows × 3 columns</p>\n",
       "</div>"
      ],
      "text/plain": [
       "                    artist             track  \\\n",
       "2501          3 Doors Down  Here Without You   \n",
       "2649    30 Seconds To Mars          The Kill   \n",
       "5240      A Perfect Circle          3 Libras   \n",
       "5274      A Perfect Circle           Imagine   \n",
       "5828                  A-Ha        Take On Me   \n",
       "...                    ...               ...   \n",
       "479221              Zero 7        Likufanele   \n",
       "479232              Zero 7           Polaris   \n",
       "479234              Zero 7          Red Dust   \n",
       "479241              Zero 7        Somersault   \n",
       "479253              Zero 7        This World   \n",
       "\n",
       "                                                  user_id  \n",
       "2501    [user_000270, user_000338, user_000435, user_0...  \n",
       "2649    [user_000300, user_000761, user_000044, user_0...  \n",
       "5240    [user_000729, user_000206, user_000912, user_0...  \n",
       "5274    [user_000341, user_000290, user_000206, user_0...  \n",
       "5828    [user_000537, user_000638, user_000374, user_0...  \n",
       "...                                                   ...  \n",
       "479221  [user_000609, user_000989, user_000478, user_0...  \n",
       "479232  [user_000860, user_000153, user_000451, user_0...  \n",
       "479234  [user_000734, user_000627, user_000716, user_0...  \n",
       "479241  [user_000695, user_000159, user_000180, user_0...  \n",
       "479253  [user_000609, user_000358, user_000687, user_0...  \n",
       "\n",
       "[2231 rows x 3 columns]"
      ]
     },
     "execution_count": 9,
     "metadata": {},
     "output_type": "execute_result"
    }
   ],
   "source": [
    "df_agrupat = df_no_duplicates.groupby(by=[\"artist\", \"track\"], as_index=False).agg({\"user_id\":\"unique\"}) # Agrupar per artista i canço\n",
    "df_filtrat = df_agrupat[df_agrupat[\"user_id\"].apply(len) > 20] # Seleccionar cançons amb mes de 20 usuaris\n",
    "df_filtrat"
   ]
  },
  {
   "cell_type": "code",
   "execution_count": 10,
   "metadata": {},
   "outputs": [
    {
     "data": {
      "text/plain": [
       "artist     False\n",
       "track      False\n",
       "user_id    False\n",
       "dtype: bool"
      ]
     },
     "execution_count": 10,
     "metadata": {},
     "output_type": "execute_result"
    }
   ],
   "source": [
    "df_filtrat.isna().any()"
   ]
  },
  {
   "cell_type": "markdown",
   "metadata": {},
   "source": [
    "**Documentació consultada:**\n",
    "\n",
    "[Pandas.(nd)._pandas.DataFrame.groupby_.Pandas](https://pandas.pydata.org/docs/reference/api/pandas.DataFrame.groupby.html)\n",
    "\n",
    "[Pandas.(nd)._pandas.DataFrame.nunique_.Pandas](https://pandas.pydata.org/docs/reference/api/pandas.DataFrame.nunique.html)\n",
    "\n",
    "[Pandas.(nd)._pandas.DataFrame.agg_.Pandas](https://pandas.pydata.org/docs/reference/api/pandas.DataFrame.agg.html)"
   ]
  },
  {
   "cell_type": "markdown",
   "metadata": {
    "id": "6M02iDaC6Pah"
   },
   "source": [
    "## 1.3 Identificació d'artistes i cançons úniques\n",
    "\n",
    "Generarem tres sèries de pandas que ens seran útils més endavant: una amb tots els **usuaris únics**, una altra amb tots els **artistes únics** i una última amb totes les **cançons úniques** del dataset.\n",
    "\n",
    "Crea tres objectes `unique_users`, `unique_artists` i `unique_songs`, que continguin els valors únics de `user_id`, `artist` i `artist` + `track`, respectivament, i que tinguin un **índex correlatiu de 0 a N**. Per a això, pots utilitzar `.reset_index(drop=True)` en la teva solució.\n",
    "\n",
    "A partir de les sèries `unique_artists` i `unique_songs`, crearem quatre diccionaris que ens permetran **mapejar entre noms (strings) i índexs (enters correlatius començant des del 0)**, i viceversa.\n",
    "\n",
    "Crea els següents diccionaris:\n",
    "\n",
    "- `user_to_idx`: mapeja l'id d'usuari (str) al seu índex.\n",
    "- `idx_to_user`: mapeja l'índex a l'id d'usuari (str).\n",
    "\n",
    "- `artist_to_idx`: mapeja el nom de l'artista al seu índex.\n",
    "- `idx_to_artist`: mapeja l'índex al nom de l'artista.\n",
    "\n",
    "- `song_to_idx`: mapeja el nom de la cançó al seu índex.\n",
    "- `idx_to_song`: mapeja l'índex al nom de la cançó.\n",
    "\n",
    "Aquests diccionaris seran molt útils per representar el dataset numèricament en etapes posteriors.\n",
    "\n"
   ]
  },
  {
   "cell_type": "markdown",
   "metadata": {
    "id": "fwN2JSZs6vvf"
   },
   "source": [
    "<div style=\"background-color: #EDF7FF; border-color: #7C9DBF; border-left: 5px solid #7C9DBF; padding: 0.5em;\">\n",
    "<strong>Implementació:</strong> Crea els objectes unique_users, user_to_idx, idx_to_user, unique_artists, artist_to_idx, idx_to_artist, unique_songs, song_to_idx i idx_to_song.\n",
    "</div>\n"
   ]
  },
  {
   "cell_type": "code",
   "execution_count": 108,
   "metadata": {
    "id": "rqEvU4A-nSUV"
   },
   "outputs": [],
   "source": [
    "unique_users = pd.Series(df_filtrat[\"user_id\"].explode().unique()).reset_index(drop=True) # Valors unics dels user_id\n",
    "unique_artists = pd.Series(df_filtrat[\"artist\"].unique()).reset_index(drop=True) # Artistes\n",
    "unique_songs = pd.Series((df_filtrat[\"artist\"] + \"-\" + df_filtrat[\"track\"]).unique()).reset_index(drop=True) # Cançó + artista"
   ]
  },
  {
   "cell_type": "code",
   "execution_count": 109,
   "metadata": {},
   "outputs": [],
   "source": [
    "user_to_idx = {user:index for index, user in enumerate(unique_users)} # Mapping usuaris - index\n",
    "idx_to_user = {index:user for index, user in enumerate(unique_users)} # Mapping index - usuaris\n",
    "artist_to_idx = {artist:index for index, artist in enumerate(unique_artists)} # Mapping artista - index\n",
    "idx_to_artist = {index:artist for index, artist in enumerate(unique_artists)} # Mapping index - artista\n",
    "song_to_idx = {song:index for index, song in enumerate(unique_songs)} # Mapping canço - index\n",
    "idx_to_song = {index:song for index, song in enumerate(unique_songs)} # Mapping canço - index"
   ]
  },
  {
   "cell_type": "markdown",
   "metadata": {
    "id": "yZOhIodj720g"
   },
   "source": [
    "Comprovacions sobre les dades:"
   ]
  },
  {
   "cell_type": "code",
   "execution_count": 110,
   "metadata": {
    "id": "p8JAfOEsnWZT",
    "scrolled": true
   },
   "outputs": [
    {
     "name": "stdout",
     "output_type": "stream",
     "text": [
      "---------- user_to_idx ----------\n",
      "{'user_000270': 0, 'user_000338': 1, 'user_000435': 2, 'user_000574': 3, 'user_000126': 4, 'user_000824': 5, 'user_000206': 6, 'user_000509': 7, 'user_000363': 8, 'user_000927': 9, 'user_000568': 10, 'user_000894': 11, 'user_000342': 12, 'user_000027': 13, 'user_000039': 14, 'user_000732': 15, 'user_000146': 16, 'user_000393': 17, 'user_000426': 18, 'user_000637': 19, 'user_000978': 20, 'user_000144': 21, 'user_000072': 22, 'user_000650': 23, 'user_000300': 24, 'user_000761': 25, 'user_000044': 26, 'user_000057': 27, 'user_000450': 28, 'user_000725': 29, 'user_000714': 30, 'user_000009': 31, 'user_000329': 32, 'user_000218': 33, 'user_000120': 34, 'user_000661': 35, 'user_000999': 36, 'user_000610': 37, 'user_000902': 38, 'user_000477': 39, 'user_000647': 40, 'user_000037': 41, 'user_000275': 42, 'user_000505': 43, 'user_000766': 44, 'user_000084': 45, 'user_000702': 46, 'user_000847': 47, 'user_000543': 48, 'user_000729': 49, 'user_000912': 50, 'user_000833': 51, 'user_000782': 52, 'user_000577': 53, 'user_000344': 54, 'user_000421': 55, 'user_000268': 56, 'user_000801': 57, 'user_000357': 58, 'user_000134': 59, 'user_000692': 60, 'user_000366': 61, 'user_000513': 62, 'user_000633': 63, 'user_000063': 64, 'user_000020': 65, 'user_000112': 66, 'user_000885': 67, 'user_000010': 68, 'user_000542': 69, 'user_000341': 70, 'user_000290': 71, 'user_000774': 72, 'user_000658': 73, 'user_000160': 74, 'user_000949': 75, 'user_000373': 76, 'user_000958': 77, 'user_000604': 78, 'user_000952': 79, 'user_000356': 80, 'user_000161': 81, 'user_000920': 82, 'user_000075': 83, 'user_000369': 84, 'user_000839': 85, 'user_000934': 86, 'user_000013': 87, 'user_000105': 88, 'user_000537': 89, 'user_000638': 90, 'user_000374': 91, 'user_000205': 92, 'user_000274': 93, 'user_000031': 94, 'user_000345': 95, 'user_000432': 96, 'user_000938': 97, 'user_000427': 98, 'user_000656': 99, 'user_000527': 100, 'user_000580': 101, 'user_000042': 102, 'user_000970': 103, 'user_000718': 104, 'user_000377': 105, 'user_000974': 106, 'user_000939': 107, 'user_000303': 108, 'user_000821': 109, 'user_000634': 110, 'user_000167': 111, 'user_000684': 112, 'user_000535': 113, 'user_000678': 114, 'user_000284': 115, 'user_000576': 116, 'user_000458': 117, 'user_000699': 118, 'user_000631': 119, 'user_000331': 120, 'user_000398': 121, 'user_000826': 122, 'user_000097': 123, 'user_000491': 124, 'user_000803': 125, 'user_000394': 126, 'user_000544': 127, 'user_000266': 128, 'user_000931': 129, 'user_000068': 130, 'user_000055': 131, 'user_000765': 132, 'user_000169': 133, 'user_000871': 134, 'user_000591': 135, 'user_000933': 136, 'user_000304': 137, 'user_000180': 138, 'user_000149': 139, 'user_000114': 140, 'user_000131': 141, 'user_000524': 142, 'user_000095': 143, 'user_000381': 144, 'user_000599': 145, 'user_000298': 146, 'user_000380': 147, 'user_000446': 148, 'user_000512': 149, 'user_000358': 150, 'user_000961': 151, 'user_000499': 152, 'user_000755': 153, 'user_000722': 154, 'user_000621': 155, 'user_000951': 156, 'user_000439': 157, 'user_000074': 158, 'user_000312': 159, 'user_000221': 160, 'user_000992': 161, 'user_000667': 162, 'user_000182': 163, 'user_000113': 164, 'user_000493': 165, 'user_000794': 166, 'user_000594': 167, 'user_000550': 168, 'user_000445': 169, 'user_000400': 170, 'user_000901': 171, 'user_000849': 172, 'user_000083': 173, 'user_000735': 174, 'user_000361': 175, 'user_000861': 176, 'user_000203': 177, 'user_000016': 178, 'user_000407': 179, 'user_000384': 180, 'user_000118': 181, 'user_000625': 182, 'user_000937': 183, 'user_000575': 184, 'user_000980': 185, 'user_000314': 186, 'user_000830': 187, 'user_000910': 188, 'user_000623': 189, 'user_000108': 190, 'user_000953': 191, 'user_000389': 192, 'user_000881': 193, 'user_000842': 194, 'user_000607': 195, 'user_000094': 196, 'user_000417': 197, 'user_000740': 198, 'user_000441': 199, 'user_000260': 200, 'user_000603': 201, 'user_000681': 202, 'user_000069': 203, 'user_000957': 204, 'user_000962': 205, 'user_000442': 206, 'user_000318': 207, 'user_000749': 208, 'user_000923': 209, 'user_000532': 210, 'user_000239': 211, 'user_000162': 212, 'user_000666': 213, 'user_000738': 214, 'user_000170': 215, 'user_000116': 216, 'user_000584': 217, 'user_000835': 218, 'user_000572': 219, 'user_000653': 220, 'user_000942': 221, 'user_000297': 222, 'user_000501': 223, 'user_000281': 224, 'user_000629': 225, 'user_000015': 226, 'user_000372': 227, 'user_000102': 228, 'user_000269': 229, 'user_000752': 230, 'user_000890': 231, 'user_000496': 232, 'user_000710': 233, 'user_000019': 234, 'user_000142': 235, 'user_000296': 236, 'user_000611': 237, 'user_000429': 238, 'user_000954': 239, 'user_000223': 240, 'user_000064': 241, 'user_000104': 242, 'user_000185': 243, 'user_000437': 244, 'user_000199': 245, 'user_000515': 246, 'user_000250': 247, 'user_000002': 248, 'user_000194': 249, 'user_000905': 250, 'user_000267': 251, 'user_000793': 252, 'user_000347': 253, 'user_000689': 254, 'user_000800': 255, 'user_000220': 256, 'user_000370': 257, 'user_000694': 258, 'user_000241': 259, 'user_000276': 260, 'user_000166': 261, 'user_000059': 262, 'user_000703': 263, 'user_000632': 264, 'user_000564': 265, 'user_000096': 266, 'user_000100': 267, 'user_000919': 268, 'user_000609': 269, 'user_000750': 270, 'user_000196': 271, 'user_000189': 272, 'user_000789': 273, 'user_000093': 274, 'user_000159': 275, 'user_000708': 276, 'user_000423': 277, 'user_000135': 278, 'user_000122': 279, 'user_000091': 280, 'user_000721': 281, 'user_000779': 282, 'user_000521': 283, 'user_000018': 284, 'user_000579': 285, 'user_000641': 286, 'user_000172': 287, 'user_000050': 288, 'user_001000': 289, 'user_000005': 290, 'user_000151': 291, 'user_000158': 292, 'user_000620': 293, 'user_000950': 294, 'user_000596': 295, 'user_000309': 296, 'user_000235': 297, 'user_000695': 298, 'user_000259': 299, 'user_000036': 300, 'user_000012': 301, 'user_000333': 302, 'user_000870': 303, 'user_000078': 304, 'user_000198': 305, 'user_000474': 306, 'user_000337': 307, 'user_000471': 308, 'user_000875': 309, 'user_000156': 310, 'user_000887': 311, 'user_000541': 312, 'user_000242': 313, 'user_000606': 314, 'user_000792': 315, 'user_000630': 316, 'user_000747': 317, 'user_000210': 318, 'user_000640': 319, 'user_000355': 320, 'user_000701': 321, 'user_000024': 322, 'user_000447': 323, 'user_000053': 324, 'user_000475': 325, 'user_000516': 326, 'user_000026': 327, 'user_000993': 328, 'user_000313': 329, 'user_000652': 330, 'user_000763': 331, 'user_000979': 332, 'user_000032': 333, 'user_000691': 334, 'user_000717': 335, 'user_000464': 336, 'user_000838': 337, 'user_000628': 338, 'user_000467': 339, 'user_000348': 340, 'user_000807': 341, 'user_000486': 342, 'user_000790': 343, 'user_000040': 344, 'user_000444': 345, 'user_000323': 346, 'user_000089': 347, 'user_000490': 348, 'user_000730': 349, 'user_000995': 350, 'user_000655': 351, 'user_000636': 352, 'user_000880': 353, 'user_000522': 354, 'user_000003': 355, 'user_000316': 356, 'user_000103': 357, 'user_000743': 358, 'user_000726': 359, 'user_000362': 360, 'user_000397': 361, 'user_000177': 362, 'user_000614': 363, 'user_000935': 364, 'user_000179': 365, 'user_000569': 366, 'user_000600': 367, 'user_000041': 368, 'user_000110': 369, 'user_000860': 370, 'user_000077': 371, 'user_000858': 372, 'user_000941': 373, 'user_000520': 374, 'user_000376': 375, 'user_000178': 376, 'user_000643': 377, 'user_000892': 378, 'user_000753': 379, 'user_000224': 380, 'user_000851': 381, 'user_000675': 382, 'user_000991': 383, 'user_000786': 384, 'user_000848': 385, 'user_000164': 386, 'user_000076': 387, 'user_000004': 388, 'user_000698': 389, 'user_000669': 390, 'user_000578': 391, 'user_000133': 392, 'user_000627': 393, 'user_000775': 394, 'user_000238': 395, 'user_000977': 396, 'user_000840': 397, 'user_000697': 398, 'user_000046': 399, 'user_000664': 400, 'user_000258': 401, 'user_000565': 402, 'user_000963': 403, 'user_000665': 404, 'user_000517': 405, 'user_000256': 406, 'user_000983': 407, 'user_000483': 408, 'user_000043': 409, 'user_000147': 410, 'user_000731': 411, 'user_000946': 412, 'user_000201': 413, 'user_000964': 414, 'user_000249': 415, 'user_000560': 416, 'user_000536': 417, 'user_000129': 418, 'user_000863': 419, 'user_000351': 420, 'user_000246': 421, 'user_000947': 422, 'user_000898': 423, 'user_000998': 424, 'user_000436': 425, 'user_000704': 426, 'user_000984': 427, 'user_000820': 428, 'user_000943': 429, 'user_000929': 430, 'user_000795': 431, 'user_000503': 432, 'user_000804': 433, 'user_000307': 434, 'user_000030': 435, 'user_000251': 436, 'user_000237': 437, 'user_000412': 438, 'user_000671': 439, 'user_000451': 440, 'user_000546': 441, 'user_000326': 442, 'user_000225': 443, 'user_000410': 444, 'user_000510': 445, 'user_000685': 446, 'user_000783': 447, 'user_000646': 448, 'user_000540': 449, 'user_000990': 450, 'user_000186': 451, 'user_000306': 452, 'user_000034': 453, 'user_000944': 454, 'user_000236': 455, 'user_000029': 456, 'user_000294': 457, 'user_000052': 458, 'user_000706': 459, 'user_000320': 460, 'user_000767': 461, 'user_000409': 462, 'user_000364': 463, 'user_000716': 464, 'user_000709': 465, 'user_000208': 466, 'user_000148': 467, 'user_000812': 468, 'user_000989': 469, 'user_000930': 470, 'user_000780': 471, 'user_000047': 472, 'user_000891': 473, 'user_000922': 474, 'user_000343': 475, 'user_000996': 476, 'user_000986': 477, 'user_000926': 478, 'user_000388': 479, 'user_000733': 480, 'user_000279': 481, 'user_000956': 482, 'user_000518': 483, 'user_000022': 484, 'user_000754': 485, 'user_000744': 486, 'user_000585': 487, 'user_000888': 488, 'user_000431': 489, 'user_000791': 490, 'user_000271': 491, 'user_000586': 492, 'user_000690': 493, 'user_000819': 494, 'user_000882': 495, 'user_000155': 496, 'user_000573': 497, 'user_000844': 498, 'user_000837': 499, 'user_000204': 500, 'user_000293': 501, 'user_000781': 502, 'user_000648': 503, 'user_000479': 504, 'user_000277': 505, 'user_000936': 506, 'user_000152': 507, 'user_000025': 508, 'user_000188': 509, 'user_000017': 510, 'user_000707': 511, 'user_000531': 512, 'user_000181': 513, 'user_000909': 514, 'user_000705': 515, 'user_000915': 516, 'user_000349': 517, 'user_000545': 518, 'user_000219': 519, 'user_000153': 520, 'user_000456': 521, 'user_000460': 522, 'user_000809': 523, 'user_000322': 524, 'user_000136': 525, 'user_000119': 526, 'user_000123': 527, 'user_000994': 528, 'user_000202': 529, 'user_000762': 530, 'user_000424': 531, 'user_000593': 532, 'user_000976': 533, 'user_000387': 534, 'user_000051': 535, 'user_000862': 536, 'user_000295': 537, 'user_000273': 538, 'user_000997': 539, 'user_000481': 540, 'user_000494': 541, 'user_000062': 542, 'user_000810': 543, 'user_000217': 544, 'user_000321': 545, 'user_000914': 546, 'user_000715': 547, 'user_000832': 548, 'user_000771': 549, 'user_000797': 550, 'user_000433': 551, 'user_000406': 552, 'user_000595': 553, 'user_000828': 554, 'user_000214': 555, 'user_000086': 556, 'user_000234': 557, 'user_000065': 558, 'user_000529': 559, 'user_000262': 560, 'user_000683': 561, 'user_000233': 562, 'user_000642': 563, 'user_000981': 564, 'user_000215': 565, 'user_000668': 566, 'user_000187': 567, 'user_000319': 568, 'user_000280': 569, 'user_000802': 570, 'user_000687': 571, 'user_000878': 572, 'user_000484': 573, 'user_000243': 574, 'user_000197': 575, 'user_000872': 576, 'user_000737': 577, 'user_000476': 578, 'user_000488': 579, 'user_000457': 580, 'user_000896': 581, 'user_000371': 582, 'user_000966': 583, 'user_000693': 584, 'user_000965': 585, 'user_000502': 586, 'user_000359': 587, 'user_000557': 588, 'user_000081': 589, 'user_000670': 590, 'user_000121': 591, 'user_000659': 592, 'user_000874': 593, 'user_000918': 594, 'user_000622': 595, 'user_000504': 596, 'user_000822': 597, 'user_000555': 598, 'user_000932': 599, 'user_000288': 600, 'user_000174': 601, 'user_000422': 602, 'user_000713': 603, 'user_000482': 604, 'user_000925': 605, 'user_000440': 606, 'user_000869': 607, 'user_000841': 608, 'user_000139': 609, 'user_000090': 610, 'user_000056': 611, 'user_000330': 612, 'user_000787': 613, 'user_000649': 614, 'user_000879': 615, 'user_000285': 616, 'user_000082': 617, 'user_000548': 618, 'user_000823': 619, 'user_000060': 620, 'user_000897': 621, 'user_000770': 622, 'user_000209': 623, 'user_000211': 624, 'user_000825': 625, 'user_000403': 626, 'user_000245': 627, 'user_000673': 628, 'user_000191': 629, 'user_000327': 630, 'user_000682': 631, 'user_000385': 632, 'user_000278': 633, 'user_000867': 634, 'user_000506': 635, 'user_000405': 636, 'user_000719': 637, 'user_000311': 638, 'user_000511': 639, 'user_000680': 640, 'user_000534': 641, 'user_000264': 642, 'user_000382': 643, 'user_000857': 644, 'user_000796': 645, 'user_000401': 646, 'user_000829': 647, 'user_000960': 648, 'user_000021': 649, 'user_000876': 650, 'user_000117': 651, 'user_000727': 652, 'user_000913': 653, 'user_000255': 654, 'user_000434': 655, 'user_000764': 656, 'user_000590': 657, 'user_000589': 658, 'user_000011': 659, 'user_000125': 660, 'user_000070': 661, 'user_000924': 662, 'user_000263': 663, 'user_000662': 664, 'user_000193': 665, 'user_000354': 666, 'user_000154': 667, 'user_000137': 668, 'user_000587': 669, 'user_000539': 670, 'user_000948': 671, 'user_000478': 672, 'user_000654': 673, 'user_000639': 674, 'user_000657': 675, 'user_000525': 676, 'user_000168': 677, 'user_000772': 678, 'user_000883': 679, 'user_000644': 680, 'user_000145': 681, 'user_000635': 682, 'user_000438': 683, 'user_000128': 684, 'user_000368': 685, 'user_000232': 686, 'user_000893': 687, 'user_000788': 688, 'user_000617': 689, 'user_000006': 690, 'user_000346': 691, 'user_000921': 692, 'user_000099': 693, 'user_000175': 694, 'user_000975': 695, 'user_000528': 696, 'user_000391': 697, 'user_000908': 698, 'user_000071': 699, 'user_000734': 700, 'user_000127': 701, 'user_000906': 702, 'user_000302': 703, 'user_000877': 704, 'user_000554': 705, 'user_000507': 706, 'user_000328': 707, 'user_000624': 708, 'user_000360': 709, 'user_000489': 710, 'user_000463': 711, 'user_000253': 712, 'user_000651': 713, 'user_000048': 714, 'user_000087': 715, 'user_000626': 716, 'user_000602': 717, 'user_000660': 718, 'user_000530': 719, 'user_000500': 720, 'user_000378': 721, 'user_000798': 722, 'user_000859': 723, 'user_000085': 724, 'user_000570': 725, 'user_000035': 726, 'user_000350': 727, 'user_000612': 728, 'user_000291': 729, 'user_000138': 730, 'user_000415': 731, 'user_000873': 732, 'user_000411': 733, 'user_000230': 734, 'user_000495': 735, 'user_000305': 736, 'user_000811': 737, 'user_000067': 738, 'user_000900': 739, 'user_000301': 740, 'user_000969': 741, 'user_000746': 742, 'user_000171': 743, 'user_000325': 744, 'user_000299': 745, 'user_000558': 746, 'user_000619': 747, 'user_000310': 748, 'user_000778': 749, 'user_000741': 750, 'user_000865': 751, 'user_000472': 752, 'user_000886': 753, 'user_000756': 754, 'user_000334': 755, 'user_000562': 756, 'user_000443': 757, 'user_000414': 758, 'user_000106': 759, 'user_000390': 760, 'user_000404': 761, 'user_000777': 762, 'user_000261': 763, 'user_000339': 764, 'user_000001': 765, 'user_000806': 766, 'user_000571': 767, 'user_000884': 768, 'user_000190': 769, 'user_000073': 770, 'user_000254': 771, 'user_000816': 772, 'user_000616': 773, 'user_000033': 774, 'user_000480': 775, 'user_000079': 776, 'user_000712': 777, 'user_000163': 778, 'user_000582': 779, 'user_000207': 780, 'user_000315': 781, 'user_000252': 782, 'user_000899': 783, 'user_000054': 784, 'user_000324': 785, 'user_000222': 786, 'user_000462': 787, 'user_000448': 788, 'user_000889': 789, 'user_000553': 790, 'user_000229': 791, 'user_000150': 792, 'user_000581': 793, 'user_000468': 794, 'user_000973': 795, 'user_000551': 796, 'user_000549': 797, 'user_000768': 798, 'user_000130': 799, 'user_000109': 800, 'user_000497': 801, 'user_000165': 802, 'user_000107': 803, 'user_000419': 804, 'user_000526': 805, 'user_000514': 806, 'user_000757': 807, 'user_000519': 808, 'user_000831': 809, 'user_000720': 810, 'user_000028': 811, 'user_000379': 812, 'user_000461': 813, 'user_000987': 814, 'user_000413': 815, 'user_000645': 816, 'user_000383': 817, 'user_000508': 818, 'user_000459': 819, 'user_000080': 820, 'user_000799': 821, 'user_000132': 822, 'user_000340': 823, 'user_000679': 824, 'user_000776': 825, 'user_000465': 826, 'user_000850': 827, 'user_000244': 828, 'user_000917': 829, 'user_000834': 830, 'user_000469': 831, 'user_000420': 832, 'user_000959': 833, 'user_000396': 834, 'user_000058': 835, 'user_000192': 836, 'user_000916': 837, 'user_000336': 838, 'user_000257': 839, 'user_000212': 840, 'user_000769': 841, 'user_000392': 842, 'user_000367': 843, 'user_000111': 844, 'user_000928': 845, 'user_000023': 846, 'user_000588': 847, 'user_000556': 848, 'user_000615': 849, 'user_000498': 850, 'user_000676': 851, 'user_000814': 852, 'user_000552': 853, 'user_000818': 854, 'user_000813': 855, 'user_000760': 856, 'user_000559': 857, 'user_000598': 858, 'user_000216': 859, 'user_000092': 860, 'user_000143': 861, 'user_000817': 862, 'user_000739': 863, 'user_000592': 864, 'user_000487': 865, 'user_000605': 866, 'user_000674': 867, 'user_000940': 868, 'user_000945': 869, 'user_000289': 870, 'user_000672': 871, 'user_000213': 872, 'user_000452': 873, 'user_000854': 874, 'user_000868': 875, 'user_000971': 876, 'user_000449': 877, 'user_000272': 878, 'user_000455': 879, 'user_000805': 880, 'user_000827': 881, 'user_000115': 882, 'user_000728': 883, 'user_000485': 884, 'user_000547': 885, 'user_000038': 886, 'user_000045': 887, 'user_000836': 888, 'user_000583': 889, 'user_000408': 890, 'user_000140': 891, 'user_000124': 892, 'user_000723': 893, 'user_000907': 894, 'user_000200': 895, 'user_000265': 896, 'user_000845': 897, 'user_000751': 898, 'user_000972': 899, 'user_000453': 900, 'user_000375': 901, 'user_000985': 902, 'user_000292': 903, 'user_000773': 904, 'user_000745': 905, 'user_000968': 906, 'user_000601': 907, 'user_000597': 908, 'user_000563': 909, 'user_000066': 910, 'user_000759': 911, 'user_000758': 912, 'user_000141': 913, 'user_000903': 914, 'user_000742': 915, 'user_000195': 916, 'user_000228': 917, 'user_000176': 918, 'user_000173': 919, 'user_000386': 920, 'user_000395': 921, 'user_000061': 922, 'user_000183': 923, 'user_000416': 924, 'user_000008': 925, 'user_000418': 926, 'user_000724': 927, 'user_000454': 928, 'user_000688': 929, 'user_000184': 930, 'user_000286': 931, 'user_000955': 932, 'user_000982': 933, 'user_000399': 934, 'user_000613': 935, 'user_000425': 936, 'user_000700': 937, 'user_000711': 938, 'user_000853': 939, 'user_000736': 940, 'user_000088': 941, 'user_000567': 942, 'user_000353': 943, 'user_000846': 944, 'user_000608': 945, 'user_000227': 946, 'user_000157': 947, 'user_000007': 948, 'user_000098': 949, 'user_000866': 950, 'user_000748': 951, 'user_000014': 952, 'user_000677': 953, 'user_000247': 954, 'user_000808': 955, 'user_000904': 956, 'user_000101': 957, 'user_000352': 958, 'user_000785': 959}\n",
      "---------- idx_to_user ----------\n",
      "{0: 'user_000270', 1: 'user_000338', 2: 'user_000435', 3: 'user_000574', 4: 'user_000126', 5: 'user_000824', 6: 'user_000206', 7: 'user_000509', 8: 'user_000363', 9: 'user_000927', 10: 'user_000568', 11: 'user_000894', 12: 'user_000342', 13: 'user_000027', 14: 'user_000039', 15: 'user_000732', 16: 'user_000146', 17: 'user_000393', 18: 'user_000426', 19: 'user_000637', 20: 'user_000978', 21: 'user_000144', 22: 'user_000072', 23: 'user_000650', 24: 'user_000300', 25: 'user_000761', 26: 'user_000044', 27: 'user_000057', 28: 'user_000450', 29: 'user_000725', 30: 'user_000714', 31: 'user_000009', 32: 'user_000329', 33: 'user_000218', 34: 'user_000120', 35: 'user_000661', 36: 'user_000999', 37: 'user_000610', 38: 'user_000902', 39: 'user_000477', 40: 'user_000647', 41: 'user_000037', 42: 'user_000275', 43: 'user_000505', 44: 'user_000766', 45: 'user_000084', 46: 'user_000702', 47: 'user_000847', 48: 'user_000543', 49: 'user_000729', 50: 'user_000912', 51: 'user_000833', 52: 'user_000782', 53: 'user_000577', 54: 'user_000344', 55: 'user_000421', 56: 'user_000268', 57: 'user_000801', 58: 'user_000357', 59: 'user_000134', 60: 'user_000692', 61: 'user_000366', 62: 'user_000513', 63: 'user_000633', 64: 'user_000063', 65: 'user_000020', 66: 'user_000112', 67: 'user_000885', 68: 'user_000010', 69: 'user_000542', 70: 'user_000341', 71: 'user_000290', 72: 'user_000774', 73: 'user_000658', 74: 'user_000160', 75: 'user_000949', 76: 'user_000373', 77: 'user_000958', 78: 'user_000604', 79: 'user_000952', 80: 'user_000356', 81: 'user_000161', 82: 'user_000920', 83: 'user_000075', 84: 'user_000369', 85: 'user_000839', 86: 'user_000934', 87: 'user_000013', 88: 'user_000105', 89: 'user_000537', 90: 'user_000638', 91: 'user_000374', 92: 'user_000205', 93: 'user_000274', 94: 'user_000031', 95: 'user_000345', 96: 'user_000432', 97: 'user_000938', 98: 'user_000427', 99: 'user_000656', 100: 'user_000527', 101: 'user_000580', 102: 'user_000042', 103: 'user_000970', 104: 'user_000718', 105: 'user_000377', 106: 'user_000974', 107: 'user_000939', 108: 'user_000303', 109: 'user_000821', 110: 'user_000634', 111: 'user_000167', 112: 'user_000684', 113: 'user_000535', 114: 'user_000678', 115: 'user_000284', 116: 'user_000576', 117: 'user_000458', 118: 'user_000699', 119: 'user_000631', 120: 'user_000331', 121: 'user_000398', 122: 'user_000826', 123: 'user_000097', 124: 'user_000491', 125: 'user_000803', 126: 'user_000394', 127: 'user_000544', 128: 'user_000266', 129: 'user_000931', 130: 'user_000068', 131: 'user_000055', 132: 'user_000765', 133: 'user_000169', 134: 'user_000871', 135: 'user_000591', 136: 'user_000933', 137: 'user_000304', 138: 'user_000180', 139: 'user_000149', 140: 'user_000114', 141: 'user_000131', 142: 'user_000524', 143: 'user_000095', 144: 'user_000381', 145: 'user_000599', 146: 'user_000298', 147: 'user_000380', 148: 'user_000446', 149: 'user_000512', 150: 'user_000358', 151: 'user_000961', 152: 'user_000499', 153: 'user_000755', 154: 'user_000722', 155: 'user_000621', 156: 'user_000951', 157: 'user_000439', 158: 'user_000074', 159: 'user_000312', 160: 'user_000221', 161: 'user_000992', 162: 'user_000667', 163: 'user_000182', 164: 'user_000113', 165: 'user_000493', 166: 'user_000794', 167: 'user_000594', 168: 'user_000550', 169: 'user_000445', 170: 'user_000400', 171: 'user_000901', 172: 'user_000849', 173: 'user_000083', 174: 'user_000735', 175: 'user_000361', 176: 'user_000861', 177: 'user_000203', 178: 'user_000016', 179: 'user_000407', 180: 'user_000384', 181: 'user_000118', 182: 'user_000625', 183: 'user_000937', 184: 'user_000575', 185: 'user_000980', 186: 'user_000314', 187: 'user_000830', 188: 'user_000910', 189: 'user_000623', 190: 'user_000108', 191: 'user_000953', 192: 'user_000389', 193: 'user_000881', 194: 'user_000842', 195: 'user_000607', 196: 'user_000094', 197: 'user_000417', 198: 'user_000740', 199: 'user_000441', 200: 'user_000260', 201: 'user_000603', 202: 'user_000681', 203: 'user_000069', 204: 'user_000957', 205: 'user_000962', 206: 'user_000442', 207: 'user_000318', 208: 'user_000749', 209: 'user_000923', 210: 'user_000532', 211: 'user_000239', 212: 'user_000162', 213: 'user_000666', 214: 'user_000738', 215: 'user_000170', 216: 'user_000116', 217: 'user_000584', 218: 'user_000835', 219: 'user_000572', 220: 'user_000653', 221: 'user_000942', 222: 'user_000297', 223: 'user_000501', 224: 'user_000281', 225: 'user_000629', 226: 'user_000015', 227: 'user_000372', 228: 'user_000102', 229: 'user_000269', 230: 'user_000752', 231: 'user_000890', 232: 'user_000496', 233: 'user_000710', 234: 'user_000019', 235: 'user_000142', 236: 'user_000296', 237: 'user_000611', 238: 'user_000429', 239: 'user_000954', 240: 'user_000223', 241: 'user_000064', 242: 'user_000104', 243: 'user_000185', 244: 'user_000437', 245: 'user_000199', 246: 'user_000515', 247: 'user_000250', 248: 'user_000002', 249: 'user_000194', 250: 'user_000905', 251: 'user_000267', 252: 'user_000793', 253: 'user_000347', 254: 'user_000689', 255: 'user_000800', 256: 'user_000220', 257: 'user_000370', 258: 'user_000694', 259: 'user_000241', 260: 'user_000276', 261: 'user_000166', 262: 'user_000059', 263: 'user_000703', 264: 'user_000632', 265: 'user_000564', 266: 'user_000096', 267: 'user_000100', 268: 'user_000919', 269: 'user_000609', 270: 'user_000750', 271: 'user_000196', 272: 'user_000189', 273: 'user_000789', 274: 'user_000093', 275: 'user_000159', 276: 'user_000708', 277: 'user_000423', 278: 'user_000135', 279: 'user_000122', 280: 'user_000091', 281: 'user_000721', 282: 'user_000779', 283: 'user_000521', 284: 'user_000018', 285: 'user_000579', 286: 'user_000641', 287: 'user_000172', 288: 'user_000050', 289: 'user_001000', 290: 'user_000005', 291: 'user_000151', 292: 'user_000158', 293: 'user_000620', 294: 'user_000950', 295: 'user_000596', 296: 'user_000309', 297: 'user_000235', 298: 'user_000695', 299: 'user_000259', 300: 'user_000036', 301: 'user_000012', 302: 'user_000333', 303: 'user_000870', 304: 'user_000078', 305: 'user_000198', 306: 'user_000474', 307: 'user_000337', 308: 'user_000471', 309: 'user_000875', 310: 'user_000156', 311: 'user_000887', 312: 'user_000541', 313: 'user_000242', 314: 'user_000606', 315: 'user_000792', 316: 'user_000630', 317: 'user_000747', 318: 'user_000210', 319: 'user_000640', 320: 'user_000355', 321: 'user_000701', 322: 'user_000024', 323: 'user_000447', 324: 'user_000053', 325: 'user_000475', 326: 'user_000516', 327: 'user_000026', 328: 'user_000993', 329: 'user_000313', 330: 'user_000652', 331: 'user_000763', 332: 'user_000979', 333: 'user_000032', 334: 'user_000691', 335: 'user_000717', 336: 'user_000464', 337: 'user_000838', 338: 'user_000628', 339: 'user_000467', 340: 'user_000348', 341: 'user_000807', 342: 'user_000486', 343: 'user_000790', 344: 'user_000040', 345: 'user_000444', 346: 'user_000323', 347: 'user_000089', 348: 'user_000490', 349: 'user_000730', 350: 'user_000995', 351: 'user_000655', 352: 'user_000636', 353: 'user_000880', 354: 'user_000522', 355: 'user_000003', 356: 'user_000316', 357: 'user_000103', 358: 'user_000743', 359: 'user_000726', 360: 'user_000362', 361: 'user_000397', 362: 'user_000177', 363: 'user_000614', 364: 'user_000935', 365: 'user_000179', 366: 'user_000569', 367: 'user_000600', 368: 'user_000041', 369: 'user_000110', 370: 'user_000860', 371: 'user_000077', 372: 'user_000858', 373: 'user_000941', 374: 'user_000520', 375: 'user_000376', 376: 'user_000178', 377: 'user_000643', 378: 'user_000892', 379: 'user_000753', 380: 'user_000224', 381: 'user_000851', 382: 'user_000675', 383: 'user_000991', 384: 'user_000786', 385: 'user_000848', 386: 'user_000164', 387: 'user_000076', 388: 'user_000004', 389: 'user_000698', 390: 'user_000669', 391: 'user_000578', 392: 'user_000133', 393: 'user_000627', 394: 'user_000775', 395: 'user_000238', 396: 'user_000977', 397: 'user_000840', 398: 'user_000697', 399: 'user_000046', 400: 'user_000664', 401: 'user_000258', 402: 'user_000565', 403: 'user_000963', 404: 'user_000665', 405: 'user_000517', 406: 'user_000256', 407: 'user_000983', 408: 'user_000483', 409: 'user_000043', 410: 'user_000147', 411: 'user_000731', 412: 'user_000946', 413: 'user_000201', 414: 'user_000964', 415: 'user_000249', 416: 'user_000560', 417: 'user_000536', 418: 'user_000129', 419: 'user_000863', 420: 'user_000351', 421: 'user_000246', 422: 'user_000947', 423: 'user_000898', 424: 'user_000998', 425: 'user_000436', 426: 'user_000704', 427: 'user_000984', 428: 'user_000820', 429: 'user_000943', 430: 'user_000929', 431: 'user_000795', 432: 'user_000503', 433: 'user_000804', 434: 'user_000307', 435: 'user_000030', 436: 'user_000251', 437: 'user_000237', 438: 'user_000412', 439: 'user_000671', 440: 'user_000451', 441: 'user_000546', 442: 'user_000326', 443: 'user_000225', 444: 'user_000410', 445: 'user_000510', 446: 'user_000685', 447: 'user_000783', 448: 'user_000646', 449: 'user_000540', 450: 'user_000990', 451: 'user_000186', 452: 'user_000306', 453: 'user_000034', 454: 'user_000944', 455: 'user_000236', 456: 'user_000029', 457: 'user_000294', 458: 'user_000052', 459: 'user_000706', 460: 'user_000320', 461: 'user_000767', 462: 'user_000409', 463: 'user_000364', 464: 'user_000716', 465: 'user_000709', 466: 'user_000208', 467: 'user_000148', 468: 'user_000812', 469: 'user_000989', 470: 'user_000930', 471: 'user_000780', 472: 'user_000047', 473: 'user_000891', 474: 'user_000922', 475: 'user_000343', 476: 'user_000996', 477: 'user_000986', 478: 'user_000926', 479: 'user_000388', 480: 'user_000733', 481: 'user_000279', 482: 'user_000956', 483: 'user_000518', 484: 'user_000022', 485: 'user_000754', 486: 'user_000744', 487: 'user_000585', 488: 'user_000888', 489: 'user_000431', 490: 'user_000791', 491: 'user_000271', 492: 'user_000586', 493: 'user_000690', 494: 'user_000819', 495: 'user_000882', 496: 'user_000155', 497: 'user_000573', 498: 'user_000844', 499: 'user_000837', 500: 'user_000204', 501: 'user_000293', 502: 'user_000781', 503: 'user_000648', 504: 'user_000479', 505: 'user_000277', 506: 'user_000936', 507: 'user_000152', 508: 'user_000025', 509: 'user_000188', 510: 'user_000017', 511: 'user_000707', 512: 'user_000531', 513: 'user_000181', 514: 'user_000909', 515: 'user_000705', 516: 'user_000915', 517: 'user_000349', 518: 'user_000545', 519: 'user_000219', 520: 'user_000153', 521: 'user_000456', 522: 'user_000460', 523: 'user_000809', 524: 'user_000322', 525: 'user_000136', 526: 'user_000119', 527: 'user_000123', 528: 'user_000994', 529: 'user_000202', 530: 'user_000762', 531: 'user_000424', 532: 'user_000593', 533: 'user_000976', 534: 'user_000387', 535: 'user_000051', 536: 'user_000862', 537: 'user_000295', 538: 'user_000273', 539: 'user_000997', 540: 'user_000481', 541: 'user_000494', 542: 'user_000062', 543: 'user_000810', 544: 'user_000217', 545: 'user_000321', 546: 'user_000914', 547: 'user_000715', 548: 'user_000832', 549: 'user_000771', 550: 'user_000797', 551: 'user_000433', 552: 'user_000406', 553: 'user_000595', 554: 'user_000828', 555: 'user_000214', 556: 'user_000086', 557: 'user_000234', 558: 'user_000065', 559: 'user_000529', 560: 'user_000262', 561: 'user_000683', 562: 'user_000233', 563: 'user_000642', 564: 'user_000981', 565: 'user_000215', 566: 'user_000668', 567: 'user_000187', 568: 'user_000319', 569: 'user_000280', 570: 'user_000802', 571: 'user_000687', 572: 'user_000878', 573: 'user_000484', 574: 'user_000243', 575: 'user_000197', 576: 'user_000872', 577: 'user_000737', 578: 'user_000476', 579: 'user_000488', 580: 'user_000457', 581: 'user_000896', 582: 'user_000371', 583: 'user_000966', 584: 'user_000693', 585: 'user_000965', 586: 'user_000502', 587: 'user_000359', 588: 'user_000557', 589: 'user_000081', 590: 'user_000670', 591: 'user_000121', 592: 'user_000659', 593: 'user_000874', 594: 'user_000918', 595: 'user_000622', 596: 'user_000504', 597: 'user_000822', 598: 'user_000555', 599: 'user_000932', 600: 'user_000288', 601: 'user_000174', 602: 'user_000422', 603: 'user_000713', 604: 'user_000482', 605: 'user_000925', 606: 'user_000440', 607: 'user_000869', 608: 'user_000841', 609: 'user_000139', 610: 'user_000090', 611: 'user_000056', 612: 'user_000330', 613: 'user_000787', 614: 'user_000649', 615: 'user_000879', 616: 'user_000285', 617: 'user_000082', 618: 'user_000548', 619: 'user_000823', 620: 'user_000060', 621: 'user_000897', 622: 'user_000770', 623: 'user_000209', 624: 'user_000211', 625: 'user_000825', 626: 'user_000403', 627: 'user_000245', 628: 'user_000673', 629: 'user_000191', 630: 'user_000327', 631: 'user_000682', 632: 'user_000385', 633: 'user_000278', 634: 'user_000867', 635: 'user_000506', 636: 'user_000405', 637: 'user_000719', 638: 'user_000311', 639: 'user_000511', 640: 'user_000680', 641: 'user_000534', 642: 'user_000264', 643: 'user_000382', 644: 'user_000857', 645: 'user_000796', 646: 'user_000401', 647: 'user_000829', 648: 'user_000960', 649: 'user_000021', 650: 'user_000876', 651: 'user_000117', 652: 'user_000727', 653: 'user_000913', 654: 'user_000255', 655: 'user_000434', 656: 'user_000764', 657: 'user_000590', 658: 'user_000589', 659: 'user_000011', 660: 'user_000125', 661: 'user_000070', 662: 'user_000924', 663: 'user_000263', 664: 'user_000662', 665: 'user_000193', 666: 'user_000354', 667: 'user_000154', 668: 'user_000137', 669: 'user_000587', 670: 'user_000539', 671: 'user_000948', 672: 'user_000478', 673: 'user_000654', 674: 'user_000639', 675: 'user_000657', 676: 'user_000525', 677: 'user_000168', 678: 'user_000772', 679: 'user_000883', 680: 'user_000644', 681: 'user_000145', 682: 'user_000635', 683: 'user_000438', 684: 'user_000128', 685: 'user_000368', 686: 'user_000232', 687: 'user_000893', 688: 'user_000788', 689: 'user_000617', 690: 'user_000006', 691: 'user_000346', 692: 'user_000921', 693: 'user_000099', 694: 'user_000175', 695: 'user_000975', 696: 'user_000528', 697: 'user_000391', 698: 'user_000908', 699: 'user_000071', 700: 'user_000734', 701: 'user_000127', 702: 'user_000906', 703: 'user_000302', 704: 'user_000877', 705: 'user_000554', 706: 'user_000507', 707: 'user_000328', 708: 'user_000624', 709: 'user_000360', 710: 'user_000489', 711: 'user_000463', 712: 'user_000253', 713: 'user_000651', 714: 'user_000048', 715: 'user_000087', 716: 'user_000626', 717: 'user_000602', 718: 'user_000660', 719: 'user_000530', 720: 'user_000500', 721: 'user_000378', 722: 'user_000798', 723: 'user_000859', 724: 'user_000085', 725: 'user_000570', 726: 'user_000035', 727: 'user_000350', 728: 'user_000612', 729: 'user_000291', 730: 'user_000138', 731: 'user_000415', 732: 'user_000873', 733: 'user_000411', 734: 'user_000230', 735: 'user_000495', 736: 'user_000305', 737: 'user_000811', 738: 'user_000067', 739: 'user_000900', 740: 'user_000301', 741: 'user_000969', 742: 'user_000746', 743: 'user_000171', 744: 'user_000325', 745: 'user_000299', 746: 'user_000558', 747: 'user_000619', 748: 'user_000310', 749: 'user_000778', 750: 'user_000741', 751: 'user_000865', 752: 'user_000472', 753: 'user_000886', 754: 'user_000756', 755: 'user_000334', 756: 'user_000562', 757: 'user_000443', 758: 'user_000414', 759: 'user_000106', 760: 'user_000390', 761: 'user_000404', 762: 'user_000777', 763: 'user_000261', 764: 'user_000339', 765: 'user_000001', 766: 'user_000806', 767: 'user_000571', 768: 'user_000884', 769: 'user_000190', 770: 'user_000073', 771: 'user_000254', 772: 'user_000816', 773: 'user_000616', 774: 'user_000033', 775: 'user_000480', 776: 'user_000079', 777: 'user_000712', 778: 'user_000163', 779: 'user_000582', 780: 'user_000207', 781: 'user_000315', 782: 'user_000252', 783: 'user_000899', 784: 'user_000054', 785: 'user_000324', 786: 'user_000222', 787: 'user_000462', 788: 'user_000448', 789: 'user_000889', 790: 'user_000553', 791: 'user_000229', 792: 'user_000150', 793: 'user_000581', 794: 'user_000468', 795: 'user_000973', 796: 'user_000551', 797: 'user_000549', 798: 'user_000768', 799: 'user_000130', 800: 'user_000109', 801: 'user_000497', 802: 'user_000165', 803: 'user_000107', 804: 'user_000419', 805: 'user_000526', 806: 'user_000514', 807: 'user_000757', 808: 'user_000519', 809: 'user_000831', 810: 'user_000720', 811: 'user_000028', 812: 'user_000379', 813: 'user_000461', 814: 'user_000987', 815: 'user_000413', 816: 'user_000645', 817: 'user_000383', 818: 'user_000508', 819: 'user_000459', 820: 'user_000080', 821: 'user_000799', 822: 'user_000132', 823: 'user_000340', 824: 'user_000679', 825: 'user_000776', 826: 'user_000465', 827: 'user_000850', 828: 'user_000244', 829: 'user_000917', 830: 'user_000834', 831: 'user_000469', 832: 'user_000420', 833: 'user_000959', 834: 'user_000396', 835: 'user_000058', 836: 'user_000192', 837: 'user_000916', 838: 'user_000336', 839: 'user_000257', 840: 'user_000212', 841: 'user_000769', 842: 'user_000392', 843: 'user_000367', 844: 'user_000111', 845: 'user_000928', 846: 'user_000023', 847: 'user_000588', 848: 'user_000556', 849: 'user_000615', 850: 'user_000498', 851: 'user_000676', 852: 'user_000814', 853: 'user_000552', 854: 'user_000818', 855: 'user_000813', 856: 'user_000760', 857: 'user_000559', 858: 'user_000598', 859: 'user_000216', 860: 'user_000092', 861: 'user_000143', 862: 'user_000817', 863: 'user_000739', 864: 'user_000592', 865: 'user_000487', 866: 'user_000605', 867: 'user_000674', 868: 'user_000940', 869: 'user_000945', 870: 'user_000289', 871: 'user_000672', 872: 'user_000213', 873: 'user_000452', 874: 'user_000854', 875: 'user_000868', 876: 'user_000971', 877: 'user_000449', 878: 'user_000272', 879: 'user_000455', 880: 'user_000805', 881: 'user_000827', 882: 'user_000115', 883: 'user_000728', 884: 'user_000485', 885: 'user_000547', 886: 'user_000038', 887: 'user_000045', 888: 'user_000836', 889: 'user_000583', 890: 'user_000408', 891: 'user_000140', 892: 'user_000124', 893: 'user_000723', 894: 'user_000907', 895: 'user_000200', 896: 'user_000265', 897: 'user_000845', 898: 'user_000751', 899: 'user_000972', 900: 'user_000453', 901: 'user_000375', 902: 'user_000985', 903: 'user_000292', 904: 'user_000773', 905: 'user_000745', 906: 'user_000968', 907: 'user_000601', 908: 'user_000597', 909: 'user_000563', 910: 'user_000066', 911: 'user_000759', 912: 'user_000758', 913: 'user_000141', 914: 'user_000903', 915: 'user_000742', 916: 'user_000195', 917: 'user_000228', 918: 'user_000176', 919: 'user_000173', 920: 'user_000386', 921: 'user_000395', 922: 'user_000061', 923: 'user_000183', 924: 'user_000416', 925: 'user_000008', 926: 'user_000418', 927: 'user_000724', 928: 'user_000454', 929: 'user_000688', 930: 'user_000184', 931: 'user_000286', 932: 'user_000955', 933: 'user_000982', 934: 'user_000399', 935: 'user_000613', 936: 'user_000425', 937: 'user_000700', 938: 'user_000711', 939: 'user_000853', 940: 'user_000736', 941: 'user_000088', 942: 'user_000567', 943: 'user_000353', 944: 'user_000846', 945: 'user_000608', 946: 'user_000227', 947: 'user_000157', 948: 'user_000007', 949: 'user_000098', 950: 'user_000866', 951: 'user_000748', 952: 'user_000014', 953: 'user_000677', 954: 'user_000247', 955: 'user_000808', 956: 'user_000904', 957: 'user_000101', 958: 'user_000352', 959: 'user_000785'}\n",
      "---------- artist_to_idx ----------\n",
      "{'3 Doors Down': 0, '30 Seconds To Mars': 1, 'A Perfect Circle': 2, 'A-Ha': 3, 'Abba': 4, 'Ac/Dc': 5, 'Air': 6, 'Al Green': 7, 'Alanis Morissette': 8, 'Alice Cooper': 9, 'Alice In Chains': 10, 'Amy Winehouse': 11, 'Andrew Bird': 12, 'Animal Collective': 13, 'Annie': 14, 'Antony And The Johnsons': 15, 'Aqualung': 16, 'Arcade Fire': 17, 'Architecture In Helsinki': 18, 'Arctic Monkeys': 19, 'Aretha Franklin': 20, 'Art Brut': 21, 'At The Drive-In': 22, 'Audioslave': 23, 'Babyshambles': 24, 'Band Of Horses': 25, 'Basement Jaxx': 26, 'Bat For Lashes': 27, 'Battles': 28, 'Be Your Own Pet': 29, 'Beastie Boys': 30, 'Beck': 31, 'Beirut': 32, 'Belle And Sebastian': 33, 'Benny Benassi': 34, 'Björk': 35, 'Black Kids': 36, 'Black Rebel Motorcycle Club': 37, 'Black Sabbath': 38, 'Blink-182': 39, 'Bloc Party': 40, 'Blonde Redhead': 41, 'Blondie': 42, 'Blur': 43, 'Boards Of Canada': 44, 'Bob Dylan': 45, 'Bob Marley & The Wailers': 46, 'Bon Iver': 47, 'Boy Division': 48, 'Bright Eyes': 49, 'Britney Spears': 50, 'Broken Social Scene': 51, 'Cansei De Ser Sexy': 52, 'Cat Power': 53, 'Chuck Berry': 54, 'Clap Your Hands Say Yeah': 55, 'Cocorosie': 56, 'Cold War Kids': 57, 'Coldplay': 58, 'Corinne Bailey Rae': 59, 'Counting Crows': 60, 'Cream': 61, 'Creedence Clearwater Revisited': 62, 'Crystal Castles': 63, 'Cut Copy': 64, 'Daft Punk': 65, 'Damien Rice': 66, 'Dashboard Confessional': 67, 'David Bowie': 68, 'David Gray': 69, 'Dead Kennedys': 70, 'Death Cab For Cutie': 71, 'Death From Above 1979': 72, 'Deep Purple': 73, 'Deftones': 74, 'Depeche Mode': 75, 'Dexys Midnight Runners': 76, 'Dido': 77, 'Digitalism': 78, 'Dire Straits': 79, 'Dirty Pretty Things': 80, 'Dj Shadow': 81, 'Doves': 82, 'Dread Zeppelin': 83, 'Duffy': 84, 'Dusty Springfield': 85, 'Eagles': 86, 'Echo & The Bunnymen': 87, 'Editors': 88, 'Elliott Smith': 89, 'Elvis Presley': 90, 'Evanescence': 91, 'Explosions In The Sky': 92, 'Faith No More': 93, 'Faithless': 94, 'Fall Out Boy': 95, 'Fatboy Slim': 96, 'Feist': 97, 'Fiona Apple': 98, 'Fischerspooner': 99, 'Fleet Foxes': 100, 'Foo Fighters': 101, 'Franz Ferdinand': 102, 'Frou Frou': 103, 'Garbage': 104, 'Gary Jules': 105, 'Gnarls Barkley': 106, 'Goldfrapp': 107, 'Gorillaz': 108, 'Green Day': 109, \"Guns N' Roses\": 110, 'Gwen Stefani': 111, 'Hard-Fi': 112, 'Hoobastank': 113, 'Hot Chip': 114, 'Hot Hot Heat': 115, 'Iggy Pop': 116, 'Imogen Heap': 117, 'Incubus': 118, 'Interpol': 119, 'Iron & Wine': 120, 'Jack Johnson': 121, 'James Blunt': 122, 'Jamiroquai': 123, 'Jeff Buckley': 124, 'Jefferson Airplane': 125, 'Jem': 126, 'Jet': 127, 'Jimi Hendrix': 128, 'Jimmy Eat World': 129, 'John Lennon': 130, 'Johnny Cash': 131, 'José González': 132, 'Joy Division': 133, 'Junior Senior': 134, 'Justice': 135, 'Justin Timberlake': 136, 'Kaiser Chiefs': 137, 'Kanye West': 138, 'Kasabian': 139, 'Katy Perry': 140, 'Keane': 141, 'Kimya Dawson': 142, 'Kings Of Convenience': 143, 'Kings Of Leon': 144, 'Klaxons': 145, 'Kosheen': 146, 'Kt Tunstall': 147, 'Lady Gaga': 148, 'Ladytron': 149, 'Lamb': 150, 'Late Of The Pier': 151, 'Lcd Soundsystem': 152, 'Led Zeppelin': 153, 'Led Zeppelin Jam': 154, 'Lez Zeppelin': 155, 'Lily Allen': 156, 'Limp Bizkit': 157, 'Linkin Park': 158, 'Lou Reed': 159, 'Ludwig Van Beethoven': 160, 'Lynyrd Skynyrd': 161, 'M.I.A.': 162, 'M83': 163, 'Madonna': 164, 'Marilyn Manson': 165, 'Maroon 5': 166, 'Massive Attack': 167, 'Maxïmo Park': 168, 'Mazzy Star': 169, 'Metallica': 170, 'Metric': 171, 'Mgmt': 172, 'Michael Jackson': 173, 'Mika': 174, 'Miles Davis': 175, 'Moby': 176, 'Modest Mouse': 177, 'Mogwai': 178, 'Moloko': 179, 'Morrissey': 180, 'Mott The Hoople': 181, 'Motörhead': 182, 'Muse': 183, 'My Bloody Valentine': 184, 'My Chemical Romance': 185, 'Mylo': 186, 'Natalie Imbruglia': 187, 'Neil Young': 188, 'Nelly Furtado': 189, 'Neutral Milk Hotel': 190, 'New Order': 191, 'Nick Cave & The Bad Seeds': 192, 'Nick Drake': 193, 'Nickelback': 194, 'Nine Inch Nails': 195, 'Nirvana': 196, 'No Doubt': 197, 'Norah Jones': 198, 'Nouvelle Vague': 199, 'Oasis': 200, 'Of Montreal': 201, 'Ok Go': 202, 'Outkast': 203, 'Panic At The Disco': 204, 'Pavement': 205, 'Pearl Jam': 206, 'Peter Bjorn And John': 207, 'Phantom Planet': 208, 'Pink Floyd': 209, 'Pixies': 210, 'Pj Harvey': 211, 'Placebo': 212, \"Plain White T'S\": 213, 'Portishead': 214, 'Prince': 215, 'Public Enemy': 216, 'Pulp': 217, 'Queen': 218, 'Queens Of The Stone Age': 219, 'R.E.M.': 220, 'Radiohead': 221, 'Rage Against The Machine': 222, 'Rammstein': 223, 'Ramones': 224, 'Ratatat': 225, 'Razorlight': 226, 'Red Hot Chili Peppers': 227, 'Regina Spektor': 228, 'Rhianna': 229, 'Rihanna': 230, 'Rilo Kiley': 231, 'Ryan Adams': 232, 'Röyksopp': 233, 'Scissor Sisters': 234, 'Sex Pistols': 235, 'Sia': 236, 'Sigur Rós': 237, 'Simon & Garfunkel': 238, 'Simple Minds': 239, 'Siouxsie And The Banshees': 240, 'Sixpence None The Richer': 241, 'Slayer': 242, 'Slowdive': 243, 'Sneaker Pimps': 244, 'Snow Patrol': 245, 'Soft Cell': 246, 'Sonic Youth': 247, 'Soundgarden': 248, 'Spice Girls': 249, 'Spoon': 250, 'Stars': 251, 'Stereophonics': 252, 'Sufjan Stevens': 253, 'System Of A Down': 254, 'Talking Heads': 255, 'Tears For Fears': 256, 'Tegan And Sara': 257, 'Tenacious D': 258, \"The 5.6.7.8'S\": 259, \"The B-52'S\": 260, 'The Beach Boys': 261, 'The Beatles': 262, 'The Bravery': 263, 'The Cardigans': 264, 'The Chemical Brothers': 265, 'The Clash': 266, 'The Cranberries': 267, 'The Cult': 268, 'The Cure': 269, 'The Dandy Warhols': 270, 'The Darkness': 271, 'The Decemberists': 272, 'The Doors': 273, 'The Faint': 274, 'The Flaming Lips': 275, 'The Fratellis': 276, 'The Fray': 277, 'The Futureheads': 278, 'The Go! Team': 279, 'The Goo Goo Dolls': 280, 'The Hives': 281, 'The Human League': 282, 'The Jesus And Mary Chain': 283, 'The Killers': 284, 'The Kinks': 285, 'The Knife': 286, 'The Kooks': 287, 'The Last Shadow Puppets': 288, 'The Libertines': 289, 'The Magic Numbers': 290, 'The Mamas & The Papas': 291, 'The Mars Volta': 292, 'The New Pornographers': 293, 'The Offspring': 294, 'The Pipettes': 295, 'The Police': 296, 'The Postal Service': 297, 'The Prodigy': 298, 'The Raconteurs': 299, 'The Rakes': 300, 'The Rolling Stones': 301, 'The Shins': 302, 'The Smashing Pumpkins': 303, 'The Smiths': 304, 'The Stone Roses': 305, 'The Stooges': 306, 'The Stranglers': 307, 'The Streets': 308, 'The Strokes': 309, 'The Ting Tings': 310, 'The Velvet Underground': 311, 'The Verve': 312, 'The Walkmen': 313, 'The White Stripes': 314, 'The Whitest Boy Alive': 315, 'The Who': 316, 'Thievery Corporation': 317, 'Thom Yorke': 318, 'Tool': 319, 'Tori Amos': 320, 'Travis': 321, 'Tv On The Radio': 322, 'U2': 323, 'Vampire Weekend': 324, 'Van Halen': 325, 'Violent Femmes': 326, 'We Are Scientists': 327, 'Weezer': 328, 'Wilco': 329, 'Wolf Parade': 330, 'Wolfmother': 331, 'Yann Tiersen': 332, 'Yeah Yeah Yeahs': 333, 'Zero 7': 334}\n",
      "---------- idx_to_artist ----------\n",
      "{0: '3 Doors Down', 1: '30 Seconds To Mars', 2: 'A Perfect Circle', 3: 'A-Ha', 4: 'Abba', 5: 'Ac/Dc', 6: 'Air', 7: 'Al Green', 8: 'Alanis Morissette', 9: 'Alice Cooper', 10: 'Alice In Chains', 11: 'Amy Winehouse', 12: 'Andrew Bird', 13: 'Animal Collective', 14: 'Annie', 15: 'Antony And The Johnsons', 16: 'Aqualung', 17: 'Arcade Fire', 18: 'Architecture In Helsinki', 19: 'Arctic Monkeys', 20: 'Aretha Franklin', 21: 'Art Brut', 22: 'At The Drive-In', 23: 'Audioslave', 24: 'Babyshambles', 25: 'Band Of Horses', 26: 'Basement Jaxx', 27: 'Bat For Lashes', 28: 'Battles', 29: 'Be Your Own Pet', 30: 'Beastie Boys', 31: 'Beck', 32: 'Beirut', 33: 'Belle And Sebastian', 34: 'Benny Benassi', 35: 'Björk', 36: 'Black Kids', 37: 'Black Rebel Motorcycle Club', 38: 'Black Sabbath', 39: 'Blink-182', 40: 'Bloc Party', 41: 'Blonde Redhead', 42: 'Blondie', 43: 'Blur', 44: 'Boards Of Canada', 45: 'Bob Dylan', 46: 'Bob Marley & The Wailers', 47: 'Bon Iver', 48: 'Boy Division', 49: 'Bright Eyes', 50: 'Britney Spears', 51: 'Broken Social Scene', 52: 'Cansei De Ser Sexy', 53: 'Cat Power', 54: 'Chuck Berry', 55: 'Clap Your Hands Say Yeah', 56: 'Cocorosie', 57: 'Cold War Kids', 58: 'Coldplay', 59: 'Corinne Bailey Rae', 60: 'Counting Crows', 61: 'Cream', 62: 'Creedence Clearwater Revisited', 63: 'Crystal Castles', 64: 'Cut Copy', 65: 'Daft Punk', 66: 'Damien Rice', 67: 'Dashboard Confessional', 68: 'David Bowie', 69: 'David Gray', 70: 'Dead Kennedys', 71: 'Death Cab For Cutie', 72: 'Death From Above 1979', 73: 'Deep Purple', 74: 'Deftones', 75: 'Depeche Mode', 76: 'Dexys Midnight Runners', 77: 'Dido', 78: 'Digitalism', 79: 'Dire Straits', 80: 'Dirty Pretty Things', 81: 'Dj Shadow', 82: 'Doves', 83: 'Dread Zeppelin', 84: 'Duffy', 85: 'Dusty Springfield', 86: 'Eagles', 87: 'Echo & The Bunnymen', 88: 'Editors', 89: 'Elliott Smith', 90: 'Elvis Presley', 91: 'Evanescence', 92: 'Explosions In The Sky', 93: 'Faith No More', 94: 'Faithless', 95: 'Fall Out Boy', 96: 'Fatboy Slim', 97: 'Feist', 98: 'Fiona Apple', 99: 'Fischerspooner', 100: 'Fleet Foxes', 101: 'Foo Fighters', 102: 'Franz Ferdinand', 103: 'Frou Frou', 104: 'Garbage', 105: 'Gary Jules', 106: 'Gnarls Barkley', 107: 'Goldfrapp', 108: 'Gorillaz', 109: 'Green Day', 110: \"Guns N' Roses\", 111: 'Gwen Stefani', 112: 'Hard-Fi', 113: 'Hoobastank', 114: 'Hot Chip', 115: 'Hot Hot Heat', 116: 'Iggy Pop', 117: 'Imogen Heap', 118: 'Incubus', 119: 'Interpol', 120: 'Iron & Wine', 121: 'Jack Johnson', 122: 'James Blunt', 123: 'Jamiroquai', 124: 'Jeff Buckley', 125: 'Jefferson Airplane', 126: 'Jem', 127: 'Jet', 128: 'Jimi Hendrix', 129: 'Jimmy Eat World', 130: 'John Lennon', 131: 'Johnny Cash', 132: 'José González', 133: 'Joy Division', 134: 'Junior Senior', 135: 'Justice', 136: 'Justin Timberlake', 137: 'Kaiser Chiefs', 138: 'Kanye West', 139: 'Kasabian', 140: 'Katy Perry', 141: 'Keane', 142: 'Kimya Dawson', 143: 'Kings Of Convenience', 144: 'Kings Of Leon', 145: 'Klaxons', 146: 'Kosheen', 147: 'Kt Tunstall', 148: 'Lady Gaga', 149: 'Ladytron', 150: 'Lamb', 151: 'Late Of The Pier', 152: 'Lcd Soundsystem', 153: 'Led Zeppelin', 154: 'Led Zeppelin Jam', 155: 'Lez Zeppelin', 156: 'Lily Allen', 157: 'Limp Bizkit', 158: 'Linkin Park', 159: 'Lou Reed', 160: 'Ludwig Van Beethoven', 161: 'Lynyrd Skynyrd', 162: 'M.I.A.', 163: 'M83', 164: 'Madonna', 165: 'Marilyn Manson', 166: 'Maroon 5', 167: 'Massive Attack', 168: 'Maxïmo Park', 169: 'Mazzy Star', 170: 'Metallica', 171: 'Metric', 172: 'Mgmt', 173: 'Michael Jackson', 174: 'Mika', 175: 'Miles Davis', 176: 'Moby', 177: 'Modest Mouse', 178: 'Mogwai', 179: 'Moloko', 180: 'Morrissey', 181: 'Mott The Hoople', 182: 'Motörhead', 183: 'Muse', 184: 'My Bloody Valentine', 185: 'My Chemical Romance', 186: 'Mylo', 187: 'Natalie Imbruglia', 188: 'Neil Young', 189: 'Nelly Furtado', 190: 'Neutral Milk Hotel', 191: 'New Order', 192: 'Nick Cave & The Bad Seeds', 193: 'Nick Drake', 194: 'Nickelback', 195: 'Nine Inch Nails', 196: 'Nirvana', 197: 'No Doubt', 198: 'Norah Jones', 199: 'Nouvelle Vague', 200: 'Oasis', 201: 'Of Montreal', 202: 'Ok Go', 203: 'Outkast', 204: 'Panic At The Disco', 205: 'Pavement', 206: 'Pearl Jam', 207: 'Peter Bjorn And John', 208: 'Phantom Planet', 209: 'Pink Floyd', 210: 'Pixies', 211: 'Pj Harvey', 212: 'Placebo', 213: \"Plain White T'S\", 214: 'Portishead', 215: 'Prince', 216: 'Public Enemy', 217: 'Pulp', 218: 'Queen', 219: 'Queens Of The Stone Age', 220: 'R.E.M.', 221: 'Radiohead', 222: 'Rage Against The Machine', 223: 'Rammstein', 224: 'Ramones', 225: 'Ratatat', 226: 'Razorlight', 227: 'Red Hot Chili Peppers', 228: 'Regina Spektor', 229: 'Rhianna', 230: 'Rihanna', 231: 'Rilo Kiley', 232: 'Ryan Adams', 233: 'Röyksopp', 234: 'Scissor Sisters', 235: 'Sex Pistols', 236: 'Sia', 237: 'Sigur Rós', 238: 'Simon & Garfunkel', 239: 'Simple Minds', 240: 'Siouxsie And The Banshees', 241: 'Sixpence None The Richer', 242: 'Slayer', 243: 'Slowdive', 244: 'Sneaker Pimps', 245: 'Snow Patrol', 246: 'Soft Cell', 247: 'Sonic Youth', 248: 'Soundgarden', 249: 'Spice Girls', 250: 'Spoon', 251: 'Stars', 252: 'Stereophonics', 253: 'Sufjan Stevens', 254: 'System Of A Down', 255: 'Talking Heads', 256: 'Tears For Fears', 257: 'Tegan And Sara', 258: 'Tenacious D', 259: \"The 5.6.7.8'S\", 260: \"The B-52'S\", 261: 'The Beach Boys', 262: 'The Beatles', 263: 'The Bravery', 264: 'The Cardigans', 265: 'The Chemical Brothers', 266: 'The Clash', 267: 'The Cranberries', 268: 'The Cult', 269: 'The Cure', 270: 'The Dandy Warhols', 271: 'The Darkness', 272: 'The Decemberists', 273: 'The Doors', 274: 'The Faint', 275: 'The Flaming Lips', 276: 'The Fratellis', 277: 'The Fray', 278: 'The Futureheads', 279: 'The Go! Team', 280: 'The Goo Goo Dolls', 281: 'The Hives', 282: 'The Human League', 283: 'The Jesus And Mary Chain', 284: 'The Killers', 285: 'The Kinks', 286: 'The Knife', 287: 'The Kooks', 288: 'The Last Shadow Puppets', 289: 'The Libertines', 290: 'The Magic Numbers', 291: 'The Mamas & The Papas', 292: 'The Mars Volta', 293: 'The New Pornographers', 294: 'The Offspring', 295: 'The Pipettes', 296: 'The Police', 297: 'The Postal Service', 298: 'The Prodigy', 299: 'The Raconteurs', 300: 'The Rakes', 301: 'The Rolling Stones', 302: 'The Shins', 303: 'The Smashing Pumpkins', 304: 'The Smiths', 305: 'The Stone Roses', 306: 'The Stooges', 307: 'The Stranglers', 308: 'The Streets', 309: 'The Strokes', 310: 'The Ting Tings', 311: 'The Velvet Underground', 312: 'The Verve', 313: 'The Walkmen', 314: 'The White Stripes', 315: 'The Whitest Boy Alive', 316: 'The Who', 317: 'Thievery Corporation', 318: 'Thom Yorke', 319: 'Tool', 320: 'Tori Amos', 321: 'Travis', 322: 'Tv On The Radio', 323: 'U2', 324: 'Vampire Weekend', 325: 'Van Halen', 326: 'Violent Femmes', 327: 'We Are Scientists', 328: 'Weezer', 329: 'Wilco', 330: 'Wolf Parade', 331: 'Wolfmother', 332: 'Yann Tiersen', 333: 'Yeah Yeah Yeahs', 334: 'Zero 7'}\n",
      "---------- song_to_idx ----------\n",
      "{'3 Doors Down-Here Without You': 0, '30 Seconds To Mars-The Kill': 1, 'A Perfect Circle-3 Libras': 2, 'A Perfect Circle-Imagine': 3, 'A-Ha-Take On Me': 4, 'Abba-Dancing Queen': 5, 'Abba-Waterloo': 6, 'Ac/Dc-Back In Black': 7, 'Ac/Dc-Dirty Deeds Done Dirt Cheap': 8, 'Ac/Dc-Hells Bells': 9, 'Ac/Dc-Highway To Hell': 10, 'Ac/Dc-Thunderstruck': 11, 'Ac/Dc-You Shook Me All Night Long': 12, 'Air-All I Need': 13, 'Air-Alone In Kyoto': 14, 'Air-Alpha Beta Gaga': 15, 'Air-Another Day': 16, 'Air-Bathroom Girl': 17, 'Air-Biological': 18, 'Air-Ce Matin-Là': 19, 'Air-Cemetary Party': 20, 'Air-Cherry Blossom Girl': 21, 'Air-Clouds Up': 22, 'Air-Dark Messages': 23, 'Air-Empty House': 24, 'Air-Highschool Lover': 25, 'Air-Kelly Watch The Stars': 26, \"Air-La Femme D'Argent\": 27, 'Air-Le Voyage De Pénélope': 28, 'Air-Left Bank': 29, 'Air-Mike Mills': 30, 'Air-Napalm Love': 31, 'Air-New Star In The Sky': 32, 'Air-New Star In The Sky (Chanson Pour Solal)': 33, 'Air-Once Upon A Time': 34, 'Air-Photograph': 35, 'Air-Playground Love': 36, 'Air-Remember': 37, 'Air-Run': 38, 'Air-Sexy Boy': 39, 'Air-Space Maker': 40, 'Air-Surfing On A Rocket': 41, 'Air-Talisman': 42, \"Air-The Word 'Hurricane'\": 43, 'Air-Universal Traveler': 44, 'Air-Venus': 45, 'Air-You Make It Easy': 46, \"Al Green-Let'S Stay Together\": 47, 'Alanis Morissette-Ironic': 48, 'Alanis Morissette-You Oughta Know': 49, 'Alice Cooper-Poison': 50, 'Alice In Chains-Rooster': 51, 'Alice In Chains-Them Bones': 52, 'Amy Winehouse-Back To Black': 53, 'Amy Winehouse-He Can Only Hold Her': 54, 'Amy Winehouse-Just Friends': 55, 'Amy Winehouse-Love Is A Losing Game': 56, 'Amy Winehouse-Rehab': 57, 'Amy Winehouse-Some Unholy War': 58, 'Amy Winehouse-Tears Dry On Their Own': 59, 'Amy Winehouse-Wake Up Alone': 60, \"Amy Winehouse-You Know I'M No Good\": 61, 'Andrew Bird-Measuring Cups': 62, 'Animal Collective-Banshee Beat': 63, 'Animal Collective-Flesh Canoe': 64, 'Animal Collective-Grass': 65, 'Annie-Chewing Gum': 66, 'Antony And The Johnsons-Bird Gerhl': 67, 'Antony And The Johnsons-For Today I Am A Boy': 68, \"Antony And The Johnsons-Hope There'S Someone\": 69, 'Antony And The Johnsons-What Can I Do?': 70, 'Aqualung-Brighter Than Sunshine': 71, 'Arcade Fire-Black Mirror': 72, 'Arcade Fire-Black Wave/Bad Vibrations': 73, 'Arcade Fire-Crown Of Love': 74, 'Arcade Fire-Haiti': 75, 'Arcade Fire-Headlights Look Like Diamonds': 76, 'Arcade Fire-In The Back Seat': 77, 'Arcade Fire-In The Backseat': 78, 'Arcade Fire-Intervention': 79, 'Arcade Fire-Keep The Car Running': 80, 'Arcade Fire-My Body Is A Cage': 81, 'Arcade Fire-Neighborhood #1 (Tunnels)': 82, 'Arcade Fire-Neighborhood #2 (Laika)': 83, 'Arcade Fire-Neighborhood #3 (Power Out)': 84, 'Arcade Fire-Neighborhood #4 (7 Kettles)': 85, 'Arcade Fire-Neon Bible': 86, 'Arcade Fire-No Cars Go': 87, 'Arcade Fire-Ocean Of Noise': 88, 'Arcade Fire-Rebellion (Lies)': 89, 'Arcade Fire-The Well And The Lighthouse': 90, 'Arcade Fire-Une Année Sans Lumière': 91, 'Arcade Fire-Wake Up': 92, 'Arcade Fire-Windowsill': 93, 'Architecture In Helsinki-Do The Whirlwind': 94, 'Architecture In Helsinki-Imaginary Ordinary': 95, \"Architecture In Helsinki-It'5!\": 96, 'Architecture In Helsinki-Like A Call': 97, 'Architecture In Helsinki-Maybe You Can Owe Me': 98, 'Architecture In Helsinki-One Heavy February': 99, 'Architecture In Helsinki-Scissor Paper Rock': 100, 'Architecture In Helsinki-The Owls Go': 101, 'Architecture In Helsinki-To And Fro': 102, 'Arctic Monkeys-A Certain Romance': 103, 'Arctic Monkeys-Balaclava': 104, 'Arctic Monkeys-Brianstorm': 105, 'Arctic Monkeys-D Is For Dangerous': 106, 'Arctic Monkeys-Dancing Shoes': 107, 'Arctic Monkeys-Fake Tales Of San Francisco': 108, 'Arctic Monkeys-Fluorescent Adolescent': 109, 'Arctic Monkeys-From The Ritz To The Rubble': 110, 'Arctic Monkeys-I Bet You Look Good On The Dancefloor': 111, 'Arctic Monkeys-If You Were There, Beware': 112, 'Arctic Monkeys-Mardy Bum': 113, 'Arctic Monkeys-Perhaps Vampires Is A Bit Strong But...': 114, 'Arctic Monkeys-Red Light Indicates Doors Are Secured': 115, 'Arctic Monkeys-Riot Van': 116, 'Arctic Monkeys-Still Take You Home': 117, 'Arctic Monkeys-Teddy Picker': 118, 'Arctic Monkeys-The Bad Thing': 119, 'Arctic Monkeys-The View From The Afternoon': 120, 'Arctic Monkeys-When The Sun Goes Down': 121, \"Arctic Monkeys-You Probably Couldn'T See For The Lights But You Were Staring Straight At Me\": 122, 'Aretha Franklin-Respect': 123, 'Art Brut-Formed A Band': 124, 'Art Brut-Good Weekend': 125, 'Art Brut-Modern Art': 126, 'Art Brut-My Little Brother': 127, 'At The Drive-In-One Armed Scissor': 128, 'Audioslave-Be Yourself': 129, 'Audioslave-Cochise': 130, 'Audioslave-Hypnotize': 131, 'Audioslave-Like A Stone': 132, 'Audioslave-Show Me How To Live': 133, 'Babyshambles-Fuck Forever': 134, 'Band Of Horses-The Funeral': 135, \"Basement Jaxx-Where'S Your Head At\": 136, 'Bat For Lashes-Sad Eyes': 137, 'Battles-Atlas': 138, 'Be Your Own Pet-Adventure': 139, 'Beastie Boys-Intergalactic': 140, 'Beastie Boys-Sabotage': 141, 'Beck-Black Tambourine': 142, 'Beck-Derelict': 143, 'Beck-E-Pro': 144, 'Beck-Girl': 145, 'Beck-Go It Alone': 146, 'Beck-Loser': 147, 'Beck-Scarecrow': 148, 'Beck-Sexx Laws': 149, \"Beck-Where It'S At\": 150, 'Beirut-A Sunday Smile': 151, 'Beirut-After The Curtain': 152, 'Beirut-Brandenburg': 153, 'Beirut-Mount Wroclai (Idle Days)': 154, 'Beirut-Postcards From Italy': 155, 'Beirut-Rhineland (Heartland)': 156, 'Belle And Sebastian-A Space Boy Dream': 157, 'Belle And Sebastian-Dear Catastrophe Waitress': 158, 'Belle And Sebastian-Electronic Renaissance': 159, 'Belle And Sebastian-Expectations': 160, 'Belle And Sebastian-Funny Little Frog': 161, \"Belle And Sebastian-Get Me Away From Here, I'M Dying\": 162, \"Belle And Sebastian-I'M A Cuckoo\": 163, 'Belle And Sebastian-If She Wants Me': 164, 'Belle And Sebastian-It Could Have Been A Brilliant Career': 165, 'Belle And Sebastian-Judy And The Dream Of Horses': 166, 'Belle And Sebastian-Like Dylan In The Movies': 167, 'Belle And Sebastian-Me And The Major': 168, 'Belle And Sebastian-Piazza, New York Catcher': 169, 'Belle And Sebastian-Seeing Other People': 170, 'Belle And Sebastian-Seymour Stein': 171, 'Belle And Sebastian-Sleep The Clock Around': 172, 'Belle And Sebastian-Stay Loose': 173, 'Belle And Sebastian-Step Into My Office, Baby': 174, 'Belle And Sebastian-The Boy Done Wrong Again': 175, 'Belle And Sebastian-The Boy With The Arab Strap': 176, 'Belle And Sebastian-The Fox In The Snow': 177, 'Belle And Sebastian-We Are The Sleepyheads': 178, 'Belle And Sebastian-White Collar Boy': 179, 'Belle And Sebastian-Wrapped Up In Books': 180, \"Belle And Sebastian-You'Re Just A Baby\": 181, 'Benny Benassi-Satisfaction': 182, 'Björk-All Is Full Of Love': 183, 'Björk-All Neon Like': 184, 'Björk-Army Of Me': 185, 'Björk-Bachelorette': 186, 'Björk-Big Time Sensuality': 187, 'Björk-Come To Me': 188, 'Björk-Declare Independence': 189, 'Björk-Hidden Place': 190, 'Björk-Human Behaviour': 191, 'Björk-Hunter': 192, 'Björk-Hyper-Ballad': 193, 'Björk-Isobel': 194, \"Björk-It'S Oh So Quiet\": 195, 'Björk-Jóga': 196, 'Björk-Like Someone In Love': 197, 'Björk-Pagan Poetry': 198, 'Björk-Play Dead': 199, 'Björk-Possibly Maybe': 200, 'Björk-Unison': 201, 'Björk-Unravel': 202, 'Björk-Venus As A Boy': 203, 'Björk-Violently Happy': 204, \"Black Kids-I'M Not Gonna Teach Your Boyfriend How To Dance With You\": 205, \"Black Rebel Motorcycle Club-Ain'T No Easy Way\": 206, 'Black Rebel Motorcycle Club-Love Burns': 207, 'Black Rebel Motorcycle Club-Still Suspicion Holds You Tight': 208, 'Black Sabbath-Iron Man': 209, 'Black Sabbath-Paranoid': 210, 'Black Sabbath-Planet Caravan': 211, \"Blink-182-Adam'S Song\": 212, 'Blink-182-All The Small Things': 213, 'Bloc Party-Banquet': 214, 'Bloc Party-Blue Light': 215, 'Bloc Party-Compliments': 216, 'Bloc Party-Helicopter': 217, 'Bloc Party-Hunting For Witches': 218, 'Bloc Party-I Still Remember': 219, 'Bloc Party-Kreuzberg': 220, 'Bloc Party-Like Eating Glass': 221, 'Bloc Party-Little Thoughts': 222, 'Bloc Party-Luno': 223, 'Bloc Party-Mercury': 224, 'Bloc Party-Pioneers': 225, 'Bloc Party-Plans': 226, 'Bloc Party-Positive Tension': 227, 'Bloc Party-Price Of Gas': 228, \"Bloc Party-She'S Hearing Voices\": 229, 'Bloc Party-So Here We Are': 230, 'Bloc Party-Song For Clay (Disappear Here)': 231, 'Bloc Party-Sunday': 232, 'Bloc Party-The Prayer': 233, 'Bloc Party-This Modern Love': 234, 'Bloc Party-Uniform': 235, 'Bloc Party-Waiting For The 7.18': 236, 'Bloc Party-Where Is Home?': 237, 'Blonde Redhead-Melody': 238, 'Blondie-Atomic': 239, 'Blondie-Call Me': 240, 'Blondie-Denis': 241, 'Blondie-Heart Of Glass': 242, 'Blondie-One Way Or Another': 243, 'Blondie-Picture This': 244, 'Blondie-Sunday Girl': 245, 'Blur-Beetlebum': 246, 'Blur-Coffee & Tv': 247, 'Blur-Country House': 248, 'Blur-For Tomorrow': 249, 'Blur-Girls & Boys': 250, 'Blur-Parklife': 251, 'Blur-Sing': 252, 'Blur-Song 2': 253, 'Blur-Tender': 254, 'Blur-The Universal': 255, \"Blur-There'S No Other Way\": 256, 'Blur-This Is A Low': 257, 'Blur-To The End': 258, 'Boards Of Canada-1969': 259, 'Boards Of Canada-Bocuma': 260, 'Boards Of Canada-Dayvan Cowboy': 261, 'Boards Of Canada-Into The Rainbow Vein': 262, 'Boards Of Canada-Kaini Industries': 263, 'Boards Of Canada-Roygbiv': 264, 'Boards Of Canada-Smokes Quantity': 265, 'Boards Of Canada-The Color Of The Fire': 266, 'Boards Of Canada-Turquoise Hexagon Sun': 267, 'Boards Of Canada-Wildlife Analysis': 268, 'Bob Dylan-I Want You': 269, 'Bob Dylan-Just Like A Woman': 270, 'Bob Dylan-Like A Rolling Stone': 271, 'Bob Dylan-Mr. Tambourine Man': 272, 'Bob Dylan-Rainy Day Women #12 & 35': 273, 'Bob Dylan-Subterranean Homesick Blues': 274, 'Bob Dylan-Tangled Up In Blue': 275, \"Bob Dylan-The Times They Are A-Changin'\": 276, 'Bob Marley & The Wailers-Buffalo Soldier': 277, 'Bon Iver-Flume': 278, 'Boy Division-Love Will Tear Us Apart': 279, 'Bright Eyes-At The Bottom Of Everything': 280, 'Bright Eyes-First Day Of My Life': 281, \"Bright Eyes-Lover I Don'T Have To Love\": 282, 'Bright Eyes-Lua': 283, 'Bright Eyes-Old Soul Song (For The New World Order)': 284, 'Bright Eyes-Road To Joy': 285, 'Bright Eyes-Ship In A Bottle': 286, \"Bright Eyes-We Are Nowhere And It'S Now\": 287, 'Britney Spears-Toxic': 288, 'Broken Social Scene-7/4 (Shoreline)': 289, 'Broken Social Scene-Anthems For A Seventeen Year-Old Girl': 290, 'Broken Social Scene-Capture The Flag': 291, 'Broken Social Scene-Cause = Time': 292, 'Broken Social Scene-Finish Your Collapse And Stay For Breakfast': 293, \"Broken Social Scene-Fire Eye'D Boy\": 294, \"Broken Social Scene-I'M Still Your Fag\": 295, 'Broken Social Scene-Looks Just Like The Sun': 296, 'Broken Social Scene-Love And Mathematics': 297, \"Broken Social Scene-Lover'S Spit\": 298, 'Broken Social Scene-Major Label Debut': 299, 'Broken Social Scene-Pacific Theme': 300, 'Broken Social Scene-Pitter Patter Goes My Heart': 301, 'Broken Social Scene-Shampoo Suicide': 302, 'Broken Social Scene-Stars And Sons': 303, 'Broken Social Scene-Swimmers': 304, 'Cansei De Ser Sexy-Alala': 305, 'Cansei De Ser Sexy-Alcohol': 306, 'Cansei De Ser Sexy-Art Bitch': 307, \"Cansei De Ser Sexy-Let'S Make Love And Listen To Death From Above\": 308, 'Cansei De Ser Sexy-Meeting Paris Hilton': 309, 'Cansei De Ser Sexy-Music Is My Hot Hot Sex': 310, 'Cat Power-After It All': 311, 'Cat Power-Good Woman': 312, 'Cat Power-Lived In Bars': 313, 'Cat Power-Living Proof': 314, 'Cat Power-The Greatest': 315, 'Cat Power-The Moon': 316, 'Cat Power-Werewolf': 317, 'Chuck Berry-Johnny B. Goode': 318, 'Clap Your Hands Say Yeah-Blue Turning Gray': 319, 'Clap Your Hands Say Yeah-Clap Your Hands!': 320, 'Clap Your Hands Say Yeah-Details Of The War': 321, 'Clap Your Hands Say Yeah-Heavy Metal': 322, 'Clap Your Hands Say Yeah-In This Home On Ice': 323, 'Clap Your Hands Say Yeah-Let The Cool Goddess Rust Away': 324, 'Clap Your Hands Say Yeah-Over And Over Again (Lost And Found)': 325, 'Clap Your Hands Say Yeah-Sunshine And Clouds (And Everything Proud)': 326, 'Clap Your Hands Say Yeah-The Skin Of My Yellow Country Teeth': 327, 'Clap Your Hands Say Yeah-Upon This Tidal Wave Of Young Blood': 328, 'Cocorosie-Beautiful Boyz': 329, 'Cocorosie-Butterscotch': 330, 'Cold War Kids-Hang Me Up To Dry': 331, 'Coldplay-A Message': 332, 'Coldplay-A Rush Of Blood To The Head': 333, 'Coldplay-A Whisper': 334, 'Coldplay-Amsterdam': 335, 'Coldplay-Cemeteries Of London': 336, 'Coldplay-Clocks': 337, 'Coldplay-Daylight': 338, 'Coldplay-Death And All His Friends': 339, \"Coldplay-Don'T Panic\": 340, \"Coldplay-Everything'S Not Lost\": 341, 'Coldplay-Fix You': 342, 'Coldplay-God Put A Smile Upon Your Face': 343, 'Coldplay-Green Eyes': 344, 'Coldplay-High Speed': 345, 'Coldplay-In My Place': 346, 'Coldplay-Life In Technicolor': 347, 'Coldplay-Lost!': 348, 'Coldplay-Low': 349, 'Coldplay-Parachutes': 350, 'Coldplay-Politik': 351, 'Coldplay-Shiver': 352, 'Coldplay-Sparks': 353, 'Coldplay-Speed Of Sound': 354, 'Coldplay-Spies': 355, 'Coldplay-Square One': 356, 'Coldplay-Strawberry Swing': 357, 'Coldplay-Swallowed In The Sea': 358, 'Coldplay-Talk': 359, 'Coldplay-The Hardest Part': 360, 'Coldplay-The Scientist': 361, 'Coldplay-Trouble': 362, 'Coldplay-Twisted Logic': 363, 'Coldplay-Violet Hill': 364, 'Coldplay-Viva La Vida': 365, 'Coldplay-Warning Sign': 366, 'Coldplay-We Never Change': 367, 'Coldplay-What If': 368, 'Coldplay-White Shadows': 369, 'Coldplay-X&Y': 370, 'Coldplay-Yellow': 371, 'Corinne Bailey Rae-Put Your Records On': 372, 'Counting Crows-Mr. Jones': 373, 'Counting Crows-Omaha': 374, 'Cream-Sunshine Of Your Love': 375, 'Creedence Clearwater Revisited-Bad Moon Rising': 376, 'Creedence Clearwater Revisited-Down On The Corner': 377, 'Creedence Clearwater Revisited-Fortunate Son': 378, 'Creedence Clearwater Revisited-Up Around The Bend': 379, 'Crystal Castles-Magic Spells': 380, 'Crystal Castles-Untrust Us': 381, 'Cut Copy-Hearts On Fire': 382, 'Cut Copy-Strangers In The Wind': 383, 'Daft Punk-Aerodynamic': 384, 'Daft Punk-Around The World': 385, 'Daft Punk-Crescendolls': 386, 'Daft Punk-Da Funk': 387, 'Daft Punk-Digital Love': 388, 'Daft Punk-Face To Face': 389, 'Daft Punk-Harder, Better, Faster, Stronger': 390, 'Daft Punk-High Fidelity': 391, 'Daft Punk-High Life': 392, 'Daft Punk-Nightvision': 393, 'Daft Punk-One More Time': 394, 'Daft Punk-Phoenix': 395, 'Daft Punk-Revolution 909': 396, 'Daft Punk-Robot Rock': 397, 'Daft Punk-Short Circuit': 398, 'Daft Punk-Something About Us': 399, 'Daft Punk-Superheroes': 400, 'Daft Punk-Technologic': 401, 'Daft Punk-Too Long': 402, 'Daft Punk-Veridis Quo': 403, 'Daft Punk-Voyager': 404, 'Damien Rice-Cannonball': 405, \"Damien Rice-Cheers Darlin'\": 406, 'Damien Rice-Cold Water': 407, 'Damien Rice-Delicate': 408, 'Damien Rice-Older Chests': 409, \"Damien Rice-The Blower'S Daughter\": 410, 'Damien Rice-Volcano': 411, 'Dashboard Confessional-Screaming Infidelities': 412, 'David Bowie-Ashes To Ashes': 413, 'David Bowie-Changes': 414, 'David Bowie-China Girl': 415, 'David Bowie-Fame': 416, 'David Bowie-Golden Years': 417, 'David Bowie-Heroes': 418, 'David Bowie-Lady Stardust': 419, \"David Bowie-Let'S Dance\": 420, 'David Bowie-Life On Mars?': 421, 'David Bowie-Modern Love': 422, 'David Bowie-Rebel Rebel': 423, 'David Bowie-Space Oddity': 424, 'David Bowie-Starman': 425, 'David Bowie-Suffragette City': 426, 'David Bowie-The Jean Genie': 427, 'David Bowie-The Man Who Sold The World': 428, 'David Bowie-Ziggy Stardust': 429, 'David Gray-Babylon': 430, 'Dead Kennedys-California Über Alles': 431, 'Dead Kennedys-Kill The Poor': 432, 'Death Cab For Cutie-A Lack Of Color': 433, 'Death Cab For Cutie-Bixby Canyon Bridge': 434, 'Death Cab For Cutie-Brothers On A Hotel Bed': 435, 'Death Cab For Cutie-Crooked Teeth': 436, 'Death Cab For Cutie-Death Of An Interior Decorator': 437, 'Death Cab For Cutie-Different Names For The Same Thing': 438, \"Death Cab For Cutie-Expo '86\": 439, 'Death Cab For Cutie-I Will Follow You Into The Dark': 440, 'Death Cab For Cutie-Lightness': 441, 'Death Cab For Cutie-Marching Bands Of Manhattan': 442, 'Death Cab For Cutie-Passenger Seat': 443, 'Death Cab For Cutie-Photobooth': 444, 'Death Cab For Cutie-Someday You Will Be Loved': 445, 'Death Cab For Cutie-Soul Meets Body': 446, 'Death Cab For Cutie-Stable Song': 447, 'Death Cab For Cutie-Steadier Footing': 448, 'Death Cab For Cutie-Summer Skin': 449, 'Death Cab For Cutie-The New Year': 450, 'Death Cab For Cutie-The Sound Of Settling': 451, 'Death Cab For Cutie-Tiny Vessels': 452, 'Death Cab For Cutie-Title And Registration': 453, 'Death Cab For Cutie-Transatlanticism': 454, 'Death Cab For Cutie-We Looked Like Giants': 455, 'Death Cab For Cutie-What Sarah Said': 456, 'Death Cab For Cutie-Your Heart Is An Empty Room': 457, 'Death From Above 1979-Black History Month': 458, 'Death From Above 1979-Blood On Our Hands': 459, 'Death From Above 1979-Cold War': 460, 'Death From Above 1979-Go Home, Get Down': 461, 'Death From Above 1979-Sexy Results': 462, 'Death From Above 1979-Turn It Out': 463, \"Death From Above 1979-You'Re A Woman, I'M A Machine\": 464, 'Deep Purple-Highway Star': 465, 'Deep Purple-Hush': 466, 'Deep Purple-Smoke On The Water': 467, 'Deftones-Knife Prty': 468, \"Depeche Mode-A Pain That I'M Used To\": 469, 'Depeche Mode-Condemnation': 470, 'Depeche Mode-Dream On': 471, 'Depeche Mode-Enjoy The Silence': 472, 'Depeche Mode-I Feel You': 473, \"Depeche Mode-Just Can'T Get Enough\": 474, 'Depeche Mode-Master And Servant': 475, 'Depeche Mode-Never Let Me Down Again': 476, 'Depeche Mode-People Are People': 477, 'Depeche Mode-Personal Jesus': 478, 'Depeche Mode-Policy Of Truth': 479, 'Depeche Mode-Precious': 480, 'Depeche Mode-Strangelove': 481, 'Depeche Mode-Stripped': 482, 'Depeche Mode-Suffer Well': 483, 'Depeche Mode-World In My Eyes': 484, 'Dexys Midnight Runners-Come On Eileen': 485, 'Dido-White Flag': 486, 'Digitalism-Pogo': 487, 'Dire Straits-Brothers In Arms': 488, 'Dire Straits-Money For Nothing': 489, 'Dire Straits-Sultans Of Swing': 490, \"Dirty Pretty Things-Bang Bang You'Re Dead\": 491, 'Dj Shadow-Organ Donor': 492, 'Dj Shadow-The Number Song': 493, 'Doves-There Goes The Fear': 494, 'Dread Zeppelin-Celebration Day': 495, \"Dread Zeppelin-D'Yer Mak'Er\": 496, 'Dread Zeppelin-Going To California': 497, 'Dread Zeppelin-Good Times Bad Times': 498, 'Dread Zeppelin-Heartbreaker': 499, 'Dread Zeppelin-Misty Mountain Hop': 500, 'Dread Zeppelin-No Quarter': 501, 'Dread Zeppelin-Ramble On': 502, 'Dread Zeppelin-Stairway To Heaven': 503, 'Dread Zeppelin-The Rain Song': 504, 'Dread Zeppelin-The Song Remains The Same': 505, 'Dread Zeppelin-What Is And What Should Never Be': 506, 'Dread Zeppelin-When The Levee Breaks': 507, 'Dread Zeppelin-Your Time Is Gonna Come': 508, 'Duffy-Mercy': 509, 'Dusty Springfield-Son Of A Preacher Man': 510, 'Eagles-Hotel California': 511, 'Echo & The Bunnymen-The Killing Moon': 512, 'Editors-All Sparks': 513, 'Editors-An End Has A Start': 514, 'Editors-Blood': 515, 'Editors-Bullets': 516, 'Editors-Distance': 517, 'Editors-Fall': 518, 'Editors-Fingers In The Factories': 519, 'Editors-Lights': 520, 'Editors-Munich': 521, 'Editors-Someone Says': 522, 'Elliott Smith-A Passing Feeling': 523, 'Elliott Smith-Between The Bars': 524, 'Elliott Smith-Bled White': 525, 'Elliott Smith-Everything Reminds Me Of Her': 526, \"Elliott Smith-I Didn'T Understand\": 527, 'Elliott Smith-Memory Lane': 528, 'Elliott Smith-Needle In The Hay': 529, 'Elliott Smith-Ostrich & Chirping': 530, 'Elliott Smith-Pretty (Ugly Before)': 531, 'Elliott Smith-Punch And Judy': 532, 'Elliott Smith-Say Yes': 533, 'Elliott Smith-Somebody That I Used To Know': 534, 'Elliott Smith-Speed Trials': 535, 'Elliott Smith-Tomorrow Tomorrow': 536, 'Elliott Smith-Waltz #2 (Xo)': 537, 'Elvis Presley-Jailhouse Rock': 538, 'Evanescence-Bring Me To Life': 539, \"Evanescence-Call Me When You'Re Sober\": 540, 'Evanescence-Going Under': 541, 'Evanescence-My Immortal': 542, 'Explosions In The Sky-First Breath After Coma': 543, 'Explosions In The Sky-Greet Death': 544, 'Explosions In The Sky-Memorial': 545, 'Explosions In The Sky-Six Days At The Bottom Of The Ocean': 546, 'Explosions In The Sky-The Only Moment We Were Alone': 547, 'Faith No More-Easy': 548, 'Faithless-God Is A Dj': 549, 'Faithless-Insomnia': 550, 'Fall Out Boy-Dance, Dance': 551, \"Fall Out Boy-This Ain'T A Scene, It'S An Arms Race\": 552, 'Fatboy Slim-Praise You': 553, 'Fatboy Slim-Weapon Of Choice': 554, 'Feist-1234': 555, 'Feist-Brandy Alexander': 556, 'Feist-Gatekeeper': 557, 'Feist-How My Heart Behaves': 558, 'Feist-I Feel It All': 559, 'Feist-Intuition': 560, 'Feist-Leisure Suite': 561, 'Feist-Let It Die': 562, 'Feist-Mushaboom': 563, 'Feist-My Moon My Man': 564, 'Feist-Now At Last': 565, 'Feist-One Evening': 566, 'Feist-Past In Present': 567, 'Feist-Secret Heart': 568, 'Feist-So Sorry': 569, 'Feist-The Limit To Your Love': 570, 'Feist-The Park': 571, 'Feist-The Water': 572, 'Feist-When I Was A Young Girl': 573, 'Fiona Apple-Criminal': 574, 'Fiona Apple-Sleep To Dream': 575, 'Fischerspooner-Emerge': 576, 'Fleet Foxes-Blue Ridge Mountains': 577, \"Fleet Foxes-He Doesn'T Know Why\": 578, 'Fleet Foxes-Ragged Wood': 579, 'Fleet Foxes-Sun It Rises': 580, 'Fleet Foxes-Tiger Mountain Peasant Song': 581, 'Fleet Foxes-White Winter Hymnal': 582, 'Foo Fighters-All My Life': 583, 'Foo Fighters-Best Of You': 584, 'Foo Fighters-Breakout': 585, 'Foo Fighters-Doa': 586, 'Foo Fighters-Everlong': 587, 'Foo Fighters-Learn To Fly': 588, 'Foo Fighters-Monkey Wrench': 589, 'Foo Fighters-My Hero': 590, 'Foo Fighters-Razor': 591, 'Foo Fighters-Stacked Actors': 592, 'Foo Fighters-The Pretender': 593, 'Foo Fighters-Times Like These': 594, 'Franz Ferdinand-Auf Achse': 595, 'Franz Ferdinand-Cheating On You': 596, 'Franz Ferdinand-Come On Home': 597, 'Franz Ferdinand-Darts Of Pleasure': 598, 'Franz Ferdinand-Do You Want To': 599, 'Franz Ferdinand-Eleanor Put Your Boots On': 600, 'Franz Ferdinand-Evil And A Heathen': 601, 'Franz Ferdinand-Fade Together': 602, \"Franz Ferdinand-I'M Your Villain\": 603, 'Franz Ferdinand-Jacqueline': 604, 'Franz Ferdinand-Michael': 605, 'Franz Ferdinand-Outsiders': 606, 'Franz Ferdinand-Take Me Out': 607, 'Franz Ferdinand-Tell Her Tonight': 608, 'Franz Ferdinand-The Dark Of The Matinée': 609, 'Franz Ferdinand-The Fallen': 610, 'Franz Ferdinand-This Boy': 611, 'Franz Ferdinand-This Fire': 612, 'Franz Ferdinand-Walk Away': 613, 'Franz Ferdinand-Well That Was Easy': 614, 'Franz Ferdinand-What You Meant': 615, 'Franz Ferdinand-You Could Have It So Much Better': 616, \"Franz Ferdinand-You'Re The Reason I'M Leaving\": 617, 'Frou Frou-Breathe In': 618, \"Frou Frou-It'S Good To Be In Love\": 619, 'Frou Frou-Let Go': 620, 'Frou Frou-Maddening Shroud': 621, 'Frou Frou-The Dumbing Down Of Love': 622, 'Garbage-Only Happy When It Rains': 623, 'Garbage-Push It': 624, 'Garbage-Stupid Girl': 625, 'Gary Jules-Mad World': 626, 'Gnarls Barkley-Crazy': 627, 'Gnarls Barkley-Gone Daddy Gone': 628, 'Gnarls Barkley-Smiley Faces': 629, 'Goldfrapp-Black Cherry': 630, 'Goldfrapp-Crystalline Green': 631, 'Goldfrapp-Deer Stop': 632, 'Goldfrapp-Fly Me Away': 633, 'Goldfrapp-Forever': 634, 'Goldfrapp-Koko': 635, 'Goldfrapp-Let It Take You': 636, 'Goldfrapp-Lovely Head': 637, 'Goldfrapp-Number 1': 638, 'Goldfrapp-Ooh La La': 639, 'Goldfrapp-Pilots': 640, 'Goldfrapp-Ride A White Horse': 641, 'Goldfrapp-Slide In': 642, 'Goldfrapp-Slippage': 643, 'Goldfrapp-Strict Machine': 644, 'Goldfrapp-Tiptoe': 645, 'Goldfrapp-Train': 646, 'Goldfrapp-Twist': 647, 'Gorillaz-19-2000': 648, 'Gorillaz-All Alone': 649, 'Gorillaz-Clint Eastwood': 650, 'Gorillaz-Dare': 651, 'Gorillaz-Demon Days': 652, 'Gorillaz-Dirty Harry': 653, \"Gorillaz-Don'T Get Lost In Heaven\": 654, 'Gorillaz-Double Bass': 655, 'Gorillaz-El Manana': 656, 'Gorillaz-Every Planet We Reach Is Dead': 657, 'Gorillaz-Feel Good Inc.': 658, \"Gorillaz-Fire Coming Out Of The Monkey'S Head\": 659, 'Gorillaz-Intro': 660, 'Gorillaz-Kids With Guns': 661, 'Gorillaz-Last Living Souls': 662, 'Gorillaz-November Has Come': 663, 'Gorillaz-O Green World': 664, 'Gorillaz-Re-Hash': 665, 'Gorillaz-Rock The House': 666, 'Gorillaz-Tomorrow Comes Today': 667, 'Gorillaz-White Light': 668, 'Green Day-American Idiot': 669, 'Green Day-Are We The Waiting': 670, 'Green Day-Basket Case': 671, 'Green Day-Boulevard Of Broken Dreams': 672, 'Green Day-Give Me Novacaine': 673, 'Green Day-Holiday': 674, 'Green Day-When I Come Around': 675, \"Guns N' Roses-Civil War\": 676, \"Guns N' Roses-Don'T Cry\": 677, \"Guns N' Roses-Live And Let Die\": 678, \"Guns N' Roses-November Rain\": 679, \"Guns N' Roses-Out Ta Get Me\": 680, \"Guns N' Roses-Paradise City\": 681, \"Guns N' Roses-Sweet Child O' Mine\": 682, \"Guns N' Roses-Welcome To The Jungle\": 683, \"Guns N' Roses-You Could Be Mine\": 684, 'Gwen Stefani-Hollaback Girl': 685, 'Hard-Fi-Tied Up Too Tight': 686, 'Hoobastank-The Reason': 687, 'Hot Chip-(Just Like We) Breakdown': 688, 'Hot Chip-Over And Over': 689, 'Hot Chip-Ready For The Floor': 690, 'Hot Chip-Shake A Fist': 691, 'Hot Hot Heat-Bandages': 692, 'Hot Hot Heat-Goodnight Goodnight': 693, 'Iggy Pop-The Passenger': 694, 'Imogen Heap-Daylight Robbery': 695, 'Imogen Heap-Goodnight And Go': 696, 'Imogen Heap-Headlock': 697, 'Imogen Heap-Hide And Seek': 698, 'Imogen Heap-I Am In Love With You': 699, 'Incubus-Drive': 700, 'Interpol-A Time To Be So Small': 701, 'Interpol-All Fired Up': 702, \"Interpol-C'Mere\": 703, 'Interpol-Evil': 704, 'Interpol-Hands Away': 705, 'Interpol-Leif Erikson': 706, 'Interpol-Length Of Love': 707, 'Interpol-Mammoth': 708, 'Interpol-Narc': 709, 'Interpol-Next Exit': 710, 'Interpol-No I In Threesome': 711, 'Interpol-Not Even Jail': 712, 'Interpol-Nyc': 713, 'Interpol-Obstacle 1': 714, 'Interpol-Obstacle 2': 715, 'Interpol-Pace Is The Trick': 716, 'Interpol-Pda': 717, 'Interpol-Pioneer To The Falls': 718, 'Interpol-Public Pervert': 719, 'Interpol-Rest My Chemistry': 720, 'Interpol-Roland': 721, 'Interpol-Say Hello To The Angels': 722, 'Interpol-Slow Hands': 723, 'Interpol-Stella Was A Diver And She Was Always Down': 724, 'Interpol-Take You On A Cruise': 725, 'Interpol-The Heinrich Maneuver': 726, 'Interpol-The New': 727, 'Interpol-Untitled': 728, 'Interpol-Who Do You Think': 729, 'Interpol-Wrecking Ball': 730, 'Iron & Wine-An Angry Blade': 731, 'Iron & Wine-Each Coming Night': 732, 'Iron & Wine-Free Until They Cut Me Down': 733, 'Iron & Wine-Naked As We Came': 734, 'Iron & Wine-Radio War': 735, 'Iron & Wine-Such Great Heights': 736, 'Jack Johnson-Banana Pancakes': 737, 'Jack Johnson-Better Together': 738, 'Jack Johnson-Good People': 739, 'Jack Johnson-No Other Way': 740, 'Jack Johnson-Sitting, Waiting, Wishing': 741, 'Jack Johnson-Times Like These': 742, 'James Blunt-Goodbye My Lover': 743, \"James Blunt-You'Re Beautiful\": 744, 'Jamiroquai-Virtual Insanity': 745, 'Jeff Buckley-Corpus Christi Carol': 746, 'Jeff Buckley-Grace': 747, 'Jeff Buckley-Hallelujah': 748, 'Jeff Buckley-Last Goodbye': 749, 'Jeff Buckley-Lilac Wine': 750, 'Jeff Buckley-So Real': 751, 'Jefferson Airplane-Somebody To Love': 752, 'Jefferson Airplane-White Rabbit': 753, 'Jem-They': 754, 'Jet-Are You Gonna Be My Girl': 755, 'Jimi Hendrix-All Along The Watchtower': 756, 'Jimi Hendrix-Fire': 757, 'Jimi Hendrix-Foxy Lady': 758, 'Jimi Hendrix-Hey Joe': 759, 'Jimi Hendrix-Purple Haze': 760, 'Jimi Hendrix-Red House': 761, 'Jimi Hendrix-The Wind Cries Mary': 762, 'Jimmy Eat World-The Middle': 763, 'John Lennon-Imagine': 764, 'Johnny Cash-Folsom Prison Blues': 765, 'Johnny Cash-Give My Love To Rose': 766, 'Johnny Cash-Hurt': 767, 'Johnny Cash-I Walk The Line': 768, 'Johnny Cash-Orange Blossom Special': 769, 'Johnny Cash-Personal Jesus': 770, 'Johnny Cash-Ring Of Fire': 771, 'José González-Crosses': 772, 'José González-Deadweight On Velveteen': 773, 'José González-Heartbeats': 774, 'Joy Division-A Means To An End': 775, 'Joy Division-Atmosphere': 776, 'Joy Division-Atrocity Exhibition': 777, 'Joy Division-Candidate': 778, 'Joy Division-Ceremony': 779, 'Joy Division-Colony': 780, 'Joy Division-Day Of The Lords': 781, 'Joy Division-Dead Souls': 782, 'Joy Division-Decades': 783, 'Joy Division-Digital': 784, 'Joy Division-Disorder': 785, 'Joy Division-Heart And Soul': 786, 'Joy Division-Incubation': 787, 'Joy Division-Insight': 788, 'Joy Division-Interzone': 789, 'Joy Division-Isolation': 790, 'Joy Division-Leaders Of Men': 791, 'Joy Division-New Dawn Fades': 792, 'Joy Division-No Love Lost': 793, 'Joy Division-Shadowplay': 794, \"Joy Division-She'S Lost Control\": 795, 'Joy Division-Something Must Break': 796, 'Joy Division-The Eternal': 797, 'Joy Division-Transmission': 798, 'Joy Division-Warsaw': 799, 'Joy Division-Wilderness': 800, 'Junior Senior-Move Your Feet': 801, 'Justice-D.A.N.C.E.': 802, 'Justice-Dvno': 803, 'Justice-Genesis': 804, 'Justice-Let There Be Light': 805, 'Justice-Phantom, Part Ii': 806, 'Justice-Stress': 807, 'Justice-Valentine': 808, 'Justice-Waters Of Nazareth': 809, 'Justin Timberlake-Cry Me A River': 810, 'Kaiser Chiefs-Born To Be A Dancer': 811, 'Kaiser Chiefs-Everyday I Love You Less And Less': 812, 'Kaiser Chiefs-I Predict A Riot': 813, 'Kaiser Chiefs-Modern Way': 814, 'Kaiser Chiefs-Na Na Na Na Naa': 815, 'Kaiser Chiefs-Oh My God': 816, 'Kaiser Chiefs-Ruby': 817, 'Kaiser Chiefs-Saturday Night': 818, 'Kaiser Chiefs-Team Mate': 819, 'Kaiser Chiefs-The Angry Mob': 820, 'Kaiser Chiefs-What Did I Ever Give You?': 821, 'Kaiser Chiefs-You Can Have It All': 822, 'Kanye West-Jesus Walks': 823, 'Kanye West-Stronger': 824, 'Kasabian-Club Foot': 825, 'Kasabian-Cutt Off': 826, 'Kasabian-Empire': 827, 'Kasabian-Me Plus One': 828, 'Kasabian-Ovary Stripe': 829, 'Kasabian-Processed Beats': 830, 'Kasabian-Reason Is Treason': 831, 'Kasabian-Running Battle': 832, 'Kasabian-Shoot The Runner': 833, 'Kasabian-Test Transmission': 834, 'Katy Perry-I Kissed A Girl': 835, 'Keane-Bedshaped': 836, 'Keane-Bend And Break': 837, \"Keane-Everybody'S Changing\": 838, 'Keane-Somewhere Only We Know': 839, 'Keane-Sunshine': 840, 'Keane-This Is The Last Time': 841, 'Keane-Untitled 1': 842, 'Keane-Your Eyes Open': 843, 'Kimya Dawson-Loose Lips': 844, 'Kings Of Convenience-Homesick': 845, \"Kings Of Convenience-I'D Rather Dance With You\": 846, 'Kings Of Convenience-Know How': 847, 'Kings Of Convenience-Leaning Against The Wall': 848, 'Kings Of Convenience-Live Long': 849, 'Kings Of Convenience-Love Is No Big Truth': 850, 'Kings Of Convenience-Misread': 851, 'Kings Of Convenience-Stay Out Of Trouble': 852, 'Kings Of Convenience-Toxic Girl': 853, 'Kings Of Convenience-Winning A Battle, Losing The War': 854, 'Kings Of Leon-Be Somebody': 855, 'Kings Of Leon-Charmer': 856, 'Kings Of Leon-Closer': 857, 'Kings Of Leon-Four Kicks': 858, 'Kings Of Leon-Happy Alone': 859, 'Kings Of Leon-King Of The Rodeo': 860, \"Kings Of Leon-Molly'S Chambers\": 861, 'Kings Of Leon-Pistol Of Fire': 862, 'Kings Of Leon-Razz': 863, 'Kings Of Leon-Sex On Fire': 864, 'Kings Of Leon-Slow Night, So Long': 865, 'Kings Of Leon-Taper Jean Girl': 866, 'Kings Of Leon-The Bucket': 867, 'Kings Of Leon-Trunk': 868, 'Kings Of Leon-Use Somebody': 869, 'Kings Of Leon-Velvet Snow': 870, 'Klaxons-As Above, So Below': 871, 'Klaxons-Atlantis To Interzone': 872, 'Klaxons-Forgotten Works': 873, 'Klaxons-Golden Skans': 874, \"Klaxons-Gravity'S Rainbow\": 875, 'Klaxons-Isle Of Her': 876, 'Klaxons-Magick': 877, 'Klaxons-Totem On The Timeline': 878, 'Klaxons-Two Receivers': 879, 'Kosheen-Catch': 880, 'Kt Tunstall-Suddenly I See': 881, 'Lady Gaga-Poker Face': 882, 'Ladytron-Cmyk': 883, 'Ladytron-Destroy Everything You Touch': 884, 'Ladytron-Fighting In Built Up Areas': 885, 'Ladytron-Flicking Your Switch': 886, 'Ladytron-High Rise': 887, 'Ladytron-International Dateline': 888, 'Ladytron-Seventeen': 889, 'Ladytron-Sugar': 890, 'Lamb-Gabriel': 891, 'Lamb-One': 892, 'Late Of The Pier-Space And The Woods': 893, 'Lcd Soundsystem-All My Friends': 894, 'Lcd Soundsystem-Daft Punk Is Playing At My House': 895, 'Lcd Soundsystem-Disco Infiltrator': 896, 'Lcd Soundsystem-Get Innocuous!': 897, 'Lcd Soundsystem-North American Scum': 898, 'Lcd Soundsystem-Someone Great': 899, 'Lcd Soundsystem-Tribulations': 900, \"Led Zeppelin-Babe I'M Gonna Leave You\": 901, 'Led Zeppelin-Bron-Yr-Aur Stomp': 902, 'Led Zeppelin-Dazed And Confused': 903, 'Led Zeppelin-Friends': 904, 'Led Zeppelin-Houses Of The Holy': 905, 'Led Zeppelin-In The Evening': 906, 'Led Zeppelin-Over The Hills And Far Away': 907, \"Led Zeppelin-That'S The Way\": 908, 'Led Zeppelin-The Battle Of Evermore': 909, 'Led Zeppelin Jam-Black Dog': 910, 'Led Zeppelin Jam-Immigrant Song': 911, 'Lez Zeppelin-Communication Breakdown': 912, 'Lez Zeppelin-Kashmir': 913, 'Lez Zeppelin-Rock And Roll': 914, \"Lez Zeppelin-Since I'Ve Been Loving You\": 915, 'Lez Zeppelin-Whole Lotta Love': 916, 'Lily Allen-Alfie': 917, \"Lily Allen-Everything'S Just Wonderful\": 918, 'Lily Allen-Friday Night': 919, \"Lily Allen-Knock 'Em Out\": 920, 'Lily Allen-Ldn': 921, 'Lily Allen-Not Big': 922, 'Lily Allen-Smile': 923, 'Lily Allen-The Fear': 924, 'Limp Bizkit-Behind Blue Eyes': 925, 'Linkin Park-Faint': 926, 'Linkin Park-Shadow Of The Day': 927, 'Linkin Park-Somewhere I Belong': 928, 'Lou Reed-Perfect Day': 929, 'Lou Reed-Walk On The Wild Side': 930, 'Ludwig Van Beethoven-Symphony No. 2 - Scherzo': 931, 'Lynyrd Skynyrd-Sweet Home Alabama': 932, 'M.I.A.-Amazon': 933, 'M.I.A.-Bucky Done Gun': 934, 'M.I.A.-Galang': 935, 'M.I.A.-Jimmy': 936, 'M.I.A.-Paper Planes': 937, 'M.I.A.-Pull Up The People': 938, 'M83-Be Wild': 939, 'M83-Teen Angst': 940, 'Madonna-Jump': 941, 'Madonna-Like A Prayer': 942, 'Marilyn Manson-Tainted Love': 943, 'Marilyn Manson-This Is The New Shit': 944, 'Maroon 5-She Will Be Loved': 945, 'Maroon 5-This Love': 946, 'Massive Attack-Angel': 947, 'Massive Attack-Black Milk': 948, 'Massive Attack-Butterfly Caught': 949, 'Massive Attack-Dissolved Girl': 950, 'Massive Attack-Everywhen': 951, 'Massive Attack-Exchange': 952, 'Massive Attack-Five Man Army': 953, 'Massive Attack-Future Proof': 954, 'Massive Attack-Group Four': 955, 'Massive Attack-Inertia Creeps': 956, 'Massive Attack-Karmacoma': 957, 'Massive Attack-Man Next Door': 958, 'Massive Attack-Mezzanine': 959, 'Massive Attack-Protection': 960, 'Massive Attack-Risingson': 961, 'Massive Attack-Safe From Harm': 962, 'Massive Attack-Sly': 963, 'Massive Attack-Special Cases': 964, 'Massive Attack-Teardrop': 965, 'Massive Attack-Unfinished Sympathy': 966, 'Massive Attack-What Your Soul Sings': 967, 'Maxïmo Park-Going Missing': 968, 'Maxïmo Park-Graffiti': 969, 'Maxïmo Park-Postcard Of A Painting': 970, 'Maxïmo Park-The Coast Is Always Changing': 971, 'Mazzy Star-Fade Into You': 972, 'Metallica-Creeping Death': 973, 'Metallica-Enter Sandman': 974, 'Metallica-Fade To Black': 975, 'Metallica-Master Of Puppets': 976, 'Metallica-Nothing Else Matters': 977, 'Metallica-One': 978, 'Metallica-The Unforgiven': 979, 'Metallica-The Unforgiven Ii': 980, 'Metric-Combat Baby': 981, 'Metric-Dead Disco': 982, 'Metric-Poster Of A Girl': 983, 'Metric-Soft Rock Star': 984, 'Metric-Succexy': 985, 'Metric-Wet Blanket': 986, 'Mgmt-4Th Dimensional Transition': 987, 'Mgmt-Electric Feel': 988, 'Mgmt-Future Reflections': 989, 'Mgmt-Kids': 990, 'Mgmt-Of Moons, Birds & Monsters': 991, 'Mgmt-Pieces Of What': 992, 'Mgmt-The Handshake': 993, 'Mgmt-The Youth': 994, 'Mgmt-Time To Pretend': 995, 'Mgmt-Weekend Wars': 996, 'Michael Jackson-Beat It': 997, 'Michael Jackson-Billie Jean': 998, 'Michael Jackson-Smooth Criminal': 999, 'Michael Jackson-Thriller': 1000, 'Mika-Grace Kelly': 1001, 'Mika-Love Today': 1002, 'Miles Davis-So What': 1003, 'Moby-7': 1004, 'Moby-Bodyrock': 1005, 'Moby-Honey': 1006, 'Moby-In This World': 1007, 'Moby-Lift Me Up': 1008, 'Moby-Natural Blues': 1009, 'Moby-Porcelain': 1010, 'Moby-Run On': 1011, 'Moby-South Side': 1012, 'Moby-We Are All Made Of Stars': 1013, 'Moby-Why Does My Heart Feel So Bad?': 1014, 'Modest Mouse-3Rd Planet': 1015, 'Modest Mouse-A Different City': 1016, 'Modest Mouse-Alone Down There': 1017, 'Modest Mouse-Black Cadillacs': 1018, 'Modest Mouse-Bukowski': 1019, 'Modest Mouse-Bury Me With It': 1020, 'Modest Mouse-Dashboard': 1021, 'Modest Mouse-Fire It Up': 1022, 'Modest Mouse-Float On': 1023, 'Modest Mouse-Gravity Rides Everything': 1024, 'Modest Mouse-I Came As A Rat': 1025, 'Modest Mouse-Interlude (Milo)': 1026, 'Modest Mouse-Invisible': 1027, 'Modest Mouse-Little Motel': 1028, 'Modest Mouse-Ocean Breathes Salty': 1029, 'Modest Mouse-Paper Thin Walls': 1030, 'Modest Mouse-People As Places As People': 1031, 'Modest Mouse-Steam Engenius': 1032, 'Modest Mouse-The Cold Part': 1033, 'Modest Mouse-The Good Times Are Killing Me': 1034, 'Modest Mouse-The Stars Are Projectors': 1035, 'Modest Mouse-The View': 1036, 'Modest Mouse-The World At Large': 1037, \"Modest Mouse-This Devil'S Workday\": 1038, 'Modest Mouse-Tiny Cities Made Of Ashes': 1039, \"Modest Mouse-We'Ve Got Everything\": 1040, 'Modest Mouse-What People Are Made Of': 1041, 'Modest Mouse-Wild Packs Of Family Dogs': 1042, 'Mogwai-Auto Rock': 1043, 'Mogwai-Folk Death 95': 1044, 'Mogwai-Friend Of The Night': 1045, 'Mogwai-Glasgow Mega-Snake': 1046, 'Mogwai-Hunted By A Freak': 1047, 'Mogwai-I Know You Are But What Am I?': 1048, 'Mogwai-Kids Will Be Skeletons': 1049, 'Moloko-Sing It Back': 1050, 'Morrissey-Everyday Is Like Sunday': 1051, 'Morrissey-Irish Blood, English Heart': 1052, 'Morrissey-Suedehead': 1053, 'Mott The Hoople-All The Young Dudes': 1054, 'Motörhead-Ace Of Spades': 1055, 'Muse-Apocalypse Please': 1056, 'Muse-Assassin': 1057, 'Muse-Blackout': 1058, 'Muse-Bliss': 1059, 'Muse-Butterflies And Hurricanes': 1060, 'Muse-Cave': 1061, 'Muse-Citizen Erased': 1062, 'Muse-City Of Delusion': 1063, 'Muse-Darkshines': 1064, 'Muse-Endlessly': 1065, 'Muse-Exo-Politics': 1066, 'Muse-Falling Away With You': 1067, 'Muse-Feeling Good': 1068, \"Muse-Hate This & I'Ll Love You\": 1069, 'Muse-Hoodoo': 1070, 'Muse-Hyper Music': 1071, 'Muse-Hysteria': 1072, 'Muse-Interlude': 1073, 'Muse-Invincible': 1074, 'Muse-Knights Of Cydonia': 1075, 'Muse-Map Of The Problematique': 1076, 'Muse-Micro Cuts': 1077, 'Muse-Muscle Museum': 1078, 'Muse-New Born': 1079, 'Muse-Plug In Baby': 1080, 'Muse-Ruled By Secrecy': 1081, 'Muse-Screenager': 1082, 'Muse-Showbiz': 1083, 'Muse-Sing For Absolution': 1084, 'Muse-Sober': 1085, \"Muse-Soldier'S Poem\": 1086, 'Muse-Space Dementia': 1087, 'Muse-Starlight': 1088, 'Muse-Stockholm Syndrome': 1089, 'Muse-Sunburn': 1090, 'Muse-Supermassive Black Hole': 1091, 'Muse-Take A Bow': 1092, 'Muse-The Small Print': 1093, 'Muse-Thoughts Of A Dying Atheist': 1094, 'Muse-Time Is Running Out': 1095, 'Muse-Unintended': 1096, 'Muse-Uno': 1097, 'My Bloody Valentine-Blown A Wish': 1098, 'My Bloody Valentine-Come In Alone': 1099, 'My Bloody Valentine-Loomer': 1100, 'My Bloody Valentine-Only Shallow': 1101, 'My Bloody Valentine-Sometimes': 1102, 'My Bloody Valentine-To Here Knows When': 1103, 'My Bloody Valentine-Touched': 1104, 'My Bloody Valentine-What You Want': 1105, 'My Bloody Valentine-When You Sleep': 1106, 'My Chemical Romance-Welcome To The Black Parade': 1107, 'Mylo-Drop The Pressure': 1108, 'Mylo-In My Arms': 1109, 'Natalie Imbruglia-Torn': 1110, 'Neil Young-Heart Of Gold': 1111, 'Neil Young-The Needle And The Damage Done': 1112, 'Nelly Furtado-Maneater': 1113, 'Nelly Furtado-Promiscuous': 1114, 'Nelly Furtado-Say It Right': 1115, 'Neutral Milk Hotel-A Baby For Pree': 1116, 'Neutral Milk Hotel-Ghost': 1117, 'Neutral Milk Hotel-Holland, 1945': 1118, 'Neutral Milk Hotel-In The Aeroplane Over The Sea': 1119, 'Neutral Milk Hotel-Oh Comely': 1120, 'Neutral Milk Hotel-Song Against Sex': 1121, 'Neutral Milk Hotel-Two-Headed Boy': 1122, 'New Order-Blue Monday': 1123, 'New Order-Ceremony': 1124, 'New Order-Regret': 1125, 'New Order-Temptation': 1126, 'New Order-True Faith': 1127, 'Nick Cave & The Bad Seeds-Where The Wild Roses Grow': 1128, 'Nick Drake-Day Is Done': 1129, 'Nick Drake-Hazey Jane Ii': 1130, 'Nick Drake-Man In A Shed': 1131, 'Nick Drake-Northern Sky': 1132, 'Nick Drake-One Of These Things First': 1133, 'Nick Drake-Place To Be': 1134, 'Nick Drake-River Man': 1135, 'Nick Drake-Things Behind The Sun': 1136, 'Nickelback-How You Remind Me': 1137, 'Nine Inch Nails-A Warm Place': 1138, 'Nine Inch Nails-All The Love In The World': 1139, 'Nine Inch Nails-Closer': 1140, 'Nine Inch Nails-Discipline': 1141, 'Nine Inch Nails-Head Like A Hole': 1142, 'Nine Inch Nails-Heresy': 1143, 'Nine Inch Nails-Hurt': 1144, 'Nine Inch Nails-Love Is Not Enough': 1145, 'Nine Inch Nails-March Of The Pigs': 1146, 'Nine Inch Nails-Only': 1147, 'Nine Inch Nails-Terrible Lie': 1148, 'Nine Inch Nails-The Collector': 1149, 'Nine Inch Nails-The Day The World Went Away': 1150, 'Nine Inch Nails-The Hand That Feeds': 1151, 'Nine Inch Nails-The Line Begins To Blur': 1152, 'Nine Inch Nails-The Perfect Drug': 1153, 'Nine Inch Nails-With Teeth': 1154, 'Nirvana-About A Girl': 1155, 'Nirvana-All Apologies': 1156, 'Nirvana-Aneurysm': 1157, 'Nirvana-Been A Son': 1158, 'Nirvana-Come As You Are': 1159, 'Nirvana-Drain You': 1160, 'Nirvana-Dumb': 1161, 'Nirvana-Frances Farmer Will Have Her Revenge On Seattle': 1162, 'Nirvana-Heart-Shaped Box': 1163, 'Nirvana-In Bloom': 1164, \"Nirvana-Jesus Doesn'T Want Me For A Sunbeam\": 1165, 'Nirvana-Lake Of Fire': 1166, 'Nirvana-Lithium': 1167, 'Nirvana-Milk It': 1168, 'Nirvana-On A Plain': 1169, 'Nirvana-Pennyroyal Tea': 1170, 'Nirvana-Polly': 1171, 'Nirvana-Rape Me': 1172, 'Nirvana-Serve The Servants': 1173, 'Nirvana-Sliver': 1174, 'Nirvana-Smells Like Teen Spirit': 1175, 'Nirvana-Something In The Way': 1176, 'Nirvana-Stay Away': 1177, 'Nirvana-Territorial Pissings': 1178, 'Nirvana-The Man Who Sold The World': 1179, 'Nirvana-Where Did You Sleep Last Night?': 1180, \"Nirvana-You Know You'Re Right\": 1181, \"No Doubt-Don'T Speak\": 1182, 'No Doubt-Hella Good': 1183, \"Norah Jones-Don'T Know Why\": 1184, 'Norah Jones-Seven Years': 1185, 'Norah Jones-Turn Me On': 1186, 'Nouvelle Vague-I Melt With You': 1187, 'Nouvelle Vague-In A Manner Of Speaking': 1188, 'Nouvelle Vague-Love Will Tear Us Apart': 1189, 'Nouvelle Vague-This Is Not A Love Song': 1190, 'Oasis-Bag It Up': 1191, 'Oasis-Cast No Shadow': 1192, 'Oasis-Champagne Supernova': 1193, 'Oasis-Columbia': 1194, \"Oasis-Don'T Look Back In Anger\": 1195, 'Oasis-Go Let It Out': 1196, 'Oasis-Hello': 1197, 'Oasis-Hey Now!': 1198, 'Oasis-Let There Be Love': 1199, 'Oasis-Live Forever': 1200, 'Oasis-Married With Children': 1201, 'Oasis-Morning Glory': 1202, 'Oasis-Roll With It': 1203, \"Oasis-She'S Electric\": 1204, 'Oasis-Slide Away': 1205, 'Oasis-Some Might Say': 1206, 'Oasis-The Masterplan': 1207, 'Oasis-Wonderwall': 1208, 'Of Montreal-Disconnect The Dots': 1209, 'Of Montreal-Heimdalsgate Like A Promethean Curse': 1210, 'Ok Go-Here It Goes Again': 1211, 'Outkast-Hey Ya!': 1212, \"Panic At The Disco-But It'S Better If You Do\": 1213, 'Panic At The Disco-I Constantly Thank God For Esteban': 1214, 'Panic At The Disco-I Write Sins Not Tragedies': 1215, 'Panic At The Disco-Lying Is The Most Fun A Girl Can Have Without Taking Her Clothes Off': 1216, 'Panic At The Disco-The Only Difference Between Martyrdom And Suicide Is Press Coverage': 1217, 'Pavement-Cut Your Hair': 1218, 'Pearl Jam-Alive': 1219, 'Pearl Jam-Black': 1220, 'Pearl Jam-Even Flow': 1221, 'Pearl Jam-Jeremy': 1222, 'Pearl Jam-Oceans': 1223, 'Peter Bjorn And John-Young Folks': 1224, 'Phantom Planet-California': 1225, 'Pink Floyd-A Pillow Of Winds': 1226, 'Pink Floyd-Another Brick In The Wall, Part 2': 1227, 'Pink Floyd-Any Colour You Like': 1228, 'Pink Floyd-Astronomy Domine': 1229, 'Pink Floyd-Bike': 1230, 'Pink Floyd-Brain Damage': 1231, 'Pink Floyd-Comfortably Numb': 1232, 'Pink Floyd-Echoes': 1233, 'Pink Floyd-Eclipse': 1234, 'Pink Floyd-Goodbye Blue Sky': 1235, 'Pink Floyd-Have A Cigar': 1236, 'Pink Floyd-Hey You': 1237, 'Pink Floyd-High Hopes': 1238, 'Pink Floyd-Keep Talking': 1239, 'Pink Floyd-Marooned': 1240, 'Pink Floyd-Money': 1241, 'Pink Floyd-On The Run': 1242, 'Pink Floyd-One Of My Turns': 1243, 'Pink Floyd-See Emily Play': 1244, 'Pink Floyd-Sheep': 1245, 'Pink Floyd-Shine On You Crazy Diamond': 1246, 'Pink Floyd-Speak To Me / Breathe': 1247, 'Pink Floyd-Take Up Thy Stethoscope And Walk': 1248, 'Pink Floyd-The Great Gig In The Sky': 1249, 'Pink Floyd-The Happiest Days Of Our Lives': 1250, 'Pink Floyd-Time': 1251, 'Pink Floyd-Us And Them': 1252, 'Pink Floyd-Vera': 1253, 'Pink Floyd-Wish You Were Here': 1254, 'Pixies-Broken Face': 1255, 'Pixies-Cactus': 1256, 'Pixies-Caribou': 1257, 'Pixies-Dead': 1258, 'Pixies-Debaser': 1259, 'Pixies-Dig For Fire': 1260, 'Pixies-Gigantic': 1261, 'Pixies-Gouge Away': 1262, 'Pixies-Here Comes Your Man': 1263, 'Pixies-Hey': 1264, 'Pixies-I Bleed': 1265, 'Pixies-La La Love You': 1266, 'Pixies-Monkey Gone To Heaven': 1267, 'Pixies-Mr. Grieves': 1268, 'Pixies-No. 13 Baby': 1269, 'Pixies-Oh My Golly!': 1270, 'Pixies-Silver': 1271, 'Pixies-Tame': 1272, 'Pixies-There Goes My Gun': 1273, 'Pixies-Vamos': 1274, 'Pixies-Velouria': 1275, 'Pixies-Wave Of Mutilation': 1276, 'Pixies-Where Is My Mind?': 1277, 'Pj Harvey-Beautiful Feeling': 1278, 'Pj Harvey-Down By The Water': 1279, 'Pj Harvey-One Line': 1280, 'Pj Harvey-This Is Love': 1281, 'Placebo-36 Degrees': 1282, 'Placebo-Ask For Answers': 1283, 'Placebo-Because I Want You': 1284, 'Placebo-Blue American': 1285, 'Placebo-Bruise Pristine': 1286, 'Placebo-Commercial For Levi': 1287, 'Placebo-Drag': 1288, 'Placebo-English Summer Rain': 1289, 'Placebo-Every You Every Me': 1290, 'Placebo-Hang On To Your Iq': 1291, 'Placebo-I Know': 1292, 'Placebo-In The Cold Light Of Morning': 1293, 'Placebo-Infra-Red': 1294, 'Placebo-My Sweet Prince': 1295, 'Placebo-Nancy Boy': 1296, 'Placebo-Post Blue': 1297, 'Placebo-Pure Morning': 1298, 'Placebo-Scared Of Girls': 1299, 'Placebo-Slave To The Wage': 1300, 'Placebo-Sleeping With Ghosts': 1301, 'Placebo-Song To Say Goodbye': 1302, 'Placebo-Space Monkey': 1303, 'Placebo-Special K': 1304, 'Placebo-Special Needs': 1305, \"Placebo-Summer'S Gone\": 1306, 'Placebo-Taste In Men': 1307, 'Placebo-Teenage Angst': 1308, 'Placebo-The Bitter End': 1309, 'Placebo-This Picture': 1310, \"Placebo-Without You I'M Nothing\": 1311, \"Placebo-You Don'T Care About Us\": 1312, \"Plain White T'S-Hey There Delilah\": 1313, 'Portishead-All Mine': 1314, 'Portishead-Biscuit': 1315, 'Portishead-Cowboys': 1316, 'Portishead-Deep Water': 1317, 'Portishead-Glory Box': 1318, 'Portishead-Humming': 1319, 'Portishead-Hunter': 1320, 'Portishead-It Could Be Sweet': 1321, \"Portishead-It'S A Fire\": 1322, 'Portishead-Mourning Air': 1323, 'Portishead-Mysterons': 1324, 'Portishead-Numb': 1325, 'Portishead-Nylon Smile': 1326, 'Portishead-Over': 1327, 'Portishead-Pedestal': 1328, 'Portishead-Plastic': 1329, 'Portishead-Roads': 1330, 'Portishead-Seven Months': 1331, 'Portishead-Silence': 1332, 'Portishead-Small': 1333, 'Portishead-Sour Times': 1334, 'Portishead-Strangers': 1335, 'Portishead-The Rip': 1336, 'Portishead-Undenied': 1337, 'Portishead-Wandering Star': 1338, 'Portishead-We Carry On': 1339, 'Prince-Kiss': 1340, 'Public Enemy-Fight The Power': 1341, 'Pulp-Common People': 1342, 'Pulp-Disco 2000': 1343, 'Pulp-Pencil Skirt': 1344, 'Queen-A Kind Of Magic': 1345, 'Queen-Another One Bites The Dust': 1346, 'Queen-Bohemian Rhapsody': 1347, 'Queen-Crazy Little Thing Called Love': 1348, \"Queen-Don'T Stop Me Now\": 1349, 'Queen-Fat Bottomed Girls': 1350, 'Queen-Friends Will Be Friends': 1351, 'Queen-I Want To Break Free': 1352, 'Queen-Killer Queen': 1353, \"Queen-Now I'M Here\": 1354, 'Queen-Play The Game': 1355, 'Queen-Save Me': 1356, 'Queen-Somebody To Love': 1357, 'Queen-The Show Must Go On': 1358, 'Queen-We Are The Champions': 1359, 'Queen-We Will Rock You': 1360, \"Queen-You'Re My Best Friend\": 1361, 'Queens Of The Stone Age-Broken Box': 1362, 'Queens Of The Stone Age-Burn The Witch': 1363, 'Queens Of The Stone Age-Feel Good Hit Of The Summer': 1364, 'Queens Of The Stone Age-First It Giveth': 1365, 'Queens Of The Stone Age-Go With The Flow': 1366, 'Queens Of The Stone Age-Gonna Leave You': 1367, 'Queens Of The Stone Age-I Never Came': 1368, 'Queens Of The Stone Age-Little Sister': 1369, 'Queens Of The Stone Age-Medication': 1370, 'Queens Of The Stone Age-Monsters In The Parasol': 1371, 'Queens Of The Stone Age-No One Knows': 1372, 'Queens Of The Stone Age-Skin On Skin': 1373, 'Queens Of The Stone Age-The Blood Is Love': 1374, 'R.E.M.-Everybody Hurts': 1375, 'R.E.M.-Losing My Religion': 1376, 'R.E.M.-Nightswimming': 1377, 'R.E.M.-Orange Crush': 1378, 'Radiohead-(Nice Dream)': 1379, 'Radiohead-15 Step': 1380, 'Radiohead-2 + 2 = 5 (The Lukewarm.)': 1381, 'Radiohead-2+2= 5': 1382, 'Radiohead-A Punchup At A Wedding': 1383, 'Radiohead-A Wolf At The Door': 1384, 'Radiohead-Airbag': 1385, 'Radiohead-All I Need': 1386, 'Radiohead-Anyone Can Play Guitar': 1387, 'Radiohead-Backdrifts': 1388, 'Radiohead-Backdrifts. (Honeymoon Is Over.)': 1389, 'Radiohead-Black Star': 1390, 'Radiohead-Blow Out': 1391, 'Radiohead-Bodysnatchers': 1392, 'Radiohead-Bones': 1393, 'Radiohead-Bullet Proof..I Wish I Was': 1394, 'Radiohead-Climbing Up The Walls': 1395, 'Radiohead-Creep': 1396, 'Radiohead-Dollars And Cents': 1397, 'Radiohead-Electioneering': 1398, 'Radiohead-Everything In Its Right Place': 1399, 'Radiohead-Exit Music (For A Film)': 1400, 'Radiohead-Fake Plastic Trees': 1401, 'Radiohead-Faust Arp': 1402, 'Radiohead-Fitter Happier': 1403, 'Radiohead-Go To Sleep': 1404, 'Radiohead-High And Dry': 1405, 'Radiohead-House Of Cards': 1406, 'Radiohead-How To Disappear Completely': 1407, 'Radiohead-Hunting Bears': 1408, \"Radiohead-I Can'T\": 1409, 'Radiohead-I Might Be Wrong': 1410, 'Radiohead-Idioteque': 1411, 'Radiohead-In Limbo': 1412, 'Radiohead-Jigsaw Falling Into Place': 1413, 'Radiohead-Just': 1414, 'Radiohead-Karma Police': 1415, 'Radiohead-Kid A': 1416, 'Radiohead-Knives Out': 1417, 'Radiohead-Let Down': 1418, 'Radiohead-Like Spinning Plates': 1419, 'Radiohead-Lucky': 1420, 'Radiohead-Lurgee': 1421, 'Radiohead-Morning Bell': 1422, 'Radiohead-Morning Bell/Amnesiac': 1423, 'Radiohead-Motion Picture Soundtrack': 1424, 'Radiohead-My Iron Lung': 1425, 'Radiohead-No Surprises': 1426, 'Radiohead-Nude': 1427, 'Radiohead-Optimistic': 1428, 'Radiohead-Packt Like Sardines In A Crushd Tin Box': 1429, 'Radiohead-Paranoid Android': 1430, 'Radiohead-Planet Telex': 1431, 'Radiohead-Prove Yourself': 1432, 'Radiohead-Pyramid Song': 1433, 'Radiohead-Reckoner': 1434, 'Radiohead-Sail To The Moon': 1435, 'Radiohead-Scatterbrain': 1436, 'Radiohead-Stop Whispering': 1437, 'Radiohead-Street Spirit (Fade Out)': 1438, 'Radiohead-Subterranean Homesick Alien': 1439, 'Radiohead-Sulk': 1440, 'Radiohead-Talk Show Host': 1441, 'Radiohead-The Bends': 1442, 'Radiohead-The National Anthem': 1443, 'Radiohead-The Tourist': 1444, 'Radiohead-There There': 1445, 'Radiohead-Thinking About You': 1446, 'Radiohead-Treefingers': 1447, 'Radiohead-Vegetable': 1448, 'Radiohead-Videotape': 1449, 'Radiohead-We Suck Young Blood': 1450, 'Radiohead-Weird Fishes/Arpeggi': 1451, 'Radiohead-Where I End And You Begin. (The Sky Is Falling In.)': 1452, 'Radiohead-You': 1453, 'Radiohead-You And Whose Army?': 1454, 'Rage Against The Machine-Bombtrack': 1455, 'Rage Against The Machine-Bullet In The Head': 1456, 'Rage Against The Machine-Bulls On Parade': 1457, 'Rage Against The Machine-Freedom': 1458, 'Rage Against The Machine-Killing In The Name': 1459, 'Rage Against The Machine-Know Your Enemy': 1460, 'Rage Against The Machine-People Of The Sun': 1461, 'Rage Against The Machine-Take The Power Back': 1462, 'Rage Against The Machine-Tire Me': 1463, 'Rage Against The Machine-Township Rebellion': 1464, 'Rage Against The Machine-Wake Up': 1465, 'Rammstein-Du Hast': 1466, 'Rammstein-Keine Lust': 1467, 'Rammstein-Sonne': 1468, 'Ramones-Blitzkrieg Bop': 1469, 'Ramones-I Wanna Be Sedated': 1470, 'Ramones-Judy Is A Punk': 1471, 'Ratatat-Wildcat': 1472, 'Razorlight-Golden Touch': 1473, 'Razorlight-In The Morning': 1474, 'Red Hot Chili Peppers-Around The World': 1475, 'Red Hot Chili Peppers-Breaking The Girl': 1476, 'Red Hot Chili Peppers-By The Way': 1477, 'Red Hot Chili Peppers-Cabron': 1478, 'Red Hot Chili Peppers-Californication': 1479, 'Red Hot Chili Peppers-Dani California': 1480, 'Red Hot Chili Peppers-Give It Away': 1481, 'Red Hot Chili Peppers-Hump De Bump': 1482, 'Red Hot Chili Peppers-Otherside': 1483, 'Red Hot Chili Peppers-Parallel Universe': 1484, 'Red Hot Chili Peppers-Porcelain': 1485, \"Red Hot Chili Peppers-Road Trippin'\": 1486, 'Red Hot Chili Peppers-Scar Tissue': 1487, \"Red Hot Chili Peppers-She'S Only 18\": 1488, 'Red Hot Chili Peppers-Snow ((Hey Oh))': 1489, 'Red Hot Chili Peppers-Stadium Arcadium': 1490, 'Red Hot Chili Peppers-Strip My Mind': 1491, 'Red Hot Chili Peppers-Suck My Kiss': 1492, 'Red Hot Chili Peppers-Tell Me Baby': 1493, 'Red Hot Chili Peppers-The Zephyr Song': 1494, 'Red Hot Chili Peppers-This Velvet Glove': 1495, 'Red Hot Chili Peppers-Under The Bridge': 1496, 'Red Hot Chili Peppers-Universally Speaking': 1497, 'Red Hot Chili Peppers-Wet Sand': 1498, 'Regina Spektor-20 Years Of Snow': 1499, 'Regina Spektor-Edit': 1500, 'Regina Spektor-Fidelity': 1501, 'Regina Spektor-Field Below': 1502, 'Regina Spektor-Hotel Song': 1503, 'Regina Spektor-Lady': 1504, 'Regina Spektor-On The Radio': 1505, 'Regina Spektor-Samson': 1506, 'Regina Spektor-Summer In The City': 1507, 'Regina Spektor-That Time': 1508, \"Rhianna-Don'T Stop The Music\": 1509, 'Rihanna-Unfaithful': 1510, \"Rilo Kiley-It'S A Hit\": 1511, 'Rilo Kiley-Portions For Foxes': 1512, 'Ryan Adams-Wonderwall': 1513, 'Röyksopp-40 Years Back / Come': 1514, 'Röyksopp-Beautiful Day Without You': 1515, 'Röyksopp-Boys': 1516, 'Röyksopp-Circuit Breaker': 1517, 'Röyksopp-Eple': 1518, 'Röyksopp-Follow My Ruin': 1519, 'Röyksopp-In Space': 1520, 'Röyksopp-Only This Moment': 1521, 'Röyksopp-Poor Leno': 1522, 'Röyksopp-Remind Me': 1523, \"Röyksopp-She'S So\": 1524, 'Röyksopp-So Easy': 1525, 'Röyksopp-Someone Like Me': 1526, 'Röyksopp-Sparks': 1527, 'Röyksopp-Triumphant': 1528, 'Röyksopp-What Else Is There': 1529, 'Röyksopp-What Else Is There?': 1530, 'Scissor Sisters-Comfortably Numb': 1531, 'Scissor Sisters-Laura': 1532, 'Scissor Sisters-Take Your Mama': 1533, 'Sex Pistols-Bodies': 1534, 'Sex Pistols-God Save The Queen': 1535, 'Sex Pistols-Pretty Vacant': 1536, 'Sia-Breathe Me': 1537, 'Sigur Rós-Andvari': 1538, 'Sigur Rós-Avalon': 1539, 'Sigur Rós-Flugufrelsarinn': 1540, 'Sigur Rós-Glósóli': 1541, 'Sigur Rós-Gobbledigook': 1542, 'Sigur Rós-Gong': 1543, 'Sigur Rós-Heysátan': 1544, 'Sigur Rós-Hoppípolla': 1545, 'Sigur Rós-Inní Mér Syngur Vitleysingur': 1546, 'Sigur Rós-Intro': 1547, 'Sigur Rós-Með Blóðnasir': 1548, 'Sigur Rós-Mílanó': 1549, 'Sigur Rós-Olsen Olsen': 1550, 'Sigur Rós-Svefn-G-Englar': 1551, 'Sigur Rós-Svo Hljótt': 1552, 'Sigur Rós-Sæglópur': 1553, 'Sigur Rós-Sé Lest': 1554, 'Sigur Rós-Takk...': 1555, 'Sigur Rós-Von': 1556, 'Sigur Rós-Ágætis Byrjun': 1557, 'Simon & Garfunkel-America': 1558, 'Simon & Garfunkel-I Am A Rock': 1559, 'Simon & Garfunkel-Mrs. Robinson': 1560, 'Simon & Garfunkel-The Only Living Boy In New York': 1561, 'Simon & Garfunkel-The Sound Of Silence': 1562, \"Simple Minds-Don'T You (Forget About Me)\": 1563, 'Siouxsie And The Banshees-Hong Kong Garden': 1564, 'Siouxsie And The Banshees-Spellbound': 1565, 'Sixpence None The Richer-Kiss Me': 1566, 'Slayer-Angel Of Death': 1567, 'Slowdive-Alison': 1568, 'Sneaker Pimps-6 Underground': 1569, 'Snow Patrol-Chasing Cars': 1570, 'Snow Patrol-Chocolate': 1571, 'Snow Patrol-Gleaming Auction': 1572, 'Snow Patrol-Hands Open': 1573, 'Snow Patrol-How To Be Dead': 1574, \"Snow Patrol-It'S Beginning To Get To Me\": 1575, 'Snow Patrol-Open Your Eyes': 1576, 'Snow Patrol-Run': 1577, 'Snow Patrol-Shut Your Eyes': 1578, 'Snow Patrol-Somewhere A Clock Is Ticking': 1579, 'Snow Patrol-Spitting Games': 1580, 'Snow Patrol-Tiny Little Fractures': 1581, 'Snow Patrol-Ways & Means': 1582, \"Snow Patrol-Whatever'S Left\": 1583, 'Snow Patrol-Wow': 1584, 'Soft Cell-Tainted Love': 1585, 'Sonic Youth-Silver Rocket': 1586, 'Soundgarden-Black Hole Sun': 1587, 'Soundgarden-Spoonman': 1588, 'Spice Girls-Wannabe': 1589, 'Spoon-I Summon You': 1590, 'Spoon-I Turn My Camera On': 1591, 'Spoon-My Mathematical Mind': 1592, 'Spoon-The Delicate Place': 1593, 'Spoon-The Two Sides Of Monsieur Valentine': 1594, 'Spoon-The Way We Get By': 1595, 'Stars-Ageless Beauty': 1596, 'Stars-Calendar Girl': 1597, 'Stars-Set Yourself On Fire': 1598, 'Stars-Your Ex-Lover Is Dead': 1599, 'Stereophonics-Dakota': 1600, 'Sufjan Stevens-Casimir Pulaski Day': 1601, 'Sufjan Stevens-Chicago': 1602, 'Sufjan Stevens-Come On! Feel The Illinoise!!': 1603, 'Sufjan Stevens-Concerning The Ufo Sighting Near Highland, Illinois': 1604, 'Sufjan Stevens-For The Widows In Paradise, For The Fatherless In Ypsilanti': 1605, 'Sufjan Stevens-Jacksonville': 1606, 'Sufjan Stevens-John Wayne Gacy, Jr.': 1607, 'Sufjan Stevens-The Man Of Metropolis Steals Our Hearts': 1608, 'Sufjan Stevens-The Predatory Wasp Of The Palisades Is Out To Get Us!': 1609, \"Sufjan Stevens-The Seer'S Tower\": 1610, 'Sufjan Stevens-They Are Night Zombies!! They Are Neighbors!! They Have Come Back From The Dead!! Ahhhh!': 1611, 'Sufjan Stevens-To Be Alone With You': 1612, 'System Of A Down-Aerials': 1613, 'System Of A Down-B.Y.O.B.': 1614, 'System Of A Down-Bounce': 1615, 'System Of A Down-Deer Dance': 1616, 'System Of A Down-Forest': 1617, 'System Of A Down-Lonely Day': 1618, 'System Of A Down-Lost In Hollywood': 1619, 'System Of A Down-Psycho': 1620, 'System Of A Down-Radio/Video': 1621, 'System Of A Down-Shimmy': 1622, 'System Of A Down-Soldier Side (Intro)': 1623, \"System Of A Down-This Cocaine Makes Me Feel Like I'M On This Song\": 1624, 'System Of A Down-Toxicity': 1625, 'Talking Heads-Burning Down The House': 1626, 'Talking Heads-Once In A Lifetime': 1627, 'Talking Heads-Psycho Killer': 1628, 'Tears For Fears-Everybody Wants To Rule The World': 1629, 'Tears For Fears-Mad World': 1630, 'Tegan And Sara-I Know I Know I Know': 1631, 'Tegan And Sara-Walking With A Ghost': 1632, 'Tenacious D-Fuck Her Gently': 1633, \"The 5.6.7.8'S-Woo Hoo\": 1634, \"The B-52'S-Rock Lobster\": 1635, 'The Beach Boys-God Only Knows': 1636, 'The Beatles-A Day In The Life': 1637, \"The Beatles-A Hard Day'S Night\": 1638, 'The Beatles-All You Need Is Love': 1639, 'The Beatles-And Your Bird Can Sing': 1640, 'The Beatles-Back In The U.S.S.R.': 1641, 'The Beatles-Because': 1642, 'The Beatles-Birthday': 1643, 'The Beatles-Blackbird': 1644, \"The Beatles-Can'T Buy Me Love\": 1645, 'The Beatles-Carry That Weight': 1646, 'The Beatles-Come Together': 1647, 'The Beatles-Day Tripper': 1648, 'The Beatles-Dear Prudence': 1649, 'The Beatles-Doctor Robert': 1650, \"The Beatles-Don'T Pass Me By\": 1651, 'The Beatles-Drive My Car': 1652, 'The Beatles-Eight Days A Week': 1653, 'The Beatles-Eleanor Rigby': 1654, 'The Beatles-For No One': 1655, 'The Beatles-From Me To You': 1656, 'The Beatles-Get Back': 1657, 'The Beatles-Getting Better': 1658, 'The Beatles-Girl': 1659, 'The Beatles-Glass Onion': 1660, 'The Beatles-Good Day Sunshine': 1661, 'The Beatles-Got To Get You Into My Life': 1662, 'The Beatles-Happiness Is A Warm Gun': 1663, 'The Beatles-Help!': 1664, 'The Beatles-Here Comes The Sun': 1665, 'The Beatles-Here, There And Everywhere': 1666, 'The Beatles-Hey Jude': 1667, 'The Beatles-I Am The Walrus': 1668, 'The Beatles-I Feel Fine': 1669, 'The Beatles-I Me Mine': 1670, 'The Beatles-I Want To Hold Your Hand': 1671, \"The Beatles-I'M Only Sleeping\": 1672, \"The Beatles-I'M So Tired\": 1673, 'The Beatles-In My Life': 1674, 'The Beatles-Julia': 1675, 'The Beatles-Let It Be': 1676, 'The Beatles-Love Me Do': 1677, 'The Beatles-Lovely Rita': 1678, 'The Beatles-Lucy In The Sky With Diamonds': 1679, 'The Beatles-Magical Mystery Tour': 1680, 'The Beatles-Martha My Dear': 1681, \"The Beatles-Maxwell'S Silver Hammer\": 1682, 'The Beatles-Michelle': 1683, \"The Beatles-Mother Nature'S Son\": 1684, 'The Beatles-Norwegian Wood (This Bird Has Flown)': 1685, 'The Beatles-Nowhere Man': 1686, 'The Beatles-Ob-La-Di, Ob-La-Da': 1687, \"The Beatles-Octopus'S Garden\": 1688, 'The Beatles-Oh! Darling': 1689, 'The Beatles-Paperback Writer': 1690, 'The Beatles-Penny Lane': 1691, 'The Beatles-Piggies': 1692, 'The Beatles-Please Please Me': 1693, 'The Beatles-Rocky Raccoon': 1694, 'The Beatles-Savoy Truffle': 1695, 'The Beatles-Sexy Sadie': 1696, \"The Beatles-Sgt. Pepper'S Lonely Hearts Club Band\": 1697, \"The Beatles-Sgt. Pepper'S Lonely Hearts Club Band (Reprise)\": 1698, 'The Beatles-She Loves You': 1699, 'The Beatles-She Said She Said': 1700, \"The Beatles-She'S Leaving Home\": 1701, 'The Beatles-Something': 1702, 'The Beatles-Strawberry Fields Forever': 1703, 'The Beatles-Sun King': 1704, 'The Beatles-Taxman': 1705, 'The Beatles-The Ballad Of John And Yoko': 1706, 'The Beatles-Ticket To Ride': 1707, 'The Beatles-Tomorrow Never Knows': 1708, 'The Beatles-Wait': 1709, 'The Beatles-We Can Work It Out': 1710, \"The Beatles-When I'M Sixty-Four\": 1711, 'The Beatles-While My Guitar Gently Weeps': 1712, \"The Beatles-Why Don'T We Do It In The Road?\": 1713, 'The Beatles-Wild Honey Pie': 1714, 'The Beatles-With A Little Help From My Friends': 1715, 'The Beatles-Within You Without You': 1716, 'The Beatles-Yellow Submarine': 1717, 'The Beatles-Yesterday': 1718, \"The Beatles-You'Ve Got To Hide Your Love Away\": 1719, 'The Bravery-Unconditional': 1720, 'The Cardigans-My Favourite Game': 1721, \"The Chemical Brothers-Block Rockin' Beats\": 1722, 'The Chemical Brothers-Galvanize': 1723, 'The Chemical Brothers-Hey Boy Hey Girl': 1724, 'The Chemical Brothers-Let Forever Be': 1725, 'The Chemical Brothers-The Big Jump': 1726, 'The Clash-Brand New Cadillac': 1727, 'The Clash-Clampdown': 1728, 'The Clash-Death Or Glory': 1729, 'The Clash-Four Horsemen': 1730, 'The Clash-Hateful': 1731, 'The Clash-I Fought The Law': 1732, \"The Clash-I'M Not Down\": 1733, 'The Clash-Jimmy Jazz': 1734, 'The Clash-Koka Kola': 1735, 'The Clash-London Calling': 1736, 'The Clash-Lost In The Supermarket': 1737, 'The Clash-Rock The Casbah': 1738, \"The Clash-Rudie Can'T Fail\": 1739, 'The Clash-Should I Stay Or Should I Go': 1740, 'The Clash-Spanish Bombs': 1741, 'The Clash-The Card Cheat': 1742, 'The Clash-The Guns Of Brixton': 1743, 'The Clash-The Right Profile': 1744, 'The Clash-Train In Vain': 1745, 'The Clash-White Riot': 1746, 'The Cranberries-Dreams': 1747, 'The Cranberries-Linger': 1748, 'The Cranberries-Zombie': 1749, 'The Cult-She Sells Sanctuary': 1750, 'The Cure-10:15 Saturday Night': 1751, 'The Cure-A Forest': 1752, \"The Cure-Boys Don'T Cry\": 1753, 'The Cure-Close To Me': 1754, 'The Cure-Fascination Street': 1755, \"The Cure-Friday I'M In Love\": 1756, 'The Cure-High': 1757, 'The Cure-In Between Days': 1758, 'The Cure-Just Like Heaven': 1759, 'The Cure-Killing An Arab': 1760, \"The Cure-Let'S Go To Bed\": 1761, 'The Cure-Love Song': 1762, 'The Cure-Lovesong': 1763, 'The Cure-Lullaby': 1764, 'The Cure-Pictures Of You': 1765, 'The Cure-The Lovecats': 1766, 'The Cure-The Same Deep Water As You': 1767, \"The Cure-Why Can'T I Be You?\": 1768, 'The Dandy Warhols-Bohemian Like You': 1769, 'The Dandy Warhols-Country Leaver': 1770, 'The Dandy Warhols-We Used To Be Friends': 1771, 'The Darkness-I Believe In A Thing Called Love': 1772, 'The Decemberists-Clementine': 1773, 'The Decemberists-From My Own True Love (Lost At Sea)': 1774, 'The Decemberists-Grace Cathedral Hill': 1775, 'The Decemberists-Of Angels And Angles': 1776, 'The Decemberists-Summersong': 1777, \"The Decemberists-The Bagman'S Gambit\": 1778, 'The Decemberists-The Engine Driver': 1779, \"The Decemberists-The Mariner'S Revenge Song\": 1780, 'The Decemberists-The Sporting Life': 1781, 'The Decemberists-We Both Go Down Together': 1782, 'The Decemberists-When The War Came': 1783, 'The Doors-Back Door Man': 1784, 'The Doors-Break On Through': 1785, 'The Doors-Break On Through (To The Other Side)': 1786, 'The Doors-End Of The Night': 1787, 'The Doors-Five To One': 1788, 'The Doors-Hello, I Love You': 1789, 'The Doors-L.A. Woman': 1790, 'The Doors-Light My Fire': 1791, 'The Doors-Love Her Madly': 1792, 'The Doors-Love Me Two Times': 1793, 'The Doors-People Are Strange': 1794, 'The Doors-Riders On The Storm': 1795, 'The Doors-Roadhouse Blues': 1796, 'The Doors-Soul Kitchen': 1797, 'The Doors-Spanish Caravan': 1798, 'The Doors-Strange Days': 1799, 'The Doors-Take It As It Comes': 1800, 'The Doors-The Crystal Ship': 1801, 'The Doors-The End': 1802, 'The Doors-The Unknown Soldier': 1803, 'The Doors-Touch Me': 1804, \"The Doors-When The Music'S Over\": 1805, 'The Faint-Agenda Suicide': 1806, 'The Flaming Lips-Approaching Pavonis Mons By Balloon (Utopia Planitia)': 1807, 'The Flaming Lips-Are You A Hypnotist??': 1808, 'The Flaming Lips-Do You Realize??': 1809, 'The Flaming Lips-Fight Test': 1810, 'The Flaming Lips-In The Morning Of The Magicians': 1811, \"The Flaming Lips-It'S Summertime\": 1812, 'The Flaming Lips-Mr. Ambulance Driver': 1813, 'The Flaming Lips-One More Robot / Sympathy 3000-21': 1814, 'The Flaming Lips-Race For The Prize': 1815, 'The Flaming Lips-Yoshimi Battles The Pink Robots, Part 1': 1816, 'The Fratellis-Chelsea Dagger': 1817, 'The Fray-How To Save A Life': 1818, 'The Futureheads-Alms': 1819, 'The Futureheads-Decent Days And Nights': 1820, 'The Futureheads-Hounds Of Love': 1821, 'The Futureheads-Le Garage': 1822, 'The Go! Team-Air Raid Gtr': 1823, 'The Go! Team-Feelgood By Numbers': 1824, 'The Go! Team-Junior Kickstart': 1825, 'The Go! Team-Ladyflash': 1826, 'The Go! Team-Panther Dash': 1827, 'The Go! Team-The Power Is On': 1828, 'The Goo Goo Dolls-Iris': 1829, 'The Hives-Hate To Say I Told You So': 1830, 'The Hives-Main Offender': 1831, \"The Human League-Don'T You Want Me\": 1832, 'The Jesus And Mary Chain-Just Like Honey': 1833, \"The Killers-All These Things That I'Ve Done\": 1834, \"The Killers-Andy, You'Re A Star\": 1835, 'The Killers-Believe Me Natalie': 1836, 'The Killers-Bling (Confession Of A King)': 1837, 'The Killers-Bones': 1838, 'The Killers-Change Your Mind': 1839, 'The Killers-Enterlude': 1840, 'The Killers-Everything Will Be Alright': 1841, 'The Killers-For Reasons Unknown': 1842, 'The Killers-Glamorous Indie Rock And Roll': 1843, 'The Killers-Human': 1844, 'The Killers-Jenny Was A Friend Of Mine': 1845, 'The Killers-Midnight Show': 1846, 'The Killers-Mr Brightside': 1847, 'The Killers-Mr. Brightside': 1848, 'The Killers-My List': 1849, 'The Killers-On Top': 1850, 'The Killers-Read My Mind': 1851, \"The Killers-Sam'S Town\": 1852, 'The Killers-Smile Like You Mean It': 1853, 'The Killers-Somebody Told Me': 1854, 'The Killers-This River Is Wild': 1855, 'The Killers-Uncle Jonny': 1856, 'The Killers-Under The Gun': 1857, 'The Killers-When You Were Young': 1858, 'The Killers-Why Do I Keep Counting?': 1859, 'The Kinks-All Day And All Of The Night': 1860, 'The Kinks-Lola': 1861, 'The Kinks-Waterloo Sunset': 1862, 'The Kinks-You Really Got Me': 1863, 'The Knife-Behind The Bushes': 1864, 'The Knife-Forest Families': 1865, 'The Knife-Heartbeats': 1866, 'The Knife-Marble House': 1867, 'The Knife-Na Na Na': 1868, 'The Knife-Neverland': 1869, 'The Knife-One For You': 1870, 'The Knife-Pass This On': 1871, 'The Knife-Silent Shout': 1872, 'The Knife-The Captain': 1873, \"The Kooks-Eddie'S Gun\": 1874, 'The Kooks-Jackie Big Tits': 1875, 'The Kooks-Naïve': 1876, 'The Kooks-Ooh La': 1877, 'The Kooks-Seaside': 1878, 'The Kooks-She Moves In Her Own Way': 1879, 'The Kooks-Sofa Song': 1880, 'The Last Shadow Puppets-The Age Of The Understatement': 1881, 'The Libertines-Arbeit Macht Frei': 1882, \"The Libertines-Can'T Stand Me Now\": 1883, 'The Libertines-Music When The Lights Go Out': 1884, 'The Libertines-Time For Heroes': 1885, 'The Libertines-Up The Bracket': 1886, 'The Libertines-What Katie Did': 1887, 'The Magic Numbers-Forever Lost': 1888, \"The Mamas & The Papas-California Dreamin'\": 1889, 'The Mars Volta-Cicatriz Esp': 1890, 'The Mars Volta-Inertiatic Esp': 1891, 'The Mars Volta-Roulette Dares (The Haunt Of)': 1892, 'The Mars Volta-Son Et Lumiere': 1893, 'The Mars Volta-The Widow': 1894, 'The Mars Volta-This Apparatus Must Be Unearthed': 1895, 'The New Pornographers-Mass Romantic': 1896, 'The New Pornographers-The Bleeding Heart Show': 1897, 'The Offspring-Pretty Fly (For A White Guy)': 1898, 'The Pipettes-Pull Shapes': 1899, \"The Police-Don'T Stand So Close To Me\": 1900, 'The Police-Every Breath You Take': 1901, 'The Police-Every Little Thing She Does Is Magic': 1902, 'The Police-Roxanne': 1903, 'The Postal Service-Be Still My Heart': 1904, 'The Postal Service-Brand New Colony': 1905, 'The Postal Service-Clark Gable': 1906, 'The Postal Service-Natural Anthem': 1907, 'The Postal Service-Nothing Better': 1908, 'The Postal Service-Recycled Air': 1909, 'The Postal Service-Sleeping In': 1910, 'The Postal Service-Such Great Heights': 1911, 'The Postal Service-The District Sleeps Alone Tonight': 1912, 'The Postal Service-This Place Is A Prison': 1913, 'The Postal Service-We Will Become Silhouettes': 1914, 'The Prodigy-Breathe': 1915, 'The Prodigy-Diesel Power': 1916, 'The Prodigy-Firestarter': 1917, 'The Prodigy-Funky Shit': 1918, 'The Prodigy-Girls': 1919, 'The Prodigy-Mindfields': 1920, 'The Prodigy-Out Of Space': 1921, 'The Prodigy-Poison': 1922, 'The Prodigy-Smack My Bitch Up': 1923, 'The Prodigy-Spitfire': 1924, 'The Prodigy-Voodoo People': 1925, 'The Raconteurs-Blue Veins': 1926, 'The Raconteurs-Call It A Day': 1927, 'The Raconteurs-Hands': 1928, 'The Raconteurs-Intimate Secretary': 1929, 'The Raconteurs-Level': 1930, 'The Raconteurs-Steady As She Goes': 1931, 'The Raconteurs-Store Bought Bones': 1932, 'The Raconteurs-Together': 1933, 'The Rakes-22 Grand Job': 1934, 'The Rakes-Retreat': 1935, 'The Rakes-Strasbourg': 1936, 'The Rolling Stones-Angie': 1937, 'The Rolling Stones-Beast Of Burden': 1938, 'The Rolling Stones-Brown Sugar': 1939, 'The Rolling Stones-Gimme Shelter': 1940, \"The Rolling Stones-Let'S Spend The Night Together\": 1941, \"The Rolling Stones-Mother'S Little Helper\": 1942, 'The Rolling Stones-Paint It Black': 1943, \"The Rolling Stones-She'S A Rainbow\": 1944, 'The Rolling Stones-Start Me Up': 1945, 'The Rolling Stones-Street Fighting Man': 1946, 'The Rolling Stones-Sympathy For The Devil': 1947, 'The Rolling Stones-Under My Thumb': 1948, 'The Rolling Stones-Wild Horses': 1949, \"The Rolling Stones-You Can'T Always Get What You Want\": 1950, 'The Shins-A Comet Appears': 1951, 'The Shins-Australia': 1952, 'The Shins-Black Wave': 1953, 'The Shins-Caring Is Creepy': 1954, 'The Shins-Girl On The Wing': 1955, 'The Shins-Kissing The Lipless': 1956, 'The Shins-Know Your Onion!': 1957, \"The Shins-Mine'S Not A High Horse\": 1958, 'The Shins-New Slang': 1959, 'The Shins-One By One All Day': 1960, 'The Shins-Pam Berry': 1961, 'The Shins-Phantom Limb': 1962, 'The Shins-Pink Bullets': 1963, 'The Shins-Pressed In A Book': 1964, 'The Shins-Saint Simon': 1965, 'The Shins-Sea Legs': 1966, 'The Shins-Sleeping Lessons': 1967, 'The Shins-So Says I': 1968, 'The Shins-Spilt Needles': 1969, 'The Shins-The Celibate Life': 1970, 'The Shins-The Past And Pending': 1971, 'The Shins-Those To Come': 1972, 'The Shins-Turn A Square': 1973, 'The Shins-Turn On Me': 1974, 'The Shins-Young Pilgrims': 1975, 'The Shins-Your Algebra': 1976, 'The Smashing Pumpkins-1979': 1977, 'The Smashing Pumpkins-Ava Adore': 1978, 'The Smashing Pumpkins-Bullet With Butterfly Wings': 1979, 'The Smashing Pumpkins-Cherub Rock': 1980, 'The Smashing Pumpkins-Disarm': 1981, 'The Smashing Pumpkins-Here Is No Why': 1982, 'The Smashing Pumpkins-Jellybelly': 1983, 'The Smashing Pumpkins-Muzzle': 1984, 'The Smashing Pumpkins-Perfect': 1985, 'The Smashing Pumpkins-Quiet': 1986, 'The Smashing Pumpkins-To Sheila': 1987, 'The Smashing Pumpkins-Today': 1988, 'The Smashing Pumpkins-Tonight, Tonight': 1989, 'The Smashing Pumpkins-Zero': 1990, 'The Smiths-Ask': 1991, 'The Smiths-Back To The Old House': 1992, 'The Smiths-Bigmouth Strikes Again': 1993, 'The Smiths-Cemetry Gates': 1994, 'The Smiths-Frankly, Mr. Shankly': 1995, 'The Smiths-Girlfriend In A Coma': 1996, 'The Smiths-Hand In Glove': 1997, \"The Smiths-Heaven Knows I'M Miserable Now\": 1998, 'The Smiths-How Soon Is Now?': 1999, \"The Smiths-I Know It'S Over\": 2000, 'The Smiths-Last Night I Dreamt That Somebody Loved Me': 2001, 'The Smiths-Panic': 2002, 'The Smiths-Please Please Please Let Me Get What I Want': 2003, \"The Smiths-Shakespeare'S Sister\": 2004, 'The Smiths-Shoplifters Of The World Unite': 2005, 'The Smiths-Some Girls Are Bigger Than Others': 2006, 'The Smiths-Still Ill': 2007, \"The Smiths-Stop Me If You Think You'Ve Heard This One Before\": 2008, \"The Smiths-That Joke Isn'T Funny Anymore\": 2009, 'The Smiths-The Boy With The Thorn In His Side': 2010, 'The Smiths-The Headmaster Ritual': 2011, 'The Smiths-The Queen Is Dead': 2012, 'The Smiths-There Is A Light That Never Goes Out': 2013, 'The Smiths-This Charming Man': 2014, 'The Smiths-This Night Has Opened My Eyes': 2015, 'The Smiths-What Difference Does It Make?': 2016, 'The Smiths-William, It Was Really Nothing': 2017, \"The Stone Roses-Don'T Stop\": 2018, 'The Stone Roses-I Am The Resurrection': 2019, 'The Stone Roses-I Wanna Be Adored': 2020, 'The Stone Roses-She Bangs The Drums': 2021, 'The Stone Roses-This Is The One': 2022, 'The Stooges-I Wanna Be Your Dog': 2023, 'The Stooges-Search And Destroy': 2024, 'The Stranglers-Golden Brown': 2025, 'The Streets-Dry Your Eyes': 2026, 'The Streets-Fit But You Know It': 2027, 'The Strokes-12:51': 2028, 'The Strokes-15 Minutes': 2029, 'The Strokes-Ask Me Anything': 2030, 'The Strokes-Automatic Stop': 2031, 'The Strokes-Barely Legal': 2032, 'The Strokes-Between Love & Hate': 2033, 'The Strokes-Evening Sun': 2034, 'The Strokes-Fear Of Sleep': 2035, 'The Strokes-Hard To Explain': 2036, 'The Strokes-Heart In A Cage': 2037, \"The Strokes-I Can'T Win\": 2038, 'The Strokes-Is This It': 2039, 'The Strokes-Ize Of The World': 2040, 'The Strokes-Juicebox': 2041, 'The Strokes-Last Nite': 2042, 'The Strokes-Meet Me In The Bathroom': 2043, 'The Strokes-New York City Cops': 2044, 'The Strokes-On The Other Side': 2045, 'The Strokes-Red Light': 2046, 'The Strokes-Reptilia': 2047, 'The Strokes-Soma': 2048, 'The Strokes-Someday': 2049, 'The Strokes-Take It Or Leave It': 2050, 'The Strokes-The End Has No End': 2051, 'The Strokes-The Modern Age': 2052, 'The Strokes-The Way It Is': 2053, 'The Strokes-Trying Your Luck': 2054, 'The Strokes-Under Control': 2055, 'The Strokes-Vision Of Division': 2056, 'The Strokes-What Ever Happened?': 2057, 'The Strokes-When It Started': 2058, 'The Strokes-You Only Live Once': 2059, 'The Ting Tings-Great Dj': 2060, 'The Ting Tings-Shut Up And Let Me Go': 2061, \"The Ting Tings-That'S Not My Name\": 2062, \"The Velvet Underground-All Tomorrow'S Parties\": 2063, 'The Velvet Underground-Femme Fatale': 2064, 'The Velvet Underground-Heroin': 2065, \"The Velvet Underground-I'Ll Be Your Mirror\": 2066, \"The Velvet Underground-I'M Sticking With You\": 2067, \"The Velvet Underground-I'M Waiting For The Man\": 2068, \"The Velvet Underground-Oh! Sweet Nuthin'\": 2069, 'The Velvet Underground-Sunday Morning': 2070, 'The Velvet Underground-Sweet Jane': 2071, \"The Velvet Underground-The Black Angel'S Death Song\": 2072, 'The Velvet Underground-Venus In Furs': 2073, 'The Velvet Underground-Who Loves The Sun': 2074, 'The Verve-Bitter Sweet Symphony': 2075, 'The Verve-Bittersweet Symphony': 2076, 'The Verve-Lucky Man': 2077, 'The Verve-Sonnet': 2078, \"The Verve-The Drugs Don'T Work\": 2079, 'The Walkmen-The Rat': 2080, 'The White Stripes-Aluminum': 2081, 'The White Stripes-Ball And Biscuit': 2082, 'The White Stripes-Black Math': 2083, 'The White Stripes-Blue Orchid': 2084, 'The White Stripes-Bone Broke': 2085, 'The White Stripes-Dead Leaves And The Dirty Ground': 2086, 'The White Stripes-Fell In Love With A Girl': 2087, 'The White Stripes-Forever For Her (Is Over For Me)': 2088, 'The White Stripes-Girl, You Have No Faith In Medicine': 2089, 'The White Stripes-Hotel Yorba': 2090, \"The White Stripes-I Just Don'T Know What To Do With Myself\": 2091, 'The White Stripes-I Think I Smell A Rat': 2092, 'The White Stripes-Icky Thump': 2093, 'The White Stripes-In The Cold, Cold Night': 2094, 'The White Stripes-Instinct Blues': 2095, 'The White Stripes-Little Acorns': 2096, 'The White Stripes-Little Cream Soda': 2097, 'The White Stripes-Little Ghost': 2098, 'The White Stripes-Little Room': 2099, 'The White Stripes-My Doorbell': 2100, 'The White Stripes-Offend In Every Way': 2101, 'The White Stripes-Rag And Bone': 2102, 'The White Stripes-Red Rain': 2103, 'The White Stripes-Seven Nation Army': 2104, 'The White Stripes-St. Andrew (This Battle Is In The Air)': 2105, 'The White Stripes-The Air Near My Fingers': 2106, 'The White Stripes-The Denial Twist': 2107, 'The White Stripes-The Hardest Button To Button': 2108, 'The White Stripes-The Nurse': 2109, 'The White Stripes-The Union Forever': 2110, \"The White Stripes-There'S No Home For You Here\": 2111, 'The White Stripes-This Protector': 2112, \"The White Stripes-We'Re Going To Be Friends\": 2113, 'The White Stripes-White Moon': 2114, \"The White Stripes-You'Ve Got Her In Your Pocket\": 2115, 'The Whitest Boy Alive-Burning': 2116, \"The Who-Baba O'Riley\": 2117, 'The Who-Behind Blue Eyes': 2118, 'The Who-I Can See For Miles': 2119, \"The Who-I Can'T Explain\": 2120, 'The Who-My Generation': 2121, 'The Who-Substitute': 2122, 'The Who-Who Are You': 2123, 'Thievery Corporation-Lebanese Blonde': 2124, 'Thom Yorke-Analyse': 2125, 'Thom Yorke-Atoms For Peace': 2126, 'Thom Yorke-Black Swan': 2127, 'Thom Yorke-Cymbal Rush': 2128, 'Thom Yorke-Harrowdown Hill': 2129, 'Thom Yorke-Skip Divided': 2130, 'Thom Yorke-The Clock': 2131, 'Thom Yorke-The Eraser': 2132, 'Tool-10,000 Days (Wings, Part 2)': 2133, 'Tool-Eon Blue Apocalypse': 2134, 'Tool-Eulogy': 2135, 'Tool-Jambi': 2136, 'Tool-Parabola': 2137, 'Tool-Schism': 2138, 'Tool-Wings For Marie, Part 1': 2139, 'Tori Amos-Cornflake Girl': 2140, 'Tori Amos-Crucify': 2141, 'Tori Amos-Silent All These Years': 2142, 'Travis-Side': 2143, 'Travis-Sing': 2144, 'Travis-Writing To Reach You': 2145, 'Tv On The Radio-Golden Age': 2146, 'Tv On The Radio-Let The Devil In': 2147, 'Tv On The Radio-Province': 2148, 'Tv On The Radio-Staring At The Sun': 2149, 'U2-Beautiful Day': 2150, \"U2-I Still Haven'T Found What I'M Looking For\": 2151, \"U2-New Year'S Day\": 2152, 'U2-One': 2153, 'U2-Pride (In The Name Of Love)': 2154, \"U2-Sometimes You Can'T Make It On Your Own\": 2155, \"U2-Stuck In A Moment You Can'T Get Out Of\": 2156, 'U2-Sunday Bloody Sunday': 2157, 'U2-Sweetest Thing': 2158, 'U2-Vertigo': 2159, 'U2-With Or Without You': 2160, 'Vampire Weekend-A-Punk': 2161, 'Vampire Weekend-Bryn': 2162, 'Vampire Weekend-Campus': 2163, 'Vampire Weekend-M79': 2164, 'Vampire Weekend-Mansard Roof': 2165, 'Vampire Weekend-Oxford Comma': 2166, 'Van Halen-Jump': 2167, 'Violent Femmes-Blister In The Sun': 2168, \"We Are Scientists-Can'T Lose\": 2169, \"We Are Scientists-It'S A Hit\": 2170, 'We Are Scientists-Lousy Reputation': 2171, 'We Are Scientists-Nobody Move, Nobody Get Hurt': 2172, 'We Are Scientists-This Scene Is Dead': 2173, 'Weezer-Beverly Hills': 2174, 'Weezer-Buddy Holly': 2175, 'Weezer-Hash Pipe': 2176, 'Weezer-In The Garage': 2177, 'Weezer-Island In The Sun': 2178, \"Weezer-Say It Ain'T So\": 2179, 'Weezer-The Good Life': 2180, 'Weezer-The World Has Turned And Left Me Here': 2181, \"Wilco-At Least That'S What You Said\": 2182, 'Wilco-Heavy Metal Drummer': 2183, 'Wilco-I Am Trying To Break Your Heart': 2184, \"Wilco-I'M The Man Who Loves You\": 2185, 'Wilco-Kamera': 2186, 'Wilco-Muzzle Of Bees': 2187, 'Wolf Parade-Dear Sons And Daughters Of Hungry Ghosts': 2188, 'Wolf Parade-Fancy Claps': 2189, 'Wolf Parade-Grounds For Divorce': 2190, \"Wolf Parade-It'S A Curse\": 2191, 'Wolf Parade-Modern World': 2192, \"Wolf Parade-This Heart'S On Fire\": 2193, \"Wolf Parade-You Are A Runner And I Am My Father'S Son\": 2194, 'Wolfmother-Woman': 2195, 'Yann Tiersen-Guilty': 2196, 'Yann Tiersen-La Noyée': 2197, 'Yann Tiersen-Sur Le Fil': 2198, 'Yeah Yeah Yeahs-Bang': 2199, 'Yeah Yeah Yeahs-Black Tongue': 2200, 'Yeah Yeah Yeahs-Cheated Hearts': 2201, 'Yeah Yeah Yeahs-Cold Light': 2202, 'Yeah Yeah Yeahs-Date With The Night': 2203, 'Yeah Yeah Yeahs-Dudley': 2204, 'Yeah Yeah Yeahs-Fancy': 2205, 'Yeah Yeah Yeahs-Gold Lion': 2206, 'Yeah Yeah Yeahs-Honeybear': 2207, 'Yeah Yeah Yeahs-Man': 2208, 'Yeah Yeah Yeahs-Maps': 2209, 'Yeah Yeah Yeahs-Modern Romance': 2210, 'Yeah Yeah Yeahs-Mysteries': 2211, 'Yeah Yeah Yeahs-No No No': 2212, 'Yeah Yeah Yeahs-Phenomena': 2213, 'Yeah Yeah Yeahs-Pin': 2214, 'Yeah Yeah Yeahs-Rich': 2215, 'Yeah Yeah Yeahs-The Sweets': 2216, 'Yeah Yeah Yeahs-Tick': 2217, 'Yeah Yeah Yeahs-Turn Into': 2218, 'Yeah Yeah Yeahs-Warrior': 2219, 'Yeah Yeah Yeahs-Way Out': 2220, 'Yeah Yeah Yeahs-Y Control': 2221, 'Zero 7-Destiny': 2222, 'Zero 7-End Theme': 2223, 'Zero 7-Give It Away': 2224, 'Zero 7-In The Waiting Line': 2225, 'Zero 7-Likufanele': 2226, 'Zero 7-Polaris': 2227, 'Zero 7-Red Dust': 2228, 'Zero 7-Somersault': 2229, 'Zero 7-This World': 2230}\n",
      "---------- idx_to_song ----------\n",
      "{0: '3 Doors Down-Here Without You', 1: '30 Seconds To Mars-The Kill', 2: 'A Perfect Circle-3 Libras', 3: 'A Perfect Circle-Imagine', 4: 'A-Ha-Take On Me', 5: 'Abba-Dancing Queen', 6: 'Abba-Waterloo', 7: 'Ac/Dc-Back In Black', 8: 'Ac/Dc-Dirty Deeds Done Dirt Cheap', 9: 'Ac/Dc-Hells Bells', 10: 'Ac/Dc-Highway To Hell', 11: 'Ac/Dc-Thunderstruck', 12: 'Ac/Dc-You Shook Me All Night Long', 13: 'Air-All I Need', 14: 'Air-Alone In Kyoto', 15: 'Air-Alpha Beta Gaga', 16: 'Air-Another Day', 17: 'Air-Bathroom Girl', 18: 'Air-Biological', 19: 'Air-Ce Matin-Là', 20: 'Air-Cemetary Party', 21: 'Air-Cherry Blossom Girl', 22: 'Air-Clouds Up', 23: 'Air-Dark Messages', 24: 'Air-Empty House', 25: 'Air-Highschool Lover', 26: 'Air-Kelly Watch The Stars', 27: \"Air-La Femme D'Argent\", 28: 'Air-Le Voyage De Pénélope', 29: 'Air-Left Bank', 30: 'Air-Mike Mills', 31: 'Air-Napalm Love', 32: 'Air-New Star In The Sky', 33: 'Air-New Star In The Sky (Chanson Pour Solal)', 34: 'Air-Once Upon A Time', 35: 'Air-Photograph', 36: 'Air-Playground Love', 37: 'Air-Remember', 38: 'Air-Run', 39: 'Air-Sexy Boy', 40: 'Air-Space Maker', 41: 'Air-Surfing On A Rocket', 42: 'Air-Talisman', 43: \"Air-The Word 'Hurricane'\", 44: 'Air-Universal Traveler', 45: 'Air-Venus', 46: 'Air-You Make It Easy', 47: \"Al Green-Let'S Stay Together\", 48: 'Alanis Morissette-Ironic', 49: 'Alanis Morissette-You Oughta Know', 50: 'Alice Cooper-Poison', 51: 'Alice In Chains-Rooster', 52: 'Alice In Chains-Them Bones', 53: 'Amy Winehouse-Back To Black', 54: 'Amy Winehouse-He Can Only Hold Her', 55: 'Amy Winehouse-Just Friends', 56: 'Amy Winehouse-Love Is A Losing Game', 57: 'Amy Winehouse-Rehab', 58: 'Amy Winehouse-Some Unholy War', 59: 'Amy Winehouse-Tears Dry On Their Own', 60: 'Amy Winehouse-Wake Up Alone', 61: \"Amy Winehouse-You Know I'M No Good\", 62: 'Andrew Bird-Measuring Cups', 63: 'Animal Collective-Banshee Beat', 64: 'Animal Collective-Flesh Canoe', 65: 'Animal Collective-Grass', 66: 'Annie-Chewing Gum', 67: 'Antony And The Johnsons-Bird Gerhl', 68: 'Antony And The Johnsons-For Today I Am A Boy', 69: \"Antony And The Johnsons-Hope There'S Someone\", 70: 'Antony And The Johnsons-What Can I Do?', 71: 'Aqualung-Brighter Than Sunshine', 72: 'Arcade Fire-Black Mirror', 73: 'Arcade Fire-Black Wave/Bad Vibrations', 74: 'Arcade Fire-Crown Of Love', 75: 'Arcade Fire-Haiti', 76: 'Arcade Fire-Headlights Look Like Diamonds', 77: 'Arcade Fire-In The Back Seat', 78: 'Arcade Fire-In The Backseat', 79: 'Arcade Fire-Intervention', 80: 'Arcade Fire-Keep The Car Running', 81: 'Arcade Fire-My Body Is A Cage', 82: 'Arcade Fire-Neighborhood #1 (Tunnels)', 83: 'Arcade Fire-Neighborhood #2 (Laika)', 84: 'Arcade Fire-Neighborhood #3 (Power Out)', 85: 'Arcade Fire-Neighborhood #4 (7 Kettles)', 86: 'Arcade Fire-Neon Bible', 87: 'Arcade Fire-No Cars Go', 88: 'Arcade Fire-Ocean Of Noise', 89: 'Arcade Fire-Rebellion (Lies)', 90: 'Arcade Fire-The Well And The Lighthouse', 91: 'Arcade Fire-Une Année Sans Lumière', 92: 'Arcade Fire-Wake Up', 93: 'Arcade Fire-Windowsill', 94: 'Architecture In Helsinki-Do The Whirlwind', 95: 'Architecture In Helsinki-Imaginary Ordinary', 96: \"Architecture In Helsinki-It'5!\", 97: 'Architecture In Helsinki-Like A Call', 98: 'Architecture In Helsinki-Maybe You Can Owe Me', 99: 'Architecture In Helsinki-One Heavy February', 100: 'Architecture In Helsinki-Scissor Paper Rock', 101: 'Architecture In Helsinki-The Owls Go', 102: 'Architecture In Helsinki-To And Fro', 103: 'Arctic Monkeys-A Certain Romance', 104: 'Arctic Monkeys-Balaclava', 105: 'Arctic Monkeys-Brianstorm', 106: 'Arctic Monkeys-D Is For Dangerous', 107: 'Arctic Monkeys-Dancing Shoes', 108: 'Arctic Monkeys-Fake Tales Of San Francisco', 109: 'Arctic Monkeys-Fluorescent Adolescent', 110: 'Arctic Monkeys-From The Ritz To The Rubble', 111: 'Arctic Monkeys-I Bet You Look Good On The Dancefloor', 112: 'Arctic Monkeys-If You Were There, Beware', 113: 'Arctic Monkeys-Mardy Bum', 114: 'Arctic Monkeys-Perhaps Vampires Is A Bit Strong But...', 115: 'Arctic Monkeys-Red Light Indicates Doors Are Secured', 116: 'Arctic Monkeys-Riot Van', 117: 'Arctic Monkeys-Still Take You Home', 118: 'Arctic Monkeys-Teddy Picker', 119: 'Arctic Monkeys-The Bad Thing', 120: 'Arctic Monkeys-The View From The Afternoon', 121: 'Arctic Monkeys-When The Sun Goes Down', 122: \"Arctic Monkeys-You Probably Couldn'T See For The Lights But You Were Staring Straight At Me\", 123: 'Aretha Franklin-Respect', 124: 'Art Brut-Formed A Band', 125: 'Art Brut-Good Weekend', 126: 'Art Brut-Modern Art', 127: 'Art Brut-My Little Brother', 128: 'At The Drive-In-One Armed Scissor', 129: 'Audioslave-Be Yourself', 130: 'Audioslave-Cochise', 131: 'Audioslave-Hypnotize', 132: 'Audioslave-Like A Stone', 133: 'Audioslave-Show Me How To Live', 134: 'Babyshambles-Fuck Forever', 135: 'Band Of Horses-The Funeral', 136: \"Basement Jaxx-Where'S Your Head At\", 137: 'Bat For Lashes-Sad Eyes', 138: 'Battles-Atlas', 139: 'Be Your Own Pet-Adventure', 140: 'Beastie Boys-Intergalactic', 141: 'Beastie Boys-Sabotage', 142: 'Beck-Black Tambourine', 143: 'Beck-Derelict', 144: 'Beck-E-Pro', 145: 'Beck-Girl', 146: 'Beck-Go It Alone', 147: 'Beck-Loser', 148: 'Beck-Scarecrow', 149: 'Beck-Sexx Laws', 150: \"Beck-Where It'S At\", 151: 'Beirut-A Sunday Smile', 152: 'Beirut-After The Curtain', 153: 'Beirut-Brandenburg', 154: 'Beirut-Mount Wroclai (Idle Days)', 155: 'Beirut-Postcards From Italy', 156: 'Beirut-Rhineland (Heartland)', 157: 'Belle And Sebastian-A Space Boy Dream', 158: 'Belle And Sebastian-Dear Catastrophe Waitress', 159: 'Belle And Sebastian-Electronic Renaissance', 160: 'Belle And Sebastian-Expectations', 161: 'Belle And Sebastian-Funny Little Frog', 162: \"Belle And Sebastian-Get Me Away From Here, I'M Dying\", 163: \"Belle And Sebastian-I'M A Cuckoo\", 164: 'Belle And Sebastian-If She Wants Me', 165: 'Belle And Sebastian-It Could Have Been A Brilliant Career', 166: 'Belle And Sebastian-Judy And The Dream Of Horses', 167: 'Belle And Sebastian-Like Dylan In The Movies', 168: 'Belle And Sebastian-Me And The Major', 169: 'Belle And Sebastian-Piazza, New York Catcher', 170: 'Belle And Sebastian-Seeing Other People', 171: 'Belle And Sebastian-Seymour Stein', 172: 'Belle And Sebastian-Sleep The Clock Around', 173: 'Belle And Sebastian-Stay Loose', 174: 'Belle And Sebastian-Step Into My Office, Baby', 175: 'Belle And Sebastian-The Boy Done Wrong Again', 176: 'Belle And Sebastian-The Boy With The Arab Strap', 177: 'Belle And Sebastian-The Fox In The Snow', 178: 'Belle And Sebastian-We Are The Sleepyheads', 179: 'Belle And Sebastian-White Collar Boy', 180: 'Belle And Sebastian-Wrapped Up In Books', 181: \"Belle And Sebastian-You'Re Just A Baby\", 182: 'Benny Benassi-Satisfaction', 183: 'Björk-All Is Full Of Love', 184: 'Björk-All Neon Like', 185: 'Björk-Army Of Me', 186: 'Björk-Bachelorette', 187: 'Björk-Big Time Sensuality', 188: 'Björk-Come To Me', 189: 'Björk-Declare Independence', 190: 'Björk-Hidden Place', 191: 'Björk-Human Behaviour', 192: 'Björk-Hunter', 193: 'Björk-Hyper-Ballad', 194: 'Björk-Isobel', 195: \"Björk-It'S Oh So Quiet\", 196: 'Björk-Jóga', 197: 'Björk-Like Someone In Love', 198: 'Björk-Pagan Poetry', 199: 'Björk-Play Dead', 200: 'Björk-Possibly Maybe', 201: 'Björk-Unison', 202: 'Björk-Unravel', 203: 'Björk-Venus As A Boy', 204: 'Björk-Violently Happy', 205: \"Black Kids-I'M Not Gonna Teach Your Boyfriend How To Dance With You\", 206: \"Black Rebel Motorcycle Club-Ain'T No Easy Way\", 207: 'Black Rebel Motorcycle Club-Love Burns', 208: 'Black Rebel Motorcycle Club-Still Suspicion Holds You Tight', 209: 'Black Sabbath-Iron Man', 210: 'Black Sabbath-Paranoid', 211: 'Black Sabbath-Planet Caravan', 212: \"Blink-182-Adam'S Song\", 213: 'Blink-182-All The Small Things', 214: 'Bloc Party-Banquet', 215: 'Bloc Party-Blue Light', 216: 'Bloc Party-Compliments', 217: 'Bloc Party-Helicopter', 218: 'Bloc Party-Hunting For Witches', 219: 'Bloc Party-I Still Remember', 220: 'Bloc Party-Kreuzberg', 221: 'Bloc Party-Like Eating Glass', 222: 'Bloc Party-Little Thoughts', 223: 'Bloc Party-Luno', 224: 'Bloc Party-Mercury', 225: 'Bloc Party-Pioneers', 226: 'Bloc Party-Plans', 227: 'Bloc Party-Positive Tension', 228: 'Bloc Party-Price Of Gas', 229: \"Bloc Party-She'S Hearing Voices\", 230: 'Bloc Party-So Here We Are', 231: 'Bloc Party-Song For Clay (Disappear Here)', 232: 'Bloc Party-Sunday', 233: 'Bloc Party-The Prayer', 234: 'Bloc Party-This Modern Love', 235: 'Bloc Party-Uniform', 236: 'Bloc Party-Waiting For The 7.18', 237: 'Bloc Party-Where Is Home?', 238: 'Blonde Redhead-Melody', 239: 'Blondie-Atomic', 240: 'Blondie-Call Me', 241: 'Blondie-Denis', 242: 'Blondie-Heart Of Glass', 243: 'Blondie-One Way Or Another', 244: 'Blondie-Picture This', 245: 'Blondie-Sunday Girl', 246: 'Blur-Beetlebum', 247: 'Blur-Coffee & Tv', 248: 'Blur-Country House', 249: 'Blur-For Tomorrow', 250: 'Blur-Girls & Boys', 251: 'Blur-Parklife', 252: 'Blur-Sing', 253: 'Blur-Song 2', 254: 'Blur-Tender', 255: 'Blur-The Universal', 256: \"Blur-There'S No Other Way\", 257: 'Blur-This Is A Low', 258: 'Blur-To The End', 259: 'Boards Of Canada-1969', 260: 'Boards Of Canada-Bocuma', 261: 'Boards Of Canada-Dayvan Cowboy', 262: 'Boards Of Canada-Into The Rainbow Vein', 263: 'Boards Of Canada-Kaini Industries', 264: 'Boards Of Canada-Roygbiv', 265: 'Boards Of Canada-Smokes Quantity', 266: 'Boards Of Canada-The Color Of The Fire', 267: 'Boards Of Canada-Turquoise Hexagon Sun', 268: 'Boards Of Canada-Wildlife Analysis', 269: 'Bob Dylan-I Want You', 270: 'Bob Dylan-Just Like A Woman', 271: 'Bob Dylan-Like A Rolling Stone', 272: 'Bob Dylan-Mr. Tambourine Man', 273: 'Bob Dylan-Rainy Day Women #12 & 35', 274: 'Bob Dylan-Subterranean Homesick Blues', 275: 'Bob Dylan-Tangled Up In Blue', 276: \"Bob Dylan-The Times They Are A-Changin'\", 277: 'Bob Marley & The Wailers-Buffalo Soldier', 278: 'Bon Iver-Flume', 279: 'Boy Division-Love Will Tear Us Apart', 280: 'Bright Eyes-At The Bottom Of Everything', 281: 'Bright Eyes-First Day Of My Life', 282: \"Bright Eyes-Lover I Don'T Have To Love\", 283: 'Bright Eyes-Lua', 284: 'Bright Eyes-Old Soul Song (For The New World Order)', 285: 'Bright Eyes-Road To Joy', 286: 'Bright Eyes-Ship In A Bottle', 287: \"Bright Eyes-We Are Nowhere And It'S Now\", 288: 'Britney Spears-Toxic', 289: 'Broken Social Scene-7/4 (Shoreline)', 290: 'Broken Social Scene-Anthems For A Seventeen Year-Old Girl', 291: 'Broken Social Scene-Capture The Flag', 292: 'Broken Social Scene-Cause = Time', 293: 'Broken Social Scene-Finish Your Collapse And Stay For Breakfast', 294: \"Broken Social Scene-Fire Eye'D Boy\", 295: \"Broken Social Scene-I'M Still Your Fag\", 296: 'Broken Social Scene-Looks Just Like The Sun', 297: 'Broken Social Scene-Love And Mathematics', 298: \"Broken Social Scene-Lover'S Spit\", 299: 'Broken Social Scene-Major Label Debut', 300: 'Broken Social Scene-Pacific Theme', 301: 'Broken Social Scene-Pitter Patter Goes My Heart', 302: 'Broken Social Scene-Shampoo Suicide', 303: 'Broken Social Scene-Stars And Sons', 304: 'Broken Social Scene-Swimmers', 305: 'Cansei De Ser Sexy-Alala', 306: 'Cansei De Ser Sexy-Alcohol', 307: 'Cansei De Ser Sexy-Art Bitch', 308: \"Cansei De Ser Sexy-Let'S Make Love And Listen To Death From Above\", 309: 'Cansei De Ser Sexy-Meeting Paris Hilton', 310: 'Cansei De Ser Sexy-Music Is My Hot Hot Sex', 311: 'Cat Power-After It All', 312: 'Cat Power-Good Woman', 313: 'Cat Power-Lived In Bars', 314: 'Cat Power-Living Proof', 315: 'Cat Power-The Greatest', 316: 'Cat Power-The Moon', 317: 'Cat Power-Werewolf', 318: 'Chuck Berry-Johnny B. Goode', 319: 'Clap Your Hands Say Yeah-Blue Turning Gray', 320: 'Clap Your Hands Say Yeah-Clap Your Hands!', 321: 'Clap Your Hands Say Yeah-Details Of The War', 322: 'Clap Your Hands Say Yeah-Heavy Metal', 323: 'Clap Your Hands Say Yeah-In This Home On Ice', 324: 'Clap Your Hands Say Yeah-Let The Cool Goddess Rust Away', 325: 'Clap Your Hands Say Yeah-Over And Over Again (Lost And Found)', 326: 'Clap Your Hands Say Yeah-Sunshine And Clouds (And Everything Proud)', 327: 'Clap Your Hands Say Yeah-The Skin Of My Yellow Country Teeth', 328: 'Clap Your Hands Say Yeah-Upon This Tidal Wave Of Young Blood', 329: 'Cocorosie-Beautiful Boyz', 330: 'Cocorosie-Butterscotch', 331: 'Cold War Kids-Hang Me Up To Dry', 332: 'Coldplay-A Message', 333: 'Coldplay-A Rush Of Blood To The Head', 334: 'Coldplay-A Whisper', 335: 'Coldplay-Amsterdam', 336: 'Coldplay-Cemeteries Of London', 337: 'Coldplay-Clocks', 338: 'Coldplay-Daylight', 339: 'Coldplay-Death And All His Friends', 340: \"Coldplay-Don'T Panic\", 341: \"Coldplay-Everything'S Not Lost\", 342: 'Coldplay-Fix You', 343: 'Coldplay-God Put A Smile Upon Your Face', 344: 'Coldplay-Green Eyes', 345: 'Coldplay-High Speed', 346: 'Coldplay-In My Place', 347: 'Coldplay-Life In Technicolor', 348: 'Coldplay-Lost!', 349: 'Coldplay-Low', 350: 'Coldplay-Parachutes', 351: 'Coldplay-Politik', 352: 'Coldplay-Shiver', 353: 'Coldplay-Sparks', 354: 'Coldplay-Speed Of Sound', 355: 'Coldplay-Spies', 356: 'Coldplay-Square One', 357: 'Coldplay-Strawberry Swing', 358: 'Coldplay-Swallowed In The Sea', 359: 'Coldplay-Talk', 360: 'Coldplay-The Hardest Part', 361: 'Coldplay-The Scientist', 362: 'Coldplay-Trouble', 363: 'Coldplay-Twisted Logic', 364: 'Coldplay-Violet Hill', 365: 'Coldplay-Viva La Vida', 366: 'Coldplay-Warning Sign', 367: 'Coldplay-We Never Change', 368: 'Coldplay-What If', 369: 'Coldplay-White Shadows', 370: 'Coldplay-X&Y', 371: 'Coldplay-Yellow', 372: 'Corinne Bailey Rae-Put Your Records On', 373: 'Counting Crows-Mr. Jones', 374: 'Counting Crows-Omaha', 375: 'Cream-Sunshine Of Your Love', 376: 'Creedence Clearwater Revisited-Bad Moon Rising', 377: 'Creedence Clearwater Revisited-Down On The Corner', 378: 'Creedence Clearwater Revisited-Fortunate Son', 379: 'Creedence Clearwater Revisited-Up Around The Bend', 380: 'Crystal Castles-Magic Spells', 381: 'Crystal Castles-Untrust Us', 382: 'Cut Copy-Hearts On Fire', 383: 'Cut Copy-Strangers In The Wind', 384: 'Daft Punk-Aerodynamic', 385: 'Daft Punk-Around The World', 386: 'Daft Punk-Crescendolls', 387: 'Daft Punk-Da Funk', 388: 'Daft Punk-Digital Love', 389: 'Daft Punk-Face To Face', 390: 'Daft Punk-Harder, Better, Faster, Stronger', 391: 'Daft Punk-High Fidelity', 392: 'Daft Punk-High Life', 393: 'Daft Punk-Nightvision', 394: 'Daft Punk-One More Time', 395: 'Daft Punk-Phoenix', 396: 'Daft Punk-Revolution 909', 397: 'Daft Punk-Robot Rock', 398: 'Daft Punk-Short Circuit', 399: 'Daft Punk-Something About Us', 400: 'Daft Punk-Superheroes', 401: 'Daft Punk-Technologic', 402: 'Daft Punk-Too Long', 403: 'Daft Punk-Veridis Quo', 404: 'Daft Punk-Voyager', 405: 'Damien Rice-Cannonball', 406: \"Damien Rice-Cheers Darlin'\", 407: 'Damien Rice-Cold Water', 408: 'Damien Rice-Delicate', 409: 'Damien Rice-Older Chests', 410: \"Damien Rice-The Blower'S Daughter\", 411: 'Damien Rice-Volcano', 412: 'Dashboard Confessional-Screaming Infidelities', 413: 'David Bowie-Ashes To Ashes', 414: 'David Bowie-Changes', 415: 'David Bowie-China Girl', 416: 'David Bowie-Fame', 417: 'David Bowie-Golden Years', 418: 'David Bowie-Heroes', 419: 'David Bowie-Lady Stardust', 420: \"David Bowie-Let'S Dance\", 421: 'David Bowie-Life On Mars?', 422: 'David Bowie-Modern Love', 423: 'David Bowie-Rebel Rebel', 424: 'David Bowie-Space Oddity', 425: 'David Bowie-Starman', 426: 'David Bowie-Suffragette City', 427: 'David Bowie-The Jean Genie', 428: 'David Bowie-The Man Who Sold The World', 429: 'David Bowie-Ziggy Stardust', 430: 'David Gray-Babylon', 431: 'Dead Kennedys-California Über Alles', 432: 'Dead Kennedys-Kill The Poor', 433: 'Death Cab For Cutie-A Lack Of Color', 434: 'Death Cab For Cutie-Bixby Canyon Bridge', 435: 'Death Cab For Cutie-Brothers On A Hotel Bed', 436: 'Death Cab For Cutie-Crooked Teeth', 437: 'Death Cab For Cutie-Death Of An Interior Decorator', 438: 'Death Cab For Cutie-Different Names For The Same Thing', 439: \"Death Cab For Cutie-Expo '86\", 440: 'Death Cab For Cutie-I Will Follow You Into The Dark', 441: 'Death Cab For Cutie-Lightness', 442: 'Death Cab For Cutie-Marching Bands Of Manhattan', 443: 'Death Cab For Cutie-Passenger Seat', 444: 'Death Cab For Cutie-Photobooth', 445: 'Death Cab For Cutie-Someday You Will Be Loved', 446: 'Death Cab For Cutie-Soul Meets Body', 447: 'Death Cab For Cutie-Stable Song', 448: 'Death Cab For Cutie-Steadier Footing', 449: 'Death Cab For Cutie-Summer Skin', 450: 'Death Cab For Cutie-The New Year', 451: 'Death Cab For Cutie-The Sound Of Settling', 452: 'Death Cab For Cutie-Tiny Vessels', 453: 'Death Cab For Cutie-Title And Registration', 454: 'Death Cab For Cutie-Transatlanticism', 455: 'Death Cab For Cutie-We Looked Like Giants', 456: 'Death Cab For Cutie-What Sarah Said', 457: 'Death Cab For Cutie-Your Heart Is An Empty Room', 458: 'Death From Above 1979-Black History Month', 459: 'Death From Above 1979-Blood On Our Hands', 460: 'Death From Above 1979-Cold War', 461: 'Death From Above 1979-Go Home, Get Down', 462: 'Death From Above 1979-Sexy Results', 463: 'Death From Above 1979-Turn It Out', 464: \"Death From Above 1979-You'Re A Woman, I'M A Machine\", 465: 'Deep Purple-Highway Star', 466: 'Deep Purple-Hush', 467: 'Deep Purple-Smoke On The Water', 468: 'Deftones-Knife Prty', 469: \"Depeche Mode-A Pain That I'M Used To\", 470: 'Depeche Mode-Condemnation', 471: 'Depeche Mode-Dream On', 472: 'Depeche Mode-Enjoy The Silence', 473: 'Depeche Mode-I Feel You', 474: \"Depeche Mode-Just Can'T Get Enough\", 475: 'Depeche Mode-Master And Servant', 476: 'Depeche Mode-Never Let Me Down Again', 477: 'Depeche Mode-People Are People', 478: 'Depeche Mode-Personal Jesus', 479: 'Depeche Mode-Policy Of Truth', 480: 'Depeche Mode-Precious', 481: 'Depeche Mode-Strangelove', 482: 'Depeche Mode-Stripped', 483: 'Depeche Mode-Suffer Well', 484: 'Depeche Mode-World In My Eyes', 485: 'Dexys Midnight Runners-Come On Eileen', 486: 'Dido-White Flag', 487: 'Digitalism-Pogo', 488: 'Dire Straits-Brothers In Arms', 489: 'Dire Straits-Money For Nothing', 490: 'Dire Straits-Sultans Of Swing', 491: \"Dirty Pretty Things-Bang Bang You'Re Dead\", 492: 'Dj Shadow-Organ Donor', 493: 'Dj Shadow-The Number Song', 494: 'Doves-There Goes The Fear', 495: 'Dread Zeppelin-Celebration Day', 496: \"Dread Zeppelin-D'Yer Mak'Er\", 497: 'Dread Zeppelin-Going To California', 498: 'Dread Zeppelin-Good Times Bad Times', 499: 'Dread Zeppelin-Heartbreaker', 500: 'Dread Zeppelin-Misty Mountain Hop', 501: 'Dread Zeppelin-No Quarter', 502: 'Dread Zeppelin-Ramble On', 503: 'Dread Zeppelin-Stairway To Heaven', 504: 'Dread Zeppelin-The Rain Song', 505: 'Dread Zeppelin-The Song Remains The Same', 506: 'Dread Zeppelin-What Is And What Should Never Be', 507: 'Dread Zeppelin-When The Levee Breaks', 508: 'Dread Zeppelin-Your Time Is Gonna Come', 509: 'Duffy-Mercy', 510: 'Dusty Springfield-Son Of A Preacher Man', 511: 'Eagles-Hotel California', 512: 'Echo & The Bunnymen-The Killing Moon', 513: 'Editors-All Sparks', 514: 'Editors-An End Has A Start', 515: 'Editors-Blood', 516: 'Editors-Bullets', 517: 'Editors-Distance', 518: 'Editors-Fall', 519: 'Editors-Fingers In The Factories', 520: 'Editors-Lights', 521: 'Editors-Munich', 522: 'Editors-Someone Says', 523: 'Elliott Smith-A Passing Feeling', 524: 'Elliott Smith-Between The Bars', 525: 'Elliott Smith-Bled White', 526: 'Elliott Smith-Everything Reminds Me Of Her', 527: \"Elliott Smith-I Didn'T Understand\", 528: 'Elliott Smith-Memory Lane', 529: 'Elliott Smith-Needle In The Hay', 530: 'Elliott Smith-Ostrich & Chirping', 531: 'Elliott Smith-Pretty (Ugly Before)', 532: 'Elliott Smith-Punch And Judy', 533: 'Elliott Smith-Say Yes', 534: 'Elliott Smith-Somebody That I Used To Know', 535: 'Elliott Smith-Speed Trials', 536: 'Elliott Smith-Tomorrow Tomorrow', 537: 'Elliott Smith-Waltz #2 (Xo)', 538: 'Elvis Presley-Jailhouse Rock', 539: 'Evanescence-Bring Me To Life', 540: \"Evanescence-Call Me When You'Re Sober\", 541: 'Evanescence-Going Under', 542: 'Evanescence-My Immortal', 543: 'Explosions In The Sky-First Breath After Coma', 544: 'Explosions In The Sky-Greet Death', 545: 'Explosions In The Sky-Memorial', 546: 'Explosions In The Sky-Six Days At The Bottom Of The Ocean', 547: 'Explosions In The Sky-The Only Moment We Were Alone', 548: 'Faith No More-Easy', 549: 'Faithless-God Is A Dj', 550: 'Faithless-Insomnia', 551: 'Fall Out Boy-Dance, Dance', 552: \"Fall Out Boy-This Ain'T A Scene, It'S An Arms Race\", 553: 'Fatboy Slim-Praise You', 554: 'Fatboy Slim-Weapon Of Choice', 555: 'Feist-1234', 556: 'Feist-Brandy Alexander', 557: 'Feist-Gatekeeper', 558: 'Feist-How My Heart Behaves', 559: 'Feist-I Feel It All', 560: 'Feist-Intuition', 561: 'Feist-Leisure Suite', 562: 'Feist-Let It Die', 563: 'Feist-Mushaboom', 564: 'Feist-My Moon My Man', 565: 'Feist-Now At Last', 566: 'Feist-One Evening', 567: 'Feist-Past In Present', 568: 'Feist-Secret Heart', 569: 'Feist-So Sorry', 570: 'Feist-The Limit To Your Love', 571: 'Feist-The Park', 572: 'Feist-The Water', 573: 'Feist-When I Was A Young Girl', 574: 'Fiona Apple-Criminal', 575: 'Fiona Apple-Sleep To Dream', 576: 'Fischerspooner-Emerge', 577: 'Fleet Foxes-Blue Ridge Mountains', 578: \"Fleet Foxes-He Doesn'T Know Why\", 579: 'Fleet Foxes-Ragged Wood', 580: 'Fleet Foxes-Sun It Rises', 581: 'Fleet Foxes-Tiger Mountain Peasant Song', 582: 'Fleet Foxes-White Winter Hymnal', 583: 'Foo Fighters-All My Life', 584: 'Foo Fighters-Best Of You', 585: 'Foo Fighters-Breakout', 586: 'Foo Fighters-Doa', 587: 'Foo Fighters-Everlong', 588: 'Foo Fighters-Learn To Fly', 589: 'Foo Fighters-Monkey Wrench', 590: 'Foo Fighters-My Hero', 591: 'Foo Fighters-Razor', 592: 'Foo Fighters-Stacked Actors', 593: 'Foo Fighters-The Pretender', 594: 'Foo Fighters-Times Like These', 595: 'Franz Ferdinand-Auf Achse', 596: 'Franz Ferdinand-Cheating On You', 597: 'Franz Ferdinand-Come On Home', 598: 'Franz Ferdinand-Darts Of Pleasure', 599: 'Franz Ferdinand-Do You Want To', 600: 'Franz Ferdinand-Eleanor Put Your Boots On', 601: 'Franz Ferdinand-Evil And A Heathen', 602: 'Franz Ferdinand-Fade Together', 603: \"Franz Ferdinand-I'M Your Villain\", 604: 'Franz Ferdinand-Jacqueline', 605: 'Franz Ferdinand-Michael', 606: 'Franz Ferdinand-Outsiders', 607: 'Franz Ferdinand-Take Me Out', 608: 'Franz Ferdinand-Tell Her Tonight', 609: 'Franz Ferdinand-The Dark Of The Matinée', 610: 'Franz Ferdinand-The Fallen', 611: 'Franz Ferdinand-This Boy', 612: 'Franz Ferdinand-This Fire', 613: 'Franz Ferdinand-Walk Away', 614: 'Franz Ferdinand-Well That Was Easy', 615: 'Franz Ferdinand-What You Meant', 616: 'Franz Ferdinand-You Could Have It So Much Better', 617: \"Franz Ferdinand-You'Re The Reason I'M Leaving\", 618: 'Frou Frou-Breathe In', 619: \"Frou Frou-It'S Good To Be In Love\", 620: 'Frou Frou-Let Go', 621: 'Frou Frou-Maddening Shroud', 622: 'Frou Frou-The Dumbing Down Of Love', 623: 'Garbage-Only Happy When It Rains', 624: 'Garbage-Push It', 625: 'Garbage-Stupid Girl', 626: 'Gary Jules-Mad World', 627: 'Gnarls Barkley-Crazy', 628: 'Gnarls Barkley-Gone Daddy Gone', 629: 'Gnarls Barkley-Smiley Faces', 630: 'Goldfrapp-Black Cherry', 631: 'Goldfrapp-Crystalline Green', 632: 'Goldfrapp-Deer Stop', 633: 'Goldfrapp-Fly Me Away', 634: 'Goldfrapp-Forever', 635: 'Goldfrapp-Koko', 636: 'Goldfrapp-Let It Take You', 637: 'Goldfrapp-Lovely Head', 638: 'Goldfrapp-Number 1', 639: 'Goldfrapp-Ooh La La', 640: 'Goldfrapp-Pilots', 641: 'Goldfrapp-Ride A White Horse', 642: 'Goldfrapp-Slide In', 643: 'Goldfrapp-Slippage', 644: 'Goldfrapp-Strict Machine', 645: 'Goldfrapp-Tiptoe', 646: 'Goldfrapp-Train', 647: 'Goldfrapp-Twist', 648: 'Gorillaz-19-2000', 649: 'Gorillaz-All Alone', 650: 'Gorillaz-Clint Eastwood', 651: 'Gorillaz-Dare', 652: 'Gorillaz-Demon Days', 653: 'Gorillaz-Dirty Harry', 654: \"Gorillaz-Don'T Get Lost In Heaven\", 655: 'Gorillaz-Double Bass', 656: 'Gorillaz-El Manana', 657: 'Gorillaz-Every Planet We Reach Is Dead', 658: 'Gorillaz-Feel Good Inc.', 659: \"Gorillaz-Fire Coming Out Of The Monkey'S Head\", 660: 'Gorillaz-Intro', 661: 'Gorillaz-Kids With Guns', 662: 'Gorillaz-Last Living Souls', 663: 'Gorillaz-November Has Come', 664: 'Gorillaz-O Green World', 665: 'Gorillaz-Re-Hash', 666: 'Gorillaz-Rock The House', 667: 'Gorillaz-Tomorrow Comes Today', 668: 'Gorillaz-White Light', 669: 'Green Day-American Idiot', 670: 'Green Day-Are We The Waiting', 671: 'Green Day-Basket Case', 672: 'Green Day-Boulevard Of Broken Dreams', 673: 'Green Day-Give Me Novacaine', 674: 'Green Day-Holiday', 675: 'Green Day-When I Come Around', 676: \"Guns N' Roses-Civil War\", 677: \"Guns N' Roses-Don'T Cry\", 678: \"Guns N' Roses-Live And Let Die\", 679: \"Guns N' Roses-November Rain\", 680: \"Guns N' Roses-Out Ta Get Me\", 681: \"Guns N' Roses-Paradise City\", 682: \"Guns N' Roses-Sweet Child O' Mine\", 683: \"Guns N' Roses-Welcome To The Jungle\", 684: \"Guns N' Roses-You Could Be Mine\", 685: 'Gwen Stefani-Hollaback Girl', 686: 'Hard-Fi-Tied Up Too Tight', 687: 'Hoobastank-The Reason', 688: 'Hot Chip-(Just Like We) Breakdown', 689: 'Hot Chip-Over And Over', 690: 'Hot Chip-Ready For The Floor', 691: 'Hot Chip-Shake A Fist', 692: 'Hot Hot Heat-Bandages', 693: 'Hot Hot Heat-Goodnight Goodnight', 694: 'Iggy Pop-The Passenger', 695: 'Imogen Heap-Daylight Robbery', 696: 'Imogen Heap-Goodnight And Go', 697: 'Imogen Heap-Headlock', 698: 'Imogen Heap-Hide And Seek', 699: 'Imogen Heap-I Am In Love With You', 700: 'Incubus-Drive', 701: 'Interpol-A Time To Be So Small', 702: 'Interpol-All Fired Up', 703: \"Interpol-C'Mere\", 704: 'Interpol-Evil', 705: 'Interpol-Hands Away', 706: 'Interpol-Leif Erikson', 707: 'Interpol-Length Of Love', 708: 'Interpol-Mammoth', 709: 'Interpol-Narc', 710: 'Interpol-Next Exit', 711: 'Interpol-No I In Threesome', 712: 'Interpol-Not Even Jail', 713: 'Interpol-Nyc', 714: 'Interpol-Obstacle 1', 715: 'Interpol-Obstacle 2', 716: 'Interpol-Pace Is The Trick', 717: 'Interpol-Pda', 718: 'Interpol-Pioneer To The Falls', 719: 'Interpol-Public Pervert', 720: 'Interpol-Rest My Chemistry', 721: 'Interpol-Roland', 722: 'Interpol-Say Hello To The Angels', 723: 'Interpol-Slow Hands', 724: 'Interpol-Stella Was A Diver And She Was Always Down', 725: 'Interpol-Take You On A Cruise', 726: 'Interpol-The Heinrich Maneuver', 727: 'Interpol-The New', 728: 'Interpol-Untitled', 729: 'Interpol-Who Do You Think', 730: 'Interpol-Wrecking Ball', 731: 'Iron & Wine-An Angry Blade', 732: 'Iron & Wine-Each Coming Night', 733: 'Iron & Wine-Free Until They Cut Me Down', 734: 'Iron & Wine-Naked As We Came', 735: 'Iron & Wine-Radio War', 736: 'Iron & Wine-Such Great Heights', 737: 'Jack Johnson-Banana Pancakes', 738: 'Jack Johnson-Better Together', 739: 'Jack Johnson-Good People', 740: 'Jack Johnson-No Other Way', 741: 'Jack Johnson-Sitting, Waiting, Wishing', 742: 'Jack Johnson-Times Like These', 743: 'James Blunt-Goodbye My Lover', 744: \"James Blunt-You'Re Beautiful\", 745: 'Jamiroquai-Virtual Insanity', 746: 'Jeff Buckley-Corpus Christi Carol', 747: 'Jeff Buckley-Grace', 748: 'Jeff Buckley-Hallelujah', 749: 'Jeff Buckley-Last Goodbye', 750: 'Jeff Buckley-Lilac Wine', 751: 'Jeff Buckley-So Real', 752: 'Jefferson Airplane-Somebody To Love', 753: 'Jefferson Airplane-White Rabbit', 754: 'Jem-They', 755: 'Jet-Are You Gonna Be My Girl', 756: 'Jimi Hendrix-All Along The Watchtower', 757: 'Jimi Hendrix-Fire', 758: 'Jimi Hendrix-Foxy Lady', 759: 'Jimi Hendrix-Hey Joe', 760: 'Jimi Hendrix-Purple Haze', 761: 'Jimi Hendrix-Red House', 762: 'Jimi Hendrix-The Wind Cries Mary', 763: 'Jimmy Eat World-The Middle', 764: 'John Lennon-Imagine', 765: 'Johnny Cash-Folsom Prison Blues', 766: 'Johnny Cash-Give My Love To Rose', 767: 'Johnny Cash-Hurt', 768: 'Johnny Cash-I Walk The Line', 769: 'Johnny Cash-Orange Blossom Special', 770: 'Johnny Cash-Personal Jesus', 771: 'Johnny Cash-Ring Of Fire', 772: 'José González-Crosses', 773: 'José González-Deadweight On Velveteen', 774: 'José González-Heartbeats', 775: 'Joy Division-A Means To An End', 776: 'Joy Division-Atmosphere', 777: 'Joy Division-Atrocity Exhibition', 778: 'Joy Division-Candidate', 779: 'Joy Division-Ceremony', 780: 'Joy Division-Colony', 781: 'Joy Division-Day Of The Lords', 782: 'Joy Division-Dead Souls', 783: 'Joy Division-Decades', 784: 'Joy Division-Digital', 785: 'Joy Division-Disorder', 786: 'Joy Division-Heart And Soul', 787: 'Joy Division-Incubation', 788: 'Joy Division-Insight', 789: 'Joy Division-Interzone', 790: 'Joy Division-Isolation', 791: 'Joy Division-Leaders Of Men', 792: 'Joy Division-New Dawn Fades', 793: 'Joy Division-No Love Lost', 794: 'Joy Division-Shadowplay', 795: \"Joy Division-She'S Lost Control\", 796: 'Joy Division-Something Must Break', 797: 'Joy Division-The Eternal', 798: 'Joy Division-Transmission', 799: 'Joy Division-Warsaw', 800: 'Joy Division-Wilderness', 801: 'Junior Senior-Move Your Feet', 802: 'Justice-D.A.N.C.E.', 803: 'Justice-Dvno', 804: 'Justice-Genesis', 805: 'Justice-Let There Be Light', 806: 'Justice-Phantom, Part Ii', 807: 'Justice-Stress', 808: 'Justice-Valentine', 809: 'Justice-Waters Of Nazareth', 810: 'Justin Timberlake-Cry Me A River', 811: 'Kaiser Chiefs-Born To Be A Dancer', 812: 'Kaiser Chiefs-Everyday I Love You Less And Less', 813: 'Kaiser Chiefs-I Predict A Riot', 814: 'Kaiser Chiefs-Modern Way', 815: 'Kaiser Chiefs-Na Na Na Na Naa', 816: 'Kaiser Chiefs-Oh My God', 817: 'Kaiser Chiefs-Ruby', 818: 'Kaiser Chiefs-Saturday Night', 819: 'Kaiser Chiefs-Team Mate', 820: 'Kaiser Chiefs-The Angry Mob', 821: 'Kaiser Chiefs-What Did I Ever Give You?', 822: 'Kaiser Chiefs-You Can Have It All', 823: 'Kanye West-Jesus Walks', 824: 'Kanye West-Stronger', 825: 'Kasabian-Club Foot', 826: 'Kasabian-Cutt Off', 827: 'Kasabian-Empire', 828: 'Kasabian-Me Plus One', 829: 'Kasabian-Ovary Stripe', 830: 'Kasabian-Processed Beats', 831: 'Kasabian-Reason Is Treason', 832: 'Kasabian-Running Battle', 833: 'Kasabian-Shoot The Runner', 834: 'Kasabian-Test Transmission', 835: 'Katy Perry-I Kissed A Girl', 836: 'Keane-Bedshaped', 837: 'Keane-Bend And Break', 838: \"Keane-Everybody'S Changing\", 839: 'Keane-Somewhere Only We Know', 840: 'Keane-Sunshine', 841: 'Keane-This Is The Last Time', 842: 'Keane-Untitled 1', 843: 'Keane-Your Eyes Open', 844: 'Kimya Dawson-Loose Lips', 845: 'Kings Of Convenience-Homesick', 846: \"Kings Of Convenience-I'D Rather Dance With You\", 847: 'Kings Of Convenience-Know How', 848: 'Kings Of Convenience-Leaning Against The Wall', 849: 'Kings Of Convenience-Live Long', 850: 'Kings Of Convenience-Love Is No Big Truth', 851: 'Kings Of Convenience-Misread', 852: 'Kings Of Convenience-Stay Out Of Trouble', 853: 'Kings Of Convenience-Toxic Girl', 854: 'Kings Of Convenience-Winning A Battle, Losing The War', 855: 'Kings Of Leon-Be Somebody', 856: 'Kings Of Leon-Charmer', 857: 'Kings Of Leon-Closer', 858: 'Kings Of Leon-Four Kicks', 859: 'Kings Of Leon-Happy Alone', 860: 'Kings Of Leon-King Of The Rodeo', 861: \"Kings Of Leon-Molly'S Chambers\", 862: 'Kings Of Leon-Pistol Of Fire', 863: 'Kings Of Leon-Razz', 864: 'Kings Of Leon-Sex On Fire', 865: 'Kings Of Leon-Slow Night, So Long', 866: 'Kings Of Leon-Taper Jean Girl', 867: 'Kings Of Leon-The Bucket', 868: 'Kings Of Leon-Trunk', 869: 'Kings Of Leon-Use Somebody', 870: 'Kings Of Leon-Velvet Snow', 871: 'Klaxons-As Above, So Below', 872: 'Klaxons-Atlantis To Interzone', 873: 'Klaxons-Forgotten Works', 874: 'Klaxons-Golden Skans', 875: \"Klaxons-Gravity'S Rainbow\", 876: 'Klaxons-Isle Of Her', 877: 'Klaxons-Magick', 878: 'Klaxons-Totem On The Timeline', 879: 'Klaxons-Two Receivers', 880: 'Kosheen-Catch', 881: 'Kt Tunstall-Suddenly I See', 882: 'Lady Gaga-Poker Face', 883: 'Ladytron-Cmyk', 884: 'Ladytron-Destroy Everything You Touch', 885: 'Ladytron-Fighting In Built Up Areas', 886: 'Ladytron-Flicking Your Switch', 887: 'Ladytron-High Rise', 888: 'Ladytron-International Dateline', 889: 'Ladytron-Seventeen', 890: 'Ladytron-Sugar', 891: 'Lamb-Gabriel', 892: 'Lamb-One', 893: 'Late Of The Pier-Space And The Woods', 894: 'Lcd Soundsystem-All My Friends', 895: 'Lcd Soundsystem-Daft Punk Is Playing At My House', 896: 'Lcd Soundsystem-Disco Infiltrator', 897: 'Lcd Soundsystem-Get Innocuous!', 898: 'Lcd Soundsystem-North American Scum', 899: 'Lcd Soundsystem-Someone Great', 900: 'Lcd Soundsystem-Tribulations', 901: \"Led Zeppelin-Babe I'M Gonna Leave You\", 902: 'Led Zeppelin-Bron-Yr-Aur Stomp', 903: 'Led Zeppelin-Dazed And Confused', 904: 'Led Zeppelin-Friends', 905: 'Led Zeppelin-Houses Of The Holy', 906: 'Led Zeppelin-In The Evening', 907: 'Led Zeppelin-Over The Hills And Far Away', 908: \"Led Zeppelin-That'S The Way\", 909: 'Led Zeppelin-The Battle Of Evermore', 910: 'Led Zeppelin Jam-Black Dog', 911: 'Led Zeppelin Jam-Immigrant Song', 912: 'Lez Zeppelin-Communication Breakdown', 913: 'Lez Zeppelin-Kashmir', 914: 'Lez Zeppelin-Rock And Roll', 915: \"Lez Zeppelin-Since I'Ve Been Loving You\", 916: 'Lez Zeppelin-Whole Lotta Love', 917: 'Lily Allen-Alfie', 918: \"Lily Allen-Everything'S Just Wonderful\", 919: 'Lily Allen-Friday Night', 920: \"Lily Allen-Knock 'Em Out\", 921: 'Lily Allen-Ldn', 922: 'Lily Allen-Not Big', 923: 'Lily Allen-Smile', 924: 'Lily Allen-The Fear', 925: 'Limp Bizkit-Behind Blue Eyes', 926: 'Linkin Park-Faint', 927: 'Linkin Park-Shadow Of The Day', 928: 'Linkin Park-Somewhere I Belong', 929: 'Lou Reed-Perfect Day', 930: 'Lou Reed-Walk On The Wild Side', 931: 'Ludwig Van Beethoven-Symphony No. 2 - Scherzo', 932: 'Lynyrd Skynyrd-Sweet Home Alabama', 933: 'M.I.A.-Amazon', 934: 'M.I.A.-Bucky Done Gun', 935: 'M.I.A.-Galang', 936: 'M.I.A.-Jimmy', 937: 'M.I.A.-Paper Planes', 938: 'M.I.A.-Pull Up The People', 939: 'M83-Be Wild', 940: 'M83-Teen Angst', 941: 'Madonna-Jump', 942: 'Madonna-Like A Prayer', 943: 'Marilyn Manson-Tainted Love', 944: 'Marilyn Manson-This Is The New Shit', 945: 'Maroon 5-She Will Be Loved', 946: 'Maroon 5-This Love', 947: 'Massive Attack-Angel', 948: 'Massive Attack-Black Milk', 949: 'Massive Attack-Butterfly Caught', 950: 'Massive Attack-Dissolved Girl', 951: 'Massive Attack-Everywhen', 952: 'Massive Attack-Exchange', 953: 'Massive Attack-Five Man Army', 954: 'Massive Attack-Future Proof', 955: 'Massive Attack-Group Four', 956: 'Massive Attack-Inertia Creeps', 957: 'Massive Attack-Karmacoma', 958: 'Massive Attack-Man Next Door', 959: 'Massive Attack-Mezzanine', 960: 'Massive Attack-Protection', 961: 'Massive Attack-Risingson', 962: 'Massive Attack-Safe From Harm', 963: 'Massive Attack-Sly', 964: 'Massive Attack-Special Cases', 965: 'Massive Attack-Teardrop', 966: 'Massive Attack-Unfinished Sympathy', 967: 'Massive Attack-What Your Soul Sings', 968: 'Maxïmo Park-Going Missing', 969: 'Maxïmo Park-Graffiti', 970: 'Maxïmo Park-Postcard Of A Painting', 971: 'Maxïmo Park-The Coast Is Always Changing', 972: 'Mazzy Star-Fade Into You', 973: 'Metallica-Creeping Death', 974: 'Metallica-Enter Sandman', 975: 'Metallica-Fade To Black', 976: 'Metallica-Master Of Puppets', 977: 'Metallica-Nothing Else Matters', 978: 'Metallica-One', 979: 'Metallica-The Unforgiven', 980: 'Metallica-The Unforgiven Ii', 981: 'Metric-Combat Baby', 982: 'Metric-Dead Disco', 983: 'Metric-Poster Of A Girl', 984: 'Metric-Soft Rock Star', 985: 'Metric-Succexy', 986: 'Metric-Wet Blanket', 987: 'Mgmt-4Th Dimensional Transition', 988: 'Mgmt-Electric Feel', 989: 'Mgmt-Future Reflections', 990: 'Mgmt-Kids', 991: 'Mgmt-Of Moons, Birds & Monsters', 992: 'Mgmt-Pieces Of What', 993: 'Mgmt-The Handshake', 994: 'Mgmt-The Youth', 995: 'Mgmt-Time To Pretend', 996: 'Mgmt-Weekend Wars', 997: 'Michael Jackson-Beat It', 998: 'Michael Jackson-Billie Jean', 999: 'Michael Jackson-Smooth Criminal', 1000: 'Michael Jackson-Thriller', 1001: 'Mika-Grace Kelly', 1002: 'Mika-Love Today', 1003: 'Miles Davis-So What', 1004: 'Moby-7', 1005: 'Moby-Bodyrock', 1006: 'Moby-Honey', 1007: 'Moby-In This World', 1008: 'Moby-Lift Me Up', 1009: 'Moby-Natural Blues', 1010: 'Moby-Porcelain', 1011: 'Moby-Run On', 1012: 'Moby-South Side', 1013: 'Moby-We Are All Made Of Stars', 1014: 'Moby-Why Does My Heart Feel So Bad?', 1015: 'Modest Mouse-3Rd Planet', 1016: 'Modest Mouse-A Different City', 1017: 'Modest Mouse-Alone Down There', 1018: 'Modest Mouse-Black Cadillacs', 1019: 'Modest Mouse-Bukowski', 1020: 'Modest Mouse-Bury Me With It', 1021: 'Modest Mouse-Dashboard', 1022: 'Modest Mouse-Fire It Up', 1023: 'Modest Mouse-Float On', 1024: 'Modest Mouse-Gravity Rides Everything', 1025: 'Modest Mouse-I Came As A Rat', 1026: 'Modest Mouse-Interlude (Milo)', 1027: 'Modest Mouse-Invisible', 1028: 'Modest Mouse-Little Motel', 1029: 'Modest Mouse-Ocean Breathes Salty', 1030: 'Modest Mouse-Paper Thin Walls', 1031: 'Modest Mouse-People As Places As People', 1032: 'Modest Mouse-Steam Engenius', 1033: 'Modest Mouse-The Cold Part', 1034: 'Modest Mouse-The Good Times Are Killing Me', 1035: 'Modest Mouse-The Stars Are Projectors', 1036: 'Modest Mouse-The View', 1037: 'Modest Mouse-The World At Large', 1038: \"Modest Mouse-This Devil'S Workday\", 1039: 'Modest Mouse-Tiny Cities Made Of Ashes', 1040: \"Modest Mouse-We'Ve Got Everything\", 1041: 'Modest Mouse-What People Are Made Of', 1042: 'Modest Mouse-Wild Packs Of Family Dogs', 1043: 'Mogwai-Auto Rock', 1044: 'Mogwai-Folk Death 95', 1045: 'Mogwai-Friend Of The Night', 1046: 'Mogwai-Glasgow Mega-Snake', 1047: 'Mogwai-Hunted By A Freak', 1048: 'Mogwai-I Know You Are But What Am I?', 1049: 'Mogwai-Kids Will Be Skeletons', 1050: 'Moloko-Sing It Back', 1051: 'Morrissey-Everyday Is Like Sunday', 1052: 'Morrissey-Irish Blood, English Heart', 1053: 'Morrissey-Suedehead', 1054: 'Mott The Hoople-All The Young Dudes', 1055: 'Motörhead-Ace Of Spades', 1056: 'Muse-Apocalypse Please', 1057: 'Muse-Assassin', 1058: 'Muse-Blackout', 1059: 'Muse-Bliss', 1060: 'Muse-Butterflies And Hurricanes', 1061: 'Muse-Cave', 1062: 'Muse-Citizen Erased', 1063: 'Muse-City Of Delusion', 1064: 'Muse-Darkshines', 1065: 'Muse-Endlessly', 1066: 'Muse-Exo-Politics', 1067: 'Muse-Falling Away With You', 1068: 'Muse-Feeling Good', 1069: \"Muse-Hate This & I'Ll Love You\", 1070: 'Muse-Hoodoo', 1071: 'Muse-Hyper Music', 1072: 'Muse-Hysteria', 1073: 'Muse-Interlude', 1074: 'Muse-Invincible', 1075: 'Muse-Knights Of Cydonia', 1076: 'Muse-Map Of The Problematique', 1077: 'Muse-Micro Cuts', 1078: 'Muse-Muscle Museum', 1079: 'Muse-New Born', 1080: 'Muse-Plug In Baby', 1081: 'Muse-Ruled By Secrecy', 1082: 'Muse-Screenager', 1083: 'Muse-Showbiz', 1084: 'Muse-Sing For Absolution', 1085: 'Muse-Sober', 1086: \"Muse-Soldier'S Poem\", 1087: 'Muse-Space Dementia', 1088: 'Muse-Starlight', 1089: 'Muse-Stockholm Syndrome', 1090: 'Muse-Sunburn', 1091: 'Muse-Supermassive Black Hole', 1092: 'Muse-Take A Bow', 1093: 'Muse-The Small Print', 1094: 'Muse-Thoughts Of A Dying Atheist', 1095: 'Muse-Time Is Running Out', 1096: 'Muse-Unintended', 1097: 'Muse-Uno', 1098: 'My Bloody Valentine-Blown A Wish', 1099: 'My Bloody Valentine-Come In Alone', 1100: 'My Bloody Valentine-Loomer', 1101: 'My Bloody Valentine-Only Shallow', 1102: 'My Bloody Valentine-Sometimes', 1103: 'My Bloody Valentine-To Here Knows When', 1104: 'My Bloody Valentine-Touched', 1105: 'My Bloody Valentine-What You Want', 1106: 'My Bloody Valentine-When You Sleep', 1107: 'My Chemical Romance-Welcome To The Black Parade', 1108: 'Mylo-Drop The Pressure', 1109: 'Mylo-In My Arms', 1110: 'Natalie Imbruglia-Torn', 1111: 'Neil Young-Heart Of Gold', 1112: 'Neil Young-The Needle And The Damage Done', 1113: 'Nelly Furtado-Maneater', 1114: 'Nelly Furtado-Promiscuous', 1115: 'Nelly Furtado-Say It Right', 1116: 'Neutral Milk Hotel-A Baby For Pree', 1117: 'Neutral Milk Hotel-Ghost', 1118: 'Neutral Milk Hotel-Holland, 1945', 1119: 'Neutral Milk Hotel-In The Aeroplane Over The Sea', 1120: 'Neutral Milk Hotel-Oh Comely', 1121: 'Neutral Milk Hotel-Song Against Sex', 1122: 'Neutral Milk Hotel-Two-Headed Boy', 1123: 'New Order-Blue Monday', 1124: 'New Order-Ceremony', 1125: 'New Order-Regret', 1126: 'New Order-Temptation', 1127: 'New Order-True Faith', 1128: 'Nick Cave & The Bad Seeds-Where The Wild Roses Grow', 1129: 'Nick Drake-Day Is Done', 1130: 'Nick Drake-Hazey Jane Ii', 1131: 'Nick Drake-Man In A Shed', 1132: 'Nick Drake-Northern Sky', 1133: 'Nick Drake-One Of These Things First', 1134: 'Nick Drake-Place To Be', 1135: 'Nick Drake-River Man', 1136: 'Nick Drake-Things Behind The Sun', 1137: 'Nickelback-How You Remind Me', 1138: 'Nine Inch Nails-A Warm Place', 1139: 'Nine Inch Nails-All The Love In The World', 1140: 'Nine Inch Nails-Closer', 1141: 'Nine Inch Nails-Discipline', 1142: 'Nine Inch Nails-Head Like A Hole', 1143: 'Nine Inch Nails-Heresy', 1144: 'Nine Inch Nails-Hurt', 1145: 'Nine Inch Nails-Love Is Not Enough', 1146: 'Nine Inch Nails-March Of The Pigs', 1147: 'Nine Inch Nails-Only', 1148: 'Nine Inch Nails-Terrible Lie', 1149: 'Nine Inch Nails-The Collector', 1150: 'Nine Inch Nails-The Day The World Went Away', 1151: 'Nine Inch Nails-The Hand That Feeds', 1152: 'Nine Inch Nails-The Line Begins To Blur', 1153: 'Nine Inch Nails-The Perfect Drug', 1154: 'Nine Inch Nails-With Teeth', 1155: 'Nirvana-About A Girl', 1156: 'Nirvana-All Apologies', 1157: 'Nirvana-Aneurysm', 1158: 'Nirvana-Been A Son', 1159: 'Nirvana-Come As You Are', 1160: 'Nirvana-Drain You', 1161: 'Nirvana-Dumb', 1162: 'Nirvana-Frances Farmer Will Have Her Revenge On Seattle', 1163: 'Nirvana-Heart-Shaped Box', 1164: 'Nirvana-In Bloom', 1165: \"Nirvana-Jesus Doesn'T Want Me For A Sunbeam\", 1166: 'Nirvana-Lake Of Fire', 1167: 'Nirvana-Lithium', 1168: 'Nirvana-Milk It', 1169: 'Nirvana-On A Plain', 1170: 'Nirvana-Pennyroyal Tea', 1171: 'Nirvana-Polly', 1172: 'Nirvana-Rape Me', 1173: 'Nirvana-Serve The Servants', 1174: 'Nirvana-Sliver', 1175: 'Nirvana-Smells Like Teen Spirit', 1176: 'Nirvana-Something In The Way', 1177: 'Nirvana-Stay Away', 1178: 'Nirvana-Territorial Pissings', 1179: 'Nirvana-The Man Who Sold The World', 1180: 'Nirvana-Where Did You Sleep Last Night?', 1181: \"Nirvana-You Know You'Re Right\", 1182: \"No Doubt-Don'T Speak\", 1183: 'No Doubt-Hella Good', 1184: \"Norah Jones-Don'T Know Why\", 1185: 'Norah Jones-Seven Years', 1186: 'Norah Jones-Turn Me On', 1187: 'Nouvelle Vague-I Melt With You', 1188: 'Nouvelle Vague-In A Manner Of Speaking', 1189: 'Nouvelle Vague-Love Will Tear Us Apart', 1190: 'Nouvelle Vague-This Is Not A Love Song', 1191: 'Oasis-Bag It Up', 1192: 'Oasis-Cast No Shadow', 1193: 'Oasis-Champagne Supernova', 1194: 'Oasis-Columbia', 1195: \"Oasis-Don'T Look Back In Anger\", 1196: 'Oasis-Go Let It Out', 1197: 'Oasis-Hello', 1198: 'Oasis-Hey Now!', 1199: 'Oasis-Let There Be Love', 1200: 'Oasis-Live Forever', 1201: 'Oasis-Married With Children', 1202: 'Oasis-Morning Glory', 1203: 'Oasis-Roll With It', 1204: \"Oasis-She'S Electric\", 1205: 'Oasis-Slide Away', 1206: 'Oasis-Some Might Say', 1207: 'Oasis-The Masterplan', 1208: 'Oasis-Wonderwall', 1209: 'Of Montreal-Disconnect The Dots', 1210: 'Of Montreal-Heimdalsgate Like A Promethean Curse', 1211: 'Ok Go-Here It Goes Again', 1212: 'Outkast-Hey Ya!', 1213: \"Panic At The Disco-But It'S Better If You Do\", 1214: 'Panic At The Disco-I Constantly Thank God For Esteban', 1215: 'Panic At The Disco-I Write Sins Not Tragedies', 1216: 'Panic At The Disco-Lying Is The Most Fun A Girl Can Have Without Taking Her Clothes Off', 1217: 'Panic At The Disco-The Only Difference Between Martyrdom And Suicide Is Press Coverage', 1218: 'Pavement-Cut Your Hair', 1219: 'Pearl Jam-Alive', 1220: 'Pearl Jam-Black', 1221: 'Pearl Jam-Even Flow', 1222: 'Pearl Jam-Jeremy', 1223: 'Pearl Jam-Oceans', 1224: 'Peter Bjorn And John-Young Folks', 1225: 'Phantom Planet-California', 1226: 'Pink Floyd-A Pillow Of Winds', 1227: 'Pink Floyd-Another Brick In The Wall, Part 2', 1228: 'Pink Floyd-Any Colour You Like', 1229: 'Pink Floyd-Astronomy Domine', 1230: 'Pink Floyd-Bike', 1231: 'Pink Floyd-Brain Damage', 1232: 'Pink Floyd-Comfortably Numb', 1233: 'Pink Floyd-Echoes', 1234: 'Pink Floyd-Eclipse', 1235: 'Pink Floyd-Goodbye Blue Sky', 1236: 'Pink Floyd-Have A Cigar', 1237: 'Pink Floyd-Hey You', 1238: 'Pink Floyd-High Hopes', 1239: 'Pink Floyd-Keep Talking', 1240: 'Pink Floyd-Marooned', 1241: 'Pink Floyd-Money', 1242: 'Pink Floyd-On The Run', 1243: 'Pink Floyd-One Of My Turns', 1244: 'Pink Floyd-See Emily Play', 1245: 'Pink Floyd-Sheep', 1246: 'Pink Floyd-Shine On You Crazy Diamond', 1247: 'Pink Floyd-Speak To Me / Breathe', 1248: 'Pink Floyd-Take Up Thy Stethoscope And Walk', 1249: 'Pink Floyd-The Great Gig In The Sky', 1250: 'Pink Floyd-The Happiest Days Of Our Lives', 1251: 'Pink Floyd-Time', 1252: 'Pink Floyd-Us And Them', 1253: 'Pink Floyd-Vera', 1254: 'Pink Floyd-Wish You Were Here', 1255: 'Pixies-Broken Face', 1256: 'Pixies-Cactus', 1257: 'Pixies-Caribou', 1258: 'Pixies-Dead', 1259: 'Pixies-Debaser', 1260: 'Pixies-Dig For Fire', 1261: 'Pixies-Gigantic', 1262: 'Pixies-Gouge Away', 1263: 'Pixies-Here Comes Your Man', 1264: 'Pixies-Hey', 1265: 'Pixies-I Bleed', 1266: 'Pixies-La La Love You', 1267: 'Pixies-Monkey Gone To Heaven', 1268: 'Pixies-Mr. Grieves', 1269: 'Pixies-No. 13 Baby', 1270: 'Pixies-Oh My Golly!', 1271: 'Pixies-Silver', 1272: 'Pixies-Tame', 1273: 'Pixies-There Goes My Gun', 1274: 'Pixies-Vamos', 1275: 'Pixies-Velouria', 1276: 'Pixies-Wave Of Mutilation', 1277: 'Pixies-Where Is My Mind?', 1278: 'Pj Harvey-Beautiful Feeling', 1279: 'Pj Harvey-Down By The Water', 1280: 'Pj Harvey-One Line', 1281: 'Pj Harvey-This Is Love', 1282: 'Placebo-36 Degrees', 1283: 'Placebo-Ask For Answers', 1284: 'Placebo-Because I Want You', 1285: 'Placebo-Blue American', 1286: 'Placebo-Bruise Pristine', 1287: 'Placebo-Commercial For Levi', 1288: 'Placebo-Drag', 1289: 'Placebo-English Summer Rain', 1290: 'Placebo-Every You Every Me', 1291: 'Placebo-Hang On To Your Iq', 1292: 'Placebo-I Know', 1293: 'Placebo-In The Cold Light Of Morning', 1294: 'Placebo-Infra-Red', 1295: 'Placebo-My Sweet Prince', 1296: 'Placebo-Nancy Boy', 1297: 'Placebo-Post Blue', 1298: 'Placebo-Pure Morning', 1299: 'Placebo-Scared Of Girls', 1300: 'Placebo-Slave To The Wage', 1301: 'Placebo-Sleeping With Ghosts', 1302: 'Placebo-Song To Say Goodbye', 1303: 'Placebo-Space Monkey', 1304: 'Placebo-Special K', 1305: 'Placebo-Special Needs', 1306: \"Placebo-Summer'S Gone\", 1307: 'Placebo-Taste In Men', 1308: 'Placebo-Teenage Angst', 1309: 'Placebo-The Bitter End', 1310: 'Placebo-This Picture', 1311: \"Placebo-Without You I'M Nothing\", 1312: \"Placebo-You Don'T Care About Us\", 1313: \"Plain White T'S-Hey There Delilah\", 1314: 'Portishead-All Mine', 1315: 'Portishead-Biscuit', 1316: 'Portishead-Cowboys', 1317: 'Portishead-Deep Water', 1318: 'Portishead-Glory Box', 1319: 'Portishead-Humming', 1320: 'Portishead-Hunter', 1321: 'Portishead-It Could Be Sweet', 1322: \"Portishead-It'S A Fire\", 1323: 'Portishead-Mourning Air', 1324: 'Portishead-Mysterons', 1325: 'Portishead-Numb', 1326: 'Portishead-Nylon Smile', 1327: 'Portishead-Over', 1328: 'Portishead-Pedestal', 1329: 'Portishead-Plastic', 1330: 'Portishead-Roads', 1331: 'Portishead-Seven Months', 1332: 'Portishead-Silence', 1333: 'Portishead-Small', 1334: 'Portishead-Sour Times', 1335: 'Portishead-Strangers', 1336: 'Portishead-The Rip', 1337: 'Portishead-Undenied', 1338: 'Portishead-Wandering Star', 1339: 'Portishead-We Carry On', 1340: 'Prince-Kiss', 1341: 'Public Enemy-Fight The Power', 1342: 'Pulp-Common People', 1343: 'Pulp-Disco 2000', 1344: 'Pulp-Pencil Skirt', 1345: 'Queen-A Kind Of Magic', 1346: 'Queen-Another One Bites The Dust', 1347: 'Queen-Bohemian Rhapsody', 1348: 'Queen-Crazy Little Thing Called Love', 1349: \"Queen-Don'T Stop Me Now\", 1350: 'Queen-Fat Bottomed Girls', 1351: 'Queen-Friends Will Be Friends', 1352: 'Queen-I Want To Break Free', 1353: 'Queen-Killer Queen', 1354: \"Queen-Now I'M Here\", 1355: 'Queen-Play The Game', 1356: 'Queen-Save Me', 1357: 'Queen-Somebody To Love', 1358: 'Queen-The Show Must Go On', 1359: 'Queen-We Are The Champions', 1360: 'Queen-We Will Rock You', 1361: \"Queen-You'Re My Best Friend\", 1362: 'Queens Of The Stone Age-Broken Box', 1363: 'Queens Of The Stone Age-Burn The Witch', 1364: 'Queens Of The Stone Age-Feel Good Hit Of The Summer', 1365: 'Queens Of The Stone Age-First It Giveth', 1366: 'Queens Of The Stone Age-Go With The Flow', 1367: 'Queens Of The Stone Age-Gonna Leave You', 1368: 'Queens Of The Stone Age-I Never Came', 1369: 'Queens Of The Stone Age-Little Sister', 1370: 'Queens Of The Stone Age-Medication', 1371: 'Queens Of The Stone Age-Monsters In The Parasol', 1372: 'Queens Of The Stone Age-No One Knows', 1373: 'Queens Of The Stone Age-Skin On Skin', 1374: 'Queens Of The Stone Age-The Blood Is Love', 1375: 'R.E.M.-Everybody Hurts', 1376: 'R.E.M.-Losing My Religion', 1377: 'R.E.M.-Nightswimming', 1378: 'R.E.M.-Orange Crush', 1379: 'Radiohead-(Nice Dream)', 1380: 'Radiohead-15 Step', 1381: 'Radiohead-2 + 2 = 5 (The Lukewarm.)', 1382: 'Radiohead-2+2= 5', 1383: 'Radiohead-A Punchup At A Wedding', 1384: 'Radiohead-A Wolf At The Door', 1385: 'Radiohead-Airbag', 1386: 'Radiohead-All I Need', 1387: 'Radiohead-Anyone Can Play Guitar', 1388: 'Radiohead-Backdrifts', 1389: 'Radiohead-Backdrifts. (Honeymoon Is Over.)', 1390: 'Radiohead-Black Star', 1391: 'Radiohead-Blow Out', 1392: 'Radiohead-Bodysnatchers', 1393: 'Radiohead-Bones', 1394: 'Radiohead-Bullet Proof..I Wish I Was', 1395: 'Radiohead-Climbing Up The Walls', 1396: 'Radiohead-Creep', 1397: 'Radiohead-Dollars And Cents', 1398: 'Radiohead-Electioneering', 1399: 'Radiohead-Everything In Its Right Place', 1400: 'Radiohead-Exit Music (For A Film)', 1401: 'Radiohead-Fake Plastic Trees', 1402: 'Radiohead-Faust Arp', 1403: 'Radiohead-Fitter Happier', 1404: 'Radiohead-Go To Sleep', 1405: 'Radiohead-High And Dry', 1406: 'Radiohead-House Of Cards', 1407: 'Radiohead-How To Disappear Completely', 1408: 'Radiohead-Hunting Bears', 1409: \"Radiohead-I Can'T\", 1410: 'Radiohead-I Might Be Wrong', 1411: 'Radiohead-Idioteque', 1412: 'Radiohead-In Limbo', 1413: 'Radiohead-Jigsaw Falling Into Place', 1414: 'Radiohead-Just', 1415: 'Radiohead-Karma Police', 1416: 'Radiohead-Kid A', 1417: 'Radiohead-Knives Out', 1418: 'Radiohead-Let Down', 1419: 'Radiohead-Like Spinning Plates', 1420: 'Radiohead-Lucky', 1421: 'Radiohead-Lurgee', 1422: 'Radiohead-Morning Bell', 1423: 'Radiohead-Morning Bell/Amnesiac', 1424: 'Radiohead-Motion Picture Soundtrack', 1425: 'Radiohead-My Iron Lung', 1426: 'Radiohead-No Surprises', 1427: 'Radiohead-Nude', 1428: 'Radiohead-Optimistic', 1429: 'Radiohead-Packt Like Sardines In A Crushd Tin Box', 1430: 'Radiohead-Paranoid Android', 1431: 'Radiohead-Planet Telex', 1432: 'Radiohead-Prove Yourself', 1433: 'Radiohead-Pyramid Song', 1434: 'Radiohead-Reckoner', 1435: 'Radiohead-Sail To The Moon', 1436: 'Radiohead-Scatterbrain', 1437: 'Radiohead-Stop Whispering', 1438: 'Radiohead-Street Spirit (Fade Out)', 1439: 'Radiohead-Subterranean Homesick Alien', 1440: 'Radiohead-Sulk', 1441: 'Radiohead-Talk Show Host', 1442: 'Radiohead-The Bends', 1443: 'Radiohead-The National Anthem', 1444: 'Radiohead-The Tourist', 1445: 'Radiohead-There There', 1446: 'Radiohead-Thinking About You', 1447: 'Radiohead-Treefingers', 1448: 'Radiohead-Vegetable', 1449: 'Radiohead-Videotape', 1450: 'Radiohead-We Suck Young Blood', 1451: 'Radiohead-Weird Fishes/Arpeggi', 1452: 'Radiohead-Where I End And You Begin. (The Sky Is Falling In.)', 1453: 'Radiohead-You', 1454: 'Radiohead-You And Whose Army?', 1455: 'Rage Against The Machine-Bombtrack', 1456: 'Rage Against The Machine-Bullet In The Head', 1457: 'Rage Against The Machine-Bulls On Parade', 1458: 'Rage Against The Machine-Freedom', 1459: 'Rage Against The Machine-Killing In The Name', 1460: 'Rage Against The Machine-Know Your Enemy', 1461: 'Rage Against The Machine-People Of The Sun', 1462: 'Rage Against The Machine-Take The Power Back', 1463: 'Rage Against The Machine-Tire Me', 1464: 'Rage Against The Machine-Township Rebellion', 1465: 'Rage Against The Machine-Wake Up', 1466: 'Rammstein-Du Hast', 1467: 'Rammstein-Keine Lust', 1468: 'Rammstein-Sonne', 1469: 'Ramones-Blitzkrieg Bop', 1470: 'Ramones-I Wanna Be Sedated', 1471: 'Ramones-Judy Is A Punk', 1472: 'Ratatat-Wildcat', 1473: 'Razorlight-Golden Touch', 1474: 'Razorlight-In The Morning', 1475: 'Red Hot Chili Peppers-Around The World', 1476: 'Red Hot Chili Peppers-Breaking The Girl', 1477: 'Red Hot Chili Peppers-By The Way', 1478: 'Red Hot Chili Peppers-Cabron', 1479: 'Red Hot Chili Peppers-Californication', 1480: 'Red Hot Chili Peppers-Dani California', 1481: 'Red Hot Chili Peppers-Give It Away', 1482: 'Red Hot Chili Peppers-Hump De Bump', 1483: 'Red Hot Chili Peppers-Otherside', 1484: 'Red Hot Chili Peppers-Parallel Universe', 1485: 'Red Hot Chili Peppers-Porcelain', 1486: \"Red Hot Chili Peppers-Road Trippin'\", 1487: 'Red Hot Chili Peppers-Scar Tissue', 1488: \"Red Hot Chili Peppers-She'S Only 18\", 1489: 'Red Hot Chili Peppers-Snow ((Hey Oh))', 1490: 'Red Hot Chili Peppers-Stadium Arcadium', 1491: 'Red Hot Chili Peppers-Strip My Mind', 1492: 'Red Hot Chili Peppers-Suck My Kiss', 1493: 'Red Hot Chili Peppers-Tell Me Baby', 1494: 'Red Hot Chili Peppers-The Zephyr Song', 1495: 'Red Hot Chili Peppers-This Velvet Glove', 1496: 'Red Hot Chili Peppers-Under The Bridge', 1497: 'Red Hot Chili Peppers-Universally Speaking', 1498: 'Red Hot Chili Peppers-Wet Sand', 1499: 'Regina Spektor-20 Years Of Snow', 1500: 'Regina Spektor-Edit', 1501: 'Regina Spektor-Fidelity', 1502: 'Regina Spektor-Field Below', 1503: 'Regina Spektor-Hotel Song', 1504: 'Regina Spektor-Lady', 1505: 'Regina Spektor-On The Radio', 1506: 'Regina Spektor-Samson', 1507: 'Regina Spektor-Summer In The City', 1508: 'Regina Spektor-That Time', 1509: \"Rhianna-Don'T Stop The Music\", 1510: 'Rihanna-Unfaithful', 1511: \"Rilo Kiley-It'S A Hit\", 1512: 'Rilo Kiley-Portions For Foxes', 1513: 'Ryan Adams-Wonderwall', 1514: 'Röyksopp-40 Years Back / Come', 1515: 'Röyksopp-Beautiful Day Without You', 1516: 'Röyksopp-Boys', 1517: 'Röyksopp-Circuit Breaker', 1518: 'Röyksopp-Eple', 1519: 'Röyksopp-Follow My Ruin', 1520: 'Röyksopp-In Space', 1521: 'Röyksopp-Only This Moment', 1522: 'Röyksopp-Poor Leno', 1523: 'Röyksopp-Remind Me', 1524: \"Röyksopp-She'S So\", 1525: 'Röyksopp-So Easy', 1526: 'Röyksopp-Someone Like Me', 1527: 'Röyksopp-Sparks', 1528: 'Röyksopp-Triumphant', 1529: 'Röyksopp-What Else Is There', 1530: 'Röyksopp-What Else Is There?', 1531: 'Scissor Sisters-Comfortably Numb', 1532: 'Scissor Sisters-Laura', 1533: 'Scissor Sisters-Take Your Mama', 1534: 'Sex Pistols-Bodies', 1535: 'Sex Pistols-God Save The Queen', 1536: 'Sex Pistols-Pretty Vacant', 1537: 'Sia-Breathe Me', 1538: 'Sigur Rós-Andvari', 1539: 'Sigur Rós-Avalon', 1540: 'Sigur Rós-Flugufrelsarinn', 1541: 'Sigur Rós-Glósóli', 1542: 'Sigur Rós-Gobbledigook', 1543: 'Sigur Rós-Gong', 1544: 'Sigur Rós-Heysátan', 1545: 'Sigur Rós-Hoppípolla', 1546: 'Sigur Rós-Inní Mér Syngur Vitleysingur', 1547: 'Sigur Rós-Intro', 1548: 'Sigur Rós-Með Blóðnasir', 1549: 'Sigur Rós-Mílanó', 1550: 'Sigur Rós-Olsen Olsen', 1551: 'Sigur Rós-Svefn-G-Englar', 1552: 'Sigur Rós-Svo Hljótt', 1553: 'Sigur Rós-Sæglópur', 1554: 'Sigur Rós-Sé Lest', 1555: 'Sigur Rós-Takk...', 1556: 'Sigur Rós-Von', 1557: 'Sigur Rós-Ágætis Byrjun', 1558: 'Simon & Garfunkel-America', 1559: 'Simon & Garfunkel-I Am A Rock', 1560: 'Simon & Garfunkel-Mrs. Robinson', 1561: 'Simon & Garfunkel-The Only Living Boy In New York', 1562: 'Simon & Garfunkel-The Sound Of Silence', 1563: \"Simple Minds-Don'T You (Forget About Me)\", 1564: 'Siouxsie And The Banshees-Hong Kong Garden', 1565: 'Siouxsie And The Banshees-Spellbound', 1566: 'Sixpence None The Richer-Kiss Me', 1567: 'Slayer-Angel Of Death', 1568: 'Slowdive-Alison', 1569: 'Sneaker Pimps-6 Underground', 1570: 'Snow Patrol-Chasing Cars', 1571: 'Snow Patrol-Chocolate', 1572: 'Snow Patrol-Gleaming Auction', 1573: 'Snow Patrol-Hands Open', 1574: 'Snow Patrol-How To Be Dead', 1575: \"Snow Patrol-It'S Beginning To Get To Me\", 1576: 'Snow Patrol-Open Your Eyes', 1577: 'Snow Patrol-Run', 1578: 'Snow Patrol-Shut Your Eyes', 1579: 'Snow Patrol-Somewhere A Clock Is Ticking', 1580: 'Snow Patrol-Spitting Games', 1581: 'Snow Patrol-Tiny Little Fractures', 1582: 'Snow Patrol-Ways & Means', 1583: \"Snow Patrol-Whatever'S Left\", 1584: 'Snow Patrol-Wow', 1585: 'Soft Cell-Tainted Love', 1586: 'Sonic Youth-Silver Rocket', 1587: 'Soundgarden-Black Hole Sun', 1588: 'Soundgarden-Spoonman', 1589: 'Spice Girls-Wannabe', 1590: 'Spoon-I Summon You', 1591: 'Spoon-I Turn My Camera On', 1592: 'Spoon-My Mathematical Mind', 1593: 'Spoon-The Delicate Place', 1594: 'Spoon-The Two Sides Of Monsieur Valentine', 1595: 'Spoon-The Way We Get By', 1596: 'Stars-Ageless Beauty', 1597: 'Stars-Calendar Girl', 1598: 'Stars-Set Yourself On Fire', 1599: 'Stars-Your Ex-Lover Is Dead', 1600: 'Stereophonics-Dakota', 1601: 'Sufjan Stevens-Casimir Pulaski Day', 1602: 'Sufjan Stevens-Chicago', 1603: 'Sufjan Stevens-Come On! Feel The Illinoise!!', 1604: 'Sufjan Stevens-Concerning The Ufo Sighting Near Highland, Illinois', 1605: 'Sufjan Stevens-For The Widows In Paradise, For The Fatherless In Ypsilanti', 1606: 'Sufjan Stevens-Jacksonville', 1607: 'Sufjan Stevens-John Wayne Gacy, Jr.', 1608: 'Sufjan Stevens-The Man Of Metropolis Steals Our Hearts', 1609: 'Sufjan Stevens-The Predatory Wasp Of The Palisades Is Out To Get Us!', 1610: \"Sufjan Stevens-The Seer'S Tower\", 1611: 'Sufjan Stevens-They Are Night Zombies!! They Are Neighbors!! They Have Come Back From The Dead!! Ahhhh!', 1612: 'Sufjan Stevens-To Be Alone With You', 1613: 'System Of A Down-Aerials', 1614: 'System Of A Down-B.Y.O.B.', 1615: 'System Of A Down-Bounce', 1616: 'System Of A Down-Deer Dance', 1617: 'System Of A Down-Forest', 1618: 'System Of A Down-Lonely Day', 1619: 'System Of A Down-Lost In Hollywood', 1620: 'System Of A Down-Psycho', 1621: 'System Of A Down-Radio/Video', 1622: 'System Of A Down-Shimmy', 1623: 'System Of A Down-Soldier Side (Intro)', 1624: \"System Of A Down-This Cocaine Makes Me Feel Like I'M On This Song\", 1625: 'System Of A Down-Toxicity', 1626: 'Talking Heads-Burning Down The House', 1627: 'Talking Heads-Once In A Lifetime', 1628: 'Talking Heads-Psycho Killer', 1629: 'Tears For Fears-Everybody Wants To Rule The World', 1630: 'Tears For Fears-Mad World', 1631: 'Tegan And Sara-I Know I Know I Know', 1632: 'Tegan And Sara-Walking With A Ghost', 1633: 'Tenacious D-Fuck Her Gently', 1634: \"The 5.6.7.8'S-Woo Hoo\", 1635: \"The B-52'S-Rock Lobster\", 1636: 'The Beach Boys-God Only Knows', 1637: 'The Beatles-A Day In The Life', 1638: \"The Beatles-A Hard Day'S Night\", 1639: 'The Beatles-All You Need Is Love', 1640: 'The Beatles-And Your Bird Can Sing', 1641: 'The Beatles-Back In The U.S.S.R.', 1642: 'The Beatles-Because', 1643: 'The Beatles-Birthday', 1644: 'The Beatles-Blackbird', 1645: \"The Beatles-Can'T Buy Me Love\", 1646: 'The Beatles-Carry That Weight', 1647: 'The Beatles-Come Together', 1648: 'The Beatles-Day Tripper', 1649: 'The Beatles-Dear Prudence', 1650: 'The Beatles-Doctor Robert', 1651: \"The Beatles-Don'T Pass Me By\", 1652: 'The Beatles-Drive My Car', 1653: 'The Beatles-Eight Days A Week', 1654: 'The Beatles-Eleanor Rigby', 1655: 'The Beatles-For No One', 1656: 'The Beatles-From Me To You', 1657: 'The Beatles-Get Back', 1658: 'The Beatles-Getting Better', 1659: 'The Beatles-Girl', 1660: 'The Beatles-Glass Onion', 1661: 'The Beatles-Good Day Sunshine', 1662: 'The Beatles-Got To Get You Into My Life', 1663: 'The Beatles-Happiness Is A Warm Gun', 1664: 'The Beatles-Help!', 1665: 'The Beatles-Here Comes The Sun', 1666: 'The Beatles-Here, There And Everywhere', 1667: 'The Beatles-Hey Jude', 1668: 'The Beatles-I Am The Walrus', 1669: 'The Beatles-I Feel Fine', 1670: 'The Beatles-I Me Mine', 1671: 'The Beatles-I Want To Hold Your Hand', 1672: \"The Beatles-I'M Only Sleeping\", 1673: \"The Beatles-I'M So Tired\", 1674: 'The Beatles-In My Life', 1675: 'The Beatles-Julia', 1676: 'The Beatles-Let It Be', 1677: 'The Beatles-Love Me Do', 1678: 'The Beatles-Lovely Rita', 1679: 'The Beatles-Lucy In The Sky With Diamonds', 1680: 'The Beatles-Magical Mystery Tour', 1681: 'The Beatles-Martha My Dear', 1682: \"The Beatles-Maxwell'S Silver Hammer\", 1683: 'The Beatles-Michelle', 1684: \"The Beatles-Mother Nature'S Son\", 1685: 'The Beatles-Norwegian Wood (This Bird Has Flown)', 1686: 'The Beatles-Nowhere Man', 1687: 'The Beatles-Ob-La-Di, Ob-La-Da', 1688: \"The Beatles-Octopus'S Garden\", 1689: 'The Beatles-Oh! Darling', 1690: 'The Beatles-Paperback Writer', 1691: 'The Beatles-Penny Lane', 1692: 'The Beatles-Piggies', 1693: 'The Beatles-Please Please Me', 1694: 'The Beatles-Rocky Raccoon', 1695: 'The Beatles-Savoy Truffle', 1696: 'The Beatles-Sexy Sadie', 1697: \"The Beatles-Sgt. Pepper'S Lonely Hearts Club Band\", 1698: \"The Beatles-Sgt. Pepper'S Lonely Hearts Club Band (Reprise)\", 1699: 'The Beatles-She Loves You', 1700: 'The Beatles-She Said She Said', 1701: \"The Beatles-She'S Leaving Home\", 1702: 'The Beatles-Something', 1703: 'The Beatles-Strawberry Fields Forever', 1704: 'The Beatles-Sun King', 1705: 'The Beatles-Taxman', 1706: 'The Beatles-The Ballad Of John And Yoko', 1707: 'The Beatles-Ticket To Ride', 1708: 'The Beatles-Tomorrow Never Knows', 1709: 'The Beatles-Wait', 1710: 'The Beatles-We Can Work It Out', 1711: \"The Beatles-When I'M Sixty-Four\", 1712: 'The Beatles-While My Guitar Gently Weeps', 1713: \"The Beatles-Why Don'T We Do It In The Road?\", 1714: 'The Beatles-Wild Honey Pie', 1715: 'The Beatles-With A Little Help From My Friends', 1716: 'The Beatles-Within You Without You', 1717: 'The Beatles-Yellow Submarine', 1718: 'The Beatles-Yesterday', 1719: \"The Beatles-You'Ve Got To Hide Your Love Away\", 1720: 'The Bravery-Unconditional', 1721: 'The Cardigans-My Favourite Game', 1722: \"The Chemical Brothers-Block Rockin' Beats\", 1723: 'The Chemical Brothers-Galvanize', 1724: 'The Chemical Brothers-Hey Boy Hey Girl', 1725: 'The Chemical Brothers-Let Forever Be', 1726: 'The Chemical Brothers-The Big Jump', 1727: 'The Clash-Brand New Cadillac', 1728: 'The Clash-Clampdown', 1729: 'The Clash-Death Or Glory', 1730: 'The Clash-Four Horsemen', 1731: 'The Clash-Hateful', 1732: 'The Clash-I Fought The Law', 1733: \"The Clash-I'M Not Down\", 1734: 'The Clash-Jimmy Jazz', 1735: 'The Clash-Koka Kola', 1736: 'The Clash-London Calling', 1737: 'The Clash-Lost In The Supermarket', 1738: 'The Clash-Rock The Casbah', 1739: \"The Clash-Rudie Can'T Fail\", 1740: 'The Clash-Should I Stay Or Should I Go', 1741: 'The Clash-Spanish Bombs', 1742: 'The Clash-The Card Cheat', 1743: 'The Clash-The Guns Of Brixton', 1744: 'The Clash-The Right Profile', 1745: 'The Clash-Train In Vain', 1746: 'The Clash-White Riot', 1747: 'The Cranberries-Dreams', 1748: 'The Cranberries-Linger', 1749: 'The Cranberries-Zombie', 1750: 'The Cult-She Sells Sanctuary', 1751: 'The Cure-10:15 Saturday Night', 1752: 'The Cure-A Forest', 1753: \"The Cure-Boys Don'T Cry\", 1754: 'The Cure-Close To Me', 1755: 'The Cure-Fascination Street', 1756: \"The Cure-Friday I'M In Love\", 1757: 'The Cure-High', 1758: 'The Cure-In Between Days', 1759: 'The Cure-Just Like Heaven', 1760: 'The Cure-Killing An Arab', 1761: \"The Cure-Let'S Go To Bed\", 1762: 'The Cure-Love Song', 1763: 'The Cure-Lovesong', 1764: 'The Cure-Lullaby', 1765: 'The Cure-Pictures Of You', 1766: 'The Cure-The Lovecats', 1767: 'The Cure-The Same Deep Water As You', 1768: \"The Cure-Why Can'T I Be You?\", 1769: 'The Dandy Warhols-Bohemian Like You', 1770: 'The Dandy Warhols-Country Leaver', 1771: 'The Dandy Warhols-We Used To Be Friends', 1772: 'The Darkness-I Believe In A Thing Called Love', 1773: 'The Decemberists-Clementine', 1774: 'The Decemberists-From My Own True Love (Lost At Sea)', 1775: 'The Decemberists-Grace Cathedral Hill', 1776: 'The Decemberists-Of Angels And Angles', 1777: 'The Decemberists-Summersong', 1778: \"The Decemberists-The Bagman'S Gambit\", 1779: 'The Decemberists-The Engine Driver', 1780: \"The Decemberists-The Mariner'S Revenge Song\", 1781: 'The Decemberists-The Sporting Life', 1782: 'The Decemberists-We Both Go Down Together', 1783: 'The Decemberists-When The War Came', 1784: 'The Doors-Back Door Man', 1785: 'The Doors-Break On Through', 1786: 'The Doors-Break On Through (To The Other Side)', 1787: 'The Doors-End Of The Night', 1788: 'The Doors-Five To One', 1789: 'The Doors-Hello, I Love You', 1790: 'The Doors-L.A. Woman', 1791: 'The Doors-Light My Fire', 1792: 'The Doors-Love Her Madly', 1793: 'The Doors-Love Me Two Times', 1794: 'The Doors-People Are Strange', 1795: 'The Doors-Riders On The Storm', 1796: 'The Doors-Roadhouse Blues', 1797: 'The Doors-Soul Kitchen', 1798: 'The Doors-Spanish Caravan', 1799: 'The Doors-Strange Days', 1800: 'The Doors-Take It As It Comes', 1801: 'The Doors-The Crystal Ship', 1802: 'The Doors-The End', 1803: 'The Doors-The Unknown Soldier', 1804: 'The Doors-Touch Me', 1805: \"The Doors-When The Music'S Over\", 1806: 'The Faint-Agenda Suicide', 1807: 'The Flaming Lips-Approaching Pavonis Mons By Balloon (Utopia Planitia)', 1808: 'The Flaming Lips-Are You A Hypnotist??', 1809: 'The Flaming Lips-Do You Realize??', 1810: 'The Flaming Lips-Fight Test', 1811: 'The Flaming Lips-In The Morning Of The Magicians', 1812: \"The Flaming Lips-It'S Summertime\", 1813: 'The Flaming Lips-Mr. Ambulance Driver', 1814: 'The Flaming Lips-One More Robot / Sympathy 3000-21', 1815: 'The Flaming Lips-Race For The Prize', 1816: 'The Flaming Lips-Yoshimi Battles The Pink Robots, Part 1', 1817: 'The Fratellis-Chelsea Dagger', 1818: 'The Fray-How To Save A Life', 1819: 'The Futureheads-Alms', 1820: 'The Futureheads-Decent Days And Nights', 1821: 'The Futureheads-Hounds Of Love', 1822: 'The Futureheads-Le Garage', 1823: 'The Go! Team-Air Raid Gtr', 1824: 'The Go! Team-Feelgood By Numbers', 1825: 'The Go! Team-Junior Kickstart', 1826: 'The Go! Team-Ladyflash', 1827: 'The Go! Team-Panther Dash', 1828: 'The Go! Team-The Power Is On', 1829: 'The Goo Goo Dolls-Iris', 1830: 'The Hives-Hate To Say I Told You So', 1831: 'The Hives-Main Offender', 1832: \"The Human League-Don'T You Want Me\", 1833: 'The Jesus And Mary Chain-Just Like Honey', 1834: \"The Killers-All These Things That I'Ve Done\", 1835: \"The Killers-Andy, You'Re A Star\", 1836: 'The Killers-Believe Me Natalie', 1837: 'The Killers-Bling (Confession Of A King)', 1838: 'The Killers-Bones', 1839: 'The Killers-Change Your Mind', 1840: 'The Killers-Enterlude', 1841: 'The Killers-Everything Will Be Alright', 1842: 'The Killers-For Reasons Unknown', 1843: 'The Killers-Glamorous Indie Rock And Roll', 1844: 'The Killers-Human', 1845: 'The Killers-Jenny Was A Friend Of Mine', 1846: 'The Killers-Midnight Show', 1847: 'The Killers-Mr Brightside', 1848: 'The Killers-Mr. Brightside', 1849: 'The Killers-My List', 1850: 'The Killers-On Top', 1851: 'The Killers-Read My Mind', 1852: \"The Killers-Sam'S Town\", 1853: 'The Killers-Smile Like You Mean It', 1854: 'The Killers-Somebody Told Me', 1855: 'The Killers-This River Is Wild', 1856: 'The Killers-Uncle Jonny', 1857: 'The Killers-Under The Gun', 1858: 'The Killers-When You Were Young', 1859: 'The Killers-Why Do I Keep Counting?', 1860: 'The Kinks-All Day And All Of The Night', 1861: 'The Kinks-Lola', 1862: 'The Kinks-Waterloo Sunset', 1863: 'The Kinks-You Really Got Me', 1864: 'The Knife-Behind The Bushes', 1865: 'The Knife-Forest Families', 1866: 'The Knife-Heartbeats', 1867: 'The Knife-Marble House', 1868: 'The Knife-Na Na Na', 1869: 'The Knife-Neverland', 1870: 'The Knife-One For You', 1871: 'The Knife-Pass This On', 1872: 'The Knife-Silent Shout', 1873: 'The Knife-The Captain', 1874: \"The Kooks-Eddie'S Gun\", 1875: 'The Kooks-Jackie Big Tits', 1876: 'The Kooks-Naïve', 1877: 'The Kooks-Ooh La', 1878: 'The Kooks-Seaside', 1879: 'The Kooks-She Moves In Her Own Way', 1880: 'The Kooks-Sofa Song', 1881: 'The Last Shadow Puppets-The Age Of The Understatement', 1882: 'The Libertines-Arbeit Macht Frei', 1883: \"The Libertines-Can'T Stand Me Now\", 1884: 'The Libertines-Music When The Lights Go Out', 1885: 'The Libertines-Time For Heroes', 1886: 'The Libertines-Up The Bracket', 1887: 'The Libertines-What Katie Did', 1888: 'The Magic Numbers-Forever Lost', 1889: \"The Mamas & The Papas-California Dreamin'\", 1890: 'The Mars Volta-Cicatriz Esp', 1891: 'The Mars Volta-Inertiatic Esp', 1892: 'The Mars Volta-Roulette Dares (The Haunt Of)', 1893: 'The Mars Volta-Son Et Lumiere', 1894: 'The Mars Volta-The Widow', 1895: 'The Mars Volta-This Apparatus Must Be Unearthed', 1896: 'The New Pornographers-Mass Romantic', 1897: 'The New Pornographers-The Bleeding Heart Show', 1898: 'The Offspring-Pretty Fly (For A White Guy)', 1899: 'The Pipettes-Pull Shapes', 1900: \"The Police-Don'T Stand So Close To Me\", 1901: 'The Police-Every Breath You Take', 1902: 'The Police-Every Little Thing She Does Is Magic', 1903: 'The Police-Roxanne', 1904: 'The Postal Service-Be Still My Heart', 1905: 'The Postal Service-Brand New Colony', 1906: 'The Postal Service-Clark Gable', 1907: 'The Postal Service-Natural Anthem', 1908: 'The Postal Service-Nothing Better', 1909: 'The Postal Service-Recycled Air', 1910: 'The Postal Service-Sleeping In', 1911: 'The Postal Service-Such Great Heights', 1912: 'The Postal Service-The District Sleeps Alone Tonight', 1913: 'The Postal Service-This Place Is A Prison', 1914: 'The Postal Service-We Will Become Silhouettes', 1915: 'The Prodigy-Breathe', 1916: 'The Prodigy-Diesel Power', 1917: 'The Prodigy-Firestarter', 1918: 'The Prodigy-Funky Shit', 1919: 'The Prodigy-Girls', 1920: 'The Prodigy-Mindfields', 1921: 'The Prodigy-Out Of Space', 1922: 'The Prodigy-Poison', 1923: 'The Prodigy-Smack My Bitch Up', 1924: 'The Prodigy-Spitfire', 1925: 'The Prodigy-Voodoo People', 1926: 'The Raconteurs-Blue Veins', 1927: 'The Raconteurs-Call It A Day', 1928: 'The Raconteurs-Hands', 1929: 'The Raconteurs-Intimate Secretary', 1930: 'The Raconteurs-Level', 1931: 'The Raconteurs-Steady As She Goes', 1932: 'The Raconteurs-Store Bought Bones', 1933: 'The Raconteurs-Together', 1934: 'The Rakes-22 Grand Job', 1935: 'The Rakes-Retreat', 1936: 'The Rakes-Strasbourg', 1937: 'The Rolling Stones-Angie', 1938: 'The Rolling Stones-Beast Of Burden', 1939: 'The Rolling Stones-Brown Sugar', 1940: 'The Rolling Stones-Gimme Shelter', 1941: \"The Rolling Stones-Let'S Spend The Night Together\", 1942: \"The Rolling Stones-Mother'S Little Helper\", 1943: 'The Rolling Stones-Paint It Black', 1944: \"The Rolling Stones-She'S A Rainbow\", 1945: 'The Rolling Stones-Start Me Up', 1946: 'The Rolling Stones-Street Fighting Man', 1947: 'The Rolling Stones-Sympathy For The Devil', 1948: 'The Rolling Stones-Under My Thumb', 1949: 'The Rolling Stones-Wild Horses', 1950: \"The Rolling Stones-You Can'T Always Get What You Want\", 1951: 'The Shins-A Comet Appears', 1952: 'The Shins-Australia', 1953: 'The Shins-Black Wave', 1954: 'The Shins-Caring Is Creepy', 1955: 'The Shins-Girl On The Wing', 1956: 'The Shins-Kissing The Lipless', 1957: 'The Shins-Know Your Onion!', 1958: \"The Shins-Mine'S Not A High Horse\", 1959: 'The Shins-New Slang', 1960: 'The Shins-One By One All Day', 1961: 'The Shins-Pam Berry', 1962: 'The Shins-Phantom Limb', 1963: 'The Shins-Pink Bullets', 1964: 'The Shins-Pressed In A Book', 1965: 'The Shins-Saint Simon', 1966: 'The Shins-Sea Legs', 1967: 'The Shins-Sleeping Lessons', 1968: 'The Shins-So Says I', 1969: 'The Shins-Spilt Needles', 1970: 'The Shins-The Celibate Life', 1971: 'The Shins-The Past And Pending', 1972: 'The Shins-Those To Come', 1973: 'The Shins-Turn A Square', 1974: 'The Shins-Turn On Me', 1975: 'The Shins-Young Pilgrims', 1976: 'The Shins-Your Algebra', 1977: 'The Smashing Pumpkins-1979', 1978: 'The Smashing Pumpkins-Ava Adore', 1979: 'The Smashing Pumpkins-Bullet With Butterfly Wings', 1980: 'The Smashing Pumpkins-Cherub Rock', 1981: 'The Smashing Pumpkins-Disarm', 1982: 'The Smashing Pumpkins-Here Is No Why', 1983: 'The Smashing Pumpkins-Jellybelly', 1984: 'The Smashing Pumpkins-Muzzle', 1985: 'The Smashing Pumpkins-Perfect', 1986: 'The Smashing Pumpkins-Quiet', 1987: 'The Smashing Pumpkins-To Sheila', 1988: 'The Smashing Pumpkins-Today', 1989: 'The Smashing Pumpkins-Tonight, Tonight', 1990: 'The Smashing Pumpkins-Zero', 1991: 'The Smiths-Ask', 1992: 'The Smiths-Back To The Old House', 1993: 'The Smiths-Bigmouth Strikes Again', 1994: 'The Smiths-Cemetry Gates', 1995: 'The Smiths-Frankly, Mr. Shankly', 1996: 'The Smiths-Girlfriend In A Coma', 1997: 'The Smiths-Hand In Glove', 1998: \"The Smiths-Heaven Knows I'M Miserable Now\", 1999: 'The Smiths-How Soon Is Now?', 2000: \"The Smiths-I Know It'S Over\", 2001: 'The Smiths-Last Night I Dreamt That Somebody Loved Me', 2002: 'The Smiths-Panic', 2003: 'The Smiths-Please Please Please Let Me Get What I Want', 2004: \"The Smiths-Shakespeare'S Sister\", 2005: 'The Smiths-Shoplifters Of The World Unite', 2006: 'The Smiths-Some Girls Are Bigger Than Others', 2007: 'The Smiths-Still Ill', 2008: \"The Smiths-Stop Me If You Think You'Ve Heard This One Before\", 2009: \"The Smiths-That Joke Isn'T Funny Anymore\", 2010: 'The Smiths-The Boy With The Thorn In His Side', 2011: 'The Smiths-The Headmaster Ritual', 2012: 'The Smiths-The Queen Is Dead', 2013: 'The Smiths-There Is A Light That Never Goes Out', 2014: 'The Smiths-This Charming Man', 2015: 'The Smiths-This Night Has Opened My Eyes', 2016: 'The Smiths-What Difference Does It Make?', 2017: 'The Smiths-William, It Was Really Nothing', 2018: \"The Stone Roses-Don'T Stop\", 2019: 'The Stone Roses-I Am The Resurrection', 2020: 'The Stone Roses-I Wanna Be Adored', 2021: 'The Stone Roses-She Bangs The Drums', 2022: 'The Stone Roses-This Is The One', 2023: 'The Stooges-I Wanna Be Your Dog', 2024: 'The Stooges-Search And Destroy', 2025: 'The Stranglers-Golden Brown', 2026: 'The Streets-Dry Your Eyes', 2027: 'The Streets-Fit But You Know It', 2028: 'The Strokes-12:51', 2029: 'The Strokes-15 Minutes', 2030: 'The Strokes-Ask Me Anything', 2031: 'The Strokes-Automatic Stop', 2032: 'The Strokes-Barely Legal', 2033: 'The Strokes-Between Love & Hate', 2034: 'The Strokes-Evening Sun', 2035: 'The Strokes-Fear Of Sleep', 2036: 'The Strokes-Hard To Explain', 2037: 'The Strokes-Heart In A Cage', 2038: \"The Strokes-I Can'T Win\", 2039: 'The Strokes-Is This It', 2040: 'The Strokes-Ize Of The World', 2041: 'The Strokes-Juicebox', 2042: 'The Strokes-Last Nite', 2043: 'The Strokes-Meet Me In The Bathroom', 2044: 'The Strokes-New York City Cops', 2045: 'The Strokes-On The Other Side', 2046: 'The Strokes-Red Light', 2047: 'The Strokes-Reptilia', 2048: 'The Strokes-Soma', 2049: 'The Strokes-Someday', 2050: 'The Strokes-Take It Or Leave It', 2051: 'The Strokes-The End Has No End', 2052: 'The Strokes-The Modern Age', 2053: 'The Strokes-The Way It Is', 2054: 'The Strokes-Trying Your Luck', 2055: 'The Strokes-Under Control', 2056: 'The Strokes-Vision Of Division', 2057: 'The Strokes-What Ever Happened?', 2058: 'The Strokes-When It Started', 2059: 'The Strokes-You Only Live Once', 2060: 'The Ting Tings-Great Dj', 2061: 'The Ting Tings-Shut Up And Let Me Go', 2062: \"The Ting Tings-That'S Not My Name\", 2063: \"The Velvet Underground-All Tomorrow'S Parties\", 2064: 'The Velvet Underground-Femme Fatale', 2065: 'The Velvet Underground-Heroin', 2066: \"The Velvet Underground-I'Ll Be Your Mirror\", 2067: \"The Velvet Underground-I'M Sticking With You\", 2068: \"The Velvet Underground-I'M Waiting For The Man\", 2069: \"The Velvet Underground-Oh! Sweet Nuthin'\", 2070: 'The Velvet Underground-Sunday Morning', 2071: 'The Velvet Underground-Sweet Jane', 2072: \"The Velvet Underground-The Black Angel'S Death Song\", 2073: 'The Velvet Underground-Venus In Furs', 2074: 'The Velvet Underground-Who Loves The Sun', 2075: 'The Verve-Bitter Sweet Symphony', 2076: 'The Verve-Bittersweet Symphony', 2077: 'The Verve-Lucky Man', 2078: 'The Verve-Sonnet', 2079: \"The Verve-The Drugs Don'T Work\", 2080: 'The Walkmen-The Rat', 2081: 'The White Stripes-Aluminum', 2082: 'The White Stripes-Ball And Biscuit', 2083: 'The White Stripes-Black Math', 2084: 'The White Stripes-Blue Orchid', 2085: 'The White Stripes-Bone Broke', 2086: 'The White Stripes-Dead Leaves And The Dirty Ground', 2087: 'The White Stripes-Fell In Love With A Girl', 2088: 'The White Stripes-Forever For Her (Is Over For Me)', 2089: 'The White Stripes-Girl, You Have No Faith In Medicine', 2090: 'The White Stripes-Hotel Yorba', 2091: \"The White Stripes-I Just Don'T Know What To Do With Myself\", 2092: 'The White Stripes-I Think I Smell A Rat', 2093: 'The White Stripes-Icky Thump', 2094: 'The White Stripes-In The Cold, Cold Night', 2095: 'The White Stripes-Instinct Blues', 2096: 'The White Stripes-Little Acorns', 2097: 'The White Stripes-Little Cream Soda', 2098: 'The White Stripes-Little Ghost', 2099: 'The White Stripes-Little Room', 2100: 'The White Stripes-My Doorbell', 2101: 'The White Stripes-Offend In Every Way', 2102: 'The White Stripes-Rag And Bone', 2103: 'The White Stripes-Red Rain', 2104: 'The White Stripes-Seven Nation Army', 2105: 'The White Stripes-St. Andrew (This Battle Is In The Air)', 2106: 'The White Stripes-The Air Near My Fingers', 2107: 'The White Stripes-The Denial Twist', 2108: 'The White Stripes-The Hardest Button To Button', 2109: 'The White Stripes-The Nurse', 2110: 'The White Stripes-The Union Forever', 2111: \"The White Stripes-There'S No Home For You Here\", 2112: 'The White Stripes-This Protector', 2113: \"The White Stripes-We'Re Going To Be Friends\", 2114: 'The White Stripes-White Moon', 2115: \"The White Stripes-You'Ve Got Her In Your Pocket\", 2116: 'The Whitest Boy Alive-Burning', 2117: \"The Who-Baba O'Riley\", 2118: 'The Who-Behind Blue Eyes', 2119: 'The Who-I Can See For Miles', 2120: \"The Who-I Can'T Explain\", 2121: 'The Who-My Generation', 2122: 'The Who-Substitute', 2123: 'The Who-Who Are You', 2124: 'Thievery Corporation-Lebanese Blonde', 2125: 'Thom Yorke-Analyse', 2126: 'Thom Yorke-Atoms For Peace', 2127: 'Thom Yorke-Black Swan', 2128: 'Thom Yorke-Cymbal Rush', 2129: 'Thom Yorke-Harrowdown Hill', 2130: 'Thom Yorke-Skip Divided', 2131: 'Thom Yorke-The Clock', 2132: 'Thom Yorke-The Eraser', 2133: 'Tool-10,000 Days (Wings, Part 2)', 2134: 'Tool-Eon Blue Apocalypse', 2135: 'Tool-Eulogy', 2136: 'Tool-Jambi', 2137: 'Tool-Parabola', 2138: 'Tool-Schism', 2139: 'Tool-Wings For Marie, Part 1', 2140: 'Tori Amos-Cornflake Girl', 2141: 'Tori Amos-Crucify', 2142: 'Tori Amos-Silent All These Years', 2143: 'Travis-Side', 2144: 'Travis-Sing', 2145: 'Travis-Writing To Reach You', 2146: 'Tv On The Radio-Golden Age', 2147: 'Tv On The Radio-Let The Devil In', 2148: 'Tv On The Radio-Province', 2149: 'Tv On The Radio-Staring At The Sun', 2150: 'U2-Beautiful Day', 2151: \"U2-I Still Haven'T Found What I'M Looking For\", 2152: \"U2-New Year'S Day\", 2153: 'U2-One', 2154: 'U2-Pride (In The Name Of Love)', 2155: \"U2-Sometimes You Can'T Make It On Your Own\", 2156: \"U2-Stuck In A Moment You Can'T Get Out Of\", 2157: 'U2-Sunday Bloody Sunday', 2158: 'U2-Sweetest Thing', 2159: 'U2-Vertigo', 2160: 'U2-With Or Without You', 2161: 'Vampire Weekend-A-Punk', 2162: 'Vampire Weekend-Bryn', 2163: 'Vampire Weekend-Campus', 2164: 'Vampire Weekend-M79', 2165: 'Vampire Weekend-Mansard Roof', 2166: 'Vampire Weekend-Oxford Comma', 2167: 'Van Halen-Jump', 2168: 'Violent Femmes-Blister In The Sun', 2169: \"We Are Scientists-Can'T Lose\", 2170: \"We Are Scientists-It'S A Hit\", 2171: 'We Are Scientists-Lousy Reputation', 2172: 'We Are Scientists-Nobody Move, Nobody Get Hurt', 2173: 'We Are Scientists-This Scene Is Dead', 2174: 'Weezer-Beverly Hills', 2175: 'Weezer-Buddy Holly', 2176: 'Weezer-Hash Pipe', 2177: 'Weezer-In The Garage', 2178: 'Weezer-Island In The Sun', 2179: \"Weezer-Say It Ain'T So\", 2180: 'Weezer-The Good Life', 2181: 'Weezer-The World Has Turned And Left Me Here', 2182: \"Wilco-At Least That'S What You Said\", 2183: 'Wilco-Heavy Metal Drummer', 2184: 'Wilco-I Am Trying To Break Your Heart', 2185: \"Wilco-I'M The Man Who Loves You\", 2186: 'Wilco-Kamera', 2187: 'Wilco-Muzzle Of Bees', 2188: 'Wolf Parade-Dear Sons And Daughters Of Hungry Ghosts', 2189: 'Wolf Parade-Fancy Claps', 2190: 'Wolf Parade-Grounds For Divorce', 2191: \"Wolf Parade-It'S A Curse\", 2192: 'Wolf Parade-Modern World', 2193: \"Wolf Parade-This Heart'S On Fire\", 2194: \"Wolf Parade-You Are A Runner And I Am My Father'S Son\", 2195: 'Wolfmother-Woman', 2196: 'Yann Tiersen-Guilty', 2197: 'Yann Tiersen-La Noyée', 2198: 'Yann Tiersen-Sur Le Fil', 2199: 'Yeah Yeah Yeahs-Bang', 2200: 'Yeah Yeah Yeahs-Black Tongue', 2201: 'Yeah Yeah Yeahs-Cheated Hearts', 2202: 'Yeah Yeah Yeahs-Cold Light', 2203: 'Yeah Yeah Yeahs-Date With The Night', 2204: 'Yeah Yeah Yeahs-Dudley', 2205: 'Yeah Yeah Yeahs-Fancy', 2206: 'Yeah Yeah Yeahs-Gold Lion', 2207: 'Yeah Yeah Yeahs-Honeybear', 2208: 'Yeah Yeah Yeahs-Man', 2209: 'Yeah Yeah Yeahs-Maps', 2210: 'Yeah Yeah Yeahs-Modern Romance', 2211: 'Yeah Yeah Yeahs-Mysteries', 2212: 'Yeah Yeah Yeahs-No No No', 2213: 'Yeah Yeah Yeahs-Phenomena', 2214: 'Yeah Yeah Yeahs-Pin', 2215: 'Yeah Yeah Yeahs-Rich', 2216: 'Yeah Yeah Yeahs-The Sweets', 2217: 'Yeah Yeah Yeahs-Tick', 2218: 'Yeah Yeah Yeahs-Turn Into', 2219: 'Yeah Yeah Yeahs-Warrior', 2220: 'Yeah Yeah Yeahs-Way Out', 2221: 'Yeah Yeah Yeahs-Y Control', 2222: 'Zero 7-Destiny', 2223: 'Zero 7-End Theme', 2224: 'Zero 7-Give It Away', 2225: 'Zero 7-In The Waiting Line', 2226: 'Zero 7-Likufanele', 2227: 'Zero 7-Polaris', 2228: 'Zero 7-Red Dust', 2229: 'Zero 7-Somersault', 2230: 'Zero 7-This World'}\n"
     ]
    }
   ],
   "source": [
    "print(\"---------- user_to_idx ----------\")\n",
    "print(user_to_idx)\n",
    "print(\"---------- idx_to_user ----------\")\n",
    "print(idx_to_user)\n",
    "print(\"---------- artist_to_idx ----------\")\n",
    "print(artist_to_idx)\n",
    "print(\"---------- idx_to_artist ----------\")\n",
    "print(idx_to_artist)\n",
    "print(\"---------- song_to_idx ----------\")\n",
    "print(song_to_idx)\n",
    "print(\"---------- idx_to_song ----------\")\n",
    "print(idx_to_song)"
   ]
  },
  {
   "cell_type": "markdown",
   "metadata": {},
   "source": [
    "**Documentació consultada:**\n",
    "\n",
    "[IncludeHelp.(nd)._Keep other columns when using sum() with groupby_.IncludeHelp](https://www.includehelp.com/python/keep-other-columns-when-using-sum-with-groupby.aspx)\n",
    "\n",
    "[Adel Nehme.(14/02/2024)._Mastering the Pandas .explode() Method: A Comprehensive Guide_.datacamp](https://www.datacamp.com/tutorial/pandas-explode)\n",
    "\n",
    "[Vultr.(24/12/2024)._Python Pandas DataFrame explode() - Transform Each Iterable_.Vultr](https://docs.vultr.com/python/third-party/pandas/DataFrame/explode)"
   ]
  },
  {
   "cell_type": "markdown",
   "metadata": {
    "id": "P56DmLkL8SVJ"
   },
   "source": [
    "## 2. Construcció de les matrius de coocurrència usuari-artista i usuari-cançó (3 punts)\n",
    "\n",
    "Representarem les interaccions entre usuaris i contingut musical en format matricial, la qual cosa ens permetrà treballar amb les dades de forma vectorial en els següents blocs de la pràctica.\n",
    "\n",
    "Crea dues matrius binàries:\n",
    "\n",
    "- `user_artist_matrix`: representa si un usuari ha escoltat almenys una vegada a l'artista.\n",
    "- `user_song_matrix`: representa si un usuari ha escoltat almenys una vegada la cançó.\n",
    "\n",
    "De tal manera que a la fila i tindrem tots els artistes/cançons que ha escoltat l'usuari i, i tindrà tantes columnes com artistes i cançons hi hagi.\n",
    "\n",
    "Ambdues matrius tindran valors:\n",
    "\n",
    "- **1** si l'usuari ha escoltat l'artista o la cançó.\n",
    "- **0** si no ho ha fet.\n",
    "\n",
    "Per tant, la cel·la `user_artist_matrix[i,j]` representarà si l'*i-èsim* usuari ha escoltat el *j-èsim* artista.\n",
    "\n",
    "Aquestes matrius ens permetran codificar els usuaris, artistes i cançons com a vectors i aplicar tècniques de reducció de dimensionalitat, agrupació o recomanació més endavant.\n",
    "\n",
    "## 2.1 Representació dispersa\n",
    "\n",
    "Atès que la majoria dels usuaris **no han escoltat la majoria dels artistes ni cançons**, aquestes matrius contenen molts zeros. A aquest tipus de matrius se les anomena **matrius disperses (sparse matrices)**, ja que la majoria dels seus elements són nuls.\n",
    "\n",
    "Per treballar amb elles de forma eficient en memòria i en càlcul, farem servir el format **CSR (Compressed Sparse Row)**. Aquest format emmagatzema només els valors diferents de zero juntament amb les seves posicions, la qual cosa permet estalviar memòria i accelerar algunes operacions.\n",
    "\n",
    "Construirem les matrius en [format **`csr_matrix`** de la llibreria `scipy.sparse`](https://docs.scipy.org/doc/scipy/reference/generated/scipy.sparse.csr_matrix.html).\n",
    "\n"
   ]
  },
  {
   "cell_type": "markdown",
   "metadata": {
    "id": "8sapxGct_m4u"
   },
   "source": [
    "<div style=\"background-color: #EDF7FF; border-color: #7C9DBF; border-left: 5px solid #7C9DBF; padding: 0.5em;\">\n",
    "<strong>Implementació:</strong> Crea les matrius de coocurrència.\n",
    "</div>"
   ]
  },
  {
   "cell_type": "code",
   "execution_count": 88,
   "metadata": {
    "id": "TrV0NTDi_146"
   },
   "outputs": [],
   "source": [
    "# Matriu usuaris i artistes\n",
    "matrix_users_artists = np.zeros((len(unique_users), len(unique_artists)), dtype=int) # Construir una matriu de 0\n",
    "indexes_users = []\n",
    "for _, row in df_filtrat.iterrows():\n",
    "    index_artista = artist_to_idx[row[\"artist\"]] # Index artista\n",
    "    for user in row[\"user_id\"]:\n",
    "        indexes_users.append(user_to_idx[user]) # Usuaris que han escoltat l'artista\n",
    "    for listener in indexes_users:\n",
    "        matrix_users_artists[listener, index_artista] = 1 # Assignar 1 a l'usiari i que ha escoltat l'artista j\n",
    "csr_users_artists = csr_matrix(matrix_users_artists)"
   ]
  },
  {
   "cell_type": "code",
   "execution_count": 115,
   "metadata": {},
   "outputs": [],
   "source": [
    "# Matriu cançons - usuaris\n",
    "matrix_users_songs = np.zeros((len(unique_users), len(unique_songs)), dtype=int) # Construir una matriu de 0\n",
    "indexes_users = []\n",
    "for _, row in df_filtrat.iterrows():\n",
    "    complete_key = str(row[\"artist\"] + \"-\" + row[\"track\"]) # Per buscar al diccionari de cançons\n",
    "    index_song = song_to_idx[complete_key] # Index cançó\n",
    "    for user in row[\"user_id\"]:\n",
    "        indexes_users.append(user_to_idx[user]) # Guardar usuaris (indexs)\n",
    "    for listener in indexes_users:\n",
    "        matrix_users_songs[listener, index_song] = 1 # Assignar 1 on correspongui\n",
    "csr_users_songs = csr_matrix(matrix_users_songs)"
   ]
  },
  {
   "cell_type": "markdown",
   "metadata": {
    "id": "6jsvLSVD6ywO"
   },
   "source": [
    "<div style=\"background-color: #EDF7FF; border-color: #7C9DBF; border-left: 5px solid #7C9DBF; padding: 0.5em;\">\n",
    "<strong>Implementació:</strong> Per conèixer el grau de dispersió que té la matriu, podem calcular la proporció d'1s respecte al total d'elements de la matriu: user_song_matrix.\n",
    "</div>"
   ]
  },
  {
   "cell_type": "code",
   "execution_count": 113,
   "metadata": {
    "id": "3EPXQFUN645c"
   },
   "outputs": [
    {
     "data": {
      "text/plain": [
       "{'3 Doors Down-Here Without You': 0,\n",
       " '30 Seconds To Mars-The Kill': 1,\n",
       " 'A Perfect Circle-3 Libras': 2,\n",
       " 'A Perfect Circle-Imagine': 3,\n",
       " 'A-Ha-Take On Me': 4,\n",
       " 'Abba-Dancing Queen': 5,\n",
       " 'Abba-Waterloo': 6,\n",
       " 'Ac/Dc-Back In Black': 7,\n",
       " 'Ac/Dc-Dirty Deeds Done Dirt Cheap': 8,\n",
       " 'Ac/Dc-Hells Bells': 9,\n",
       " 'Ac/Dc-Highway To Hell': 10,\n",
       " 'Ac/Dc-Thunderstruck': 11,\n",
       " 'Ac/Dc-You Shook Me All Night Long': 12,\n",
       " 'Air-All I Need': 13,\n",
       " 'Air-Alone In Kyoto': 14,\n",
       " 'Air-Alpha Beta Gaga': 15,\n",
       " 'Air-Another Day': 16,\n",
       " 'Air-Bathroom Girl': 17,\n",
       " 'Air-Biological': 18,\n",
       " 'Air-Ce Matin-Là': 19,\n",
       " 'Air-Cemetary Party': 20,\n",
       " 'Air-Cherry Blossom Girl': 21,\n",
       " 'Air-Clouds Up': 22,\n",
       " 'Air-Dark Messages': 23,\n",
       " 'Air-Empty House': 24,\n",
       " 'Air-Highschool Lover': 25,\n",
       " 'Air-Kelly Watch The Stars': 26,\n",
       " \"Air-La Femme D'Argent\": 27,\n",
       " 'Air-Le Voyage De Pénélope': 28,\n",
       " 'Air-Left Bank': 29,\n",
       " 'Air-Mike Mills': 30,\n",
       " 'Air-Napalm Love': 31,\n",
       " 'Air-New Star In The Sky': 32,\n",
       " 'Air-New Star In The Sky (Chanson Pour Solal)': 33,\n",
       " 'Air-Once Upon A Time': 34,\n",
       " 'Air-Photograph': 35,\n",
       " 'Air-Playground Love': 36,\n",
       " 'Air-Remember': 37,\n",
       " 'Air-Run': 38,\n",
       " 'Air-Sexy Boy': 39,\n",
       " 'Air-Space Maker': 40,\n",
       " 'Air-Surfing On A Rocket': 41,\n",
       " 'Air-Talisman': 42,\n",
       " \"Air-The Word 'Hurricane'\": 43,\n",
       " 'Air-Universal Traveler': 44,\n",
       " 'Air-Venus': 45,\n",
       " 'Air-You Make It Easy': 46,\n",
       " \"Al Green-Let'S Stay Together\": 47,\n",
       " 'Alanis Morissette-Ironic': 48,\n",
       " 'Alanis Morissette-You Oughta Know': 49,\n",
       " 'Alice Cooper-Poison': 50,\n",
       " 'Alice In Chains-Rooster': 51,\n",
       " 'Alice In Chains-Them Bones': 52,\n",
       " 'Amy Winehouse-Back To Black': 53,\n",
       " 'Amy Winehouse-He Can Only Hold Her': 54,\n",
       " 'Amy Winehouse-Just Friends': 55,\n",
       " 'Amy Winehouse-Love Is A Losing Game': 56,\n",
       " 'Amy Winehouse-Rehab': 57,\n",
       " 'Amy Winehouse-Some Unholy War': 58,\n",
       " 'Amy Winehouse-Tears Dry On Their Own': 59,\n",
       " 'Amy Winehouse-Wake Up Alone': 60,\n",
       " \"Amy Winehouse-You Know I'M No Good\": 61,\n",
       " 'Andrew Bird-Measuring Cups': 62,\n",
       " 'Animal Collective-Banshee Beat': 63,\n",
       " 'Animal Collective-Flesh Canoe': 64,\n",
       " 'Animal Collective-Grass': 65,\n",
       " 'Annie-Chewing Gum': 66,\n",
       " 'Antony And The Johnsons-Bird Gerhl': 67,\n",
       " 'Antony And The Johnsons-For Today I Am A Boy': 68,\n",
       " \"Antony And The Johnsons-Hope There'S Someone\": 69,\n",
       " 'Antony And The Johnsons-What Can I Do?': 70,\n",
       " 'Aqualung-Brighter Than Sunshine': 71,\n",
       " 'Arcade Fire-Black Mirror': 72,\n",
       " 'Arcade Fire-Black Wave/Bad Vibrations': 73,\n",
       " 'Arcade Fire-Crown Of Love': 74,\n",
       " 'Arcade Fire-Haiti': 75,\n",
       " 'Arcade Fire-Headlights Look Like Diamonds': 76,\n",
       " 'Arcade Fire-In The Back Seat': 77,\n",
       " 'Arcade Fire-In The Backseat': 78,\n",
       " 'Arcade Fire-Intervention': 79,\n",
       " 'Arcade Fire-Keep The Car Running': 80,\n",
       " 'Arcade Fire-My Body Is A Cage': 81,\n",
       " 'Arcade Fire-Neighborhood #1 (Tunnels)': 82,\n",
       " 'Arcade Fire-Neighborhood #2 (Laika)': 83,\n",
       " 'Arcade Fire-Neighborhood #3 (Power Out)': 84,\n",
       " 'Arcade Fire-Neighborhood #4 (7 Kettles)': 85,\n",
       " 'Arcade Fire-Neon Bible': 86,\n",
       " 'Arcade Fire-No Cars Go': 87,\n",
       " 'Arcade Fire-Ocean Of Noise': 88,\n",
       " 'Arcade Fire-Rebellion (Lies)': 89,\n",
       " 'Arcade Fire-The Well And The Lighthouse': 90,\n",
       " 'Arcade Fire-Une Année Sans Lumière': 91,\n",
       " 'Arcade Fire-Wake Up': 92,\n",
       " 'Arcade Fire-Windowsill': 93,\n",
       " 'Architecture In Helsinki-Do The Whirlwind': 94,\n",
       " 'Architecture In Helsinki-Imaginary Ordinary': 95,\n",
       " \"Architecture In Helsinki-It'5!\": 96,\n",
       " 'Architecture In Helsinki-Like A Call': 97,\n",
       " 'Architecture In Helsinki-Maybe You Can Owe Me': 98,\n",
       " 'Architecture In Helsinki-One Heavy February': 99,\n",
       " 'Architecture In Helsinki-Scissor Paper Rock': 100,\n",
       " 'Architecture In Helsinki-The Owls Go': 101,\n",
       " 'Architecture In Helsinki-To And Fro': 102,\n",
       " 'Arctic Monkeys-A Certain Romance': 103,\n",
       " 'Arctic Monkeys-Balaclava': 104,\n",
       " 'Arctic Monkeys-Brianstorm': 105,\n",
       " 'Arctic Monkeys-D Is For Dangerous': 106,\n",
       " 'Arctic Monkeys-Dancing Shoes': 107,\n",
       " 'Arctic Monkeys-Fake Tales Of San Francisco': 108,\n",
       " 'Arctic Monkeys-Fluorescent Adolescent': 109,\n",
       " 'Arctic Monkeys-From The Ritz To The Rubble': 110,\n",
       " 'Arctic Monkeys-I Bet You Look Good On The Dancefloor': 111,\n",
       " 'Arctic Monkeys-If You Were There, Beware': 112,\n",
       " 'Arctic Monkeys-Mardy Bum': 113,\n",
       " 'Arctic Monkeys-Perhaps Vampires Is A Bit Strong But...': 114,\n",
       " 'Arctic Monkeys-Red Light Indicates Doors Are Secured': 115,\n",
       " 'Arctic Monkeys-Riot Van': 116,\n",
       " 'Arctic Monkeys-Still Take You Home': 117,\n",
       " 'Arctic Monkeys-Teddy Picker': 118,\n",
       " 'Arctic Monkeys-The Bad Thing': 119,\n",
       " 'Arctic Monkeys-The View From The Afternoon': 120,\n",
       " 'Arctic Monkeys-When The Sun Goes Down': 121,\n",
       " \"Arctic Monkeys-You Probably Couldn'T See For The Lights But You Were Staring Straight At Me\": 122,\n",
       " 'Aretha Franklin-Respect': 123,\n",
       " 'Art Brut-Formed A Band': 124,\n",
       " 'Art Brut-Good Weekend': 125,\n",
       " 'Art Brut-Modern Art': 126,\n",
       " 'Art Brut-My Little Brother': 127,\n",
       " 'At The Drive-In-One Armed Scissor': 128,\n",
       " 'Audioslave-Be Yourself': 129,\n",
       " 'Audioslave-Cochise': 130,\n",
       " 'Audioslave-Hypnotize': 131,\n",
       " 'Audioslave-Like A Stone': 132,\n",
       " 'Audioslave-Show Me How To Live': 133,\n",
       " 'Babyshambles-Fuck Forever': 134,\n",
       " 'Band Of Horses-The Funeral': 135,\n",
       " \"Basement Jaxx-Where'S Your Head At\": 136,\n",
       " 'Bat For Lashes-Sad Eyes': 137,\n",
       " 'Battles-Atlas': 138,\n",
       " 'Be Your Own Pet-Adventure': 139,\n",
       " 'Beastie Boys-Intergalactic': 140,\n",
       " 'Beastie Boys-Sabotage': 141,\n",
       " 'Beck-Black Tambourine': 142,\n",
       " 'Beck-Derelict': 143,\n",
       " 'Beck-E-Pro': 144,\n",
       " 'Beck-Girl': 145,\n",
       " 'Beck-Go It Alone': 146,\n",
       " 'Beck-Loser': 147,\n",
       " 'Beck-Scarecrow': 148,\n",
       " 'Beck-Sexx Laws': 149,\n",
       " \"Beck-Where It'S At\": 150,\n",
       " 'Beirut-A Sunday Smile': 151,\n",
       " 'Beirut-After The Curtain': 152,\n",
       " 'Beirut-Brandenburg': 153,\n",
       " 'Beirut-Mount Wroclai (Idle Days)': 154,\n",
       " 'Beirut-Postcards From Italy': 155,\n",
       " 'Beirut-Rhineland (Heartland)': 156,\n",
       " 'Belle And Sebastian-A Space Boy Dream': 157,\n",
       " 'Belle And Sebastian-Dear Catastrophe Waitress': 158,\n",
       " 'Belle And Sebastian-Electronic Renaissance': 159,\n",
       " 'Belle And Sebastian-Expectations': 160,\n",
       " 'Belle And Sebastian-Funny Little Frog': 161,\n",
       " \"Belle And Sebastian-Get Me Away From Here, I'M Dying\": 162,\n",
       " \"Belle And Sebastian-I'M A Cuckoo\": 163,\n",
       " 'Belle And Sebastian-If She Wants Me': 164,\n",
       " 'Belle And Sebastian-It Could Have Been A Brilliant Career': 165,\n",
       " 'Belle And Sebastian-Judy And The Dream Of Horses': 166,\n",
       " 'Belle And Sebastian-Like Dylan In The Movies': 167,\n",
       " 'Belle And Sebastian-Me And The Major': 168,\n",
       " 'Belle And Sebastian-Piazza, New York Catcher': 169,\n",
       " 'Belle And Sebastian-Seeing Other People': 170,\n",
       " 'Belle And Sebastian-Seymour Stein': 171,\n",
       " 'Belle And Sebastian-Sleep The Clock Around': 172,\n",
       " 'Belle And Sebastian-Stay Loose': 173,\n",
       " 'Belle And Sebastian-Step Into My Office, Baby': 174,\n",
       " 'Belle And Sebastian-The Boy Done Wrong Again': 175,\n",
       " 'Belle And Sebastian-The Boy With The Arab Strap': 176,\n",
       " 'Belle And Sebastian-The Fox In The Snow': 177,\n",
       " 'Belle And Sebastian-We Are The Sleepyheads': 178,\n",
       " 'Belle And Sebastian-White Collar Boy': 179,\n",
       " 'Belle And Sebastian-Wrapped Up In Books': 180,\n",
       " \"Belle And Sebastian-You'Re Just A Baby\": 181,\n",
       " 'Benny Benassi-Satisfaction': 182,\n",
       " 'Björk-All Is Full Of Love': 183,\n",
       " 'Björk-All Neon Like': 184,\n",
       " 'Björk-Army Of Me': 185,\n",
       " 'Björk-Bachelorette': 186,\n",
       " 'Björk-Big Time Sensuality': 187,\n",
       " 'Björk-Come To Me': 188,\n",
       " 'Björk-Declare Independence': 189,\n",
       " 'Björk-Hidden Place': 190,\n",
       " 'Björk-Human Behaviour': 191,\n",
       " 'Björk-Hunter': 192,\n",
       " 'Björk-Hyper-Ballad': 193,\n",
       " 'Björk-Isobel': 194,\n",
       " \"Björk-It'S Oh So Quiet\": 195,\n",
       " 'Björk-Jóga': 196,\n",
       " 'Björk-Like Someone In Love': 197,\n",
       " 'Björk-Pagan Poetry': 198,\n",
       " 'Björk-Play Dead': 199,\n",
       " 'Björk-Possibly Maybe': 200,\n",
       " 'Björk-Unison': 201,\n",
       " 'Björk-Unravel': 202,\n",
       " 'Björk-Venus As A Boy': 203,\n",
       " 'Björk-Violently Happy': 204,\n",
       " \"Black Kids-I'M Not Gonna Teach Your Boyfriend How To Dance With You\": 205,\n",
       " \"Black Rebel Motorcycle Club-Ain'T No Easy Way\": 206,\n",
       " 'Black Rebel Motorcycle Club-Love Burns': 207,\n",
       " 'Black Rebel Motorcycle Club-Still Suspicion Holds You Tight': 208,\n",
       " 'Black Sabbath-Iron Man': 209,\n",
       " 'Black Sabbath-Paranoid': 210,\n",
       " 'Black Sabbath-Planet Caravan': 211,\n",
       " \"Blink-182-Adam'S Song\": 212,\n",
       " 'Blink-182-All The Small Things': 213,\n",
       " 'Bloc Party-Banquet': 214,\n",
       " 'Bloc Party-Blue Light': 215,\n",
       " 'Bloc Party-Compliments': 216,\n",
       " 'Bloc Party-Helicopter': 217,\n",
       " 'Bloc Party-Hunting For Witches': 218,\n",
       " 'Bloc Party-I Still Remember': 219,\n",
       " 'Bloc Party-Kreuzberg': 220,\n",
       " 'Bloc Party-Like Eating Glass': 221,\n",
       " 'Bloc Party-Little Thoughts': 222,\n",
       " 'Bloc Party-Luno': 223,\n",
       " 'Bloc Party-Mercury': 224,\n",
       " 'Bloc Party-Pioneers': 225,\n",
       " 'Bloc Party-Plans': 226,\n",
       " 'Bloc Party-Positive Tension': 227,\n",
       " 'Bloc Party-Price Of Gas': 228,\n",
       " \"Bloc Party-She'S Hearing Voices\": 229,\n",
       " 'Bloc Party-So Here We Are': 230,\n",
       " 'Bloc Party-Song For Clay (Disappear Here)': 231,\n",
       " 'Bloc Party-Sunday': 232,\n",
       " 'Bloc Party-The Prayer': 233,\n",
       " 'Bloc Party-This Modern Love': 234,\n",
       " 'Bloc Party-Uniform': 235,\n",
       " 'Bloc Party-Waiting For The 7.18': 236,\n",
       " 'Bloc Party-Where Is Home?': 237,\n",
       " 'Blonde Redhead-Melody': 238,\n",
       " 'Blondie-Atomic': 239,\n",
       " 'Blondie-Call Me': 240,\n",
       " 'Blondie-Denis': 241,\n",
       " 'Blondie-Heart Of Glass': 242,\n",
       " 'Blondie-One Way Or Another': 243,\n",
       " 'Blondie-Picture This': 244,\n",
       " 'Blondie-Sunday Girl': 245,\n",
       " 'Blur-Beetlebum': 246,\n",
       " 'Blur-Coffee & Tv': 247,\n",
       " 'Blur-Country House': 248,\n",
       " 'Blur-For Tomorrow': 249,\n",
       " 'Blur-Girls & Boys': 250,\n",
       " 'Blur-Parklife': 251,\n",
       " 'Blur-Sing': 252,\n",
       " 'Blur-Song 2': 253,\n",
       " 'Blur-Tender': 254,\n",
       " 'Blur-The Universal': 255,\n",
       " \"Blur-There'S No Other Way\": 256,\n",
       " 'Blur-This Is A Low': 257,\n",
       " 'Blur-To The End': 258,\n",
       " 'Boards Of Canada-1969': 259,\n",
       " 'Boards Of Canada-Bocuma': 260,\n",
       " 'Boards Of Canada-Dayvan Cowboy': 261,\n",
       " 'Boards Of Canada-Into The Rainbow Vein': 262,\n",
       " 'Boards Of Canada-Kaini Industries': 263,\n",
       " 'Boards Of Canada-Roygbiv': 264,\n",
       " 'Boards Of Canada-Smokes Quantity': 265,\n",
       " 'Boards Of Canada-The Color Of The Fire': 266,\n",
       " 'Boards Of Canada-Turquoise Hexagon Sun': 267,\n",
       " 'Boards Of Canada-Wildlife Analysis': 268,\n",
       " 'Bob Dylan-I Want You': 269,\n",
       " 'Bob Dylan-Just Like A Woman': 270,\n",
       " 'Bob Dylan-Like A Rolling Stone': 271,\n",
       " 'Bob Dylan-Mr. Tambourine Man': 272,\n",
       " 'Bob Dylan-Rainy Day Women #12 & 35': 273,\n",
       " 'Bob Dylan-Subterranean Homesick Blues': 274,\n",
       " 'Bob Dylan-Tangled Up In Blue': 275,\n",
       " \"Bob Dylan-The Times They Are A-Changin'\": 276,\n",
       " 'Bob Marley & The Wailers-Buffalo Soldier': 277,\n",
       " 'Bon Iver-Flume': 278,\n",
       " 'Boy Division-Love Will Tear Us Apart': 279,\n",
       " 'Bright Eyes-At The Bottom Of Everything': 280,\n",
       " 'Bright Eyes-First Day Of My Life': 281,\n",
       " \"Bright Eyes-Lover I Don'T Have To Love\": 282,\n",
       " 'Bright Eyes-Lua': 283,\n",
       " 'Bright Eyes-Old Soul Song (For The New World Order)': 284,\n",
       " 'Bright Eyes-Road To Joy': 285,\n",
       " 'Bright Eyes-Ship In A Bottle': 286,\n",
       " \"Bright Eyes-We Are Nowhere And It'S Now\": 287,\n",
       " 'Britney Spears-Toxic': 288,\n",
       " 'Broken Social Scene-7/4 (Shoreline)': 289,\n",
       " 'Broken Social Scene-Anthems For A Seventeen Year-Old Girl': 290,\n",
       " 'Broken Social Scene-Capture The Flag': 291,\n",
       " 'Broken Social Scene-Cause = Time': 292,\n",
       " 'Broken Social Scene-Finish Your Collapse And Stay For Breakfast': 293,\n",
       " \"Broken Social Scene-Fire Eye'D Boy\": 294,\n",
       " \"Broken Social Scene-I'M Still Your Fag\": 295,\n",
       " 'Broken Social Scene-Looks Just Like The Sun': 296,\n",
       " 'Broken Social Scene-Love And Mathematics': 297,\n",
       " \"Broken Social Scene-Lover'S Spit\": 298,\n",
       " 'Broken Social Scene-Major Label Debut': 299,\n",
       " 'Broken Social Scene-Pacific Theme': 300,\n",
       " 'Broken Social Scene-Pitter Patter Goes My Heart': 301,\n",
       " 'Broken Social Scene-Shampoo Suicide': 302,\n",
       " 'Broken Social Scene-Stars And Sons': 303,\n",
       " 'Broken Social Scene-Swimmers': 304,\n",
       " 'Cansei De Ser Sexy-Alala': 305,\n",
       " 'Cansei De Ser Sexy-Alcohol': 306,\n",
       " 'Cansei De Ser Sexy-Art Bitch': 307,\n",
       " \"Cansei De Ser Sexy-Let'S Make Love And Listen To Death From Above\": 308,\n",
       " 'Cansei De Ser Sexy-Meeting Paris Hilton': 309,\n",
       " 'Cansei De Ser Sexy-Music Is My Hot Hot Sex': 310,\n",
       " 'Cat Power-After It All': 311,\n",
       " 'Cat Power-Good Woman': 312,\n",
       " 'Cat Power-Lived In Bars': 313,\n",
       " 'Cat Power-Living Proof': 314,\n",
       " 'Cat Power-The Greatest': 315,\n",
       " 'Cat Power-The Moon': 316,\n",
       " 'Cat Power-Werewolf': 317,\n",
       " 'Chuck Berry-Johnny B. Goode': 318,\n",
       " 'Clap Your Hands Say Yeah-Blue Turning Gray': 319,\n",
       " 'Clap Your Hands Say Yeah-Clap Your Hands!': 320,\n",
       " 'Clap Your Hands Say Yeah-Details Of The War': 321,\n",
       " 'Clap Your Hands Say Yeah-Heavy Metal': 322,\n",
       " 'Clap Your Hands Say Yeah-In This Home On Ice': 323,\n",
       " 'Clap Your Hands Say Yeah-Let The Cool Goddess Rust Away': 324,\n",
       " 'Clap Your Hands Say Yeah-Over And Over Again (Lost And Found)': 325,\n",
       " 'Clap Your Hands Say Yeah-Sunshine And Clouds (And Everything Proud)': 326,\n",
       " 'Clap Your Hands Say Yeah-The Skin Of My Yellow Country Teeth': 327,\n",
       " 'Clap Your Hands Say Yeah-Upon This Tidal Wave Of Young Blood': 328,\n",
       " 'Cocorosie-Beautiful Boyz': 329,\n",
       " 'Cocorosie-Butterscotch': 330,\n",
       " 'Cold War Kids-Hang Me Up To Dry': 331,\n",
       " 'Coldplay-A Message': 332,\n",
       " 'Coldplay-A Rush Of Blood To The Head': 333,\n",
       " 'Coldplay-A Whisper': 334,\n",
       " 'Coldplay-Amsterdam': 335,\n",
       " 'Coldplay-Cemeteries Of London': 336,\n",
       " 'Coldplay-Clocks': 337,\n",
       " 'Coldplay-Daylight': 338,\n",
       " 'Coldplay-Death And All His Friends': 339,\n",
       " \"Coldplay-Don'T Panic\": 340,\n",
       " \"Coldplay-Everything'S Not Lost\": 341,\n",
       " 'Coldplay-Fix You': 342,\n",
       " 'Coldplay-God Put A Smile Upon Your Face': 343,\n",
       " 'Coldplay-Green Eyes': 344,\n",
       " 'Coldplay-High Speed': 345,\n",
       " 'Coldplay-In My Place': 346,\n",
       " 'Coldplay-Life In Technicolor': 347,\n",
       " 'Coldplay-Lost!': 348,\n",
       " 'Coldplay-Low': 349,\n",
       " 'Coldplay-Parachutes': 350,\n",
       " 'Coldplay-Politik': 351,\n",
       " 'Coldplay-Shiver': 352,\n",
       " 'Coldplay-Sparks': 353,\n",
       " 'Coldplay-Speed Of Sound': 354,\n",
       " 'Coldplay-Spies': 355,\n",
       " 'Coldplay-Square One': 356,\n",
       " 'Coldplay-Strawberry Swing': 357,\n",
       " 'Coldplay-Swallowed In The Sea': 358,\n",
       " 'Coldplay-Talk': 359,\n",
       " 'Coldplay-The Hardest Part': 360,\n",
       " 'Coldplay-The Scientist': 361,\n",
       " 'Coldplay-Trouble': 362,\n",
       " 'Coldplay-Twisted Logic': 363,\n",
       " 'Coldplay-Violet Hill': 364,\n",
       " 'Coldplay-Viva La Vida': 365,\n",
       " 'Coldplay-Warning Sign': 366,\n",
       " 'Coldplay-We Never Change': 367,\n",
       " 'Coldplay-What If': 368,\n",
       " 'Coldplay-White Shadows': 369,\n",
       " 'Coldplay-X&Y': 370,\n",
       " 'Coldplay-Yellow': 371,\n",
       " 'Corinne Bailey Rae-Put Your Records On': 372,\n",
       " 'Counting Crows-Mr. Jones': 373,\n",
       " 'Counting Crows-Omaha': 374,\n",
       " 'Cream-Sunshine Of Your Love': 375,\n",
       " 'Creedence Clearwater Revisited-Bad Moon Rising': 376,\n",
       " 'Creedence Clearwater Revisited-Down On The Corner': 377,\n",
       " 'Creedence Clearwater Revisited-Fortunate Son': 378,\n",
       " 'Creedence Clearwater Revisited-Up Around The Bend': 379,\n",
       " 'Crystal Castles-Magic Spells': 380,\n",
       " 'Crystal Castles-Untrust Us': 381,\n",
       " 'Cut Copy-Hearts On Fire': 382,\n",
       " 'Cut Copy-Strangers In The Wind': 383,\n",
       " 'Daft Punk-Aerodynamic': 384,\n",
       " 'Daft Punk-Around The World': 385,\n",
       " 'Daft Punk-Crescendolls': 386,\n",
       " 'Daft Punk-Da Funk': 387,\n",
       " 'Daft Punk-Digital Love': 388,\n",
       " 'Daft Punk-Face To Face': 389,\n",
       " 'Daft Punk-Harder, Better, Faster, Stronger': 390,\n",
       " 'Daft Punk-High Fidelity': 391,\n",
       " 'Daft Punk-High Life': 392,\n",
       " 'Daft Punk-Nightvision': 393,\n",
       " 'Daft Punk-One More Time': 394,\n",
       " 'Daft Punk-Phoenix': 395,\n",
       " 'Daft Punk-Revolution 909': 396,\n",
       " 'Daft Punk-Robot Rock': 397,\n",
       " 'Daft Punk-Short Circuit': 398,\n",
       " 'Daft Punk-Something About Us': 399,\n",
       " 'Daft Punk-Superheroes': 400,\n",
       " 'Daft Punk-Technologic': 401,\n",
       " 'Daft Punk-Too Long': 402,\n",
       " 'Daft Punk-Veridis Quo': 403,\n",
       " 'Daft Punk-Voyager': 404,\n",
       " 'Damien Rice-Cannonball': 405,\n",
       " \"Damien Rice-Cheers Darlin'\": 406,\n",
       " 'Damien Rice-Cold Water': 407,\n",
       " 'Damien Rice-Delicate': 408,\n",
       " 'Damien Rice-Older Chests': 409,\n",
       " \"Damien Rice-The Blower'S Daughter\": 410,\n",
       " 'Damien Rice-Volcano': 411,\n",
       " 'Dashboard Confessional-Screaming Infidelities': 412,\n",
       " 'David Bowie-Ashes To Ashes': 413,\n",
       " 'David Bowie-Changes': 414,\n",
       " 'David Bowie-China Girl': 415,\n",
       " 'David Bowie-Fame': 416,\n",
       " 'David Bowie-Golden Years': 417,\n",
       " 'David Bowie-Heroes': 418,\n",
       " 'David Bowie-Lady Stardust': 419,\n",
       " \"David Bowie-Let'S Dance\": 420,\n",
       " 'David Bowie-Life On Mars?': 421,\n",
       " 'David Bowie-Modern Love': 422,\n",
       " 'David Bowie-Rebel Rebel': 423,\n",
       " 'David Bowie-Space Oddity': 424,\n",
       " 'David Bowie-Starman': 425,\n",
       " 'David Bowie-Suffragette City': 426,\n",
       " 'David Bowie-The Jean Genie': 427,\n",
       " 'David Bowie-The Man Who Sold The World': 428,\n",
       " 'David Bowie-Ziggy Stardust': 429,\n",
       " 'David Gray-Babylon': 430,\n",
       " 'Dead Kennedys-California Über Alles': 431,\n",
       " 'Dead Kennedys-Kill The Poor': 432,\n",
       " 'Death Cab For Cutie-A Lack Of Color': 433,\n",
       " 'Death Cab For Cutie-Bixby Canyon Bridge': 434,\n",
       " 'Death Cab For Cutie-Brothers On A Hotel Bed': 435,\n",
       " 'Death Cab For Cutie-Crooked Teeth': 436,\n",
       " 'Death Cab For Cutie-Death Of An Interior Decorator': 437,\n",
       " 'Death Cab For Cutie-Different Names For The Same Thing': 438,\n",
       " \"Death Cab For Cutie-Expo '86\": 439,\n",
       " 'Death Cab For Cutie-I Will Follow You Into The Dark': 440,\n",
       " 'Death Cab For Cutie-Lightness': 441,\n",
       " 'Death Cab For Cutie-Marching Bands Of Manhattan': 442,\n",
       " 'Death Cab For Cutie-Passenger Seat': 443,\n",
       " 'Death Cab For Cutie-Photobooth': 444,\n",
       " 'Death Cab For Cutie-Someday You Will Be Loved': 445,\n",
       " 'Death Cab For Cutie-Soul Meets Body': 446,\n",
       " 'Death Cab For Cutie-Stable Song': 447,\n",
       " 'Death Cab For Cutie-Steadier Footing': 448,\n",
       " 'Death Cab For Cutie-Summer Skin': 449,\n",
       " 'Death Cab For Cutie-The New Year': 450,\n",
       " 'Death Cab For Cutie-The Sound Of Settling': 451,\n",
       " 'Death Cab For Cutie-Tiny Vessels': 452,\n",
       " 'Death Cab For Cutie-Title And Registration': 453,\n",
       " 'Death Cab For Cutie-Transatlanticism': 454,\n",
       " 'Death Cab For Cutie-We Looked Like Giants': 455,\n",
       " 'Death Cab For Cutie-What Sarah Said': 456,\n",
       " 'Death Cab For Cutie-Your Heart Is An Empty Room': 457,\n",
       " 'Death From Above 1979-Black History Month': 458,\n",
       " 'Death From Above 1979-Blood On Our Hands': 459,\n",
       " 'Death From Above 1979-Cold War': 460,\n",
       " 'Death From Above 1979-Go Home, Get Down': 461,\n",
       " 'Death From Above 1979-Sexy Results': 462,\n",
       " 'Death From Above 1979-Turn It Out': 463,\n",
       " \"Death From Above 1979-You'Re A Woman, I'M A Machine\": 464,\n",
       " 'Deep Purple-Highway Star': 465,\n",
       " 'Deep Purple-Hush': 466,\n",
       " 'Deep Purple-Smoke On The Water': 467,\n",
       " 'Deftones-Knife Prty': 468,\n",
       " \"Depeche Mode-A Pain That I'M Used To\": 469,\n",
       " 'Depeche Mode-Condemnation': 470,\n",
       " 'Depeche Mode-Dream On': 471,\n",
       " 'Depeche Mode-Enjoy The Silence': 472,\n",
       " 'Depeche Mode-I Feel You': 473,\n",
       " \"Depeche Mode-Just Can'T Get Enough\": 474,\n",
       " 'Depeche Mode-Master And Servant': 475,\n",
       " 'Depeche Mode-Never Let Me Down Again': 476,\n",
       " 'Depeche Mode-People Are People': 477,\n",
       " 'Depeche Mode-Personal Jesus': 478,\n",
       " 'Depeche Mode-Policy Of Truth': 479,\n",
       " 'Depeche Mode-Precious': 480,\n",
       " 'Depeche Mode-Strangelove': 481,\n",
       " 'Depeche Mode-Stripped': 482,\n",
       " 'Depeche Mode-Suffer Well': 483,\n",
       " 'Depeche Mode-World In My Eyes': 484,\n",
       " 'Dexys Midnight Runners-Come On Eileen': 485,\n",
       " 'Dido-White Flag': 486,\n",
       " 'Digitalism-Pogo': 487,\n",
       " 'Dire Straits-Brothers In Arms': 488,\n",
       " 'Dire Straits-Money For Nothing': 489,\n",
       " 'Dire Straits-Sultans Of Swing': 490,\n",
       " \"Dirty Pretty Things-Bang Bang You'Re Dead\": 491,\n",
       " 'Dj Shadow-Organ Donor': 492,\n",
       " 'Dj Shadow-The Number Song': 493,\n",
       " 'Doves-There Goes The Fear': 494,\n",
       " 'Dread Zeppelin-Celebration Day': 495,\n",
       " \"Dread Zeppelin-D'Yer Mak'Er\": 496,\n",
       " 'Dread Zeppelin-Going To California': 497,\n",
       " 'Dread Zeppelin-Good Times Bad Times': 498,\n",
       " 'Dread Zeppelin-Heartbreaker': 499,\n",
       " 'Dread Zeppelin-Misty Mountain Hop': 500,\n",
       " 'Dread Zeppelin-No Quarter': 501,\n",
       " 'Dread Zeppelin-Ramble On': 502,\n",
       " 'Dread Zeppelin-Stairway To Heaven': 503,\n",
       " 'Dread Zeppelin-The Rain Song': 504,\n",
       " 'Dread Zeppelin-The Song Remains The Same': 505,\n",
       " 'Dread Zeppelin-What Is And What Should Never Be': 506,\n",
       " 'Dread Zeppelin-When The Levee Breaks': 507,\n",
       " 'Dread Zeppelin-Your Time Is Gonna Come': 508,\n",
       " 'Duffy-Mercy': 509,\n",
       " 'Dusty Springfield-Son Of A Preacher Man': 510,\n",
       " 'Eagles-Hotel California': 511,\n",
       " 'Echo & The Bunnymen-The Killing Moon': 512,\n",
       " 'Editors-All Sparks': 513,\n",
       " 'Editors-An End Has A Start': 514,\n",
       " 'Editors-Blood': 515,\n",
       " 'Editors-Bullets': 516,\n",
       " 'Editors-Distance': 517,\n",
       " 'Editors-Fall': 518,\n",
       " 'Editors-Fingers In The Factories': 519,\n",
       " 'Editors-Lights': 520,\n",
       " 'Editors-Munich': 521,\n",
       " 'Editors-Someone Says': 522,\n",
       " 'Elliott Smith-A Passing Feeling': 523,\n",
       " 'Elliott Smith-Between The Bars': 524,\n",
       " 'Elliott Smith-Bled White': 525,\n",
       " 'Elliott Smith-Everything Reminds Me Of Her': 526,\n",
       " \"Elliott Smith-I Didn'T Understand\": 527,\n",
       " 'Elliott Smith-Memory Lane': 528,\n",
       " 'Elliott Smith-Needle In The Hay': 529,\n",
       " 'Elliott Smith-Ostrich & Chirping': 530,\n",
       " 'Elliott Smith-Pretty (Ugly Before)': 531,\n",
       " 'Elliott Smith-Punch And Judy': 532,\n",
       " 'Elliott Smith-Say Yes': 533,\n",
       " 'Elliott Smith-Somebody That I Used To Know': 534,\n",
       " 'Elliott Smith-Speed Trials': 535,\n",
       " 'Elliott Smith-Tomorrow Tomorrow': 536,\n",
       " 'Elliott Smith-Waltz #2 (Xo)': 537,\n",
       " 'Elvis Presley-Jailhouse Rock': 538,\n",
       " 'Evanescence-Bring Me To Life': 539,\n",
       " \"Evanescence-Call Me When You'Re Sober\": 540,\n",
       " 'Evanescence-Going Under': 541,\n",
       " 'Evanescence-My Immortal': 542,\n",
       " 'Explosions In The Sky-First Breath After Coma': 543,\n",
       " 'Explosions In The Sky-Greet Death': 544,\n",
       " 'Explosions In The Sky-Memorial': 545,\n",
       " 'Explosions In The Sky-Six Days At The Bottom Of The Ocean': 546,\n",
       " 'Explosions In The Sky-The Only Moment We Were Alone': 547,\n",
       " 'Faith No More-Easy': 548,\n",
       " 'Faithless-God Is A Dj': 549,\n",
       " 'Faithless-Insomnia': 550,\n",
       " 'Fall Out Boy-Dance, Dance': 551,\n",
       " \"Fall Out Boy-This Ain'T A Scene, It'S An Arms Race\": 552,\n",
       " 'Fatboy Slim-Praise You': 553,\n",
       " 'Fatboy Slim-Weapon Of Choice': 554,\n",
       " 'Feist-1234': 555,\n",
       " 'Feist-Brandy Alexander': 556,\n",
       " 'Feist-Gatekeeper': 557,\n",
       " 'Feist-How My Heart Behaves': 558,\n",
       " 'Feist-I Feel It All': 559,\n",
       " 'Feist-Intuition': 560,\n",
       " 'Feist-Leisure Suite': 561,\n",
       " 'Feist-Let It Die': 562,\n",
       " 'Feist-Mushaboom': 563,\n",
       " 'Feist-My Moon My Man': 564,\n",
       " 'Feist-Now At Last': 565,\n",
       " 'Feist-One Evening': 566,\n",
       " 'Feist-Past In Present': 567,\n",
       " 'Feist-Secret Heart': 568,\n",
       " 'Feist-So Sorry': 569,\n",
       " 'Feist-The Limit To Your Love': 570,\n",
       " 'Feist-The Park': 571,\n",
       " 'Feist-The Water': 572,\n",
       " 'Feist-When I Was A Young Girl': 573,\n",
       " 'Fiona Apple-Criminal': 574,\n",
       " 'Fiona Apple-Sleep To Dream': 575,\n",
       " 'Fischerspooner-Emerge': 576,\n",
       " 'Fleet Foxes-Blue Ridge Mountains': 577,\n",
       " \"Fleet Foxes-He Doesn'T Know Why\": 578,\n",
       " 'Fleet Foxes-Ragged Wood': 579,\n",
       " 'Fleet Foxes-Sun It Rises': 580,\n",
       " 'Fleet Foxes-Tiger Mountain Peasant Song': 581,\n",
       " 'Fleet Foxes-White Winter Hymnal': 582,\n",
       " 'Foo Fighters-All My Life': 583,\n",
       " 'Foo Fighters-Best Of You': 584,\n",
       " 'Foo Fighters-Breakout': 585,\n",
       " 'Foo Fighters-Doa': 586,\n",
       " 'Foo Fighters-Everlong': 587,\n",
       " 'Foo Fighters-Learn To Fly': 588,\n",
       " 'Foo Fighters-Monkey Wrench': 589,\n",
       " 'Foo Fighters-My Hero': 590,\n",
       " 'Foo Fighters-Razor': 591,\n",
       " 'Foo Fighters-Stacked Actors': 592,\n",
       " 'Foo Fighters-The Pretender': 593,\n",
       " 'Foo Fighters-Times Like These': 594,\n",
       " 'Franz Ferdinand-Auf Achse': 595,\n",
       " 'Franz Ferdinand-Cheating On You': 596,\n",
       " 'Franz Ferdinand-Come On Home': 597,\n",
       " 'Franz Ferdinand-Darts Of Pleasure': 598,\n",
       " 'Franz Ferdinand-Do You Want To': 599,\n",
       " 'Franz Ferdinand-Eleanor Put Your Boots On': 600,\n",
       " 'Franz Ferdinand-Evil And A Heathen': 601,\n",
       " 'Franz Ferdinand-Fade Together': 602,\n",
       " \"Franz Ferdinand-I'M Your Villain\": 603,\n",
       " 'Franz Ferdinand-Jacqueline': 604,\n",
       " 'Franz Ferdinand-Michael': 605,\n",
       " 'Franz Ferdinand-Outsiders': 606,\n",
       " 'Franz Ferdinand-Take Me Out': 607,\n",
       " 'Franz Ferdinand-Tell Her Tonight': 608,\n",
       " 'Franz Ferdinand-The Dark Of The Matinée': 609,\n",
       " 'Franz Ferdinand-The Fallen': 610,\n",
       " 'Franz Ferdinand-This Boy': 611,\n",
       " 'Franz Ferdinand-This Fire': 612,\n",
       " 'Franz Ferdinand-Walk Away': 613,\n",
       " 'Franz Ferdinand-Well That Was Easy': 614,\n",
       " 'Franz Ferdinand-What You Meant': 615,\n",
       " 'Franz Ferdinand-You Could Have It So Much Better': 616,\n",
       " \"Franz Ferdinand-You'Re The Reason I'M Leaving\": 617,\n",
       " 'Frou Frou-Breathe In': 618,\n",
       " \"Frou Frou-It'S Good To Be In Love\": 619,\n",
       " 'Frou Frou-Let Go': 620,\n",
       " 'Frou Frou-Maddening Shroud': 621,\n",
       " 'Frou Frou-The Dumbing Down Of Love': 622,\n",
       " 'Garbage-Only Happy When It Rains': 623,\n",
       " 'Garbage-Push It': 624,\n",
       " 'Garbage-Stupid Girl': 625,\n",
       " 'Gary Jules-Mad World': 626,\n",
       " 'Gnarls Barkley-Crazy': 627,\n",
       " 'Gnarls Barkley-Gone Daddy Gone': 628,\n",
       " 'Gnarls Barkley-Smiley Faces': 629,\n",
       " 'Goldfrapp-Black Cherry': 630,\n",
       " 'Goldfrapp-Crystalline Green': 631,\n",
       " 'Goldfrapp-Deer Stop': 632,\n",
       " 'Goldfrapp-Fly Me Away': 633,\n",
       " 'Goldfrapp-Forever': 634,\n",
       " 'Goldfrapp-Koko': 635,\n",
       " 'Goldfrapp-Let It Take You': 636,\n",
       " 'Goldfrapp-Lovely Head': 637,\n",
       " 'Goldfrapp-Number 1': 638,\n",
       " 'Goldfrapp-Ooh La La': 639,\n",
       " 'Goldfrapp-Pilots': 640,\n",
       " 'Goldfrapp-Ride A White Horse': 641,\n",
       " 'Goldfrapp-Slide In': 642,\n",
       " 'Goldfrapp-Slippage': 643,\n",
       " 'Goldfrapp-Strict Machine': 644,\n",
       " 'Goldfrapp-Tiptoe': 645,\n",
       " 'Goldfrapp-Train': 646,\n",
       " 'Goldfrapp-Twist': 647,\n",
       " 'Gorillaz-19-2000': 648,\n",
       " 'Gorillaz-All Alone': 649,\n",
       " 'Gorillaz-Clint Eastwood': 650,\n",
       " 'Gorillaz-Dare': 651,\n",
       " 'Gorillaz-Demon Days': 652,\n",
       " 'Gorillaz-Dirty Harry': 653,\n",
       " \"Gorillaz-Don'T Get Lost In Heaven\": 654,\n",
       " 'Gorillaz-Double Bass': 655,\n",
       " 'Gorillaz-El Manana': 656,\n",
       " 'Gorillaz-Every Planet We Reach Is Dead': 657,\n",
       " 'Gorillaz-Feel Good Inc.': 658,\n",
       " \"Gorillaz-Fire Coming Out Of The Monkey'S Head\": 659,\n",
       " 'Gorillaz-Intro': 660,\n",
       " 'Gorillaz-Kids With Guns': 661,\n",
       " 'Gorillaz-Last Living Souls': 662,\n",
       " 'Gorillaz-November Has Come': 663,\n",
       " 'Gorillaz-O Green World': 664,\n",
       " 'Gorillaz-Re-Hash': 665,\n",
       " 'Gorillaz-Rock The House': 666,\n",
       " 'Gorillaz-Tomorrow Comes Today': 667,\n",
       " 'Gorillaz-White Light': 668,\n",
       " 'Green Day-American Idiot': 669,\n",
       " 'Green Day-Are We The Waiting': 670,\n",
       " 'Green Day-Basket Case': 671,\n",
       " 'Green Day-Boulevard Of Broken Dreams': 672,\n",
       " 'Green Day-Give Me Novacaine': 673,\n",
       " 'Green Day-Holiday': 674,\n",
       " 'Green Day-When I Come Around': 675,\n",
       " \"Guns N' Roses-Civil War\": 676,\n",
       " \"Guns N' Roses-Don'T Cry\": 677,\n",
       " \"Guns N' Roses-Live And Let Die\": 678,\n",
       " \"Guns N' Roses-November Rain\": 679,\n",
       " \"Guns N' Roses-Out Ta Get Me\": 680,\n",
       " \"Guns N' Roses-Paradise City\": 681,\n",
       " \"Guns N' Roses-Sweet Child O' Mine\": 682,\n",
       " \"Guns N' Roses-Welcome To The Jungle\": 683,\n",
       " \"Guns N' Roses-You Could Be Mine\": 684,\n",
       " 'Gwen Stefani-Hollaback Girl': 685,\n",
       " 'Hard-Fi-Tied Up Too Tight': 686,\n",
       " 'Hoobastank-The Reason': 687,\n",
       " 'Hot Chip-(Just Like We) Breakdown': 688,\n",
       " 'Hot Chip-Over And Over': 689,\n",
       " 'Hot Chip-Ready For The Floor': 690,\n",
       " 'Hot Chip-Shake A Fist': 691,\n",
       " 'Hot Hot Heat-Bandages': 692,\n",
       " 'Hot Hot Heat-Goodnight Goodnight': 693,\n",
       " 'Iggy Pop-The Passenger': 694,\n",
       " 'Imogen Heap-Daylight Robbery': 695,\n",
       " 'Imogen Heap-Goodnight And Go': 696,\n",
       " 'Imogen Heap-Headlock': 697,\n",
       " 'Imogen Heap-Hide And Seek': 698,\n",
       " 'Imogen Heap-I Am In Love With You': 699,\n",
       " 'Incubus-Drive': 700,\n",
       " 'Interpol-A Time To Be So Small': 701,\n",
       " 'Interpol-All Fired Up': 702,\n",
       " \"Interpol-C'Mere\": 703,\n",
       " 'Interpol-Evil': 704,\n",
       " 'Interpol-Hands Away': 705,\n",
       " 'Interpol-Leif Erikson': 706,\n",
       " 'Interpol-Length Of Love': 707,\n",
       " 'Interpol-Mammoth': 708,\n",
       " 'Interpol-Narc': 709,\n",
       " 'Interpol-Next Exit': 710,\n",
       " 'Interpol-No I In Threesome': 711,\n",
       " 'Interpol-Not Even Jail': 712,\n",
       " 'Interpol-Nyc': 713,\n",
       " 'Interpol-Obstacle 1': 714,\n",
       " 'Interpol-Obstacle 2': 715,\n",
       " 'Interpol-Pace Is The Trick': 716,\n",
       " 'Interpol-Pda': 717,\n",
       " 'Interpol-Pioneer To The Falls': 718,\n",
       " 'Interpol-Public Pervert': 719,\n",
       " 'Interpol-Rest My Chemistry': 720,\n",
       " 'Interpol-Roland': 721,\n",
       " 'Interpol-Say Hello To The Angels': 722,\n",
       " 'Interpol-Slow Hands': 723,\n",
       " 'Interpol-Stella Was A Diver And She Was Always Down': 724,\n",
       " 'Interpol-Take You On A Cruise': 725,\n",
       " 'Interpol-The Heinrich Maneuver': 726,\n",
       " 'Interpol-The New': 727,\n",
       " 'Interpol-Untitled': 728,\n",
       " 'Interpol-Who Do You Think': 729,\n",
       " 'Interpol-Wrecking Ball': 730,\n",
       " 'Iron & Wine-An Angry Blade': 731,\n",
       " 'Iron & Wine-Each Coming Night': 732,\n",
       " 'Iron & Wine-Free Until They Cut Me Down': 733,\n",
       " 'Iron & Wine-Naked As We Came': 734,\n",
       " 'Iron & Wine-Radio War': 735,\n",
       " 'Iron & Wine-Such Great Heights': 736,\n",
       " 'Jack Johnson-Banana Pancakes': 737,\n",
       " 'Jack Johnson-Better Together': 738,\n",
       " 'Jack Johnson-Good People': 739,\n",
       " 'Jack Johnson-No Other Way': 740,\n",
       " 'Jack Johnson-Sitting, Waiting, Wishing': 741,\n",
       " 'Jack Johnson-Times Like These': 742,\n",
       " 'James Blunt-Goodbye My Lover': 743,\n",
       " \"James Blunt-You'Re Beautiful\": 744,\n",
       " 'Jamiroquai-Virtual Insanity': 745,\n",
       " 'Jeff Buckley-Corpus Christi Carol': 746,\n",
       " 'Jeff Buckley-Grace': 747,\n",
       " 'Jeff Buckley-Hallelujah': 748,\n",
       " 'Jeff Buckley-Last Goodbye': 749,\n",
       " 'Jeff Buckley-Lilac Wine': 750,\n",
       " 'Jeff Buckley-So Real': 751,\n",
       " 'Jefferson Airplane-Somebody To Love': 752,\n",
       " 'Jefferson Airplane-White Rabbit': 753,\n",
       " 'Jem-They': 754,\n",
       " 'Jet-Are You Gonna Be My Girl': 755,\n",
       " 'Jimi Hendrix-All Along The Watchtower': 756,\n",
       " 'Jimi Hendrix-Fire': 757,\n",
       " 'Jimi Hendrix-Foxy Lady': 758,\n",
       " 'Jimi Hendrix-Hey Joe': 759,\n",
       " 'Jimi Hendrix-Purple Haze': 760,\n",
       " 'Jimi Hendrix-Red House': 761,\n",
       " 'Jimi Hendrix-The Wind Cries Mary': 762,\n",
       " 'Jimmy Eat World-The Middle': 763,\n",
       " 'John Lennon-Imagine': 764,\n",
       " 'Johnny Cash-Folsom Prison Blues': 765,\n",
       " 'Johnny Cash-Give My Love To Rose': 766,\n",
       " 'Johnny Cash-Hurt': 767,\n",
       " 'Johnny Cash-I Walk The Line': 768,\n",
       " 'Johnny Cash-Orange Blossom Special': 769,\n",
       " 'Johnny Cash-Personal Jesus': 770,\n",
       " 'Johnny Cash-Ring Of Fire': 771,\n",
       " 'José González-Crosses': 772,\n",
       " 'José González-Deadweight On Velveteen': 773,\n",
       " 'José González-Heartbeats': 774,\n",
       " 'Joy Division-A Means To An End': 775,\n",
       " 'Joy Division-Atmosphere': 776,\n",
       " 'Joy Division-Atrocity Exhibition': 777,\n",
       " 'Joy Division-Candidate': 778,\n",
       " 'Joy Division-Ceremony': 779,\n",
       " 'Joy Division-Colony': 780,\n",
       " 'Joy Division-Day Of The Lords': 781,\n",
       " 'Joy Division-Dead Souls': 782,\n",
       " 'Joy Division-Decades': 783,\n",
       " 'Joy Division-Digital': 784,\n",
       " 'Joy Division-Disorder': 785,\n",
       " 'Joy Division-Heart And Soul': 786,\n",
       " 'Joy Division-Incubation': 787,\n",
       " 'Joy Division-Insight': 788,\n",
       " 'Joy Division-Interzone': 789,\n",
       " 'Joy Division-Isolation': 790,\n",
       " 'Joy Division-Leaders Of Men': 791,\n",
       " 'Joy Division-New Dawn Fades': 792,\n",
       " 'Joy Division-No Love Lost': 793,\n",
       " 'Joy Division-Shadowplay': 794,\n",
       " \"Joy Division-She'S Lost Control\": 795,\n",
       " 'Joy Division-Something Must Break': 796,\n",
       " 'Joy Division-The Eternal': 797,\n",
       " 'Joy Division-Transmission': 798,\n",
       " 'Joy Division-Warsaw': 799,\n",
       " 'Joy Division-Wilderness': 800,\n",
       " 'Junior Senior-Move Your Feet': 801,\n",
       " 'Justice-D.A.N.C.E.': 802,\n",
       " 'Justice-Dvno': 803,\n",
       " 'Justice-Genesis': 804,\n",
       " 'Justice-Let There Be Light': 805,\n",
       " 'Justice-Phantom, Part Ii': 806,\n",
       " 'Justice-Stress': 807,\n",
       " 'Justice-Valentine': 808,\n",
       " 'Justice-Waters Of Nazareth': 809,\n",
       " 'Justin Timberlake-Cry Me A River': 810,\n",
       " 'Kaiser Chiefs-Born To Be A Dancer': 811,\n",
       " 'Kaiser Chiefs-Everyday I Love You Less And Less': 812,\n",
       " 'Kaiser Chiefs-I Predict A Riot': 813,\n",
       " 'Kaiser Chiefs-Modern Way': 814,\n",
       " 'Kaiser Chiefs-Na Na Na Na Naa': 815,\n",
       " 'Kaiser Chiefs-Oh My God': 816,\n",
       " 'Kaiser Chiefs-Ruby': 817,\n",
       " 'Kaiser Chiefs-Saturday Night': 818,\n",
       " 'Kaiser Chiefs-Team Mate': 819,\n",
       " 'Kaiser Chiefs-The Angry Mob': 820,\n",
       " 'Kaiser Chiefs-What Did I Ever Give You?': 821,\n",
       " 'Kaiser Chiefs-You Can Have It All': 822,\n",
       " 'Kanye West-Jesus Walks': 823,\n",
       " 'Kanye West-Stronger': 824,\n",
       " 'Kasabian-Club Foot': 825,\n",
       " 'Kasabian-Cutt Off': 826,\n",
       " 'Kasabian-Empire': 827,\n",
       " 'Kasabian-Me Plus One': 828,\n",
       " 'Kasabian-Ovary Stripe': 829,\n",
       " 'Kasabian-Processed Beats': 830,\n",
       " 'Kasabian-Reason Is Treason': 831,\n",
       " 'Kasabian-Running Battle': 832,\n",
       " 'Kasabian-Shoot The Runner': 833,\n",
       " 'Kasabian-Test Transmission': 834,\n",
       " 'Katy Perry-I Kissed A Girl': 835,\n",
       " 'Keane-Bedshaped': 836,\n",
       " 'Keane-Bend And Break': 837,\n",
       " \"Keane-Everybody'S Changing\": 838,\n",
       " 'Keane-Somewhere Only We Know': 839,\n",
       " 'Keane-Sunshine': 840,\n",
       " 'Keane-This Is The Last Time': 841,\n",
       " 'Keane-Untitled 1': 842,\n",
       " 'Keane-Your Eyes Open': 843,\n",
       " 'Kimya Dawson-Loose Lips': 844,\n",
       " 'Kings Of Convenience-Homesick': 845,\n",
       " \"Kings Of Convenience-I'D Rather Dance With You\": 846,\n",
       " 'Kings Of Convenience-Know How': 847,\n",
       " 'Kings Of Convenience-Leaning Against The Wall': 848,\n",
       " 'Kings Of Convenience-Live Long': 849,\n",
       " 'Kings Of Convenience-Love Is No Big Truth': 850,\n",
       " 'Kings Of Convenience-Misread': 851,\n",
       " 'Kings Of Convenience-Stay Out Of Trouble': 852,\n",
       " 'Kings Of Convenience-Toxic Girl': 853,\n",
       " 'Kings Of Convenience-Winning A Battle, Losing The War': 854,\n",
       " 'Kings Of Leon-Be Somebody': 855,\n",
       " 'Kings Of Leon-Charmer': 856,\n",
       " 'Kings Of Leon-Closer': 857,\n",
       " 'Kings Of Leon-Four Kicks': 858,\n",
       " 'Kings Of Leon-Happy Alone': 859,\n",
       " 'Kings Of Leon-King Of The Rodeo': 860,\n",
       " \"Kings Of Leon-Molly'S Chambers\": 861,\n",
       " 'Kings Of Leon-Pistol Of Fire': 862,\n",
       " 'Kings Of Leon-Razz': 863,\n",
       " 'Kings Of Leon-Sex On Fire': 864,\n",
       " 'Kings Of Leon-Slow Night, So Long': 865,\n",
       " 'Kings Of Leon-Taper Jean Girl': 866,\n",
       " 'Kings Of Leon-The Bucket': 867,\n",
       " 'Kings Of Leon-Trunk': 868,\n",
       " 'Kings Of Leon-Use Somebody': 869,\n",
       " 'Kings Of Leon-Velvet Snow': 870,\n",
       " 'Klaxons-As Above, So Below': 871,\n",
       " 'Klaxons-Atlantis To Interzone': 872,\n",
       " 'Klaxons-Forgotten Works': 873,\n",
       " 'Klaxons-Golden Skans': 874,\n",
       " \"Klaxons-Gravity'S Rainbow\": 875,\n",
       " 'Klaxons-Isle Of Her': 876,\n",
       " 'Klaxons-Magick': 877,\n",
       " 'Klaxons-Totem On The Timeline': 878,\n",
       " 'Klaxons-Two Receivers': 879,\n",
       " 'Kosheen-Catch': 880,\n",
       " 'Kt Tunstall-Suddenly I See': 881,\n",
       " 'Lady Gaga-Poker Face': 882,\n",
       " 'Ladytron-Cmyk': 883,\n",
       " 'Ladytron-Destroy Everything You Touch': 884,\n",
       " 'Ladytron-Fighting In Built Up Areas': 885,\n",
       " 'Ladytron-Flicking Your Switch': 886,\n",
       " 'Ladytron-High Rise': 887,\n",
       " 'Ladytron-International Dateline': 888,\n",
       " 'Ladytron-Seventeen': 889,\n",
       " 'Ladytron-Sugar': 890,\n",
       " 'Lamb-Gabriel': 891,\n",
       " 'Lamb-One': 892,\n",
       " 'Late Of The Pier-Space And The Woods': 893,\n",
       " 'Lcd Soundsystem-All My Friends': 894,\n",
       " 'Lcd Soundsystem-Daft Punk Is Playing At My House': 895,\n",
       " 'Lcd Soundsystem-Disco Infiltrator': 896,\n",
       " 'Lcd Soundsystem-Get Innocuous!': 897,\n",
       " 'Lcd Soundsystem-North American Scum': 898,\n",
       " 'Lcd Soundsystem-Someone Great': 899,\n",
       " 'Lcd Soundsystem-Tribulations': 900,\n",
       " \"Led Zeppelin-Babe I'M Gonna Leave You\": 901,\n",
       " 'Led Zeppelin-Bron-Yr-Aur Stomp': 902,\n",
       " 'Led Zeppelin-Dazed And Confused': 903,\n",
       " 'Led Zeppelin-Friends': 904,\n",
       " 'Led Zeppelin-Houses Of The Holy': 905,\n",
       " 'Led Zeppelin-In The Evening': 906,\n",
       " 'Led Zeppelin-Over The Hills And Far Away': 907,\n",
       " \"Led Zeppelin-That'S The Way\": 908,\n",
       " 'Led Zeppelin-The Battle Of Evermore': 909,\n",
       " 'Led Zeppelin Jam-Black Dog': 910,\n",
       " 'Led Zeppelin Jam-Immigrant Song': 911,\n",
       " 'Lez Zeppelin-Communication Breakdown': 912,\n",
       " 'Lez Zeppelin-Kashmir': 913,\n",
       " 'Lez Zeppelin-Rock And Roll': 914,\n",
       " \"Lez Zeppelin-Since I'Ve Been Loving You\": 915,\n",
       " 'Lez Zeppelin-Whole Lotta Love': 916,\n",
       " 'Lily Allen-Alfie': 917,\n",
       " \"Lily Allen-Everything'S Just Wonderful\": 918,\n",
       " 'Lily Allen-Friday Night': 919,\n",
       " \"Lily Allen-Knock 'Em Out\": 920,\n",
       " 'Lily Allen-Ldn': 921,\n",
       " 'Lily Allen-Not Big': 922,\n",
       " 'Lily Allen-Smile': 923,\n",
       " 'Lily Allen-The Fear': 924,\n",
       " 'Limp Bizkit-Behind Blue Eyes': 925,\n",
       " 'Linkin Park-Faint': 926,\n",
       " 'Linkin Park-Shadow Of The Day': 927,\n",
       " 'Linkin Park-Somewhere I Belong': 928,\n",
       " 'Lou Reed-Perfect Day': 929,\n",
       " 'Lou Reed-Walk On The Wild Side': 930,\n",
       " 'Ludwig Van Beethoven-Symphony No. 2 - Scherzo': 931,\n",
       " 'Lynyrd Skynyrd-Sweet Home Alabama': 932,\n",
       " 'M.I.A.-Amazon': 933,\n",
       " 'M.I.A.-Bucky Done Gun': 934,\n",
       " 'M.I.A.-Galang': 935,\n",
       " 'M.I.A.-Jimmy': 936,\n",
       " 'M.I.A.-Paper Planes': 937,\n",
       " 'M.I.A.-Pull Up The People': 938,\n",
       " 'M83-Be Wild': 939,\n",
       " 'M83-Teen Angst': 940,\n",
       " 'Madonna-Jump': 941,\n",
       " 'Madonna-Like A Prayer': 942,\n",
       " 'Marilyn Manson-Tainted Love': 943,\n",
       " 'Marilyn Manson-This Is The New Shit': 944,\n",
       " 'Maroon 5-She Will Be Loved': 945,\n",
       " 'Maroon 5-This Love': 946,\n",
       " 'Massive Attack-Angel': 947,\n",
       " 'Massive Attack-Black Milk': 948,\n",
       " 'Massive Attack-Butterfly Caught': 949,\n",
       " 'Massive Attack-Dissolved Girl': 950,\n",
       " 'Massive Attack-Everywhen': 951,\n",
       " 'Massive Attack-Exchange': 952,\n",
       " 'Massive Attack-Five Man Army': 953,\n",
       " 'Massive Attack-Future Proof': 954,\n",
       " 'Massive Attack-Group Four': 955,\n",
       " 'Massive Attack-Inertia Creeps': 956,\n",
       " 'Massive Attack-Karmacoma': 957,\n",
       " 'Massive Attack-Man Next Door': 958,\n",
       " 'Massive Attack-Mezzanine': 959,\n",
       " 'Massive Attack-Protection': 960,\n",
       " 'Massive Attack-Risingson': 961,\n",
       " 'Massive Attack-Safe From Harm': 962,\n",
       " 'Massive Attack-Sly': 963,\n",
       " 'Massive Attack-Special Cases': 964,\n",
       " 'Massive Attack-Teardrop': 965,\n",
       " 'Massive Attack-Unfinished Sympathy': 966,\n",
       " 'Massive Attack-What Your Soul Sings': 967,\n",
       " 'Maxïmo Park-Going Missing': 968,\n",
       " 'Maxïmo Park-Graffiti': 969,\n",
       " 'Maxïmo Park-Postcard Of A Painting': 970,\n",
       " 'Maxïmo Park-The Coast Is Always Changing': 971,\n",
       " 'Mazzy Star-Fade Into You': 972,\n",
       " 'Metallica-Creeping Death': 973,\n",
       " 'Metallica-Enter Sandman': 974,\n",
       " 'Metallica-Fade To Black': 975,\n",
       " 'Metallica-Master Of Puppets': 976,\n",
       " 'Metallica-Nothing Else Matters': 977,\n",
       " 'Metallica-One': 978,\n",
       " 'Metallica-The Unforgiven': 979,\n",
       " 'Metallica-The Unforgiven Ii': 980,\n",
       " 'Metric-Combat Baby': 981,\n",
       " 'Metric-Dead Disco': 982,\n",
       " 'Metric-Poster Of A Girl': 983,\n",
       " 'Metric-Soft Rock Star': 984,\n",
       " 'Metric-Succexy': 985,\n",
       " 'Metric-Wet Blanket': 986,\n",
       " 'Mgmt-4Th Dimensional Transition': 987,\n",
       " 'Mgmt-Electric Feel': 988,\n",
       " 'Mgmt-Future Reflections': 989,\n",
       " 'Mgmt-Kids': 990,\n",
       " 'Mgmt-Of Moons, Birds & Monsters': 991,\n",
       " 'Mgmt-Pieces Of What': 992,\n",
       " 'Mgmt-The Handshake': 993,\n",
       " 'Mgmt-The Youth': 994,\n",
       " 'Mgmt-Time To Pretend': 995,\n",
       " 'Mgmt-Weekend Wars': 996,\n",
       " 'Michael Jackson-Beat It': 997,\n",
       " 'Michael Jackson-Billie Jean': 998,\n",
       " 'Michael Jackson-Smooth Criminal': 999,\n",
       " ...}"
      ]
     },
     "execution_count": 113,
     "metadata": {},
     "output_type": "execute_result"
    }
   ],
   "source": [
    "song_to_idx"
   ]
  },
  {
   "cell_type": "markdown",
   "metadata": {
    "id": "vZx1WkjZAk7B"
   },
   "source": [
    "## 2.2 Visualització de l'espai d'usuaris\n",
    "\n",
    "Ara que cada usuari està representat com un vector a les matrius `user_artist_matrix` o `user_song_matrix`, podem començar a **explorar visualment l'estructura de gustos musicals**.\n",
    "\n",
    "Cada fila d'aquestes matrius codifica un usuari en funció dels artistes o cançons que ha escoltat. L'objectiu ara és **projectar aquest espai a 2 dimensions** per visualitzar-lo i tractar de detectar **grups d'usuaris amb patrons similars d'escolta**.\n",
    "\n",
    "Tanmateix, en el cas de la matriu d'artistes, cada usuari està representat per un vector de gairebé **3.000 dimensions**, la qual cosa fa impossible visualitzar directament l'espai.\n",
    "\n",
    "Per resoldre això, aplicarem una tècnica de **reducció de dimensionalitat** que ens permeti mantenir l'estructura de l'espai original i projectar-lo en 2D. Algunes de les tècniques més comunes per a aquest tipus de tasca són: *PCA (Anàlisi de Components Principals)*, *t-SNE (t-distributed Stochastic Neighbor Embedding)* o *UMAP (Uniform Manifold Approximation and Projection)*. Tingues en compte que amb el temps tindrem nous usuaris i voldrem afegir-los a la projecció de l'espai juntament amb els altres usuaris que ja tenim (sense haver de recalcular tot).\n",
    "\n"
   ]
  },
  {
   "cell_type": "markdown",
   "metadata": {
    "id": "gQ-9WMvPBHA0"
   },
   "source": [
    "<div style=\"background-color: #EDF7FF; border-color: #7C9DBF; border-left: 5px solid #7C9DBF; padding: 0.5em;\">\n",
    "<strong>Anàlisi:</strong> investiga i justifica quina d'aquestes tècniques consideres més adequada per a aquest cas indicant els criteris que has tingut en compte.\n",
    "</div>"
   ]
  },
  {
   "cell_type": "code",
   "execution_count": null,
   "metadata": {
    "id": "NpQGp4TgBgvX"
   },
   "outputs": [],
   "source": []
  },
  {
   "cell_type": "markdown",
   "metadata": {
    "id": "BFG6RfUBB8Ie"
   },
   "source": [
    "<div style=\"background-color: #EDF7FF; border-color: #7C9DBF; border-left: 5px solid #7C9DBF; padding: 0.5em;\">\n",
    "<strong>Implementació:</strong> Visualitza el resultat de la reducció en un gràfic 2D amb matplotlib i comenta si s'observen agrupaments o patrons interessants en ambdues matrius. En cas de trobar estructures, tria i aplica la tècnica de clustering adequada per localitzar-les. En funció de les estructures presents, pots seleccionar k-means, LDA, jeràrquic, mean-shift, optics, DBSCAN o espectral. <strong>En tots els gràfics, utilitza el paràmetre figsize=(15, 15) per garantir una mida que permeti interpretar-lo correctament</strong>.\n",
    "</div>"
   ]
  },
  {
   "cell_type": "code",
   "execution_count": null,
   "metadata": {
    "id": "wQxAHyV2CPak"
   },
   "outputs": [],
   "source": []
  },
  {
   "cell_type": "markdown",
   "metadata": {
    "id": "e6F3kmrrFxQT"
   },
   "source": [
    "## 2.3 Visualització d'usuaris\n",
    "\n",
    "<div style=\"background-color: #EDF7FF; border-color: #7C9DBF; border-left: 5px solid #7C9DBF; padding: 0.5em;\">\n",
    "<strong>Implementació:</strong> Realitza la mateixa visualització però amb les matrius transposades, és a dir, mantindrem les dimensions d'artistes i cançons, i reduirem la d'usuaris. La seva interpretació seria representar els artistes o cançons en funció de com els usuaris els consumeixen.\n",
    "</div>\n"
   ]
  },
  {
   "cell_type": "code",
   "execution_count": null,
   "metadata": {
    "id": "mpwYv_pMDVT1"
   },
   "outputs": [],
   "source": []
  },
  {
   "cell_type": "markdown",
   "metadata": {
    "id": "rUVmUjtuD8BY"
   },
   "source": [
    "<div style=\"background-color: #EDF7FF; border-color: #7C9DBF; border-left: 5px solid #7C9DBF; padding: 0.5em;\">\n",
    "<strong>Anàlisi:</strong> Què observes a les noves representacions d'artistes i cançons?\n",
    "</div>"
   ]
  },
  {
   "cell_type": "code",
   "execution_count": null,
   "metadata": {
    "id": "9Py1-Y1CEkKW"
   },
   "outputs": [],
   "source": []
  },
  {
   "cell_type": "markdown",
   "metadata": {
    "id": "hyi_qxxkNazx"
   },
   "source": [
    "## 3. Projecció del gust musical amb LDA (3 punts)\n",
    "\n",
    "En aquesta secció explorarem una tècnica diferent per reduir la dimensionalitat del gust musical: **LDA (Latent Dirichlet Allocation)**.\n",
    "\n",
    "A diferència de tècniques com matriu de coocurrència + PCA, t-SNE o UMAP, que busquen per una banda representar l'usuari i reduir aquesta representació a menys dimensions, **LDA té un enfocament més interpretatiu**: tracta de **descobrir temes latents** que expliquen com es combinen els elements observats.\n",
    "\n",
    "## 3.1 Projecció i clustering amb LDA\n",
    "\n",
    "**LDA** és un model probabilístic originalment dissenyat per a l'**anàlisi de temes en textos** (topic modeling). Suposa que cada document (en el nostre cas, usuari) està format per una **combinació de temes ocults** (per exemple: 40% Pop, 20% Rock, 5% Rap...). I que cada tema està format per una **combinació de paraules (o artistes, en el nostre cas)**.\n",
    "\n",
    "Cada **usuari** serà tractat com un \"document\". Cada **artista** serà com una \"paraula\". El model intentarà descobrir **temes musicals** (grups d'artistes que solen aparèixer junts en els gustos dels usuaris).\n",
    "\n",
    "El resultat és una representació de cada usuari com un vector de **probabilitats sobre temes latents**, que podem visualitzar, comparar o usar com a entrada a altres models.\n",
    "\n",
    "Per entendre LDA amb una explicació visual molt clara, recomanem [aquest vídeo](https://youtu.be/1_jq_gWFUuQ).\n",
    "\n",
    "Pots utilitzar la implementació de [LDA a scikit-learn](https://scikit-learn.org/stable/modules/generated/sklearn.decomposition.LatentDirichletAllocation.html). El nombre de temes latents és un paràmetre del model (com la *k* de *k-means*).\n",
    "\n",
    "Amb LDA pots obtenir tant la projecció d'usuaris a l'espai de temes latents, com els artistes o cançons a l'espai de temes latents. Per assegurar-te de si el resultat es correspon amb els usuaris o els artistes o cançons, pots comprovar la dimensió de la matriu obtinguda.\n",
    "\n",
    "Per exemple, si el resultat és una matriu `n_topics` X (`n_artists` o `n_songs`) en funció de la matriu emprada. Estàs obtenint la projecció d'artistes o cançons a l'espai de temes latents. Atès que LDA estima probabilísticament cada paraula (artista o cançó) a un tema latent. En aquest cas, els usuaris equivalen als documents que relacionen les paraules entre si.\n",
    "\n",
    "D'altra banda, també pots obtenir (amb una altra crida) la matriu `n_users` X `n_topics`, que representa la projecció dels usuaris a l'espai de temes latents.\n",
    "\n"
   ]
  },
  {
   "cell_type": "markdown",
   "metadata": {
    "id": "taG5hWyjVHys"
   },
   "source": [
    "<div style=\"background-color: #EDF7FF; border-color: #7C9DBF; border-left: 5px solid #7C9DBF; padding: 0.5em;\">\n",
    "<strong>Implementació:</strong> Aplica LDA sobre la matriu `user_artist_matrix` per descobrir temes musicals i mostra, per a cada clúster (o tema) el top 15 d'artistes. Per seleccionar el valor adequat del paràmetre \"temes latents\", analitza els artistes que apareixen a cada clúster i tracta que tinguin un nexe comú (siguin homogenis).\n",
    "</div>"
   ]
  },
  {
   "cell_type": "code",
   "execution_count": null,
   "metadata": {
    "id": "qgj9ZWCxWXDp"
   },
   "outputs": [],
   "source": []
  },
  {
   "cell_type": "markdown",
   "metadata": {
    "id": "xZw9TV12Zsne"
   },
   "source": [
    "## 3.2 Visualització d'usuaris\n",
    "\n",
    "Ara que has triat un nombre de temes latents tractant que els grups siguin relativament homogenis, visualitza el resultat per comprovar si existeix certa estructura en la projecció."
   ]
  },
  {
   "cell_type": "markdown",
   "metadata": {
    "id": "5_KQFI2RZ2m5"
   },
   "source": [
    "<div style=\"background-color: #EDF7FF; border-color: #7C9DBF; border-left: 5px solid #7C9DBF; padding: 0.5em;\">\n",
    "<strong>Implementació:</strong> Visualitza amb matplotlib els usuaris projectats a l'espai de temes latents (si té més de 2 dimensions redueix la dimensionalitat aplicant UMAP) utilitzant com a color de cada usuari el del seu tema latent més rellevant (de valor més alt).\n",
    "</div>"
   ]
  },
  {
   "cell_type": "code",
   "execution_count": null,
   "metadata": {
    "id": "pZ7ytVS8dA_b"
   },
   "outputs": [],
   "source": []
  },
  {
   "cell_type": "markdown",
   "metadata": {
    "id": "rl78FGQedIMn"
   },
   "source": [
    "## 3.3 Visualització d'artistes i cançons\n",
    "\n",
    "<div style=\"background-color: #EDF7FF; border-color: #7C9DBF; border-left: 5px solid #7C9DBF; padding: 0.5em;\">\n",
    "<strong>Implementació:</strong> Visualitza amb matplotlib la projecció d'artistes i de cançons a l'espai latent de la dimensió seleccionada anteriorment. Mostra aleatòriament les etiquetes (nom de l'artista o títol de la cançó) de 100 punts juntament amb aquests. No mostris totes les etiquetes perquè taparien el contingut del gràfic.\n",
    "</div>"
   ]
  },
  {
   "cell_type": "code",
   "execution_count": null,
   "metadata": {
    "id": "MctR8gIgdba0"
   },
   "outputs": [],
   "source": []
  },
  {
   "cell_type": "markdown",
   "metadata": {
    "id": "9CJ1-zwZdtmE"
   },
   "source": [
    "## 3.4 Anàlisi de resultats\n",
    "\n",
    "<div style=\"background-color: #EDF7FF; border-color: #7C9DBF; border-left: 5px solid #7C9DBF; padding: 0.5em;\">\n",
    "<strong>Anàlisi:</strong> Què observes a les noves representacions d'artistes i cançons respecte a les anteriors? A què creus que es deuen aquestes diferències?\n",
    "</div>"
   ]
  },
  {
   "cell_type": "code",
   "execution_count": null,
   "metadata": {
    "id": "GPcX8n9jewCl"
   },
   "outputs": [],
   "source": []
  },
  {
   "cell_type": "markdown",
   "metadata": {
    "id": "jFm9n43PeAMA"
   },
   "source": [
    "<div style=\"background-color: #EDF7FF; border-color: #7C9DBF; border-left: 5px solid #7C9DBF; padding: 0.5em;\">\n",
    "<strong>Anàlisi:</strong> Si haguessis de recomanar artistes o cançons noves a un usuari en base al que has après amb LDA, com ho faries?\n",
    "</div>"
   ]
  },
  {
   "cell_type": "code",
   "execution_count": null,
   "metadata": {
    "id": "Fjg8sng8exOo"
   },
   "outputs": [],
   "source": []
  },
  {
   "cell_type": "markdown",
   "metadata": {
    "id": "6Y-H9EV7J-h1"
   },
   "source": [
    "## 4. Projectar per recomanar: factorització de matrius (3 punts)\n",
    "\n",
    "Fins ara hem usat coocurrència i LDA per representar els usuaris i detectar patrons d'escolta. Però... i si existís una projecció pensada específicament per **recomanar**?\n",
    "\n",
    "Aquí entra en joc una nova família de mètodes: **factorització de matrius**.\n",
    "\n",
    "Aquests mètodes s'han convertit en una de les eines més utilitzades en sistemes de recomanació (sí, com el de Netflix o Spotify), perquè permeten:\n",
    "\n",
    "- **Predir quines cançons o artistes agradaran a cada usuari**.\n",
    "- **Reduir la dimensionalitat** i representar tant usuaris com ítems (artistes o cançons) en un **mateix espai vectorial**.\n",
    "- **Aprendre afinitats**: si un usuari i un artista tenen vectors similars, és probable que aquest usuari gaudeixi d'aquest artista.\n",
    "\n",
    "Alguns dels models de recomanació més coneguts:\n",
    "\n",
    "- **SVD (Singular Value Decomposition)**: descompon la matriu en components ortogonals, útil quan tenim una matriu densa.\n",
    "- **NNMF (Non-negative Matrix Factorization)**: com SVD, però imposa que els factors siguin positius, la qual cosa facilita la interpretació (no hi ha gustos negatius).\n",
    "- **ALS (Alternating Least Squares)**: molt usat en sistemes de recomanació, especialment amb matrius disperses. Alterna entre actualitzar usuaris i ítems fins a convergir.\n",
    "- **BPR (Bayesian Personalized Ranking)**: orientat a recomanacions per rànquing, no per puntuació.\n",
    "- **LightFM o DeepFM**: integren contingut i interacció en models híbrids (més complexos, no els veurem aquí, però val la pena conèixer-los).\n",
    "\n",
    "Encara que també estem reduint dimensionalitat, la **finalitat principal no és visualitzar ni interpretar temes**, sinó **reconstruir les preferències faltants a la matriu original**.\n",
    "\n",
    "Dit d'una altra manera: a LDA, projectàvem usuaris sobre un espai de temes **que explicaven el seu comportament**. A la factorització, projectem usuaris i ítems en un espai on **la seva proximitat indica afinitat**, i podem **predir el que falta**.\n",
    "\n",
    "![ALS](https://media.springernature.com/lw685/springer-static/image/chp%3A10.1007%2F978-3-030-03405-4_18/MediaObjects/475251_1_En_18_Fig1_HTML.png)\n",
    "\n",
    "És una altra manera de \"veure les dades\", i ens dona noves possibilitats d'anàlisi i recomanació.\n",
    "\n",
    "## 4.1 Entrenament d'ALS\n",
    "\n",
    "Atès que les dades del dataset són molt disperses, [ALS](http://yifanhu.net/PUB/cf.pdf) és una bona elecció. Utilitzarem la implementació de la [llibreria implicit](https://github.com/benfred/implicit). Per tenir una intuïció del seu funcionament, recomanem [aquest vídeo](https://youtu.be/DJR_6fkG66s)."
   ]
  },
  {
   "cell_type": "markdown",
   "metadata": {
    "id": "2OQ9ZNJXKMV2"
   },
   "source": [
    "<div style=\"background-color: #EDF7FF; border-color: #7C9DBF; border-left: 5px solid #7C9DBF; padding: 0.5em;\">\n",
    "<strong>Implementació:</strong> Entrena un model ALS amb la matriu de coocurrència precalculada user_artist_matrix i emmagatzema a les variables user_embeddings i artist_embeddings els factors latents apresos pel model. Pots fer servir el mateix nombre de factors latents que has seleccionat a l'exercici anterior per a LDA.\n",
    "</div>"
   ]
  },
  {
   "cell_type": "code",
   "execution_count": null,
   "metadata": {
    "id": "Wr49GonoKGjm"
   },
   "outputs": [],
   "source": []
  },
  {
   "cell_type": "markdown",
   "metadata": {
    "id": "6_04bhahNbYA"
   },
   "source": [
    "## 4.2 Visualització d'usuaris\n",
    "\n",
    "<div style=\"background-color: #EDF7FF; border-color: #7C9DBF; border-left: 5px solid #7C9DBF; padding: 0.5em;\">\n",
    "<strong>Implementació:</strong> Si l'embedding d'usuari té més de dues dimensions, redueix la seva dimensionalitat amb UMAP. Visualitza amb matpltolib els usuaris en el nou espai latent reduït.\n",
    "</div>"
   ]
  },
  {
   "cell_type": "code",
   "execution_count": null,
   "metadata": {
    "id": "4gcpkLUZNfm2"
   },
   "outputs": [],
   "source": []
  },
  {
   "cell_type": "markdown",
   "metadata": {
    "id": "kyenwJqRNzhL"
   },
   "source": [
    "## 4.3 Visualització d'artistes\n",
    "\n",
    "<div style=\"background-color: #EDF7FF; border-color: #7C9DBF; border-left: 5px solid #7C9DBF; padding: 0.5em;\">\n",
    "<strong>Implementació:</strong> Si l'embedding d'artistes té més de dues dimensions, redueix la seva dimensionalitat amb UMAP. Visualitza amb matpltolib els usuaris en el nou espai latent reduït. Mostra aleatòriament les etiquetes (nom de l'artista) de 100 punts juntament amb aquests. No mostris totes les etiquetes perquè taparien el contingut del gràfic.\n",
    "</div>"
   ]
  },
  {
   "cell_type": "code",
   "execution_count": null,
   "metadata": {
    "id": "4GDXWwP-N4TR"
   },
   "outputs": [],
   "source": []
  },
  {
   "cell_type": "markdown",
   "metadata": {
    "id": "WbvYjS1bOMYe"
   },
   "source": [
    "## 4.4 Recomanació d'artistes\n",
    "\n",
    "<div style=\"background-color: #EDF7FF; border-color: #7C9DBF; border-left: 5px solid #7C9DBF; padding: 0.5em;\">\n",
    "<strong>Implementació:</strong> Ara que tens el model usuari-artistes entrenat, utilitza el mètode recommend per mostrar el top 10 de recomanacions per a un usuari qualsevol. Mostra també els artistes que ha consumit aquest usuari. Tenen relació?\n",
    "</div>"
   ]
  },
  {
   "cell_type": "code",
   "execution_count": null,
   "metadata": {
    "id": "m2pu-DCiOQW2"
   },
   "outputs": [],
   "source": []
  },
  {
   "cell_type": "markdown",
   "metadata": {
    "id": "rfLgyzHIPIMf"
   },
   "source": [
    "## 4.5 Entrenament i recomanació de cançons\n",
    "\n",
    "<div style=\"background-color: #EDF7FF; border-color: #7C9DBF; border-left: 5px solid #7C9DBF; padding: 0.5em;\">\n",
    "<strong>Implementació:</strong> Calcula l'embedding de les cançons. Si té més de dues dimensions, redueix la seva dimensionalitat amb UMAP. Visualitza amb matpltolib els usuaris en el nou espai latent reduït. Mostra aleatòriament les etiquetes (nom de l'artista) de 100 punts juntament amb aquests. No mostris totes les etiquetes perquè taparien el contingut del gràfic.\n",
    "</div>"
   ]
  },
  {
   "cell_type": "code",
   "execution_count": null,
   "metadata": {
    "id": "ZTvXA6Npn8pA"
   },
   "outputs": [],
   "source": []
  },
  {
   "cell_type": "markdown",
   "metadata": {
    "id": "FL90GrJgPcrA"
   },
   "source": [
    "<div style=\"background-color: #EDF7FF; border-color: #7C9DBF; border-left: 5px solid #7C9DBF; padding: 0.5em;\">\n",
    "<strong>Anàlisi:</strong> Quin enfocament de clustering utilitzaries? I quin algoritme en concret? Per què?\n",
    "</div>\n"
   ]
  },
  {
   "cell_type": "code",
   "execution_count": null,
   "metadata": {
    "id": "TzYvLXK6P9n-"
   },
   "outputs": [],
   "source": []
  },
  {
   "cell_type": "markdown",
   "metadata": {
    "id": "lGMQAMsLRI8g"
   },
   "source": [
    "## [OPCIONAL] 5. El context ho és tot: projectant artistes i cançons amb item2vec\n",
    "\n",
    "Fins ara hem representat els artistes i cançons com a punts en espais temàtics (LDA) o latents (factorització), centrant-nos en com es relacionen amb els usuaris. Però... què passaria si en lloc de mirar **qui els escolta**, observem **com es consumeixen junts a la pràctica**?\n",
    "\n",
    "Aquí entra en joc una tècnica inspirada en el processament del llenguatge natural: [**item2vec**](https://arxiv.org/pdf/1603.04259).\n",
    "\n",
    "És una adaptació del famós model [**word2vec**](https://arxiv.org/pdf/1301.3781), però en lloc de predir paraules en frases, **aprèn a representar ítems (en aquest cas, cançons o artistes) a partir del context en què apareixen**. Tot d'una manera no supervisada.\n",
    "\n",
    "La diferència principal entre word2vec i item2vec rau en què **word2vec assumeix que l'ordre de les paraules importa a la frase, mentre que item2vec no**. Això permet aplicar item2vec a conjunts de dades com carros de la compra on desconeixes l'ordre en què el client va introduir els productes al carro.\n",
    "\n",
    "La intuïció és simple: si dues cançons solen escoltar-se dins d'una mateixa sessió, probablement comparteixen alguna cosa en comú, **encara que no siguin exactament del mateix gènere**.\n",
    "\n",
    "Això és molt diferent dels models anteriors:\n",
    "- **Coocurrència** basat en l'estructura d'escolta.\n",
    "- **LDA** enfocament probabilístic recolzant-se en temes latents.\n",
    "- **Factorització** mira preferències individuals.\n",
    "- **item2vec** **atén al \"context d'escolta\"**, com si fossin paraules dins de frases.\n",
    "\n",
    "Un aspecte clau d'item2vec és que dos artistes **no han de necessàriament escoltar-se junts** per acabar projectats *a prop*.\n",
    "Si **ambdós apareixen en contextos semblants**, es col·loquen a la mateixa zona de l'espai d'embeddings.\n",
    "\n",
    "Per això, item2vec pot descobrir **afinitats ocultes** entre artistes que mai han coincidit directament, però que comparteixen **un mateix tipus d'oient o ambient d'escolta** (A i B poden no haver coincidit en cap sessió, però A té com a context C, D i E, igual que B).\n",
    "\n",
    "Un dels aspectes més interessants d'aquest enfocament és la semàntica que és capaç de capturar i forma part dels **fonaments dels LLMs**: la **projecció algebraica permet realitzar operacions al nou espai simplement sumant o restant vectors**, com a la següent imatge.\n",
    "\n",
    "![Word2Vec](https://cdn.analyticsvidhya.com/wp-content/uploads/2017/06/06062705/Word-Vectors.png)\n",
    "\n",
    "Per indagar més en el model word2vec recomanem [aquest article](https://jalammar.github.io/illustrated-word2vec/). També en [aquest vídeo sobre word2vec](https://youtu.be/viZrOnJclY0). I [aquest altre](https://www.youtube.com/watch?v=FJtFZwbvkI4) sobre word embeddings.\n",
    "\n",
    "## 5.1 Representació matricial artista-artista\n",
    "\n",
    "La implementació rigorosa ens portaria a un conjunt d'entrenament molt gran (donada la combinatòria) i a implementar tècniques addicionals com negative sampling. Per simplificar-ho, el context d'un artista vindrà donat per la coocurrència amb altres artistes. Per això començarem calculant la matriu `artist_artist_matrix` a partir de la matriu que vam preparar a la primera secció: `user_artist_matrix`. Atès que el context es compararà amb la sortida d'una funció `softmax`, també normalitzarem la matriu per files. D'aquesta manera, les èpoques d'entrenament seran més lleugeres, a la llarga el resultat serà bastant similar, ja que s'acaba aproximant la matriu de coocurrència."
   ]
  },
  {
   "cell_type": "markdown",
   "metadata": {
    "id": "n-pQjlUmRbF5"
   },
   "source": [
    "<div style=\"background-color: #EDF7FF; border-color: #7C9DBF; border-left: 5px solid #7C9DBF; padding: 0.5em;\">\n",
    "<strong>Implementació:</strong> A partir de la matriu user_artist_matrix, calcula la matriu artist_artist_matrix on cada cel·la indiqui el nombre d'usuaris que han escoltat l'artista de la fila i el de la columna. Normalitza les files de la matriu per entrenar el model.\n",
    "</div>"
   ]
  },
  {
   "cell_type": "code",
   "execution_count": null,
   "metadata": {
    "id": "1OmWmxZeRgfS"
   },
   "outputs": [],
   "source": []
  },
  {
   "cell_type": "markdown",
   "metadata": {
    "id": "u20_XsxbRw61"
   },
   "source": [
    "Per simplificar la tasca, aquí tens el codi de PyTorch referent al Dataset que carrega la matriu calculada al pas anterior:"
   ]
  },
  {
   "cell_type": "code",
   "execution_count": null,
   "metadata": {
    "id": "EvD_AEQ-oCmA"
   },
   "outputs": [],
   "source": []
  },
  {
   "cell_type": "markdown",
   "metadata": {
    "id": "EOF_DRbJR6PH"
   },
   "source": [
    "## 5.2 Disseny de la xarxa i entrenament\n",
    "\n",
    "Ara definirem la xarxa neuronal dissenyada perquè, donat un artista, aprengui a predir el seu “context”: els artistes que solen escoltar-se juntament amb ell. Imita el model item2vec amb un enfocament tipus Skip-Gram.\n",
    "\n",
    "L'implementarem a través de la classe `ArtistModel` que consta dels següents mètodes:\n",
    "\n",
    "`__init__`\n",
    "\n",
    "Contindrà una capa d'`Embedding` que projecti a la dimensió que desitgem (en aquest cas 2 per a fins didàctics, ja que aprendrà una representació en baixa dimensionalitat tot en un), que de veritat és el que ens interessa, ja que ens permet associar un índex d'artista a una representació vectorial (embedding). I finalment, una capa `Lineal` que projecti de 2 dimensions al nombre d'artistes (el context).\n",
    "\n",
    "`forward`\n",
    "\n",
    "Aquí connectem les capes que hem definit a `__init__` de tal manera que rebem un índex, aquest el passem a la capa d'`Embedding` per recuperar la seva representació vectorial (2d), d'aquí a la capa `Lineal` que projectarà al context (de dimensió nombre d'artistes). Finalment, aplicar i retornar el resultat de la funció `softmax` a la sortida de la capa `Lineal` que al bucle principal (fora del mètode) la compararem amb la fila corresponent de la matriu `artist_artist_matrix`."
   ]
  },
  {
   "cell_type": "code",
   "execution_count": null,
   "metadata": {
    "id": "LfbfWIZpR_Ek"
   },
   "outputs": [],
   "source": []
  },
  {
   "cell_type": "markdown",
   "metadata": {
    "id": "c-IQ7BgVSJtM"
   },
   "source": [
    "El siguiente código se corresponde al bucle de entrenamiento donde relacionamos el dataset que se carga y se conecta con el modelo para alimentarlo.\n",
    "\n",
    "Destacar:\n",
    "\n",
    " - Se ejecutarán 500 epochs, es decir, el modelo verá el dataset completo 500 veces.\n",
    " - `for artist_idx, context_dist in artist_dataloader:` aquí se ejecutarán minibatches (el dataset por partes) hasta recorrer el dataset completo (una epoch).\n",
    " - `log_probs = model(artist_idx)` se hace una pasada por el modelo entrando un índice y obteniendo su log_probs (la salida).\n",
    " - `loss = criterion(log_probs, context_dist)` aquí se comparan las predicciones con el contexto calculado en la matriz `artist_artist_matrix`. Previamente se ha definido `criterion` como `KL divergence` que mide cuanto se alejan las dos distribuciones.\n",
    " - `loss.backward()` propaga para atrás las diferencias, haciendo efectivo el entrenamiento de la red.\n",
    "\n",
    "Durante el proceso de entrenamiento verás como la loss (el error) decrece hasta llegar a estabilizarse."
   ]
  },
  {
   "cell_type": "code",
   "execution_count": null,
   "metadata": {
    "id": "9PwgUdQfocT3"
   },
   "outputs": [],
   "source": [
    "model = ArtistModel(n_artists=len(artist_artist_matrix), embedding_dim=2)\n",
    "optimizer = torch.optim.Adam(model.parameters(), lr=1e-1)\n",
    "criterion = nn.KLDivLoss(reduction='batchmean')\n",
    "\n",
    "n_epochs = 500\n",
    "for epoch in range(n_epochs):\n",
    "    model.train()\n",
    "    total_loss = 0\n",
    "    for artist_idx, context_dist in artist_dataloader:\n",
    "        log_probs = model(artist_idx)\n",
    "        loss = criterion(log_probs, context_dist)\n",
    "\n",
    "        optimizer.zero_grad()\n",
    "        loss.backward()\n",
    "        optimizer.step()\n",
    "        total_loss += loss.item()\n",
    "\n",
    "    avg_loss = total_loss / len(artist_dataloader)\n",
    "    print(f\"Epoch {epoch+1}/{n_epochs} - Loss: {avg_loss:.4f}\")"
   ]
  },
  {
   "cell_type": "markdown",
   "metadata": {
    "id": "EWpK5gTzSXmF"
   },
   "source": [
    "## 5.3 Visualització d'artistes\n",
    "\n",
    "<div style=\"background-color: #EDF7FF; border-color: #7C9DBF; border-left: 5px solid #7C9DBF; padding: 0.5em;\">\n",
    "<strong>Implementació:</strong> Recupera els embeddings apresos pel model i visualitza els artistes projectats a l'espai 2d. Mostra aleatòriament les etiquetes (nom de l'artista) de 100 punts juntament amb aquests. No mostris totes les etiquetes perquè taparien el contingut del gràfic.\n",
    "</div>"
   ]
  },
  {
   "cell_type": "code",
   "execution_count": null,
   "metadata": {
    "id": "r94ybu0cSV_G"
   },
   "outputs": [],
   "source": []
  },
  {
   "cell_type": "markdown",
   "metadata": {
    "id": "ZpWCHOInS3xa"
   },
   "source": [
    "La nova representació és una mica diferent de les altres perquè, a diferència de les anteriors, és recomanable utilitzar similitud de cosinus en lloc de la distància euclidiana perquè dos vectors poden apuntar a la mateixa direcció (molt similars), però estar a diferent escala (longitud).\n",
    "\n",
    "Per exemple: [1, 1] i [100, 100] estan molt lluny euclidianament, però apunten exactament a la mateixa direcció → són el mateix tipus d'artista, només amb més magnitud (més popular, més escoltat...).\n",
    "\n",
    "L'euclidiana penalitza l'escala, no només la direcció. Però als embeddings, l'important és la direcció del vector, que representa l'estil, el context o la posició semàntica.\n",
    "\n",
    "Mentre que la similitud de cosinus oscil·la entre -1 (oposats) i 1 (idèntics). Dos vectors amb similitud cosinus propera a 1 estan a la mateixa direcció, per tant, són similars. I dos vectors amb similitud 0 són ortogonals, sense relació. S'ha observat que la similitud de cosinus encaixa millor la representació de la xarxa amb la interpretació dels embeddings."
   ]
  },
  {
   "cell_type": "markdown",
   "metadata": {
    "id": "OPADxjy1S_FU"
   },
   "source": [
    "<div style=\"background-color: #EDF7FF; border-color: #7C9DBF; border-left: 5px solid #7C9DBF; padding: 0.5em;\">\n",
    "<strong>Anàlisi:</strong> Com recomanaries artistes a un usuari amb alguna història d'escolta?\n",
    "</div>"
   ]
  },
  {
   "cell_type": "code",
   "execution_count": null,
   "metadata": {
    "id": "xrSnbxKoTCZR"
   },
   "outputs": [],
   "source": []
  }
 ],
 "metadata": {
  "colab": {
   "provenance": []
  },
  "kernelspec": {
   "display_name": "Python 3 (ipykernel)",
   "language": "python",
   "name": "python3"
  },
  "language_info": {
   "codemirror_mode": {
    "name": "ipython",
    "version": 3
   },
   "file_extension": ".py",
   "mimetype": "text/x-python",
   "name": "python",
   "nbconvert_exporter": "python",
   "pygments_lexer": "ipython3",
   "version": "3.12.9"
  },
  "toc": {
   "base_numbering": 1,
   "nav_menu": {},
   "number_sections": true,
   "sideBar": true,
   "skip_h1_title": false,
   "title_cell": "Table of Contents",
   "title_sidebar": "Contents",
   "toc_cell": false,
   "toc_position": {},
   "toc_section_display": true,
   "toc_window_display": false
  }
 },
 "nbformat": 4,
 "nbformat_minor": 4
}
