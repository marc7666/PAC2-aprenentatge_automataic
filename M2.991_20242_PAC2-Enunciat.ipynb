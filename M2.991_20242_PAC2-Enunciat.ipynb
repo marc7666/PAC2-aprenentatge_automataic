{
 "cells": [
  {
   "cell_type": "markdown",
   "metadata": {
    "id": "Kkjzq5PUPAD9"
   },
   "source": [
    "<div style=\"width: 100%; clear: both;\">\n",
    "\n",
    "<div style=\"float: left; width: 50%;\">\n",
    "\n",
    "<img src=\"http://www.uoc.edu/portal/_resources/common/imatges/marca_UOC/UOC_Masterbrand.jpg\" align=\"left\">\n",
    "\n",
    "</div>\n",
    "\n",
    "<div style=\"float: right; width: 50%;\">\n",
    "\n",
    "<p style=\"margin: 0; padding-top: 22px; text-align:right;\">M2.991 · Aprenentatge automàtic · PAC1</p>\n",
    "\n",
    "<p style=\"margin: 0; text-align:right;\">2024-2 · Màster universitari en Ciència de dades (Data science)</p>\n",
    "\n",
    "<p style=\"margin: 0; text-align:right; padding-button: 100px;\">Estudis d'Informàtica, Multimèdia i Telecomunicació</p>\n",
    "\n",
    "</div>\n",
    "\n",
    "</div>\n",
    "\n",
    "<div style=\"width:100%;\">&nbsp;</div>"
   ]
  },
  {
   "cell_type": "markdown",
   "metadata": {
    "id": "w3k6VSA7PAEA"
   },
   "source": [
    "# PEC 2 - Descobrint patrons ocults: projeccions, agrupacions i significat latent en dades no etiquetades\n",
    "\n",
    "En aquesta pràctica treballarem amb un [dataset real de sessions d'escolta de música procedent de 1000 usuaris de LastFM](http://ocelma.net/MusicRecommendationDataset/lastfm-1K.html). A partir d'aquest escenari, aprendràs a explorar i transformar les dades, a projectar-les en diferents espais i a descobrir estructures ocultes sense necessitat d'etiquetes.\n",
    "\n",
    "Aplicarem diferents tècniques d'aprenentatge no supervisat per detectar agrupacions i afinitats musicals, entenent millor el comportament dels oients i les relacions entre cançons o artistes.\n",
    "\n",
    "Començarem **explorant i preparant les dades** per a les diferents tècniques que aplicarem. Donada la gran dimensionalitat de les dades, necessitem representar-les de manera densa a través de diferents tècniques de projecció no supervisades, començarem amb una tècnica basada en **coocurrència** (de cançons o artistes en sessions d'un usuari). Donades les seves limitacions, provarem dos mètodes de projecció alternatius: un **probabilístic** (LDA que a més és un algoritme de clustering) i un altre que **factoritza matrius** (ALS que a més ens permet fer recomanacions). *Opcionalment* es presenta l'oportunitat d'explorar les **projeccions algebraiques** a través d'una versió simplificada d'un model item2vec.\n",
    "\n",
    "**Important:** cadascun dels exercicis pot suposar diversos minuts d'execució (molts mètodes utilitzats a la pràctica tenen un paràmetre anomenat `n_jobs` que amb valor `-1` paral·leliza tasques i pot reduir els temps d'execució), per la qual cosa el lliurament s'ha de fer en format notebook i en format html, on es vegi el codi, els resultats i comentaris de cada exercici. Es pot exportar el notebook a html des del menú File $\\to$ Download as $\\to$ HTML.\n",
    "\n",
    "**Important:** existeix un tipus de cel·la especial per albergar text. Aquest tipus de cel·la us serà molt útil per respondre a les diferents preguntes teòriques plantejades al llarg de cada PEC. Per canviar el tipus de cel·la a aquest tipus, trieu al menú: Cell $\\to$ Cell Type $\\to$ Markdown.\n",
    "\n",
    "**Important:** la solució plantejada no ha d'utilitzar mètodes, funcions o paràmetres declarats \"deprecated\" en futures versions.\n",
    "\n",
    "**Important:** és convenient que utilitzeu una llavor amb un valor fix (en aquest Notebook se us proposa la variable _seed_ inicialitzada a 100) en tots aquells mètodes o funcions que continguin alguna component aleatòria per assegurar-vos que obtindreu sempre el mateix resultat en les diferents execucions del vostre codi.\n",
    "\n",
    "**Important:** no oblideu posar el vostre nom i cognoms a la següent cel·la."
   ]
  },
  {
   "cell_type": "markdown",
   "metadata": {
    "id": "uuHiW6iWPAEB"
   },
   "source": [
    "<div class=\"alert alert-block alert-info\">\n",
    "<strong>Nom i cognoms: Marc Cervera Rosell</strong>\n",
    "</div>"
   ]
  },
  {
   "cell_type": "code",
   "execution_count": null,
   "metadata": {
    "id": "Zv8CPaJ8PAEC"
   },
   "outputs": [],
   "source": []
  },
  {
   "cell_type": "markdown",
   "metadata": {
    "id": "FrgodeyGPAEC"
   },
   "source": [
    "Per a la realització de la pràctica necessitarem instal·lar i importar els següents mòduls:"
   ]
  },
  {
   "cell_type": "code",
   "execution_count": 20,
   "metadata": {
    "colab": {
     "base_uri": "https://localhost:8080/"
    },
    "executionInfo": {
     "elapsed": 13545,
     "status": "ok",
     "timestamp": 1743164947572,
     "user": {
      "displayName": "Magda L. Ruiz Ordoñez",
      "userId": "14825706077751454765"
     },
     "user_tz": -60
    },
    "id": "rAGXNrruPAED",
    "outputId": "bf5a710c-5310-445f-f430-b47fcd0ad65a"
   },
   "outputs": [
    {
     "name": "stdout",
     "output_type": "stream",
     "text": [
      "Requirement already satisfied: smogn==0.1.2 in c:\\users\\mcr99\\anaconda3\\envs\\env_uoc202402pec2\\lib\\site-packages (0.1.2)\n",
      "Requirement already satisfied: numpy in c:\\users\\mcr99\\anaconda3\\envs\\env_uoc202402pec2\\lib\\site-packages (from smogn==0.1.2) (2.1.0)\n",
      "Requirement already satisfied: pandas in c:\\users\\mcr99\\anaconda3\\envs\\env_uoc202402pec2\\lib\\site-packages (from smogn==0.1.2) (2.2.3)\n",
      "Requirement already satisfied: tqdm in c:\\users\\mcr99\\anaconda3\\envs\\env_uoc202402pec2\\lib\\site-packages (from smogn==0.1.2) (4.67.1)\n",
      "Requirement already satisfied: python-dateutil>=2.8.2 in c:\\users\\mcr99\\anaconda3\\envs\\env_uoc202402pec2\\lib\\site-packages (from pandas->smogn==0.1.2) (2.9.0.post0)\n",
      "Requirement already satisfied: pytz>=2020.1 in c:\\users\\mcr99\\anaconda3\\envs\\env_uoc202402pec2\\lib\\site-packages (from pandas->smogn==0.1.2) (2024.1)\n",
      "Requirement already satisfied: tzdata>=2022.7 in c:\\users\\mcr99\\anaconda3\\envs\\env_uoc202402pec2\\lib\\site-packages (from pandas->smogn==0.1.2) (2025.2)\n",
      "Requirement already satisfied: colorama in c:\\users\\mcr99\\anaconda3\\envs\\env_uoc202402pec2\\lib\\site-packages (from tqdm->smogn==0.1.2) (0.4.6)\n",
      "Requirement already satisfied: six>=1.5 in c:\\users\\mcr99\\anaconda3\\envs\\env_uoc202402pec2\\lib\\site-packages (from python-dateutil>=2.8.2->pandas->smogn==0.1.2) (1.17.0)\n",
      "Requirement already satisfied: implicit in c:\\users\\mcr99\\anaconda3\\envs\\env_uoc202402pec2\\lib\\site-packages (0.7.2)\n",
      "Requirement already satisfied: numpy>=1.17.0 in c:\\users\\mcr99\\anaconda3\\envs\\env_uoc202402pec2\\lib\\site-packages (from implicit) (2.1.0)\n",
      "Requirement already satisfied: scipy>=0.16 in c:\\users\\mcr99\\anaconda3\\envs\\env_uoc202402pec2\\lib\\site-packages (from implicit) (1.15.2)\n",
      "Requirement already satisfied: tqdm>=4.27 in c:\\users\\mcr99\\anaconda3\\envs\\env_uoc202402pec2\\lib\\site-packages (from implicit) (4.67.1)\n",
      "Requirement already satisfied: threadpoolctl in c:\\users\\mcr99\\anaconda3\\envs\\env_uoc202402pec2\\lib\\site-packages (from implicit) (3.6.0)\n",
      "Requirement already satisfied: colorama in c:\\users\\mcr99\\anaconda3\\envs\\env_uoc202402pec2\\lib\\site-packages (from tqdm>=4.27->implicit) (0.4.6)\n",
      "Requirement already satisfied: matplotlib-venn in c:\\users\\mcr99\\anaconda3\\envs\\env_uoc202402pec2\\lib\\site-packages (1.1.2)\n",
      "Requirement already satisfied: matplotlib in c:\\users\\mcr99\\anaconda3\\envs\\env_uoc202402pec2\\lib\\site-packages (from matplotlib-venn) (3.10.0)\n",
      "Requirement already satisfied: numpy in c:\\users\\mcr99\\anaconda3\\envs\\env_uoc202402pec2\\lib\\site-packages (from matplotlib-venn) (2.1.0)\n",
      "Requirement already satisfied: scipy in c:\\users\\mcr99\\anaconda3\\envs\\env_uoc202402pec2\\lib\\site-packages (from matplotlib-venn) (1.15.2)\n",
      "Requirement already satisfied: contourpy>=1.0.1 in c:\\users\\mcr99\\anaconda3\\envs\\env_uoc202402pec2\\lib\\site-packages (from matplotlib->matplotlib-venn) (1.3.1)\n",
      "Requirement already satisfied: cycler>=0.10 in c:\\users\\mcr99\\anaconda3\\envs\\env_uoc202402pec2\\lib\\site-packages (from matplotlib->matplotlib-venn) (0.12.1)\n",
      "Requirement already satisfied: fonttools>=4.22.0 in c:\\users\\mcr99\\anaconda3\\envs\\env_uoc202402pec2\\lib\\site-packages (from matplotlib->matplotlib-venn) (4.57.0)\n",
      "Requirement already satisfied: kiwisolver>=1.3.1 in c:\\users\\mcr99\\anaconda3\\envs\\env_uoc202402pec2\\lib\\site-packages (from matplotlib->matplotlib-venn) (1.4.8)\n",
      "Requirement already satisfied: packaging>=20.0 in c:\\users\\mcr99\\anaconda3\\envs\\env_uoc202402pec2\\lib\\site-packages (from matplotlib->matplotlib-venn) (24.2)\n",
      "Requirement already satisfied: pillow>=8 in c:\\users\\mcr99\\anaconda3\\envs\\env_uoc202402pec2\\lib\\site-packages (from matplotlib->matplotlib-venn) (11.1.0)\n",
      "Requirement already satisfied: pyparsing>=2.3.1 in c:\\users\\mcr99\\anaconda3\\envs\\env_uoc202402pec2\\lib\\site-packages (from matplotlib->matplotlib-venn) (3.2.3)\n",
      "Requirement already satisfied: python-dateutil>=2.7 in c:\\users\\mcr99\\anaconda3\\envs\\env_uoc202402pec2\\lib\\site-packages (from matplotlib->matplotlib-venn) (2.9.0.post0)\n",
      "Requirement already satisfied: six>=1.5 in c:\\users\\mcr99\\anaconda3\\envs\\env_uoc202402pec2\\lib\\site-packages (from python-dateutil>=2.7->matplotlib->matplotlib-venn) (1.17.0)\n",
      "Requirement already satisfied: adjustText in c:\\users\\mcr99\\anaconda3\\envs\\env_uoc202402pec2\\lib\\site-packages (1.3.0)\n",
      "Requirement already satisfied: numpy in c:\\users\\mcr99\\anaconda3\\envs\\env_uoc202402pec2\\lib\\site-packages (from adjustText) (2.1.0)\n",
      "Requirement already satisfied: matplotlib in c:\\users\\mcr99\\anaconda3\\envs\\env_uoc202402pec2\\lib\\site-packages (from adjustText) (3.10.0)\n",
      "Requirement already satisfied: scipy in c:\\users\\mcr99\\anaconda3\\envs\\env_uoc202402pec2\\lib\\site-packages (from adjustText) (1.15.2)\n",
      "Requirement already satisfied: contourpy>=1.0.1 in c:\\users\\mcr99\\anaconda3\\envs\\env_uoc202402pec2\\lib\\site-packages (from matplotlib->adjustText) (1.3.1)\n",
      "Requirement already satisfied: cycler>=0.10 in c:\\users\\mcr99\\anaconda3\\envs\\env_uoc202402pec2\\lib\\site-packages (from matplotlib->adjustText) (0.12.1)\n",
      "Requirement already satisfied: fonttools>=4.22.0 in c:\\users\\mcr99\\anaconda3\\envs\\env_uoc202402pec2\\lib\\site-packages (from matplotlib->adjustText) (4.57.0)\n",
      "Requirement already satisfied: kiwisolver>=1.3.1 in c:\\users\\mcr99\\anaconda3\\envs\\env_uoc202402pec2\\lib\\site-packages (from matplotlib->adjustText) (1.4.8)\n",
      "Requirement already satisfied: packaging>=20.0 in c:\\users\\mcr99\\anaconda3\\envs\\env_uoc202402pec2\\lib\\site-packages (from matplotlib->adjustText) (24.2)\n",
      "Requirement already satisfied: pillow>=8 in c:\\users\\mcr99\\anaconda3\\envs\\env_uoc202402pec2\\lib\\site-packages (from matplotlib->adjustText) (11.1.0)\n",
      "Requirement already satisfied: pyparsing>=2.3.1 in c:\\users\\mcr99\\anaconda3\\envs\\env_uoc202402pec2\\lib\\site-packages (from matplotlib->adjustText) (3.2.3)\n",
      "Requirement already satisfied: python-dateutil>=2.7 in c:\\users\\mcr99\\anaconda3\\envs\\env_uoc202402pec2\\lib\\site-packages (from matplotlib->adjustText) (2.9.0.post0)\n",
      "Requirement already satisfied: six>=1.5 in c:\\users\\mcr99\\anaconda3\\envs\\env_uoc202402pec2\\lib\\site-packages (from python-dateutil>=2.7->matplotlib->adjustText) (1.17.0)\n"
     ]
    }
   ],
   "source": [
    "!pip install smogn==0.1.2\n",
    "!pip install implicit\n",
    "!pip install matplotlib-venn\n",
    "#!apt-get -qq install -y libfluidsynth1\n",
    "!pip install adjustText"
   ]
  },
  {
   "cell_type": "code",
   "execution_count": 1,
   "metadata": {
    "id": "U296kJQ-PAEE"
   },
   "outputs": [],
   "source": [
    "from collections import defaultdict\n",
    "from itertools import permutations\n",
    "import pickle\n",
    "import random\n",
    "import warnings\n",
    "\n",
    "from adjustText import adjust_text\n",
    "from implicit.als import AlternatingLeastSquares\n",
    "from matplotlib import pyplot as plt\n",
    "import numpy as np\n",
    "import pandas as pd\n",
    "from scipy.sparse import csr_matrix\n",
    "from sklearn.decomposition import LatentDirichletAllocation\n",
    "import torch\n",
    "import torch.nn as nn\n",
    "import torch.nn.functional as F\n",
    "from torch.utils.data import TensorDataset, DataLoader, Dataset\n",
    "import tqdm\n",
    "import umap\n",
    "\n",
    "%matplotlib inline\n"
   ]
  },
  {
   "cell_type": "markdown",
   "metadata": {
    "id": "54XreOYbPAEG"
   },
   "source": [
    "# 1. Preparació de les dades: LastFM 1K (1 punt)\n",
    "\n",
    "Treballarem amb una versió del dataset LastFM 1K, un conjunt real de dades recopilat des de la plataforma musical Last.fm. Conté l'historial d'escolta d'aproximadament 1.000 usuaris, on es registren les cançons que cada usuari ha escoltat, amb informació sobre:\n",
    "\n",
    "- L'usuari (en format id)\n",
    "\n",
    "- La data i hora de reproducció\n",
    "\n",
    "- L'artista (en format id i nom)\n",
    "\n",
    "- La cançó (en format id i títol)\n",
    "\n",
    "Per a això pots carregar les dades de la següent manera:"
   ]
  },
  {
   "cell_type": "code",
   "execution_count": 2,
   "metadata": {
    "id": "S3T1YXDZQoSr"
   },
   "outputs": [],
   "source": [
    "df = pd.read_csv(\"music_sample.tsv\", sep=\"\\t\", header=0)"
   ]
  },
  {
   "cell_type": "code",
   "execution_count": 3,
   "metadata": {
    "colab": {
     "base_uri": "https://localhost:8080/",
     "height": 206
    },
    "executionInfo": {
     "elapsed": 56,
     "status": "ok",
     "timestamp": 1743164957297,
     "user": {
      "displayName": "Magda L. Ruiz Ordoñez",
      "userId": "14825706077751454765"
     },
     "user_tz": -60
    },
    "id": "O9datC2PQqgR",
    "outputId": "46d3b21b-02d9-4841-be64-0fbef1118b7b"
   },
   "outputs": [
    {
     "data": {
      "text/html": [
       "<div>\n",
       "<style scoped>\n",
       "    .dataframe tbody tr th:only-of-type {\n",
       "        vertical-align: middle;\n",
       "    }\n",
       "\n",
       "    .dataframe tbody tr th {\n",
       "        vertical-align: top;\n",
       "    }\n",
       "\n",
       "    .dataframe thead th {\n",
       "        text-align: right;\n",
       "    }\n",
       "</style>\n",
       "<table border=\"1\" class=\"dataframe\">\n",
       "  <thead>\n",
       "    <tr style=\"text-align: right;\">\n",
       "      <th></th>\n",
       "      <th>user_id</th>\n",
       "      <th>artist</th>\n",
       "      <th>track</th>\n",
       "    </tr>\n",
       "  </thead>\n",
       "  <tbody>\n",
       "    <tr>\n",
       "      <th>868204</th>\n",
       "      <td>user_000208</td>\n",
       "      <td>Ornette Coleman</td>\n",
       "      <td>Love Call (Alternate Take)</td>\n",
       "    </tr>\n",
       "    <tr>\n",
       "      <th>526997</th>\n",
       "      <td>user_000379</td>\n",
       "      <td>The Cut Up Boys</td>\n",
       "      <td>Joyenergizer (Psico Mix) / Let Me See Your Han...</td>\n",
       "    </tr>\n",
       "    <tr>\n",
       "      <th>634495</th>\n",
       "      <td>user_000035</td>\n",
       "      <td>Koji Kondo, Hajime Wakai</td>\n",
       "      <td>Monster Island Invasion 1</td>\n",
       "    </tr>\n",
       "    <tr>\n",
       "      <th>883771</th>\n",
       "      <td>user_000685</td>\n",
       "      <td>Nils Petter Molvær</td>\n",
       "      <td>Caught On Tape</td>\n",
       "    </tr>\n",
       "    <tr>\n",
       "      <th>312050</th>\n",
       "      <td>user_000145</td>\n",
       "      <td>Mudvayne</td>\n",
       "      <td>Silenced</td>\n",
       "    </tr>\n",
       "  </tbody>\n",
       "</table>\n",
       "</div>"
      ],
      "text/plain": [
       "            user_id                    artist  \\\n",
       "868204  user_000208           Ornette Coleman   \n",
       "526997  user_000379           The Cut Up Boys   \n",
       "634495  user_000035  Koji Kondo, Hajime Wakai   \n",
       "883771  user_000685        Nils Petter Molvær   \n",
       "312050  user_000145                  Mudvayne   \n",
       "\n",
       "                                                    track  \n",
       "868204                         Love Call (Alternate Take)  \n",
       "526997  Joyenergizer (Psico Mix) / Let Me See Your Han...  \n",
       "634495                          Monster Island Invasion 1  \n",
       "883771                                     Caught On Tape  \n",
       "312050                                           Silenced  "
      ]
     },
     "execution_count": 3,
     "metadata": {},
     "output_type": "execute_result"
    }
   ],
   "source": [
    "df.sample(5)"
   ]
  },
  {
   "cell_type": "markdown",
   "metadata": {
    "id": "bTszgswnmzax"
   },
   "source": [
    "## 1.1 Eliminar duplicats\n",
    "\n",
    "Un mateix usuari pot haver escoltat una mateixa cançó diverses vegades al llarg del temps. Com que en aquest cas no ens interessa quan va ocórrer cada escolta, eliminarem els registres duplicats.\n",
    "\n"
   ]
  },
  {
   "cell_type": "markdown",
   "metadata": {
    "id": "p-yJjFtQPAEG"
   },
   "source": [
    "<div style=\"background-color: #EDF7FF; border-color: #7C9DBF; border-left: 5px solid #7C9DBF; padding: 0.5em;\">\n",
    "<strong>Implementació:</strong> Conserva només una fila per combinació d'`usuari`, `artista` i `cançó`, ignorant el `timestamp`.\n",
    "</div>\n"
   ]
  },
  {
   "cell_type": "code",
   "execution_count": 4,
   "metadata": {},
   "outputs": [],
   "source": [
    "# Eliminació de línies corrompudes\n",
    "df.dropna(inplace=True)\n",
    "df = df[~df['track'].str.contains(r\"\\t\")]"
   ]
  },
  {
   "cell_type": "code",
   "execution_count": 8,
   "metadata": {
    "id": "ThSEdQoWPAEG"
   },
   "outputs": [
    {
     "data": {
      "text/plain": [
       "user_id    False\n",
       "artist     False\n",
       "track      False\n",
       "dtype: bool"
      ]
     },
     "execution_count": 8,
     "metadata": {},
     "output_type": "execute_result"
    }
   ],
   "source": [
    "df.isna().any()"
   ]
  },
  {
   "cell_type": "code",
   "execution_count": 9,
   "metadata": {},
   "outputs": [],
   "source": [
    "df_no_duplicates = df.drop_duplicates()"
   ]
  },
  {
   "cell_type": "code",
   "execution_count": 11,
   "metadata": {},
   "outputs": [
    {
     "data": {
      "text/plain": [
       "False"
      ]
     },
     "execution_count": 11,
     "metadata": {},
     "output_type": "execute_result"
    }
   ],
   "source": [
    "df_no_duplicates.duplicated().any() # Comprovar si hi ha duplicats"
   ]
  },
  {
   "cell_type": "markdown",
   "metadata": {},
   "source": [
    "**Documentació consultada:**\n",
    "\n",
    "[Pandas.(nd)._pandas.DataFrame.isna_.Pandas](https://pandas.pydata.org/docs/reference/api/pandas.DataFrame.isna.html)\n",
    "\n",
    "[Pandas.(nd)._pandas.DataFrame.any_.Pandas](https://pandas.pydata.org/docs/reference/api/pandas.DataFrame.any.html)\n",
    "\n",
    "[Pandas.(nd)._pandas.DataFrame.drop_duplicates_.Pandas](https://pandas.pydata.org/docs/reference/api/pandas.DataFrame.drop_duplicates.html)\n",
    "\n",
    "[Pandas.(nd)._pandas.DataFrame.duplicated_.Pandas](https://pandas.pydata.org/docs/reference/api/pandas.DataFrame.duplicated.html)"
   ]
  },
  {
   "cell_type": "markdown",
   "metadata": {
    "id": "xRpEMu0an0iY"
   },
   "source": [
    "## 1.2 Filtratge de cançons amb poca repercussió\n",
    "\n",
    "Per reduir la mida del dataset i centrar-nos en les cançons amb més rellevància, eliminarem aquelles que hagin tingut molt poca repercussió.\n",
    "\n",
    "Aquest filtratge ens ajudarà a estalviar **temps de càlcul** i **memòria** en els passos posteriors.\n",
    "\n",
    "\n",
    "\n"
   ]
  },
  {
   "cell_type": "markdown",
   "metadata": {
    "id": "rxivJWUU2syq"
   },
   "source": [
    "<div style=\"background-color: #EDF7FF; border-color: #7C9DBF; border-left: 5px solid #7C9DBF; padding: 0.5em;\">\n",
    "<strong>Implementació:</strong> Conserva només les cançons que hagin estat escoltades per més de 20 usuaris diferents.\n",
    "</div>\n"
   ]
  },
  {
   "cell_type": "code",
   "execution_count": 82,
   "metadata": {
    "id": "3DtNU_8T3Gkq"
   },
   "outputs": [
    {
     "data": {
      "text/html": [
       "<div>\n",
       "<style scoped>\n",
       "    .dataframe tbody tr th:only-of-type {\n",
       "        vertical-align: middle;\n",
       "    }\n",
       "\n",
       "    .dataframe tbody tr th {\n",
       "        vertical-align: top;\n",
       "    }\n",
       "\n",
       "    .dataframe thead th {\n",
       "        text-align: right;\n",
       "    }\n",
       "</style>\n",
       "<table border=\"1\" class=\"dataframe\">\n",
       "  <thead>\n",
       "    <tr style=\"text-align: right;\">\n",
       "      <th></th>\n",
       "      <th>artist</th>\n",
       "      <th>track</th>\n",
       "      <th>user_id</th>\n",
       "    </tr>\n",
       "  </thead>\n",
       "  <tbody>\n",
       "    <tr>\n",
       "      <th>2501</th>\n",
       "      <td>3 Doors Down</td>\n",
       "      <td>Here Without You</td>\n",
       "      <td>[user_000270, user_000338, user_000435, user_0...</td>\n",
       "    </tr>\n",
       "    <tr>\n",
       "      <th>2649</th>\n",
       "      <td>30 Seconds To Mars</td>\n",
       "      <td>The Kill</td>\n",
       "      <td>[user_000300, user_000761, user_000044, user_0...</td>\n",
       "    </tr>\n",
       "    <tr>\n",
       "      <th>5240</th>\n",
       "      <td>A Perfect Circle</td>\n",
       "      <td>3 Libras</td>\n",
       "      <td>[user_000729, user_000206, user_000912, user_0...</td>\n",
       "    </tr>\n",
       "    <tr>\n",
       "      <th>5274</th>\n",
       "      <td>A Perfect Circle</td>\n",
       "      <td>Imagine</td>\n",
       "      <td>[user_000341, user_000290, user_000206, user_0...</td>\n",
       "    </tr>\n",
       "    <tr>\n",
       "      <th>5828</th>\n",
       "      <td>A-Ha</td>\n",
       "      <td>Take On Me</td>\n",
       "      <td>[user_000537, user_000638, user_000374, user_0...</td>\n",
       "    </tr>\n",
       "    <tr>\n",
       "      <th>...</th>\n",
       "      <td>...</td>\n",
       "      <td>...</td>\n",
       "      <td>...</td>\n",
       "    </tr>\n",
       "    <tr>\n",
       "      <th>479221</th>\n",
       "      <td>Zero 7</td>\n",
       "      <td>Likufanele</td>\n",
       "      <td>[user_000609, user_000989, user_000478, user_0...</td>\n",
       "    </tr>\n",
       "    <tr>\n",
       "      <th>479232</th>\n",
       "      <td>Zero 7</td>\n",
       "      <td>Polaris</td>\n",
       "      <td>[user_000860, user_000153, user_000451, user_0...</td>\n",
       "    </tr>\n",
       "    <tr>\n",
       "      <th>479234</th>\n",
       "      <td>Zero 7</td>\n",
       "      <td>Red Dust</td>\n",
       "      <td>[user_000734, user_000627, user_000716, user_0...</td>\n",
       "    </tr>\n",
       "    <tr>\n",
       "      <th>479241</th>\n",
       "      <td>Zero 7</td>\n",
       "      <td>Somersault</td>\n",
       "      <td>[user_000695, user_000159, user_000180, user_0...</td>\n",
       "    </tr>\n",
       "    <tr>\n",
       "      <th>479253</th>\n",
       "      <td>Zero 7</td>\n",
       "      <td>This World</td>\n",
       "      <td>[user_000609, user_000358, user_000687, user_0...</td>\n",
       "    </tr>\n",
       "  </tbody>\n",
       "</table>\n",
       "<p>2231 rows × 3 columns</p>\n",
       "</div>"
      ],
      "text/plain": [
       "                    artist             track  \\\n",
       "2501          3 Doors Down  Here Without You   \n",
       "2649    30 Seconds To Mars          The Kill   \n",
       "5240      A Perfect Circle          3 Libras   \n",
       "5274      A Perfect Circle           Imagine   \n",
       "5828                  A-Ha        Take On Me   \n",
       "...                    ...               ...   \n",
       "479221              Zero 7        Likufanele   \n",
       "479232              Zero 7           Polaris   \n",
       "479234              Zero 7          Red Dust   \n",
       "479241              Zero 7        Somersault   \n",
       "479253              Zero 7        This World   \n",
       "\n",
       "                                                  user_id  \n",
       "2501    [user_000270, user_000338, user_000435, user_0...  \n",
       "2649    [user_000300, user_000761, user_000044, user_0...  \n",
       "5240    [user_000729, user_000206, user_000912, user_0...  \n",
       "5274    [user_000341, user_000290, user_000206, user_0...  \n",
       "5828    [user_000537, user_000638, user_000374, user_0...  \n",
       "...                                                   ...  \n",
       "479221  [user_000609, user_000989, user_000478, user_0...  \n",
       "479232  [user_000860, user_000153, user_000451, user_0...  \n",
       "479234  [user_000734, user_000627, user_000716, user_0...  \n",
       "479241  [user_000695, user_000159, user_000180, user_0...  \n",
       "479253  [user_000609, user_000358, user_000687, user_0...  \n",
       "\n",
       "[2231 rows x 3 columns]"
      ]
     },
     "execution_count": 82,
     "metadata": {},
     "output_type": "execute_result"
    }
   ],
   "source": [
    "df_agrupat = df_no_duplicates.groupby(by=[\"artist\", \"track\"], as_index=False).agg({\"user_id\":\"unique\"}) # Agrupar per artista i canço\n",
    "df_filtrat = df_agrupat[df_agrupat[\"user_id\"].apply(len) > 20] # Seleccionar cançons amb mes de 20 usuaris\n",
    "df_filtrat"
   ]
  },
  {
   "cell_type": "code",
   "execution_count": 83,
   "metadata": {},
   "outputs": [
    {
     "data": {
      "text/plain": [
       "artist     False\n",
       "track      False\n",
       "user_id    False\n",
       "dtype: bool"
      ]
     },
     "execution_count": 83,
     "metadata": {},
     "output_type": "execute_result"
    }
   ],
   "source": [
    "df_filtrat.isna().any()"
   ]
  },
  {
   "cell_type": "markdown",
   "metadata": {},
   "source": [
    "**Documentació consultada:**\n",
    "\n",
    "[Pandas.(nd)._pandas.DataFrame.groupby_.Pandas](https://pandas.pydata.org/docs/reference/api/pandas.DataFrame.groupby.html)\n",
    "\n",
    "[Pandas.(nd)._pandas.DataFrame.nunique_.Pandas](https://pandas.pydata.org/docs/reference/api/pandas.DataFrame.nunique.html)"
   ]
  },
  {
   "cell_type": "markdown",
   "metadata": {
    "id": "6M02iDaC6Pah"
   },
   "source": [
    "## 1.3 Identificació d'artistes i cançons úniques\n",
    "\n",
    "Generarem tres sèries de pandas que ens seran útils més endavant: una amb tots els **usuaris únics**, una altra amb tots els **artistes únics** i una última amb totes les **cançons úniques** del dataset.\n",
    "\n",
    "Crea tres objectes `unique_users`, `unique_artists` i `unique_songs`, que continguin els valors únics de `user_id`, `artist` i `artist` + `track`, respectivament, i que tinguin un **índex correlatiu de 0 a N**. Per a això, pots utilitzar `.reset_index(drop=True)` en la teva solució.\n",
    "\n",
    "A partir de les sèries `unique_artists` i `unique_songs`, crearem quatre diccionaris que ens permetran **mapejar entre noms (strings) i índexs (enters correlatius començant des del 0)**, i viceversa.\n",
    "\n",
    "Crea els següents diccionaris:\n",
    "\n",
    "- `user_to_idx`: mapeja l'id d'usuari (str) al seu índex.\n",
    "- `idx_to_user`: mapeja l'índex a l'id d'usuari (str).\n",
    "\n",
    "- `artist_to_idx`: mapeja el nom de l'artista al seu índex.\n",
    "- `idx_to_artist`: mapeja l'índex al nom de l'artista.\n",
    "\n",
    "- `song_to_idx`: mapeja el nom de la cançó al seu índex.\n",
    "- `idx_to_song`: mapeja l'índex al nom de la cançó.\n",
    "\n",
    "Aquests diccionaris seran molt útils per representar el dataset numèricament en etapes posteriors.\n",
    "\n"
   ]
  },
  {
   "cell_type": "code",
   "execution_count": 112,
   "metadata": {
    "id": "y_EJeGye6cwt"
   },
   "outputs": [
    {
     "data": {
      "text/plain": [
       "2501      [user_000270, user_000338, user_000435, user_0...\n",
       "2649      [user_000300, user_000761, user_000044, user_0...\n",
       "5240      [user_000729, user_000206, user_000912, user_0...\n",
       "5274      [user_000341, user_000290, user_000206, user_0...\n",
       "5828      [user_000537, user_000638, user_000374, user_0...\n",
       "                                ...                        \n",
       "479221    [user_000609, user_000989, user_000478, user_0...\n",
       "479232    [user_000860, user_000153, user_000451, user_0...\n",
       "479234    [user_000734, user_000627, user_000716, user_0...\n",
       "479241    [user_000695, user_000159, user_000180, user_0...\n",
       "479253    [user_000609, user_000358, user_000687, user_0...\n",
       "Name: user_id, Length: 2231, dtype: object"
      ]
     },
     "execution_count": 112,
     "metadata": {},
     "output_type": "execute_result"
    }
   ],
   "source": [
    "df_filtrat[\"user_id\"]"
   ]
  },
  {
   "cell_type": "markdown",
   "metadata": {
    "id": "fwN2JSZs6vvf"
   },
   "source": [
    "<div style=\"background-color: #EDF7FF; border-color: #7C9DBF; border-left: 5px solid #7C9DBF; padding: 0.5em;\">\n",
    "<strong>Implementació:</strong> Crea els objectes unique_users, user_to_idx, idx_to_user, unique_artists, artist_to_idx, idx_to_artist, unique_songs, song_to_idx i idx_to_song.\n",
    "</div>\n"
   ]
  },
  {
   "cell_type": "code",
   "execution_count": 117,
   "metadata": {
    "id": "rqEvU4A-nSUV"
   },
   "outputs": [],
   "source": [
    "unique_users = pd.Series(df_filtrat[\"user_id\"].explode().unique()).reset_index(drop=True) # Valors unics dels user_id\n",
    "unique_artists = pd.Series(df_filtrat[\"artist\"].unique()).reset_index(drop=True) # Artistes\n",
    "unique_songs = pd.Series((df_filtrat[\"artist\"] + \"/\" + df_no_duplicates[\"track\"]).unique()).reset_index(drop=True) # Cançó + artista"
   ]
  },
  {
   "cell_type": "code",
   "execution_count": 124,
   "metadata": {},
   "outputs": [],
   "source": [
    "user_to_idx = {user:index for index, user in enumerate(unique_users)} # Mapping usuaris - index\n",
    "idx_to_user = {index:user for index, user in enumerate(unique_users)} # Mapping index - usuaris\n",
    "artist_to_idx = {artist:index for index, artist in enumerate(unique_artists)} # Mapping artista - index\n",
    "idx_to_artist = {index:artist for index, artist in enumerate(unique_artists)} # Mapping index - artista\n",
    "song_to_idx = {song:index for index, song in enumerate(unique_songs)} # Mapping canço - index\n",
    "idx_to_song = {index:song for index, song in enumerate(unique_songs)} # Mapping canço - index"
   ]
  },
  {
   "cell_type": "markdown",
   "metadata": {
    "id": "yZOhIodj720g"
   },
   "source": [
    "Comprovacions sobre les dades:"
   ]
  },
  {
   "cell_type": "code",
   "execution_count": 125,
   "metadata": {
    "id": "p8JAfOEsnWZT"
   },
   "outputs": [
    {
     "name": "stdout",
     "output_type": "stream",
     "text": [
      "---------- user_to_idx ----------\n",
      "{'user_000270': 0, 'user_000338': 1, 'user_000435': 2, 'user_000574': 3, 'user_000126': 4, 'user_000824': 5, 'user_000206': 6, 'user_000509': 7, 'user_000363': 8, 'user_000927': 9, 'user_000568': 10, 'user_000894': 11, 'user_000342': 12, 'user_000027': 13, 'user_000039': 14, 'user_000732': 15, 'user_000146': 16, 'user_000393': 17, 'user_000426': 18, 'user_000637': 19, 'user_000978': 20, 'user_000144': 21, 'user_000072': 22, 'user_000650': 23, 'user_000300': 24, 'user_000761': 25, 'user_000044': 26, 'user_000057': 27, 'user_000450': 28, 'user_000725': 29, 'user_000714': 30, 'user_000009': 31, 'user_000329': 32, 'user_000218': 33, 'user_000120': 34, 'user_000661': 35, 'user_000999': 36, 'user_000610': 37, 'user_000902': 38, 'user_000477': 39, 'user_000647': 40, 'user_000037': 41, 'user_000275': 42, 'user_000505': 43, 'user_000766': 44, 'user_000084': 45, 'user_000702': 46, 'user_000847': 47, 'user_000543': 48, 'user_000729': 49, 'user_000912': 50, 'user_000833': 51, 'user_000782': 52, 'user_000577': 53, 'user_000344': 54, 'user_000421': 55, 'user_000268': 56, 'user_000801': 57, 'user_000357': 58, 'user_000134': 59, 'user_000692': 60, 'user_000366': 61, 'user_000513': 62, 'user_000633': 63, 'user_000063': 64, 'user_000020': 65, 'user_000112': 66, 'user_000885': 67, 'user_000010': 68, 'user_000542': 69, 'user_000341': 70, 'user_000290': 71, 'user_000774': 72, 'user_000658': 73, 'user_000160': 74, 'user_000949': 75, 'user_000373': 76, 'user_000958': 77, 'user_000604': 78, 'user_000952': 79, 'user_000356': 80, 'user_000161': 81, 'user_000920': 82, 'user_000075': 83, 'user_000369': 84, 'user_000839': 85, 'user_000934': 86, 'user_000013': 87, 'user_000105': 88, 'user_000537': 89, 'user_000638': 90, 'user_000374': 91, 'user_000205': 92, 'user_000274': 93, 'user_000031': 94, 'user_000345': 95, 'user_000432': 96, 'user_000938': 97, 'user_000427': 98, 'user_000656': 99, 'user_000527': 100, 'user_000580': 101, 'user_000042': 102, 'user_000970': 103, 'user_000718': 104, 'user_000377': 105, 'user_000974': 106, 'user_000939': 107, 'user_000303': 108, 'user_000821': 109, 'user_000634': 110, 'user_000167': 111, 'user_000684': 112, 'user_000535': 113, 'user_000678': 114, 'user_000284': 115, 'user_000576': 116, 'user_000458': 117, 'user_000699': 118, 'user_000631': 119, 'user_000331': 120, 'user_000398': 121, 'user_000826': 122, 'user_000097': 123, 'user_000491': 124, 'user_000803': 125, 'user_000394': 126, 'user_000544': 127, 'user_000266': 128, 'user_000931': 129, 'user_000068': 130, 'user_000055': 131, 'user_000765': 132, 'user_000169': 133, 'user_000871': 134, 'user_000591': 135, 'user_000933': 136, 'user_000304': 137, 'user_000180': 138, 'user_000149': 139, 'user_000114': 140, 'user_000131': 141, 'user_000524': 142, 'user_000095': 143, 'user_000381': 144, 'user_000599': 145, 'user_000298': 146, 'user_000380': 147, 'user_000446': 148, 'user_000512': 149, 'user_000358': 150, 'user_000961': 151, 'user_000499': 152, 'user_000755': 153, 'user_000722': 154, 'user_000621': 155, 'user_000951': 156, 'user_000439': 157, 'user_000074': 158, 'user_000312': 159, 'user_000221': 160, 'user_000992': 161, 'user_000667': 162, 'user_000182': 163, 'user_000113': 164, 'user_000493': 165, 'user_000794': 166, 'user_000594': 167, 'user_000550': 168, 'user_000445': 169, 'user_000400': 170, 'user_000901': 171, 'user_000849': 172, 'user_000083': 173, 'user_000735': 174, 'user_000361': 175, 'user_000861': 176, 'user_000203': 177, 'user_000016': 178, 'user_000407': 179, 'user_000384': 180, 'user_000118': 181, 'user_000625': 182, 'user_000937': 183, 'user_000575': 184, 'user_000980': 185, 'user_000314': 186, 'user_000830': 187, 'user_000910': 188, 'user_000623': 189, 'user_000108': 190, 'user_000953': 191, 'user_000389': 192, 'user_000881': 193, 'user_000842': 194, 'user_000607': 195, 'user_000094': 196, 'user_000417': 197, 'user_000740': 198, 'user_000441': 199, 'user_000260': 200, 'user_000603': 201, 'user_000681': 202, 'user_000069': 203, 'user_000957': 204, 'user_000962': 205, 'user_000442': 206, 'user_000318': 207, 'user_000749': 208, 'user_000923': 209, 'user_000532': 210, 'user_000239': 211, 'user_000162': 212, 'user_000666': 213, 'user_000738': 214, 'user_000170': 215, 'user_000116': 216, 'user_000584': 217, 'user_000835': 218, 'user_000572': 219, 'user_000653': 220, 'user_000942': 221, 'user_000297': 222, 'user_000501': 223, 'user_000281': 224, 'user_000629': 225, 'user_000015': 226, 'user_000372': 227, 'user_000102': 228, 'user_000269': 229, 'user_000752': 230, 'user_000890': 231, 'user_000496': 232, 'user_000710': 233, 'user_000019': 234, 'user_000142': 235, 'user_000296': 236, 'user_000611': 237, 'user_000429': 238, 'user_000954': 239, 'user_000223': 240, 'user_000064': 241, 'user_000104': 242, 'user_000185': 243, 'user_000437': 244, 'user_000199': 245, 'user_000515': 246, 'user_000250': 247, 'user_000002': 248, 'user_000194': 249, 'user_000905': 250, 'user_000267': 251, 'user_000793': 252, 'user_000347': 253, 'user_000689': 254, 'user_000800': 255, 'user_000220': 256, 'user_000370': 257, 'user_000694': 258, 'user_000241': 259, 'user_000276': 260, 'user_000166': 261, 'user_000059': 262, 'user_000703': 263, 'user_000632': 264, 'user_000564': 265, 'user_000096': 266, 'user_000100': 267, 'user_000919': 268, 'user_000609': 269, 'user_000750': 270, 'user_000196': 271, 'user_000189': 272, 'user_000789': 273, 'user_000093': 274, 'user_000159': 275, 'user_000708': 276, 'user_000423': 277, 'user_000135': 278, 'user_000122': 279, 'user_000091': 280, 'user_000721': 281, 'user_000779': 282, 'user_000521': 283, 'user_000018': 284, 'user_000579': 285, 'user_000641': 286, 'user_000172': 287, 'user_000050': 288, 'user_001000': 289, 'user_000005': 290, 'user_000151': 291, 'user_000158': 292, 'user_000620': 293, 'user_000950': 294, 'user_000596': 295, 'user_000309': 296, 'user_000235': 297, 'user_000695': 298, 'user_000259': 299, 'user_000036': 300, 'user_000012': 301, 'user_000333': 302, 'user_000870': 303, 'user_000078': 304, 'user_000198': 305, 'user_000474': 306, 'user_000337': 307, 'user_000471': 308, 'user_000875': 309, 'user_000156': 310, 'user_000887': 311, 'user_000541': 312, 'user_000242': 313, 'user_000606': 314, 'user_000792': 315, 'user_000630': 316, 'user_000747': 317, 'user_000210': 318, 'user_000640': 319, 'user_000355': 320, 'user_000701': 321, 'user_000024': 322, 'user_000447': 323, 'user_000053': 324, 'user_000475': 325, 'user_000516': 326, 'user_000026': 327, 'user_000993': 328, 'user_000313': 329, 'user_000652': 330, 'user_000763': 331, 'user_000979': 332, 'user_000032': 333, 'user_000691': 334, 'user_000717': 335, 'user_000464': 336, 'user_000838': 337, 'user_000628': 338, 'user_000467': 339, 'user_000348': 340, 'user_000807': 341, 'user_000486': 342, 'user_000790': 343, 'user_000040': 344, 'user_000444': 345, 'user_000323': 346, 'user_000089': 347, 'user_000490': 348, 'user_000730': 349, 'user_000995': 350, 'user_000655': 351, 'user_000636': 352, 'user_000880': 353, 'user_000522': 354, 'user_000003': 355, 'user_000316': 356, 'user_000103': 357, 'user_000743': 358, 'user_000726': 359, 'user_000362': 360, 'user_000397': 361, 'user_000177': 362, 'user_000614': 363, 'user_000935': 364, 'user_000179': 365, 'user_000569': 366, 'user_000600': 367, 'user_000041': 368, 'user_000110': 369, 'user_000860': 370, 'user_000077': 371, 'user_000858': 372, 'user_000941': 373, 'user_000520': 374, 'user_000376': 375, 'user_000178': 376, 'user_000643': 377, 'user_000892': 378, 'user_000753': 379, 'user_000224': 380, 'user_000851': 381, 'user_000675': 382, 'user_000991': 383, 'user_000786': 384, 'user_000848': 385, 'user_000164': 386, 'user_000076': 387, 'user_000004': 388, 'user_000698': 389, 'user_000669': 390, 'user_000578': 391, 'user_000133': 392, 'user_000627': 393, 'user_000775': 394, 'user_000238': 395, 'user_000977': 396, 'user_000840': 397, 'user_000697': 398, 'user_000046': 399, 'user_000664': 400, 'user_000258': 401, 'user_000565': 402, 'user_000963': 403, 'user_000665': 404, 'user_000517': 405, 'user_000256': 406, 'user_000983': 407, 'user_000483': 408, 'user_000043': 409, 'user_000147': 410, 'user_000731': 411, 'user_000946': 412, 'user_000201': 413, 'user_000964': 414, 'user_000249': 415, 'user_000560': 416, 'user_000536': 417, 'user_000129': 418, 'user_000863': 419, 'user_000351': 420, 'user_000246': 421, 'user_000947': 422, 'user_000898': 423, 'user_000998': 424, 'user_000436': 425, 'user_000704': 426, 'user_000984': 427, 'user_000820': 428, 'user_000943': 429, 'user_000929': 430, 'user_000795': 431, 'user_000503': 432, 'user_000804': 433, 'user_000307': 434, 'user_000030': 435, 'user_000251': 436, 'user_000237': 437, 'user_000412': 438, 'user_000671': 439, 'user_000451': 440, 'user_000546': 441, 'user_000326': 442, 'user_000225': 443, 'user_000410': 444, 'user_000510': 445, 'user_000685': 446, 'user_000783': 447, 'user_000646': 448, 'user_000540': 449, 'user_000990': 450, 'user_000186': 451, 'user_000306': 452, 'user_000034': 453, 'user_000944': 454, 'user_000236': 455, 'user_000029': 456, 'user_000294': 457, 'user_000052': 458, 'user_000706': 459, 'user_000320': 460, 'user_000767': 461, 'user_000409': 462, 'user_000364': 463, 'user_000716': 464, 'user_000709': 465, 'user_000208': 466, 'user_000148': 467, 'user_000812': 468, 'user_000989': 469, 'user_000930': 470, 'user_000780': 471, 'user_000047': 472, 'user_000891': 473, 'user_000922': 474, 'user_000343': 475, 'user_000996': 476, 'user_000986': 477, 'user_000926': 478, 'user_000388': 479, 'user_000733': 480, 'user_000279': 481, 'user_000956': 482, 'user_000518': 483, 'user_000022': 484, 'user_000754': 485, 'user_000744': 486, 'user_000585': 487, 'user_000888': 488, 'user_000431': 489, 'user_000791': 490, 'user_000271': 491, 'user_000586': 492, 'user_000690': 493, 'user_000819': 494, 'user_000882': 495, 'user_000155': 496, 'user_000573': 497, 'user_000844': 498, 'user_000837': 499, 'user_000204': 500, 'user_000293': 501, 'user_000781': 502, 'user_000648': 503, 'user_000479': 504, 'user_000277': 505, 'user_000936': 506, 'user_000152': 507, 'user_000025': 508, 'user_000188': 509, 'user_000017': 510, 'user_000707': 511, 'user_000531': 512, 'user_000181': 513, 'user_000909': 514, 'user_000705': 515, 'user_000915': 516, 'user_000349': 517, 'user_000545': 518, 'user_000219': 519, 'user_000153': 520, 'user_000456': 521, 'user_000460': 522, 'user_000809': 523, 'user_000322': 524, 'user_000136': 525, 'user_000119': 526, 'user_000123': 527, 'user_000994': 528, 'user_000202': 529, 'user_000762': 530, 'user_000424': 531, 'user_000593': 532, 'user_000976': 533, 'user_000387': 534, 'user_000051': 535, 'user_000862': 536, 'user_000295': 537, 'user_000273': 538, 'user_000997': 539, 'user_000481': 540, 'user_000494': 541, 'user_000062': 542, 'user_000810': 543, 'user_000217': 544, 'user_000321': 545, 'user_000914': 546, 'user_000715': 547, 'user_000832': 548, 'user_000771': 549, 'user_000797': 550, 'user_000433': 551, 'user_000406': 552, 'user_000595': 553, 'user_000828': 554, 'user_000214': 555, 'user_000086': 556, 'user_000234': 557, 'user_000065': 558, 'user_000529': 559, 'user_000262': 560, 'user_000683': 561, 'user_000233': 562, 'user_000642': 563, 'user_000981': 564, 'user_000215': 565, 'user_000668': 566, 'user_000187': 567, 'user_000319': 568, 'user_000280': 569, 'user_000802': 570, 'user_000687': 571, 'user_000878': 572, 'user_000484': 573, 'user_000243': 574, 'user_000197': 575, 'user_000872': 576, 'user_000737': 577, 'user_000476': 578, 'user_000488': 579, 'user_000457': 580, 'user_000896': 581, 'user_000371': 582, 'user_000966': 583, 'user_000693': 584, 'user_000965': 585, 'user_000502': 586, 'user_000359': 587, 'user_000557': 588, 'user_000081': 589, 'user_000670': 590, 'user_000121': 591, 'user_000659': 592, 'user_000874': 593, 'user_000918': 594, 'user_000622': 595, 'user_000504': 596, 'user_000822': 597, 'user_000555': 598, 'user_000932': 599, 'user_000288': 600, 'user_000174': 601, 'user_000422': 602, 'user_000713': 603, 'user_000482': 604, 'user_000925': 605, 'user_000440': 606, 'user_000869': 607, 'user_000841': 608, 'user_000139': 609, 'user_000090': 610, 'user_000056': 611, 'user_000330': 612, 'user_000787': 613, 'user_000649': 614, 'user_000879': 615, 'user_000285': 616, 'user_000082': 617, 'user_000548': 618, 'user_000823': 619, 'user_000060': 620, 'user_000897': 621, 'user_000770': 622, 'user_000209': 623, 'user_000211': 624, 'user_000825': 625, 'user_000403': 626, 'user_000245': 627, 'user_000673': 628, 'user_000191': 629, 'user_000327': 630, 'user_000682': 631, 'user_000385': 632, 'user_000278': 633, 'user_000867': 634, 'user_000506': 635, 'user_000405': 636, 'user_000719': 637, 'user_000311': 638, 'user_000511': 639, 'user_000680': 640, 'user_000534': 641, 'user_000264': 642, 'user_000382': 643, 'user_000857': 644, 'user_000796': 645, 'user_000401': 646, 'user_000829': 647, 'user_000960': 648, 'user_000021': 649, 'user_000876': 650, 'user_000117': 651, 'user_000727': 652, 'user_000913': 653, 'user_000255': 654, 'user_000434': 655, 'user_000764': 656, 'user_000590': 657, 'user_000589': 658, 'user_000011': 659, 'user_000125': 660, 'user_000070': 661, 'user_000924': 662, 'user_000263': 663, 'user_000662': 664, 'user_000193': 665, 'user_000354': 666, 'user_000154': 667, 'user_000137': 668, 'user_000587': 669, 'user_000539': 670, 'user_000948': 671, 'user_000478': 672, 'user_000654': 673, 'user_000639': 674, 'user_000657': 675, 'user_000525': 676, 'user_000168': 677, 'user_000772': 678, 'user_000883': 679, 'user_000644': 680, 'user_000145': 681, 'user_000635': 682, 'user_000438': 683, 'user_000128': 684, 'user_000368': 685, 'user_000232': 686, 'user_000893': 687, 'user_000788': 688, 'user_000617': 689, 'user_000006': 690, 'user_000346': 691, 'user_000921': 692, 'user_000099': 693, 'user_000175': 694, 'user_000975': 695, 'user_000528': 696, 'user_000391': 697, 'user_000908': 698, 'user_000071': 699, 'user_000734': 700, 'user_000127': 701, 'user_000906': 702, 'user_000302': 703, 'user_000877': 704, 'user_000554': 705, 'user_000507': 706, 'user_000328': 707, 'user_000624': 708, 'user_000360': 709, 'user_000489': 710, 'user_000463': 711, 'user_000253': 712, 'user_000651': 713, 'user_000048': 714, 'user_000087': 715, 'user_000626': 716, 'user_000602': 717, 'user_000660': 718, 'user_000530': 719, 'user_000500': 720, 'user_000378': 721, 'user_000798': 722, 'user_000859': 723, 'user_000085': 724, 'user_000570': 725, 'user_000035': 726, 'user_000350': 727, 'user_000612': 728, 'user_000291': 729, 'user_000138': 730, 'user_000415': 731, 'user_000873': 732, 'user_000411': 733, 'user_000230': 734, 'user_000495': 735, 'user_000305': 736, 'user_000811': 737, 'user_000067': 738, 'user_000900': 739, 'user_000301': 740, 'user_000969': 741, 'user_000746': 742, 'user_000171': 743, 'user_000325': 744, 'user_000299': 745, 'user_000558': 746, 'user_000619': 747, 'user_000310': 748, 'user_000778': 749, 'user_000741': 750, 'user_000865': 751, 'user_000472': 752, 'user_000886': 753, 'user_000756': 754, 'user_000334': 755, 'user_000562': 756, 'user_000443': 757, 'user_000414': 758, 'user_000106': 759, 'user_000390': 760, 'user_000404': 761, 'user_000777': 762, 'user_000261': 763, 'user_000339': 764, 'user_000001': 765, 'user_000806': 766, 'user_000571': 767, 'user_000884': 768, 'user_000190': 769, 'user_000073': 770, 'user_000254': 771, 'user_000816': 772, 'user_000616': 773, 'user_000033': 774, 'user_000480': 775, 'user_000079': 776, 'user_000712': 777, 'user_000163': 778, 'user_000582': 779, 'user_000207': 780, 'user_000315': 781, 'user_000252': 782, 'user_000899': 783, 'user_000054': 784, 'user_000324': 785, 'user_000222': 786, 'user_000462': 787, 'user_000448': 788, 'user_000889': 789, 'user_000553': 790, 'user_000229': 791, 'user_000150': 792, 'user_000581': 793, 'user_000468': 794, 'user_000973': 795, 'user_000551': 796, 'user_000549': 797, 'user_000768': 798, 'user_000130': 799, 'user_000109': 800, 'user_000497': 801, 'user_000165': 802, 'user_000107': 803, 'user_000419': 804, 'user_000526': 805, 'user_000514': 806, 'user_000757': 807, 'user_000519': 808, 'user_000831': 809, 'user_000720': 810, 'user_000028': 811, 'user_000379': 812, 'user_000461': 813, 'user_000987': 814, 'user_000413': 815, 'user_000645': 816, 'user_000383': 817, 'user_000508': 818, 'user_000459': 819, 'user_000080': 820, 'user_000799': 821, 'user_000132': 822, 'user_000340': 823, 'user_000679': 824, 'user_000776': 825, 'user_000465': 826, 'user_000850': 827, 'user_000244': 828, 'user_000917': 829, 'user_000834': 830, 'user_000469': 831, 'user_000420': 832, 'user_000959': 833, 'user_000396': 834, 'user_000058': 835, 'user_000192': 836, 'user_000916': 837, 'user_000336': 838, 'user_000257': 839, 'user_000212': 840, 'user_000769': 841, 'user_000392': 842, 'user_000367': 843, 'user_000111': 844, 'user_000928': 845, 'user_000023': 846, 'user_000588': 847, 'user_000556': 848, 'user_000615': 849, 'user_000498': 850, 'user_000676': 851, 'user_000814': 852, 'user_000552': 853, 'user_000818': 854, 'user_000813': 855, 'user_000760': 856, 'user_000559': 857, 'user_000598': 858, 'user_000216': 859, 'user_000092': 860, 'user_000143': 861, 'user_000817': 862, 'user_000739': 863, 'user_000592': 864, 'user_000487': 865, 'user_000605': 866, 'user_000674': 867, 'user_000940': 868, 'user_000945': 869, 'user_000289': 870, 'user_000672': 871, 'user_000213': 872, 'user_000452': 873, 'user_000854': 874, 'user_000868': 875, 'user_000971': 876, 'user_000449': 877, 'user_000272': 878, 'user_000455': 879, 'user_000805': 880, 'user_000827': 881, 'user_000115': 882, 'user_000728': 883, 'user_000485': 884, 'user_000547': 885, 'user_000038': 886, 'user_000045': 887, 'user_000836': 888, 'user_000583': 889, 'user_000408': 890, 'user_000140': 891, 'user_000124': 892, 'user_000723': 893, 'user_000907': 894, 'user_000200': 895, 'user_000265': 896, 'user_000845': 897, 'user_000751': 898, 'user_000972': 899, 'user_000453': 900, 'user_000375': 901, 'user_000985': 902, 'user_000292': 903, 'user_000773': 904, 'user_000745': 905, 'user_000968': 906, 'user_000601': 907, 'user_000597': 908, 'user_000563': 909, 'user_000066': 910, 'user_000759': 911, 'user_000758': 912, 'user_000141': 913, 'user_000903': 914, 'user_000742': 915, 'user_000195': 916, 'user_000228': 917, 'user_000176': 918, 'user_000173': 919, 'user_000386': 920, 'user_000395': 921, 'user_000061': 922, 'user_000183': 923, 'user_000416': 924, 'user_000008': 925, 'user_000418': 926, 'user_000724': 927, 'user_000454': 928, 'user_000688': 929, 'user_000184': 930, 'user_000286': 931, 'user_000955': 932, 'user_000982': 933, 'user_000399': 934, 'user_000613': 935, 'user_000425': 936, 'user_000700': 937, 'user_000711': 938, 'user_000853': 939, 'user_000736': 940, 'user_000088': 941, 'user_000567': 942, 'user_000353': 943, 'user_000846': 944, 'user_000608': 945, 'user_000227': 946, 'user_000157': 947, 'user_000007': 948, 'user_000098': 949, 'user_000866': 950, 'user_000748': 951, 'user_000014': 952, 'user_000677': 953, 'user_000247': 954, 'user_000808': 955, 'user_000904': 956, 'user_000101': 957, 'user_000352': 958, 'user_000785': 959}\n",
      "---------- idx_to_user ----------\n",
      "{0: 'user_000270', 1: 'user_000338', 2: 'user_000435', 3: 'user_000574', 4: 'user_000126', 5: 'user_000824', 6: 'user_000206', 7: 'user_000509', 8: 'user_000363', 9: 'user_000927', 10: 'user_000568', 11: 'user_000894', 12: 'user_000342', 13: 'user_000027', 14: 'user_000039', 15: 'user_000732', 16: 'user_000146', 17: 'user_000393', 18: 'user_000426', 19: 'user_000637', 20: 'user_000978', 21: 'user_000144', 22: 'user_000072', 23: 'user_000650', 24: 'user_000300', 25: 'user_000761', 26: 'user_000044', 27: 'user_000057', 28: 'user_000450', 29: 'user_000725', 30: 'user_000714', 31: 'user_000009', 32: 'user_000329', 33: 'user_000218', 34: 'user_000120', 35: 'user_000661', 36: 'user_000999', 37: 'user_000610', 38: 'user_000902', 39: 'user_000477', 40: 'user_000647', 41: 'user_000037', 42: 'user_000275', 43: 'user_000505', 44: 'user_000766', 45: 'user_000084', 46: 'user_000702', 47: 'user_000847', 48: 'user_000543', 49: 'user_000729', 50: 'user_000912', 51: 'user_000833', 52: 'user_000782', 53: 'user_000577', 54: 'user_000344', 55: 'user_000421', 56: 'user_000268', 57: 'user_000801', 58: 'user_000357', 59: 'user_000134', 60: 'user_000692', 61: 'user_000366', 62: 'user_000513', 63: 'user_000633', 64: 'user_000063', 65: 'user_000020', 66: 'user_000112', 67: 'user_000885', 68: 'user_000010', 69: 'user_000542', 70: 'user_000341', 71: 'user_000290', 72: 'user_000774', 73: 'user_000658', 74: 'user_000160', 75: 'user_000949', 76: 'user_000373', 77: 'user_000958', 78: 'user_000604', 79: 'user_000952', 80: 'user_000356', 81: 'user_000161', 82: 'user_000920', 83: 'user_000075', 84: 'user_000369', 85: 'user_000839', 86: 'user_000934', 87: 'user_000013', 88: 'user_000105', 89: 'user_000537', 90: 'user_000638', 91: 'user_000374', 92: 'user_000205', 93: 'user_000274', 94: 'user_000031', 95: 'user_000345', 96: 'user_000432', 97: 'user_000938', 98: 'user_000427', 99: 'user_000656', 100: 'user_000527', 101: 'user_000580', 102: 'user_000042', 103: 'user_000970', 104: 'user_000718', 105: 'user_000377', 106: 'user_000974', 107: 'user_000939', 108: 'user_000303', 109: 'user_000821', 110: 'user_000634', 111: 'user_000167', 112: 'user_000684', 113: 'user_000535', 114: 'user_000678', 115: 'user_000284', 116: 'user_000576', 117: 'user_000458', 118: 'user_000699', 119: 'user_000631', 120: 'user_000331', 121: 'user_000398', 122: 'user_000826', 123: 'user_000097', 124: 'user_000491', 125: 'user_000803', 126: 'user_000394', 127: 'user_000544', 128: 'user_000266', 129: 'user_000931', 130: 'user_000068', 131: 'user_000055', 132: 'user_000765', 133: 'user_000169', 134: 'user_000871', 135: 'user_000591', 136: 'user_000933', 137: 'user_000304', 138: 'user_000180', 139: 'user_000149', 140: 'user_000114', 141: 'user_000131', 142: 'user_000524', 143: 'user_000095', 144: 'user_000381', 145: 'user_000599', 146: 'user_000298', 147: 'user_000380', 148: 'user_000446', 149: 'user_000512', 150: 'user_000358', 151: 'user_000961', 152: 'user_000499', 153: 'user_000755', 154: 'user_000722', 155: 'user_000621', 156: 'user_000951', 157: 'user_000439', 158: 'user_000074', 159: 'user_000312', 160: 'user_000221', 161: 'user_000992', 162: 'user_000667', 163: 'user_000182', 164: 'user_000113', 165: 'user_000493', 166: 'user_000794', 167: 'user_000594', 168: 'user_000550', 169: 'user_000445', 170: 'user_000400', 171: 'user_000901', 172: 'user_000849', 173: 'user_000083', 174: 'user_000735', 175: 'user_000361', 176: 'user_000861', 177: 'user_000203', 178: 'user_000016', 179: 'user_000407', 180: 'user_000384', 181: 'user_000118', 182: 'user_000625', 183: 'user_000937', 184: 'user_000575', 185: 'user_000980', 186: 'user_000314', 187: 'user_000830', 188: 'user_000910', 189: 'user_000623', 190: 'user_000108', 191: 'user_000953', 192: 'user_000389', 193: 'user_000881', 194: 'user_000842', 195: 'user_000607', 196: 'user_000094', 197: 'user_000417', 198: 'user_000740', 199: 'user_000441', 200: 'user_000260', 201: 'user_000603', 202: 'user_000681', 203: 'user_000069', 204: 'user_000957', 205: 'user_000962', 206: 'user_000442', 207: 'user_000318', 208: 'user_000749', 209: 'user_000923', 210: 'user_000532', 211: 'user_000239', 212: 'user_000162', 213: 'user_000666', 214: 'user_000738', 215: 'user_000170', 216: 'user_000116', 217: 'user_000584', 218: 'user_000835', 219: 'user_000572', 220: 'user_000653', 221: 'user_000942', 222: 'user_000297', 223: 'user_000501', 224: 'user_000281', 225: 'user_000629', 226: 'user_000015', 227: 'user_000372', 228: 'user_000102', 229: 'user_000269', 230: 'user_000752', 231: 'user_000890', 232: 'user_000496', 233: 'user_000710', 234: 'user_000019', 235: 'user_000142', 236: 'user_000296', 237: 'user_000611', 238: 'user_000429', 239: 'user_000954', 240: 'user_000223', 241: 'user_000064', 242: 'user_000104', 243: 'user_000185', 244: 'user_000437', 245: 'user_000199', 246: 'user_000515', 247: 'user_000250', 248: 'user_000002', 249: 'user_000194', 250: 'user_000905', 251: 'user_000267', 252: 'user_000793', 253: 'user_000347', 254: 'user_000689', 255: 'user_000800', 256: 'user_000220', 257: 'user_000370', 258: 'user_000694', 259: 'user_000241', 260: 'user_000276', 261: 'user_000166', 262: 'user_000059', 263: 'user_000703', 264: 'user_000632', 265: 'user_000564', 266: 'user_000096', 267: 'user_000100', 268: 'user_000919', 269: 'user_000609', 270: 'user_000750', 271: 'user_000196', 272: 'user_000189', 273: 'user_000789', 274: 'user_000093', 275: 'user_000159', 276: 'user_000708', 277: 'user_000423', 278: 'user_000135', 279: 'user_000122', 280: 'user_000091', 281: 'user_000721', 282: 'user_000779', 283: 'user_000521', 284: 'user_000018', 285: 'user_000579', 286: 'user_000641', 287: 'user_000172', 288: 'user_000050', 289: 'user_001000', 290: 'user_000005', 291: 'user_000151', 292: 'user_000158', 293: 'user_000620', 294: 'user_000950', 295: 'user_000596', 296: 'user_000309', 297: 'user_000235', 298: 'user_000695', 299: 'user_000259', 300: 'user_000036', 301: 'user_000012', 302: 'user_000333', 303: 'user_000870', 304: 'user_000078', 305: 'user_000198', 306: 'user_000474', 307: 'user_000337', 308: 'user_000471', 309: 'user_000875', 310: 'user_000156', 311: 'user_000887', 312: 'user_000541', 313: 'user_000242', 314: 'user_000606', 315: 'user_000792', 316: 'user_000630', 317: 'user_000747', 318: 'user_000210', 319: 'user_000640', 320: 'user_000355', 321: 'user_000701', 322: 'user_000024', 323: 'user_000447', 324: 'user_000053', 325: 'user_000475', 326: 'user_000516', 327: 'user_000026', 328: 'user_000993', 329: 'user_000313', 330: 'user_000652', 331: 'user_000763', 332: 'user_000979', 333: 'user_000032', 334: 'user_000691', 335: 'user_000717', 336: 'user_000464', 337: 'user_000838', 338: 'user_000628', 339: 'user_000467', 340: 'user_000348', 341: 'user_000807', 342: 'user_000486', 343: 'user_000790', 344: 'user_000040', 345: 'user_000444', 346: 'user_000323', 347: 'user_000089', 348: 'user_000490', 349: 'user_000730', 350: 'user_000995', 351: 'user_000655', 352: 'user_000636', 353: 'user_000880', 354: 'user_000522', 355: 'user_000003', 356: 'user_000316', 357: 'user_000103', 358: 'user_000743', 359: 'user_000726', 360: 'user_000362', 361: 'user_000397', 362: 'user_000177', 363: 'user_000614', 364: 'user_000935', 365: 'user_000179', 366: 'user_000569', 367: 'user_000600', 368: 'user_000041', 369: 'user_000110', 370: 'user_000860', 371: 'user_000077', 372: 'user_000858', 373: 'user_000941', 374: 'user_000520', 375: 'user_000376', 376: 'user_000178', 377: 'user_000643', 378: 'user_000892', 379: 'user_000753', 380: 'user_000224', 381: 'user_000851', 382: 'user_000675', 383: 'user_000991', 384: 'user_000786', 385: 'user_000848', 386: 'user_000164', 387: 'user_000076', 388: 'user_000004', 389: 'user_000698', 390: 'user_000669', 391: 'user_000578', 392: 'user_000133', 393: 'user_000627', 394: 'user_000775', 395: 'user_000238', 396: 'user_000977', 397: 'user_000840', 398: 'user_000697', 399: 'user_000046', 400: 'user_000664', 401: 'user_000258', 402: 'user_000565', 403: 'user_000963', 404: 'user_000665', 405: 'user_000517', 406: 'user_000256', 407: 'user_000983', 408: 'user_000483', 409: 'user_000043', 410: 'user_000147', 411: 'user_000731', 412: 'user_000946', 413: 'user_000201', 414: 'user_000964', 415: 'user_000249', 416: 'user_000560', 417: 'user_000536', 418: 'user_000129', 419: 'user_000863', 420: 'user_000351', 421: 'user_000246', 422: 'user_000947', 423: 'user_000898', 424: 'user_000998', 425: 'user_000436', 426: 'user_000704', 427: 'user_000984', 428: 'user_000820', 429: 'user_000943', 430: 'user_000929', 431: 'user_000795', 432: 'user_000503', 433: 'user_000804', 434: 'user_000307', 435: 'user_000030', 436: 'user_000251', 437: 'user_000237', 438: 'user_000412', 439: 'user_000671', 440: 'user_000451', 441: 'user_000546', 442: 'user_000326', 443: 'user_000225', 444: 'user_000410', 445: 'user_000510', 446: 'user_000685', 447: 'user_000783', 448: 'user_000646', 449: 'user_000540', 450: 'user_000990', 451: 'user_000186', 452: 'user_000306', 453: 'user_000034', 454: 'user_000944', 455: 'user_000236', 456: 'user_000029', 457: 'user_000294', 458: 'user_000052', 459: 'user_000706', 460: 'user_000320', 461: 'user_000767', 462: 'user_000409', 463: 'user_000364', 464: 'user_000716', 465: 'user_000709', 466: 'user_000208', 467: 'user_000148', 468: 'user_000812', 469: 'user_000989', 470: 'user_000930', 471: 'user_000780', 472: 'user_000047', 473: 'user_000891', 474: 'user_000922', 475: 'user_000343', 476: 'user_000996', 477: 'user_000986', 478: 'user_000926', 479: 'user_000388', 480: 'user_000733', 481: 'user_000279', 482: 'user_000956', 483: 'user_000518', 484: 'user_000022', 485: 'user_000754', 486: 'user_000744', 487: 'user_000585', 488: 'user_000888', 489: 'user_000431', 490: 'user_000791', 491: 'user_000271', 492: 'user_000586', 493: 'user_000690', 494: 'user_000819', 495: 'user_000882', 496: 'user_000155', 497: 'user_000573', 498: 'user_000844', 499: 'user_000837', 500: 'user_000204', 501: 'user_000293', 502: 'user_000781', 503: 'user_000648', 504: 'user_000479', 505: 'user_000277', 506: 'user_000936', 507: 'user_000152', 508: 'user_000025', 509: 'user_000188', 510: 'user_000017', 511: 'user_000707', 512: 'user_000531', 513: 'user_000181', 514: 'user_000909', 515: 'user_000705', 516: 'user_000915', 517: 'user_000349', 518: 'user_000545', 519: 'user_000219', 520: 'user_000153', 521: 'user_000456', 522: 'user_000460', 523: 'user_000809', 524: 'user_000322', 525: 'user_000136', 526: 'user_000119', 527: 'user_000123', 528: 'user_000994', 529: 'user_000202', 530: 'user_000762', 531: 'user_000424', 532: 'user_000593', 533: 'user_000976', 534: 'user_000387', 535: 'user_000051', 536: 'user_000862', 537: 'user_000295', 538: 'user_000273', 539: 'user_000997', 540: 'user_000481', 541: 'user_000494', 542: 'user_000062', 543: 'user_000810', 544: 'user_000217', 545: 'user_000321', 546: 'user_000914', 547: 'user_000715', 548: 'user_000832', 549: 'user_000771', 550: 'user_000797', 551: 'user_000433', 552: 'user_000406', 553: 'user_000595', 554: 'user_000828', 555: 'user_000214', 556: 'user_000086', 557: 'user_000234', 558: 'user_000065', 559: 'user_000529', 560: 'user_000262', 561: 'user_000683', 562: 'user_000233', 563: 'user_000642', 564: 'user_000981', 565: 'user_000215', 566: 'user_000668', 567: 'user_000187', 568: 'user_000319', 569: 'user_000280', 570: 'user_000802', 571: 'user_000687', 572: 'user_000878', 573: 'user_000484', 574: 'user_000243', 575: 'user_000197', 576: 'user_000872', 577: 'user_000737', 578: 'user_000476', 579: 'user_000488', 580: 'user_000457', 581: 'user_000896', 582: 'user_000371', 583: 'user_000966', 584: 'user_000693', 585: 'user_000965', 586: 'user_000502', 587: 'user_000359', 588: 'user_000557', 589: 'user_000081', 590: 'user_000670', 591: 'user_000121', 592: 'user_000659', 593: 'user_000874', 594: 'user_000918', 595: 'user_000622', 596: 'user_000504', 597: 'user_000822', 598: 'user_000555', 599: 'user_000932', 600: 'user_000288', 601: 'user_000174', 602: 'user_000422', 603: 'user_000713', 604: 'user_000482', 605: 'user_000925', 606: 'user_000440', 607: 'user_000869', 608: 'user_000841', 609: 'user_000139', 610: 'user_000090', 611: 'user_000056', 612: 'user_000330', 613: 'user_000787', 614: 'user_000649', 615: 'user_000879', 616: 'user_000285', 617: 'user_000082', 618: 'user_000548', 619: 'user_000823', 620: 'user_000060', 621: 'user_000897', 622: 'user_000770', 623: 'user_000209', 624: 'user_000211', 625: 'user_000825', 626: 'user_000403', 627: 'user_000245', 628: 'user_000673', 629: 'user_000191', 630: 'user_000327', 631: 'user_000682', 632: 'user_000385', 633: 'user_000278', 634: 'user_000867', 635: 'user_000506', 636: 'user_000405', 637: 'user_000719', 638: 'user_000311', 639: 'user_000511', 640: 'user_000680', 641: 'user_000534', 642: 'user_000264', 643: 'user_000382', 644: 'user_000857', 645: 'user_000796', 646: 'user_000401', 647: 'user_000829', 648: 'user_000960', 649: 'user_000021', 650: 'user_000876', 651: 'user_000117', 652: 'user_000727', 653: 'user_000913', 654: 'user_000255', 655: 'user_000434', 656: 'user_000764', 657: 'user_000590', 658: 'user_000589', 659: 'user_000011', 660: 'user_000125', 661: 'user_000070', 662: 'user_000924', 663: 'user_000263', 664: 'user_000662', 665: 'user_000193', 666: 'user_000354', 667: 'user_000154', 668: 'user_000137', 669: 'user_000587', 670: 'user_000539', 671: 'user_000948', 672: 'user_000478', 673: 'user_000654', 674: 'user_000639', 675: 'user_000657', 676: 'user_000525', 677: 'user_000168', 678: 'user_000772', 679: 'user_000883', 680: 'user_000644', 681: 'user_000145', 682: 'user_000635', 683: 'user_000438', 684: 'user_000128', 685: 'user_000368', 686: 'user_000232', 687: 'user_000893', 688: 'user_000788', 689: 'user_000617', 690: 'user_000006', 691: 'user_000346', 692: 'user_000921', 693: 'user_000099', 694: 'user_000175', 695: 'user_000975', 696: 'user_000528', 697: 'user_000391', 698: 'user_000908', 699: 'user_000071', 700: 'user_000734', 701: 'user_000127', 702: 'user_000906', 703: 'user_000302', 704: 'user_000877', 705: 'user_000554', 706: 'user_000507', 707: 'user_000328', 708: 'user_000624', 709: 'user_000360', 710: 'user_000489', 711: 'user_000463', 712: 'user_000253', 713: 'user_000651', 714: 'user_000048', 715: 'user_000087', 716: 'user_000626', 717: 'user_000602', 718: 'user_000660', 719: 'user_000530', 720: 'user_000500', 721: 'user_000378', 722: 'user_000798', 723: 'user_000859', 724: 'user_000085', 725: 'user_000570', 726: 'user_000035', 727: 'user_000350', 728: 'user_000612', 729: 'user_000291', 730: 'user_000138', 731: 'user_000415', 732: 'user_000873', 733: 'user_000411', 734: 'user_000230', 735: 'user_000495', 736: 'user_000305', 737: 'user_000811', 738: 'user_000067', 739: 'user_000900', 740: 'user_000301', 741: 'user_000969', 742: 'user_000746', 743: 'user_000171', 744: 'user_000325', 745: 'user_000299', 746: 'user_000558', 747: 'user_000619', 748: 'user_000310', 749: 'user_000778', 750: 'user_000741', 751: 'user_000865', 752: 'user_000472', 753: 'user_000886', 754: 'user_000756', 755: 'user_000334', 756: 'user_000562', 757: 'user_000443', 758: 'user_000414', 759: 'user_000106', 760: 'user_000390', 761: 'user_000404', 762: 'user_000777', 763: 'user_000261', 764: 'user_000339', 765: 'user_000001', 766: 'user_000806', 767: 'user_000571', 768: 'user_000884', 769: 'user_000190', 770: 'user_000073', 771: 'user_000254', 772: 'user_000816', 773: 'user_000616', 774: 'user_000033', 775: 'user_000480', 776: 'user_000079', 777: 'user_000712', 778: 'user_000163', 779: 'user_000582', 780: 'user_000207', 781: 'user_000315', 782: 'user_000252', 783: 'user_000899', 784: 'user_000054', 785: 'user_000324', 786: 'user_000222', 787: 'user_000462', 788: 'user_000448', 789: 'user_000889', 790: 'user_000553', 791: 'user_000229', 792: 'user_000150', 793: 'user_000581', 794: 'user_000468', 795: 'user_000973', 796: 'user_000551', 797: 'user_000549', 798: 'user_000768', 799: 'user_000130', 800: 'user_000109', 801: 'user_000497', 802: 'user_000165', 803: 'user_000107', 804: 'user_000419', 805: 'user_000526', 806: 'user_000514', 807: 'user_000757', 808: 'user_000519', 809: 'user_000831', 810: 'user_000720', 811: 'user_000028', 812: 'user_000379', 813: 'user_000461', 814: 'user_000987', 815: 'user_000413', 816: 'user_000645', 817: 'user_000383', 818: 'user_000508', 819: 'user_000459', 820: 'user_000080', 821: 'user_000799', 822: 'user_000132', 823: 'user_000340', 824: 'user_000679', 825: 'user_000776', 826: 'user_000465', 827: 'user_000850', 828: 'user_000244', 829: 'user_000917', 830: 'user_000834', 831: 'user_000469', 832: 'user_000420', 833: 'user_000959', 834: 'user_000396', 835: 'user_000058', 836: 'user_000192', 837: 'user_000916', 838: 'user_000336', 839: 'user_000257', 840: 'user_000212', 841: 'user_000769', 842: 'user_000392', 843: 'user_000367', 844: 'user_000111', 845: 'user_000928', 846: 'user_000023', 847: 'user_000588', 848: 'user_000556', 849: 'user_000615', 850: 'user_000498', 851: 'user_000676', 852: 'user_000814', 853: 'user_000552', 854: 'user_000818', 855: 'user_000813', 856: 'user_000760', 857: 'user_000559', 858: 'user_000598', 859: 'user_000216', 860: 'user_000092', 861: 'user_000143', 862: 'user_000817', 863: 'user_000739', 864: 'user_000592', 865: 'user_000487', 866: 'user_000605', 867: 'user_000674', 868: 'user_000940', 869: 'user_000945', 870: 'user_000289', 871: 'user_000672', 872: 'user_000213', 873: 'user_000452', 874: 'user_000854', 875: 'user_000868', 876: 'user_000971', 877: 'user_000449', 878: 'user_000272', 879: 'user_000455', 880: 'user_000805', 881: 'user_000827', 882: 'user_000115', 883: 'user_000728', 884: 'user_000485', 885: 'user_000547', 886: 'user_000038', 887: 'user_000045', 888: 'user_000836', 889: 'user_000583', 890: 'user_000408', 891: 'user_000140', 892: 'user_000124', 893: 'user_000723', 894: 'user_000907', 895: 'user_000200', 896: 'user_000265', 897: 'user_000845', 898: 'user_000751', 899: 'user_000972', 900: 'user_000453', 901: 'user_000375', 902: 'user_000985', 903: 'user_000292', 904: 'user_000773', 905: 'user_000745', 906: 'user_000968', 907: 'user_000601', 908: 'user_000597', 909: 'user_000563', 910: 'user_000066', 911: 'user_000759', 912: 'user_000758', 913: 'user_000141', 914: 'user_000903', 915: 'user_000742', 916: 'user_000195', 917: 'user_000228', 918: 'user_000176', 919: 'user_000173', 920: 'user_000386', 921: 'user_000395', 922: 'user_000061', 923: 'user_000183', 924: 'user_000416', 925: 'user_000008', 926: 'user_000418', 927: 'user_000724', 928: 'user_000454', 929: 'user_000688', 930: 'user_000184', 931: 'user_000286', 932: 'user_000955', 933: 'user_000982', 934: 'user_000399', 935: 'user_000613', 936: 'user_000425', 937: 'user_000700', 938: 'user_000711', 939: 'user_000853', 940: 'user_000736', 941: 'user_000088', 942: 'user_000567', 943: 'user_000353', 944: 'user_000846', 945: 'user_000608', 946: 'user_000227', 947: 'user_000157', 948: 'user_000007', 949: 'user_000098', 950: 'user_000866', 951: 'user_000748', 952: 'user_000014', 953: 'user_000677', 954: 'user_000247', 955: 'user_000808', 956: 'user_000904', 957: 'user_000101', 958: 'user_000352', 959: 'user_000785'}\n",
      "---------- artist_to_idx ----------\n",
      "{'3 Doors Down': 0, '30 Seconds To Mars': 1, 'A Perfect Circle': 2, 'A-Ha': 3, 'Abba': 4, 'Ac/Dc': 5, 'Air': 6, 'Al Green': 7, 'Alanis Morissette': 8, 'Alice Cooper': 9, 'Alice In Chains': 10, 'Amy Winehouse': 11, 'Andrew Bird': 12, 'Animal Collective': 13, 'Annie': 14, 'Antony And The Johnsons': 15, 'Aqualung': 16, 'Arcade Fire': 17, 'Architecture In Helsinki': 18, 'Arctic Monkeys': 19, 'Aretha Franklin': 20, 'Art Brut': 21, 'At The Drive-In': 22, 'Audioslave': 23, 'Babyshambles': 24, 'Band Of Horses': 25, 'Basement Jaxx': 26, 'Bat For Lashes': 27, 'Battles': 28, 'Be Your Own Pet': 29, 'Beastie Boys': 30, 'Beck': 31, 'Beirut': 32, 'Belle And Sebastian': 33, 'Benny Benassi': 34, 'Björk': 35, 'Black Kids': 36, 'Black Rebel Motorcycle Club': 37, 'Black Sabbath': 38, 'Blink-182': 39, 'Bloc Party': 40, 'Blonde Redhead': 41, 'Blondie': 42, 'Blur': 43, 'Boards Of Canada': 44, 'Bob Dylan': 45, 'Bob Marley & The Wailers': 46, 'Bon Iver': 47, 'Boy Division': 48, 'Bright Eyes': 49, 'Britney Spears': 50, 'Broken Social Scene': 51, 'Cansei De Ser Sexy': 52, 'Cat Power': 53, 'Chuck Berry': 54, 'Clap Your Hands Say Yeah': 55, 'Cocorosie': 56, 'Cold War Kids': 57, 'Coldplay': 58, 'Corinne Bailey Rae': 59, 'Counting Crows': 60, 'Cream': 61, 'Creedence Clearwater Revisited': 62, 'Crystal Castles': 63, 'Cut Copy': 64, 'Daft Punk': 65, 'Damien Rice': 66, 'Dashboard Confessional': 67, 'David Bowie': 68, 'David Gray': 69, 'Dead Kennedys': 70, 'Death Cab For Cutie': 71, 'Death From Above 1979': 72, 'Deep Purple': 73, 'Deftones': 74, 'Depeche Mode': 75, 'Dexys Midnight Runners': 76, 'Dido': 77, 'Digitalism': 78, 'Dire Straits': 79, 'Dirty Pretty Things': 80, 'Dj Shadow': 81, 'Doves': 82, 'Dread Zeppelin': 83, 'Duffy': 84, 'Dusty Springfield': 85, 'Eagles': 86, 'Echo & The Bunnymen': 87, 'Editors': 88, 'Elliott Smith': 89, 'Elvis Presley': 90, 'Evanescence': 91, 'Explosions In The Sky': 92, 'Faith No More': 93, 'Faithless': 94, 'Fall Out Boy': 95, 'Fatboy Slim': 96, 'Feist': 97, 'Fiona Apple': 98, 'Fischerspooner': 99, 'Fleet Foxes': 100, 'Foo Fighters': 101, 'Franz Ferdinand': 102, 'Frou Frou': 103, 'Garbage': 104, 'Gary Jules': 105, 'Gnarls Barkley': 106, 'Goldfrapp': 107, 'Gorillaz': 108, 'Green Day': 109, \"Guns N' Roses\": 110, 'Gwen Stefani': 111, 'Hard-Fi': 112, 'Hoobastank': 113, 'Hot Chip': 114, 'Hot Hot Heat': 115, 'Iggy Pop': 116, 'Imogen Heap': 117, 'Incubus': 118, 'Interpol': 119, 'Iron & Wine': 120, 'Jack Johnson': 121, 'James Blunt': 122, 'Jamiroquai': 123, 'Jeff Buckley': 124, 'Jefferson Airplane': 125, 'Jem': 126, 'Jet': 127, 'Jimi Hendrix': 128, 'Jimmy Eat World': 129, 'John Lennon': 130, 'Johnny Cash': 131, 'José González': 132, 'Joy Division': 133, 'Junior Senior': 134, 'Justice': 135, 'Justin Timberlake': 136, 'Kaiser Chiefs': 137, 'Kanye West': 138, 'Kasabian': 139, 'Katy Perry': 140, 'Keane': 141, 'Kimya Dawson': 142, 'Kings Of Convenience': 143, 'Kings Of Leon': 144, 'Klaxons': 145, 'Kosheen': 146, 'Kt Tunstall': 147, 'Lady Gaga': 148, 'Ladytron': 149, 'Lamb': 150, 'Late Of The Pier': 151, 'Lcd Soundsystem': 152, 'Led Zeppelin': 153, 'Led Zeppelin Jam': 154, 'Lez Zeppelin': 155, 'Lily Allen': 156, 'Limp Bizkit': 157, 'Linkin Park': 158, 'Lou Reed': 159, 'Ludwig Van Beethoven': 160, 'Lynyrd Skynyrd': 161, 'M.I.A.': 162, 'M83': 163, 'Madonna': 164, 'Marilyn Manson': 165, 'Maroon 5': 166, 'Massive Attack': 167, 'Maxïmo Park': 168, 'Mazzy Star': 169, 'Metallica': 170, 'Metric': 171, 'Mgmt': 172, 'Michael Jackson': 173, 'Mika': 174, 'Miles Davis': 175, 'Moby': 176, 'Modest Mouse': 177, 'Mogwai': 178, 'Moloko': 179, 'Morrissey': 180, 'Mott The Hoople': 181, 'Motörhead': 182, 'Muse': 183, 'My Bloody Valentine': 184, 'My Chemical Romance': 185, 'Mylo': 186, 'Natalie Imbruglia': 187, 'Neil Young': 188, 'Nelly Furtado': 189, 'Neutral Milk Hotel': 190, 'New Order': 191, 'Nick Cave & The Bad Seeds': 192, 'Nick Drake': 193, 'Nickelback': 194, 'Nine Inch Nails': 195, 'Nirvana': 196, 'No Doubt': 197, 'Norah Jones': 198, 'Nouvelle Vague': 199, 'Oasis': 200, 'Of Montreal': 201, 'Ok Go': 202, 'Outkast': 203, 'Panic At The Disco': 204, 'Pavement': 205, 'Pearl Jam': 206, 'Peter Bjorn And John': 207, 'Phantom Planet': 208, 'Pink Floyd': 209, 'Pixies': 210, 'Pj Harvey': 211, 'Placebo': 212, \"Plain White T'S\": 213, 'Portishead': 214, 'Prince': 215, 'Public Enemy': 216, 'Pulp': 217, 'Queen': 218, 'Queens Of The Stone Age': 219, 'R.E.M.': 220, 'Radiohead': 221, 'Rage Against The Machine': 222, 'Rammstein': 223, 'Ramones': 224, 'Ratatat': 225, 'Razorlight': 226, 'Red Hot Chili Peppers': 227, 'Regina Spektor': 228, 'Rhianna': 229, 'Rihanna': 230, 'Rilo Kiley': 231, 'Ryan Adams': 232, 'Röyksopp': 233, 'Scissor Sisters': 234, 'Sex Pistols': 235, 'Sia': 236, 'Sigur Rós': 237, 'Simon & Garfunkel': 238, 'Simple Minds': 239, 'Siouxsie And The Banshees': 240, 'Sixpence None The Richer': 241, 'Slayer': 242, 'Slowdive': 243, 'Sneaker Pimps': 244, 'Snow Patrol': 245, 'Soft Cell': 246, 'Sonic Youth': 247, 'Soundgarden': 248, 'Spice Girls': 249, 'Spoon': 250, 'Stars': 251, 'Stereophonics': 252, 'Sufjan Stevens': 253, 'System Of A Down': 254, 'Talking Heads': 255, 'Tears For Fears': 256, 'Tegan And Sara': 257, 'Tenacious D': 258, \"The 5.6.7.8'S\": 259, \"The B-52'S\": 260, 'The Beach Boys': 261, 'The Beatles': 262, 'The Bravery': 263, 'The Cardigans': 264, 'The Chemical Brothers': 265, 'The Clash': 266, 'The Cranberries': 267, 'The Cult': 268, 'The Cure': 269, 'The Dandy Warhols': 270, 'The Darkness': 271, 'The Decemberists': 272, 'The Doors': 273, 'The Faint': 274, 'The Flaming Lips': 275, 'The Fratellis': 276, 'The Fray': 277, 'The Futureheads': 278, 'The Go! Team': 279, 'The Goo Goo Dolls': 280, 'The Hives': 281, 'The Human League': 282, 'The Jesus And Mary Chain': 283, 'The Killers': 284, 'The Kinks': 285, 'The Knife': 286, 'The Kooks': 287, 'The Last Shadow Puppets': 288, 'The Libertines': 289, 'The Magic Numbers': 290, 'The Mamas & The Papas': 291, 'The Mars Volta': 292, 'The New Pornographers': 293, 'The Offspring': 294, 'The Pipettes': 295, 'The Police': 296, 'The Postal Service': 297, 'The Prodigy': 298, 'The Raconteurs': 299, 'The Rakes': 300, 'The Rolling Stones': 301, 'The Shins': 302, 'The Smashing Pumpkins': 303, 'The Smiths': 304, 'The Stone Roses': 305, 'The Stooges': 306, 'The Stranglers': 307, 'The Streets': 308, 'The Strokes': 309, 'The Ting Tings': 310, 'The Velvet Underground': 311, 'The Verve': 312, 'The Walkmen': 313, 'The White Stripes': 314, 'The Whitest Boy Alive': 315, 'The Who': 316, 'Thievery Corporation': 317, 'Thom Yorke': 318, 'Tool': 319, 'Tori Amos': 320, 'Travis': 321, 'Tv On The Radio': 322, 'U2': 323, 'Vampire Weekend': 324, 'Van Halen': 325, 'Violent Femmes': 326, 'We Are Scientists': 327, 'Weezer': 328, 'Wilco': 329, 'Wolf Parade': 330, 'Wolfmother': 331, 'Yann Tiersen': 332, 'Yeah Yeah Yeahs': 333, 'Zero 7': 334}\n",
      "---------- idx_to_artist ----------\n",
      "{0: '3 Doors Down', 1: '30 Seconds To Mars', 2: 'A Perfect Circle', 3: 'A-Ha', 4: 'Abba', 5: 'Ac/Dc', 6: 'Air', 7: 'Al Green', 8: 'Alanis Morissette', 9: 'Alice Cooper', 10: 'Alice In Chains', 11: 'Amy Winehouse', 12: 'Andrew Bird', 13: 'Animal Collective', 14: 'Annie', 15: 'Antony And The Johnsons', 16: 'Aqualung', 17: 'Arcade Fire', 18: 'Architecture In Helsinki', 19: 'Arctic Monkeys', 20: 'Aretha Franklin', 21: 'Art Brut', 22: 'At The Drive-In', 23: 'Audioslave', 24: 'Babyshambles', 25: 'Band Of Horses', 26: 'Basement Jaxx', 27: 'Bat For Lashes', 28: 'Battles', 29: 'Be Your Own Pet', 30: 'Beastie Boys', 31: 'Beck', 32: 'Beirut', 33: 'Belle And Sebastian', 34: 'Benny Benassi', 35: 'Björk', 36: 'Black Kids', 37: 'Black Rebel Motorcycle Club', 38: 'Black Sabbath', 39: 'Blink-182', 40: 'Bloc Party', 41: 'Blonde Redhead', 42: 'Blondie', 43: 'Blur', 44: 'Boards Of Canada', 45: 'Bob Dylan', 46: 'Bob Marley & The Wailers', 47: 'Bon Iver', 48: 'Boy Division', 49: 'Bright Eyes', 50: 'Britney Spears', 51: 'Broken Social Scene', 52: 'Cansei De Ser Sexy', 53: 'Cat Power', 54: 'Chuck Berry', 55: 'Clap Your Hands Say Yeah', 56: 'Cocorosie', 57: 'Cold War Kids', 58: 'Coldplay', 59: 'Corinne Bailey Rae', 60: 'Counting Crows', 61: 'Cream', 62: 'Creedence Clearwater Revisited', 63: 'Crystal Castles', 64: 'Cut Copy', 65: 'Daft Punk', 66: 'Damien Rice', 67: 'Dashboard Confessional', 68: 'David Bowie', 69: 'David Gray', 70: 'Dead Kennedys', 71: 'Death Cab For Cutie', 72: 'Death From Above 1979', 73: 'Deep Purple', 74: 'Deftones', 75: 'Depeche Mode', 76: 'Dexys Midnight Runners', 77: 'Dido', 78: 'Digitalism', 79: 'Dire Straits', 80: 'Dirty Pretty Things', 81: 'Dj Shadow', 82: 'Doves', 83: 'Dread Zeppelin', 84: 'Duffy', 85: 'Dusty Springfield', 86: 'Eagles', 87: 'Echo & The Bunnymen', 88: 'Editors', 89: 'Elliott Smith', 90: 'Elvis Presley', 91: 'Evanescence', 92: 'Explosions In The Sky', 93: 'Faith No More', 94: 'Faithless', 95: 'Fall Out Boy', 96: 'Fatboy Slim', 97: 'Feist', 98: 'Fiona Apple', 99: 'Fischerspooner', 100: 'Fleet Foxes', 101: 'Foo Fighters', 102: 'Franz Ferdinand', 103: 'Frou Frou', 104: 'Garbage', 105: 'Gary Jules', 106: 'Gnarls Barkley', 107: 'Goldfrapp', 108: 'Gorillaz', 109: 'Green Day', 110: \"Guns N' Roses\", 111: 'Gwen Stefani', 112: 'Hard-Fi', 113: 'Hoobastank', 114: 'Hot Chip', 115: 'Hot Hot Heat', 116: 'Iggy Pop', 117: 'Imogen Heap', 118: 'Incubus', 119: 'Interpol', 120: 'Iron & Wine', 121: 'Jack Johnson', 122: 'James Blunt', 123: 'Jamiroquai', 124: 'Jeff Buckley', 125: 'Jefferson Airplane', 126: 'Jem', 127: 'Jet', 128: 'Jimi Hendrix', 129: 'Jimmy Eat World', 130: 'John Lennon', 131: 'Johnny Cash', 132: 'José González', 133: 'Joy Division', 134: 'Junior Senior', 135: 'Justice', 136: 'Justin Timberlake', 137: 'Kaiser Chiefs', 138: 'Kanye West', 139: 'Kasabian', 140: 'Katy Perry', 141: 'Keane', 142: 'Kimya Dawson', 143: 'Kings Of Convenience', 144: 'Kings Of Leon', 145: 'Klaxons', 146: 'Kosheen', 147: 'Kt Tunstall', 148: 'Lady Gaga', 149: 'Ladytron', 150: 'Lamb', 151: 'Late Of The Pier', 152: 'Lcd Soundsystem', 153: 'Led Zeppelin', 154: 'Led Zeppelin Jam', 155: 'Lez Zeppelin', 156: 'Lily Allen', 157: 'Limp Bizkit', 158: 'Linkin Park', 159: 'Lou Reed', 160: 'Ludwig Van Beethoven', 161: 'Lynyrd Skynyrd', 162: 'M.I.A.', 163: 'M83', 164: 'Madonna', 165: 'Marilyn Manson', 166: 'Maroon 5', 167: 'Massive Attack', 168: 'Maxïmo Park', 169: 'Mazzy Star', 170: 'Metallica', 171: 'Metric', 172: 'Mgmt', 173: 'Michael Jackson', 174: 'Mika', 175: 'Miles Davis', 176: 'Moby', 177: 'Modest Mouse', 178: 'Mogwai', 179: 'Moloko', 180: 'Morrissey', 181: 'Mott The Hoople', 182: 'Motörhead', 183: 'Muse', 184: 'My Bloody Valentine', 185: 'My Chemical Romance', 186: 'Mylo', 187: 'Natalie Imbruglia', 188: 'Neil Young', 189: 'Nelly Furtado', 190: 'Neutral Milk Hotel', 191: 'New Order', 192: 'Nick Cave & The Bad Seeds', 193: 'Nick Drake', 194: 'Nickelback', 195: 'Nine Inch Nails', 196: 'Nirvana', 197: 'No Doubt', 198: 'Norah Jones', 199: 'Nouvelle Vague', 200: 'Oasis', 201: 'Of Montreal', 202: 'Ok Go', 203: 'Outkast', 204: 'Panic At The Disco', 205: 'Pavement', 206: 'Pearl Jam', 207: 'Peter Bjorn And John', 208: 'Phantom Planet', 209: 'Pink Floyd', 210: 'Pixies', 211: 'Pj Harvey', 212: 'Placebo', 213: \"Plain White T'S\", 214: 'Portishead', 215: 'Prince', 216: 'Public Enemy', 217: 'Pulp', 218: 'Queen', 219: 'Queens Of The Stone Age', 220: 'R.E.M.', 221: 'Radiohead', 222: 'Rage Against The Machine', 223: 'Rammstein', 224: 'Ramones', 225: 'Ratatat', 226: 'Razorlight', 227: 'Red Hot Chili Peppers', 228: 'Regina Spektor', 229: 'Rhianna', 230: 'Rihanna', 231: 'Rilo Kiley', 232: 'Ryan Adams', 233: 'Röyksopp', 234: 'Scissor Sisters', 235: 'Sex Pistols', 236: 'Sia', 237: 'Sigur Rós', 238: 'Simon & Garfunkel', 239: 'Simple Minds', 240: 'Siouxsie And The Banshees', 241: 'Sixpence None The Richer', 242: 'Slayer', 243: 'Slowdive', 244: 'Sneaker Pimps', 245: 'Snow Patrol', 246: 'Soft Cell', 247: 'Sonic Youth', 248: 'Soundgarden', 249: 'Spice Girls', 250: 'Spoon', 251: 'Stars', 252: 'Stereophonics', 253: 'Sufjan Stevens', 254: 'System Of A Down', 255: 'Talking Heads', 256: 'Tears For Fears', 257: 'Tegan And Sara', 258: 'Tenacious D', 259: \"The 5.6.7.8'S\", 260: \"The B-52'S\", 261: 'The Beach Boys', 262: 'The Beatles', 263: 'The Bravery', 264: 'The Cardigans', 265: 'The Chemical Brothers', 266: 'The Clash', 267: 'The Cranberries', 268: 'The Cult', 269: 'The Cure', 270: 'The Dandy Warhols', 271: 'The Darkness', 272: 'The Decemberists', 273: 'The Doors', 274: 'The Faint', 275: 'The Flaming Lips', 276: 'The Fratellis', 277: 'The Fray', 278: 'The Futureheads', 279: 'The Go! Team', 280: 'The Goo Goo Dolls', 281: 'The Hives', 282: 'The Human League', 283: 'The Jesus And Mary Chain', 284: 'The Killers', 285: 'The Kinks', 286: 'The Knife', 287: 'The Kooks', 288: 'The Last Shadow Puppets', 289: 'The Libertines', 290: 'The Magic Numbers', 291: 'The Mamas & The Papas', 292: 'The Mars Volta', 293: 'The New Pornographers', 294: 'The Offspring', 295: 'The Pipettes', 296: 'The Police', 297: 'The Postal Service', 298: 'The Prodigy', 299: 'The Raconteurs', 300: 'The Rakes', 301: 'The Rolling Stones', 302: 'The Shins', 303: 'The Smashing Pumpkins', 304: 'The Smiths', 305: 'The Stone Roses', 306: 'The Stooges', 307: 'The Stranglers', 308: 'The Streets', 309: 'The Strokes', 310: 'The Ting Tings', 311: 'The Velvet Underground', 312: 'The Verve', 313: 'The Walkmen', 314: 'The White Stripes', 315: 'The Whitest Boy Alive', 316: 'The Who', 317: 'Thievery Corporation', 318: 'Thom Yorke', 319: 'Tool', 320: 'Tori Amos', 321: 'Travis', 322: 'Tv On The Radio', 323: 'U2', 324: 'Vampire Weekend', 325: 'Van Halen', 326: 'Violent Femmes', 327: 'We Are Scientists', 328: 'Weezer', 329: 'Wilco', 330: 'Wolf Parade', 331: 'Wolfmother', 332: 'Yann Tiersen', 333: 'Yeah Yeah Yeahs', 334: 'Zero 7'}\n",
      "---------- song_to_idx ----------\n",
      "{nan: 0, '3 Doors Down/Dilaudid': 1, '30 Seconds To Mars/Mad World': 2, 'A Perfect Circle/That Girl': 3, \"A Perfect Circle/Charlotte (Booka'S No Pain No Gain Mix)\": 4, 'A-Ha/Elišce': 5, 'Abba/Things Are Getting Better': 6, 'Abba/Hallelujah': 7, 'Ac/Dc/What You Meant': 8, 'Ac/Dc/Ad Vitam Aeternam': 9, \"Ac/Dc/It'S Not A Fashion Statement, It'S A Fucking Deathwish\": 10, 'Ac/Dc/Waterman (Trophy Twins Pop Goes The Vox)': 11, 'Ac/Dc/A Door Opens And Closes': 12, 'Ac/Dc/Wind Up': 13, \"Air/Doin' Time (Wyclef Remix)\": 14, 'Air/Desire': 15, 'Air/Rabbit Habits': 16, 'Air/Rock And Roll Music To The World': 17, 'Air/11 - Teenage Highs': 18, 'Air/As I Come Back': 19, 'Air/Minute By Minute': 20, 'Air/Love Song With Flute': 21, 'Air/The Boy With The Thorn In His Side': 22, 'Air/Big Sky City': 23, 'Air/Getting It Wrong': 24, 'Air/My Old Man': 25, 'Air/Twoja D?O¨½ Kayah': 26, 'Air/Autoshape': 27, 'Air/The Mask': 28, 'Air/Saturnine': 29, \"Air/I'M Free\": 30, 'Air/Eu Não Gosto De Ninguém': 31, \"Air/Stage Coach (Yvonne'S)\": 32, \"Air/Miller'S Angels\": 33, 'Air/A Love I Can Feel': 34, 'Air/Empty Cans': 35, 'Air/Blast': 36, 'Air/My Wings': 37, \"Air/It Don'T Matter To The Sun\": 38, 'Air/Until I Die': 39, 'Air/The Hand (Feat. Maximum Bob & Ani Maldjian)': 40, 'Air/Doping For Gold': 41, 'Air/Metallica - (Lars Ulrich) Drum Solo': 42, 'Air/Kids (Unedited Version)': 43, \"Air/It'S Nothing\": 44, 'Air/Alcohol': 45, 'Air/Raspberry Beret': 46, 'Air/The Art Of Walking': 47, 'Al Green/She\\'S Lost Control (12\" Version)': 48, 'Alanis Morissette/8675309': 49, \"Alanis Morissette/The Season (Swag'S Vocal Mix)\": 50, 'Alice Cooper/Drive Me Nuts (Cyber Trance Mix)': 51, 'Alice In Chains/05 - Mike Morovitz': 52, 'Alice In Chains/The Audio Pool': 53, 'Amy Winehouse/Le Vent Nous Portera': 54, 'Amy Winehouse/Frozen': 55, 'Amy Winehouse/Up All Night': 56, 'Amy Winehouse/Brisa Mulher': 57, 'Amy Winehouse/Where I Should Be': 58, 'Amy Winehouse/Four Horsemen': 59, 'Amy Winehouse/Leave The Day (Crystal Tears Remix)': 60, 'Amy Winehouse/Who Are You': 61, 'Amy Winehouse/Bucovina (Haaksman & Haaksman Soca Bogle Mix)': 62, 'Andrew Bird/Nämä Kolme Ovat Yhtä': 63, 'Animal Collective/The Come Up': 64, 'Animal Collective/Sweet Lullaby': 65, 'Animal Collective/Poster Of A Girl': 66, 'Annie/Whiskey Breath': 67, 'Antony And The Johnsons/Crank Dat': 68, \"Antony And The Johnsons/Isn'T It Nice?\": 69, 'Antony And The Johnsons/Lava Lava': 70, 'Antony And The Johnsons/02 - Libra': 71, 'Aqualung/Plots And Plans': 72, \"Arcade Fire/Goin' Down\": 73, 'Arcade Fire/La Flor De Estambul': 74, 'Arcade Fire/Megin Runar': 75, 'Arcade Fire/Rat Feathers': 76, 'Arcade Fire/04- Us & Them': 77, \"Arcade Fire/My Rose Of Waikiki (The 1940'S)\": 78, 'Arcade Fire/Cherchez Laghost': 79, 'Arcade Fire/Pot I Kreff': 80, 'Arcade Fire/Get Out Of My Head (Clean Lp Version)': 81, 'Arcade Fire/Human Fly': 82, \"Arcade Fire/Schindler'S List Piano\": 83, 'Arcade Fire/Sweet Sangria': 84, 'Arcade Fire/Reality Check': 85, 'Arcade Fire/Good Luck Charm': 86, 'Arcade Fire/Stereotypes': 87, 'Arcade Fire/Bye Bye': 88, 'Arcade Fire/Whole New World': 89, 'Arcade Fire/Her Room': 90, 'Arcade Fire/I Can Never Say': 91, 'Arcade Fire/The Wind That Shakes The Barley': 92, 'Arcade Fire/300 M.P.H. Torrential Outpour Blues': 93, 'Arcade Fire/The Razors Edge': 94, \"Architecture In Helsinki/You'Re Not Alone (Feat. Tara Mcdonald)\": 95, 'Architecture In Helsinki/Camdombeando Con  Claudita': 96, 'Architecture In Helsinki/An Ordinary Life': 97, 'Architecture In Helsinki/The Coast Is Always Changing': 98, 'Architecture In Helsinki/Les Baricades Misterieuses': 99, 'Architecture In Helsinki/Miss You': 100, 'Architecture In Helsinki/On And On': 101, 'Architecture In Helsinki/Ii Symfonia': 102, 'Architecture In Helsinki/I Feel It All': 103, \"Arctic Monkeys/I Can'T Come Down\": 104, 'Arctic Monkeys/No Woman No Cry': 105, 'Arctic Monkeys/Spiders': 106, 'Arctic Monkeys/Love That Girl': 107, 'Arctic Monkeys/Pop': 108, 'Arctic Monkeys/Festival': 109, 'Arctic Monkeys/Good Lad': 110, 'Arctic Monkeys/Mess Of Zero': 111, 'Arctic Monkeys/Sebastiana': 112, \"Arctic Monkeys/You'Re No Good\": 113, 'Arctic Monkeys/Walk Down By The River': 114, 'Arctic Monkeys/Diday Diday Day': 115, 'Arctic Monkeys/Paranoya': 116, 'Arctic Monkeys/Crazy Beat': 117, 'Arctic Monkeys/Fortune Faded': 118, \"Arctic Monkeys/Dead Man'S Will\": 119, 'Arctic Monkeys/New Fuhrer': 120, 'Arctic Monkeys/Röyksopp Forever': 121, 'Arctic Monkeys/Halo': 122, 'Arctic Monkeys/Compliments': 123, 'Aretha Franklin/Single Ladies (Put A Ring On It) (Dave Audé Club Mix)': 124, \"Art Brut/Don'T Look Back Into The Sun\": 125, 'Art Brut/Stop The Show': 126, 'Art Brut/Pineapple Mine Fields': 127, 'Art Brut/Op. 19 - Sehr Langsam': 128, 'At The Drive-In/The Light That Will Cease To Fail': 129, 'Audioslave/Hoppipolla': 130, 'Audioslave/The Immortal': 131, 'Audioslave/Child In You': 132, 'Audioslave/Going Down': 133, \"Audioslave/Atta' Boy\": 134, \"Babyshambles/Flora'S Secret\": 135, 'Band Of Horses/Marble House': 136, 'Basement Jaxx/Teenage Kicks': 137, \"Bat For Lashes/Worry 'Til Spring\": 138, 'Battles/The Killing Kind': 139, 'Be Your Own Pet/Tantra Bizarre': 140, 'Beastie Boys/Supermental': 141, 'Beastie Boys/Running Into Time': 142, 'Beck/No Easy Way Out': 143, 'Beck/Microphones': 144, 'Beck/My Boy Says': 145, \"Beck/Don'T Believe In Love\": 146, 'Beck/Fock Steen': 147, 'Beck/Orange': 148, 'Beck/All Apologies': 149, 'Beck/Slow Hands': 150, 'Beck/Conflict Resolution': 151, 'Beirut/Love Song For A Vampire (Performed And Written By Annie Lennox)': 152, 'Beirut/Penny Lane': 153, 'Beirut/Passion': 154, 'Beirut/High Water (For Charlie Patton)': 155, 'Beirut/Classical Favorites 2': 156, 'Beirut/Everyday I Write The Book': 157, 'Belle And Sebastian/Anything (Feat. Usher & Pharrell)': 158, 'Belle And Sebastian/Funkytown': 159, 'Belle And Sebastian/Introduction': 160, 'Belle And Sebastian/Cape Cod Kwassa Kwassa': 161, 'Belle And Sebastian/Kung Fu International': 162, 'Belle And Sebastian/Symphony No. 8: Ii. Spiritual Anarchy': 163, 'Belle And Sebastian/Tarantulove': 164, 'Belle And Sebastian/Robot Rock': 165, 'Belle And Sebastian/They Can Make It Rain Bombs': 166, 'Belle And Sebastian/Catch The Breeze': 167, 'Belle And Sebastian/Cross Your Fingers': 168, 'Belle And Sebastian/Stealing Society': 169, 'Belle And Sebastian/Man Made God': 170, 'Belle And Sebastian/High Above The Pastures': 171, 'Belle And Sebastian/Long Black Veil': 172, 'Belle And Sebastian/Bruise Violet': 173, 'Belle And Sebastian/Gdy Zostajesz U Mnie Na Noc (Po Co)': 174, 'Belle And Sebastian/Mein Prinz (Single Edit)': 175, 'Belle And Sebastian/Turn Back Now': 176, 'Belle And Sebastian/More Than Words': 177, 'Belle And Sebastian/Coda': 178, \"Belle And Sebastian/What'S The Frequency, Kenneth?\": 179, 'Belle And Sebastian/Superstition': 180, \"Belle And Sebastian/I Ain'T Your Savior\": 181, 'Belle And Sebastian/Hock It': 182, 'Benny Benassi/Aki No Kehai': 183, 'Björk/Fairy Godmother Song': 184, 'Björk/System.0.1 In C Major': 185, 'Björk/The Dark Elf': 186, 'Björk/Broken Chairs': 187, 'Björk/Clover Over Dover': 188, 'Björk/Between The Lines': 189, \"Björk/Freakin' You\": 190, 'Björk/Far Away (Album Version)': 191, 'Björk/Homeboys Cry Out For More': 192, 'Björk/Get Your Freak On': 193, 'Björk/Nine Lives': 194, 'Björk/Nina': 195, 'Björk/Laundromat Blues (Lp Version)': 196, 'Björk/Mano De Mono': 197, 'Björk/Astounded': 198, \"Björk/I'M Looking For A Girl\": 199, 'Björk/Tears From The Compound Eye': 200, 'Björk/Big Bad Moon': 201, \"Björk/I'Ll Be Missing You\": 202, 'Björk/King Of The Mountain': 203, 'Björk/Maria Virgin (Quem A Amagen Da Virgin)': 204, 'Björk/Love Me To The End': 205, 'Black Kids/Hide Abstract Jazz': 206, 'Black Rebel Motorcycle Club/Fuel (Live)': 207, \"Black Rebel Motorcycle Club/Pork Chop'S Little Ditty\": 208, 'Black Rebel Motorcycle Club/Two People In A Room': 209, 'Black Sabbath/Hungry Eyes': 210, 'Black Sabbath/Pride War': 211, 'Black Sabbath/13Th Of October 1307': 212, 'Blink-182/Unfinished Sympathy': 213, 'Blink-182/Don’T Even Trip': 214, 'Bloc Party/Madlib-Speto Da Rua Mix (Mocd-008)': 215, 'Bloc Party/Perfect': 216, 'Bloc Party/08 Supernaturale': 217, 'Bloc Party/The Performance': 218, 'Bloc Party/Strike': 219, \"Bloc Party/Cruisin'\": 220, 'Bloc Party/Pure Morning': 221, 'Bloc Party/A Little Priest': 222, 'Bloc Party/Leap Year': 223, 'Bloc Party/Pathetic': 224, 'Bloc Party/Testament - Let Go Of My World (Live)': 225, 'Bloc Party/Epic Torment': 226, 'Bloc Party/Ooh La La': 227, 'Bloc Party/Machete': 228, 'Bloc Party/Cry For The Weeper': 229, 'Bloc Party/My Angel Rocks Back And Forth': 230, 'Bloc Party/Vengeance': 231, 'Bloc Party/Ii. The Prey': 232, 'Bloc Party/Brighteyes': 233, 'Bloc Party/Too Young To Go Steady': 234, 'Bloc Party/Overweight Karate Kid': 235, 'Bloc Party/Oh Girl (I Wanna Be With You)': 236, 'Bloc Party/Belief In The Future': 237, 'Bloc Party/From The Aspect Of Darkly Illuminated': 238, 'Blonde Redhead/Death Favours The Enemy': 239, 'Blondie/Bir Kösede Yalniz': 240, \"Blondie/You Can'T Judge A Book By Its Cover\": 241, 'Blondie/Addiction (Demo)': 242, 'Blondie/Keep On Climbing': 243, 'Blondie/Take Me Back': 244, 'Blondie/Overfloater': 245, 'Blondie/Pink Moon': 246, 'Blur/Afrika Shox': 247, 'Blur/Per Gioco Per Amore': 248, 'Blur/Goodbye Duet': 249, 'Blur/Took You Two Years To Win My Heart': 250, 'Blur/Quick To Make It Happen (Dark Track)': 251, 'Blur/Meditation': 252, 'Blur/A Great Big Sled': 253, 'Blur/Kargyraa': 254, 'Blur/Goldberg Variations, Bwv 988: Xxvii. Variation 26': 255, 'Blur/Rote Riki': 256, 'Blur/Walk Away': 257, 'Blur/Ease Your Feet In The Sea': 258, 'Blur/Settled': 259, 'Boards Of Canada/Feels So Good': 260, 'Boards Of Canada/The Bitter End': 261, 'Boards Of Canada/Never (Past Tense) (Radio Edit)': 262, 'Boards Of Canada/Fort': 263, 'Boards Of Canada/Girl Vii': 264, 'Boards Of Canada/Medicine Dream (Drum Reprise)': 265, 'Boards Of Canada/Filosofía Barata Y Zapatos De Goma': 266, 'Boards Of Canada/Soon Enough': 267, 'Boards Of Canada/Bubble Life': 268, 'Boards Of Canada/Trying My Best To Love You': 269, 'Bob Dylan/20Th Century': 270, 'Bob Dylan/Certain Move': 271, 'Bob Dylan/The Art Of Falling': 272, \"Bob Dylan/She'S A Mover\": 273, 'Bob Dylan/The Deeper The Love': 274, 'Bob Dylan/Raw Hide': 275, 'Bob Dylan/Uncle Joe': 276, 'Bob Dylan/Human Behaviour': 277, 'Bob Marley & The Wailers/Right Equipment': 278, 'Bon Iver/Gravity': 279, 'Boy Division/Ize Of The World': 280, 'Bright Eyes/People Asking Why': 281, 'Bright Eyes/Heartsong': 282, 'Bright Eyes/Funky Acid Stuff': 283, 'Bright Eyes/I Love You': 284, 'Bright Eyes/Into The Galaxy': 285, 'Bright Eyes/Guilt Within Your Head': 286, 'Bright Eyes/Hotel Supernova': 287, \"Bright Eyes/You'Re So Damn Hot\": 288, 'Britney Spears/Open Arms': 289, 'Broken Social Scene/Afternoon Sister': 290, 'Broken Social Scene/Shedspace': 291, 'Broken Social Scene/Orion': 292, 'Broken Social Scene/March To The Shore': 293, 'Broken Social Scene/Red Berry Blossom': 294, 'Broken Social Scene/The Last Winged Unicorn': 295, 'Broken Social Scene/Yes, I Am Blind': 296, 'Broken Social Scene/Seven Nation Army': 297, 'Broken Social Scene/Sky Flowers': 298, 'Broken Social Scene/Golfer Vrs Boxer': 299, 'Broken Social Scene/Science': 300, 'Broken Social Scene/Kalla': 301, 'Broken Social Scene/Korana': 302, 'Broken Social Scene/(Before You Go) Curet Must Be Protected': 303, 'Broken Social Scene/Crime In The Pale Moonlight (Short Version)': 304, 'Broken Social Scene/Blackbird': 305, 'Cansei De Ser Sexy/Body': 306, 'Cansei De Ser Sexy/Tranquillo': 307, 'Cansei De Ser Sexy/Larrows Of The Field': 308, 'Cansei De Ser Sexy/Johnny': 309, 'Cansei De Ser Sexy/Cutting Branches For A Temporary Shelter': 310, 'Cansei De Ser Sexy/Mortals Watch The Day': 311, 'Cat Power/Get Up': 312, 'Cat Power/You Give Love A Bad Name': 313, 'Cat Power/Pastime Paradise': 314, 'Cat Power/Wave Of Mutilation (Uk Surf)': 315, 'Cat Power/Why? Why? Why? (Is It So Hard)': 316, 'Cat Power/Dog Eat Dog': 317, 'Cat Power/Becoming': 318, 'Chuck Berry/Riot Van': 319, 'Clap Your Hands Say Yeah/Your Eyes Open': 320, 'Clap Your Hands Say Yeah/Haemoglobin': 321, 'Clap Your Hands Say Yeah/Gold Chained Leopard Of The Ghetto': 322, 'Clap Your Hands Say Yeah/Common Knowledge': 323, 'Clap Your Hands Say Yeah/Tenant': 324, 'Clap Your Hands Say Yeah/Know Who Is Jah': 325, 'Clap Your Hands Say Yeah/Backdraft': 326, 'Clap Your Hands Say Yeah/Bad Cover Version': 327, 'Clap Your Hands Say Yeah/Laundry': 328, \"Clap Your Hands Say Yeah/Let'S Drag Our Feet!\": 329, 'Cocorosie/The Heartless': 330, 'Cocorosie/Paint It Black': 331, 'Cold War Kids/Caprice No. 16': 332, 'Coldplay/Cosmonaut': 333, 'Coldplay/09-15-00, Part One': 334, 'Coldplay/Vampire Heart': 335, 'Coldplay/Bullets': 336, 'Coldplay/I Love U': 337, 'Coldplay/Let Go': 338, 'Coldplay/Iamgray': 339, 'Coldplay/The Bells': 340, 'Coldplay/Silent Demise': 341, 'Coldplay/Et Sidste Kys': 342, 'Coldplay/Flutter': 343, 'Coldplay/Violently Happy (Fluke Well Tempered)': 344, 'Coldplay/In The Night': 345, 'Coldplay/Parachutes': 346, 'Coldplay/Straight From The Gate': 347, \"Coldplay/Allen'S Wrench\": 348, 'Coldplay/Haiti': 349, 'Coldplay/Buffer Drift': 350, 'Coldplay/My Journey To The Stars': 351, 'Coldplay/The Bumper Book Of Facts And Knowledge': 352, 'Coldplay/Lucifer': 353, 'Coldplay/Saturate': 354, 'Coldplay/Deadbolt': 355, 'Coldplay/In Search Of Hope Pt. 1': 356, 'Coldplay/Represent': 357, 'Coldplay/Les Cigarillos': 358, 'Coldplay/And So The Story Goes': 359, 'Coldplay/Two Halves': 360, 'Coldplay/Rapture': 361, 'Coldplay/Burn': 362, 'Coldplay/Give Yourself To Me': 363, 'Coldplay/Melancholy Clumps': 364, 'Coldplay/Candy Castle': 365, 'Coldplay/Turbo Dreams': 366, 'Coldplay/Dream': 367, 'Coldplay/Gods And Monsters': 368, 'Coldplay/All By Myself': 369, 'Coldplay/Travellers 4 Churchyard Entertainment': 370, 'Coldplay/Crash! (Album Version)': 371, 'Coldplay/But I Might Die Tonight': 372, 'Corinne Bailey Rae/Mr. Self Destruct (Live)': 373, 'Counting Crows/Hiss And Shake': 374, 'Counting Crows/Country Yard': 375, 'Cream/Der Achte Ozean': 376, 'Creedence Clearwater Revisited/Officer': 377, 'Creedence Clearwater Revisited/Die Götter Sind Weiss': 378, 'Creedence Clearwater Revisited/Time For Smiling': 379, 'Creedence Clearwater Revisited/Heavens Fall': 380, 'Crystal Castles/Two Sides': 381, 'Crystal Castles/Austin': 382, 'Cut Copy/Return To The Eve': 383, 'Cut Copy/Le Concert Des Couverts (Remix By Gng)': 384, 'Daft Punk/Swing The Cellar Door': 385, 'Daft Punk/Srxt': 386, 'Daft Punk/Tattoo': 387, 'Daft Punk/Cemetery Drive': 388, 'Daft Punk/Desire Lines': 389, 'Daft Punk/Sono Ancora In Coma': 390, 'Daft Punk/Parallel': 391, \"Daft Punk/L'Arrivée Sur L'Île\": 392, 'Daft Punk/Redneck Woman': 393, 'Daft Punk/The Meter Marks Ok': 394, \"Daft Punk/Where'S My Head\": 395, 'Daft Punk/Le Vieil Amant': 396, 'Daft Punk/I Wanna': 397, 'Daft Punk/Father Is Late': 398, 'Daft Punk/Prelude': 399, 'Daft Punk/Swing 2 Harmony (Matthew Dekay Mix)': 400, 'Daft Punk/Transylvania 90210': 401, 'Daft Punk/M.B.': 402, 'Daft Punk/The Girl Is Mine': 403, 'Daft Punk/The Last Shot Ringing In My Ears': 404, 'Daft Punk/High School Confidential': 405, 'Damien Rice/Once Upon A Time There Was An Ocean': 406, \"Damien Rice/Deep Sensation - Reelin' With The Feelin' - Original Mix\": 407, 'Damien Rice/Left': 408, 'Damien Rice/Jet Fighter': 409, 'Damien Rice/Norwegian Wood (This Bird Has Flown)': 410, 'Damien Rice/The Lighthousekeeper': 411, 'Damien Rice/No More Sorrow': 412, 'Dashboard Confessional/Living After Midnight': 413, 'David Bowie/Standing In For Joe': 414, 'David Bowie/Have Love Will Travel': 415, 'David Bowie/Radioresepsjonen 28.10.08': 416, 'David Bowie/06 - Mark Farina - Dream Farin': 417, \"David Bowie/Sally'S Song\": 418, 'David Bowie/Gerudo Valley': 419, 'David Bowie/Snowman': 420, \"David Bowie/The Dust Blows Forward 'N The Dust Blows Back\": 421, 'David Bowie/The Island': 422, 'David Bowie/Hornswoggle': 423, 'David Bowie/Black': 424, 'David Bowie/07 - The Crooked Man': 425, 'David Bowie/Vado Al Massimo': 426, 'David Bowie/The West Coast Rain': 427, 'David Bowie/Dream Glasses Off': 428, 'David Bowie/Hooray For Humans': 429, 'David Bowie/Lacho Dayo - Biaf Csardas - Friss Csardas': 430, 'David Gray/October Skies': 431, 'Dead Kennedys/Those Were The Days': 432, 'Dead Kennedys/Jah Help The Dread': 433, 'Death Cab For Cutie/Norgewian Wood': 434, 'Death Cab For Cutie/Marvo Ging': 435, 'Death Cab For Cutie/Adrift': 436, 'Death Cab For Cutie/See You Again': 437, 'Death Cab For Cutie/Got No Love': 438, 'Death Cab For Cutie/Inside My Mind (Blue Skies) (Elephant Remix)': 439, 'Death Cab For Cutie/Way Out West': 440, 'Death Cab For Cutie/Fantaisie, Opus 79': 441, 'Death Cab For Cutie/Selling The Wind': 442, 'Death Cab For Cutie/Маша': 443, 'Death Cab For Cutie/Overthought': 444, 'Death Cab For Cutie/Ocean Breathes Salty': 445, 'Death Cab For Cutie/Pippelin Pyörittäjien Kylä': 446, 'Death Cab For Cutie/Tire Me': 447, 'Death Cab For Cutie/Mind Of A Toy': 448, 'Death Cab For Cutie/Variatio 12, Canone All Quarta': 449, 'Death Cab For Cutie/Metropolitan Glide': 450, 'Death Cab For Cutie/Bring On, Bring On': 451, 'Death Cab For Cutie/Hours': 452, 'Death Cab For Cutie/Jesus, Etc.': 453, 'Death Cab For Cutie/Thy Kingdom Gone': 454, 'Death Cab For Cutie/The Dam At Otter Creek': 455, 'Death Cab For Cutie/Love You To': 456, 'Death Cab For Cutie/Palm Reader': 457, \"Death Cab For Cutie/54-46 That'S My Number\": 458, 'Death From Above 1979/Pista 34': 459, 'Death From Above 1979/A Lap Dance Is So Much Better When The Stripper Is Crying': 460, 'Death From Above 1979/Along Comes A Spider': 461, 'Death From Above 1979/Flow': 462, 'Death From Above 1979/02 - 04 - Daemon Lover': 463, 'Death From Above 1979/Julia': 464, 'Death From Above 1979/The League Of Extraordinary Nobodies': 465, 'Deep Purple/Rosa Parks': 466, 'Deep Purple/Homburg': 467, 'Deep Purple/Playboy': 468, 'Deftones/Talk To Me, Dance With Me': 469, 'Depeche Mode/Vienna': 470, 'Depeche Mode/Every-One Peace! (Luffy)': 471, 'Depeche Mode/Round The World': 472, 'Depeche Mode/Message In A Bottle': 473, 'Depeche Mode/Reason Why (Live)': 474, 'Depeche Mode/Through The Fire I Come': 475, 'Depeche Mode/Shadows': 476, 'Depeche Mode/Daddy Cool': 477, 'Depeche Mode/Whipping Tree': 478, 'Depeche Mode/My Hometown (2005-10-09)': 479, 'Depeche Mode/Parts & Wholes (Akio Milanpaak Mix)': 480, 'Depeche Mode/White Man': 481, 'Depeche Mode/Irradiated Non-Future (Dj Rekahoe Remix)': 482, 'Depeche Mode/Derelict': 483, 'Depeche Mode/Music For Silent Movies': 484, 'Depeche Mode/Educes Me': 485, 'Dexys Midnight Runners/Across The Universe': 486, 'Dido/Sidewinder': 487, 'Digitalism/No Reason To Complain': 488, 'Dire Straits/Cigarette In Your Bed': 489, 'Dire Straits/Bonus Track': 490, 'Dire Straits/Take The Veil Cerpin Taxt': 491, 'Dirty Pretty Things/An Audience With The Pope': 492, 'Dj Shadow/24': 493, \"Dj Shadow/The Same Boy You'Ve Always Known\": 494, 'Doves/Careless Minds': 495, 'Dread Zeppelin/Fuck The Valley Fudge': 496, 'Dread Zeppelin/El Rey Que Muncho Madruga': 497, 'Dread Zeppelin/Lotta Love (Acoustic)': 498, 'Dread Zeppelin/Iambic 5 Poetry': 499, 'Dread Zeppelin/Techmology V3': 500, \"Dread Zeppelin/Don'T Leave\": 501, 'Dread Zeppelin/Punk Rock Christmas': 502, 'Dread Zeppelin/I Want You': 503, 'Dread Zeppelin/Ballad Of A Broken Man': 504, 'Dread Zeppelin/Wake Me Up On Judgement Day': 505, 'Dread Zeppelin/Wear Your Love Like Heaven': 506, 'Dread Zeppelin/Soda (Munk Remix)': 507, 'Dread Zeppelin/Bananas': 508, 'Dread Zeppelin/Evacuation': 509, \"Duffy/At Least That'S What You Said\": 510, 'Dusty Springfield/She Said She Said': 511, \"Eagles/You Don'T Love Me\": 512, 'Echo & The Bunnymen/Burning Army Men': 513, 'Editors/Freestyle(Dissin Foxy Brown)': 514, 'Editors/K-Hole': 515, 'Editors/Is There Anybody Here But Me?': 516, 'Editors/Auntie Jane': 517, 'Editors/In My Arms': 518, \"Editors/You Don'T Own Me\": 519, 'Editors/Jupiter Approach': 520, \"Editors/Alan'S Psychedelic Breakfast\": 521, 'Editors/Her Voice Is Beyond Her Years': 522, 'Editors/Bring It On': 523, 'Elliott Smith/Burn It Up': 524, 'Elliott Smith/A Thousand Lies': 525, 'Elliott Smith/Tribulations': 526, 'Elliott Smith/One More Night': 527, 'Elliott Smith/I Believe In A Thing Called Love': 528, 'Elliott Smith/Let Me Watch You Make Love': 529, 'Elliott Smith/Circular Structure': 530, 'Elliott Smith/M.Dupont': 531, 'Elliott Smith/Diving Station': 532, 'Elliott Smith/Therapy Car Noise': 533, 'Elliott Smith/Rainy Night In Georgia': 534, 'Elliott Smith/Rocket Calculator': 535, 'Elliott Smith/The End Of An Act': 536, 'Elliott Smith/Do You Love Someone': 537, 'Elliott Smith/Corpsefiend': 538, 'Elvis Presley/Remembrances': 539, 'Evanescence/Where Good Intentions Go To Die': 540, 'Evanescence/The Norfolk Broads': 541, 'Evanescence/On The Low': 542, 'Evanescence/Dancing Nights': 543, 'Explosions In The Sky/Chez Nous': 544, 'Explosions In The Sky/Es Ist So, Dass Du Fehlst': 545, 'Explosions In The Sky/Gipirales': 546, 'Explosions In The Sky/The Body Of An American': 547, 'Explosions In The Sky/Code': 548, 'Faith No More/Ever Fallen In Love': 549, 'Faithless/Let Your Good Heart Lead You Home': 550, 'Faithless/Depth Charge Ethel': 551, 'Fall Out Boy/The Red Bullet': 552, 'Fall Out Boy/Absolute Lithops Effect': 553, 'Fatboy Slim/Mortming': 554, 'Fatboy Slim/A&E': 555, 'Feist/Hey Joni': 556, 'Feist/Run On (2006 Digital Remaster)': 557, 'Feist/Down': 558, 'Feist/Waste Time': 559, 'Feist/Hands Around My Throat': 560, 'Feist/Shout It Out Loud': 561, 'Feist/To Daimonion, Part Iii': 562, 'Feist/Claustrophobic Sting': 563, 'Feist/Hetzjagd Auf Nazis! (Live In Berlin 25.2.1994)': 564, 'Feist/Semi Charmed Life (Live)': 565, 'Feist/Signposts To Bedposts': 566, 'Feist/Ooops ( Utsula Head Remix )': 567, 'Feist/Theme From Shaft': 568, 'Feist/Hannibal Rising (Unabridged)': 569, 'Feist/Cosmonaut': 570, 'Feist/Lagrimae': 571, 'Feist/Slide In': 572, 'Feist/This Thing Called Progress': 573, 'Feist/Ndw 2005': 574, 'Fiona Apple/Tainted Love': 575, \"Fiona Apple/La Valse D'Amélie\": 576, 'Fischerspooner/One On One': 577, 'Fleet Foxes/A To B': 578, 'Fleet Foxes/Ooh Girl': 579, 'Fleet Foxes/One Hit': 580, 'Fleet Foxes/On Tomorrow': 581, 'Fleet Foxes/Pardon Me': 582, 'Fleet Foxes/Moondance': 583, 'Foo Fighters/In Silence': 584, 'Foo Fighters/The Cosmic Game': 585, 'Foo Fighters/Roberta C. (Version)': 586, 'Foo Fighters/Childhood': 587, 'Foo Fighters/Skinflower': 588, 'Foo Fighters/Lili Danse': 589, 'Foo Fighters/Nether Novas': 590, 'Foo Fighters/Not Right': 591, 'Foo Fighters/The Beatles': 592, 'Foo Fighters/Demon Sanctuary': 593, 'Foo Fighters/Magical Mystery': 594, 'Foo Fighters/Running Into Time Feat. Don Cash': 595, \"Franz Ferdinand/Rockin' Robin\": 596, 'Franz Ferdinand/Variable Geometry': 597, 'Franz Ferdinand/Sarnos In Space': 598, 'Franz Ferdinand/Breakout': 599, \"Franz Ferdinand/La Valse D'Amélie (Version Orchestre)\": 600, 'Franz Ferdinand/Twisted Emotion': 601, 'Franz Ferdinand/Requiem For Ernst-Hugo (1928-1998)': 602, 'Franz Ferdinand/Are You Gonna Go My Way': 603, 'Franz Ferdinand/I Love Life': 604, 'Franz Ferdinand/Common Cold': 605, 'Franz Ferdinand/Tired Of You': 606, 'Franz Ferdinand/Transit': 607, \"Franz Ferdinand/Love, You'Re Makin' All The Fools\": 608, 'Franz Ferdinand/Acid Test': 609, 'Franz Ferdinand/Never And After': 610, \"Franz Ferdinand/She'S My Tracks\": 611, 'Franz Ferdinand/Nazi Mindreader': 612, 'Franz Ferdinand/Calendar Girl': 613, 'Franz Ferdinand/Empty Heart': 614, 'Franz Ferdinand/Rent': 615, 'Franz Ferdinand/Lesson': 616, 'Franz Ferdinand/The Mess': 617, 'Franz Ferdinand/Creatures Of Love': 618, 'Frou Frou/Supermassive Black Hole': 619, 'Frou Frou/Reckoning': 620, 'Frou Frou/38-Love On The Terraces-Serious Drinking': 621, 'Frou Frou/Search And Destroy': 622, 'Frou Frou/Pies Descalzos': 623, \"Garbage/Doin' Time\": 624, \"Garbage/Country Livin' (The World I Know)\": 625, 'Garbage/Gangster Ass Anthony': 626, 'Gary Jules/Friends And Lovers': 627, 'Gnarls Barkley/Sea Of Doubts': 628, 'Gnarls Barkley/Por Que No Follais': 629, 'Gnarls Barkley/Blindfold': 630, 'Goldfrapp/Estrangé (Vinyl D2)': 631, 'Goldfrapp/If It Makes You Happy (Live)': 632, 'Goldfrapp/Will You Fade': 633, 'Goldfrapp/The Lodger': 634, 'Goldfrapp/The Parasomniacs': 635, 'Goldfrapp/Goodbye': 636, 'Goldfrapp/Little Children': 637, 'Goldfrapp/The Gate': 638, \"Goldfrapp/It'S All In My Head\": 639, 'Goldfrapp/Koi O Shitanaka (Day After Day After)': 640, 'Goldfrapp/Honestly Ok': 641, 'Goldfrapp/Dynamite': 642, 'Goldfrapp/Girl With No Eyes': 643, 'Goldfrapp/Alive': 644, \"Goldfrapp/I Really Should'Ve Gone Out Last Night\": 645, 'Goldfrapp/Madman': 646, 'Goldfrapp/Weapon Of Choice': 647, 'Goldfrapp/Darkness Round The Sun (Full Mix)': 648, 'Gorillaz/Station To Station': 649, 'Gorillaz/Noone Appreciates The Sky': 650, 'Gorillaz/Here Comes Santa Claus (Right Down Santa Claus Lane)': 651, 'Gorillaz/Season 03 Episode 18': 652, 'Gorillaz/Everything Is Broken': 653, 'Gorillaz/Liquid Reflective (Kling Klang)': 654, \"Gorillaz/Maybe God'S Trying To Tell You\": 655, 'Gorillaz/Dittany (Rmx)': 656, 'Gorillaz/Strange Glue': 657, \"Gorillaz/I'M Waiting For The Man\": 658, 'Gorillaz/The First Taste': 659, 'Gorillaz/Over And Done': 660, 'Gorillaz/Never Enough': 661, 'Gorillaz/Dead Man Blues': 662, 'Gorillaz/Come Together': 663, 'Gorillaz/Presidential Wave': 664, 'Gorillaz/Bye Bye Love': 665, 'Gorillaz/Christian Smith & John Selway - Giant': 666, 'Gorillaz/Lips Of Ashes': 667, 'Gorillaz/Summary': 668, 'Gorillaz/Dead Moon Rising': 669, 'Green Day/Trying Your Luck': 670, 'Green Day/Doll-Dagga Buzz-Buzz Ziggety-Zag': 671, 'Green Day/Here It Comes': 672, 'Green Day/Afterbirth (Album Version)': 673, 'Green Day/Early In The Morning Rain': 674, 'Green Day/Let Me Get Inside': 675, 'Green Day/Liquefy': 676, \"Guns N' Roses/The Garden\": 677, \"Guns N' Roses/Marco Polo\": 678, \"Guns N' Roses/Join Me In Death\": 679, \"Guns N' Roses/O My Love\": 680, \"Guns N' Roses/Nite Eats Day\": 681, \"Guns N' Roses/Pitter Patter Goes My Heart\": 682, \"Guns N' Roses/Wind Cries Mary\": 683, \"Guns N' Roses/Landmark\": 684, \"Guns N' Roses/Be Young, Be Foolish, Be Happy\": 685, 'Gwen Stefani/I Go To Extremes': 686, 'Hard-Fi/Blankest Year': 687, 'Hoobastank/Reign (Way Out West Remix)': 688, 'Hot Chip/Too Many Too': 689, 'Hot Chip/Stermalm': 690, 'Hot Chip/Marzuraan': 691, 'Hot Chip/Evening Call': 692, 'Hot Hot Heat/Nisse-Polkka (Ville Tuomi)': 693, 'Hot Hot Heat/Aim High': 694, 'Iggy Pop/Stay Tuned': 695, 'Imogen Heap/Birds': 696, 'Imogen Heap/Blown Away': 697, \"Imogen Heap/Heaven'S Fire Gates\": 698, 'Imogen Heap/Speak Slow': 699, 'Imogen Heap/A Bright Handless Man': 700, 'Incubus/Night Train': 701, 'Interpol/Skip Divided (Modeselektor Remix)': 702, 'Interpol/Seasons In The Abyss': 703, 'Interpol/Laid To Rest': 704, \"Interpol/Everyone'S A Loser\": 705, 'Interpol/Adelaide': 706, 'Interpol/Goldberg Variations, Bwv 988: Xiv. Variatio 13 A 2 Clav.': 707, 'Interpol/The Boy Looked At Johnny': 708, 'Interpol/Cold Deceit': 709, 'Interpol/Fight Song (The)': 710, 'Interpol/Floating Cult': 711, 'Interpol/Stop Look And Listen': 712, 'Interpol/Why Do I Lie?': 713, 'Interpol/Galdersbesjungen': 714, 'Interpol/She Moves In Her Own Way': 715, 'Interpol/River Of Sorrow': 716, 'Interpol/C.D.Kinematografii': 717, 'Interpol/Jockpunk': 718, 'Interpol/Trans Europe Express': 719, 'Interpol/Let Go': 720, 'Interpol/Two Sisters': 721, 'Interpol/Get Well Soon': 722, 'Interpol/Winged/Wicked Things': 723, 'Interpol/Ghost Bitch': 724, 'Interpol/Aneurysm': 725, 'Interpol/Spark': 726, 'Interpol/Download': 727, 'Interpol/Original Babylon': 728, 'Interpol/Bizet - Carmen Suite No 2, Dance Boheme': 729, 'Interpol/From A Buried Heart': 730, 'Interpol/Bad Stone': 731, 'Iron & Wine/Pink Batman': 732, 'Iron & Wine/Propaganda': 733, 'Iron & Wine/Hauskat Hautajaiset': 734, 'Iron & Wine/I Need You Back': 735, 'Iron & Wine/Flowers And Football Tops': 736, 'Iron & Wine/Let The Madness Begin': 737, 'Jack Johnson/Sick Sick Sick': 738, 'Jack Johnson/Ride The Snake': 739, 'Jack Johnson/My Sound': 740, \"Jack Johnson/Won'T Get Fooled Again\": 741, 'Jack Johnson/Pow R. Toc H.': 742, 'Jack Johnson/Money For Nothing': 743, 'James Blunt/Behind The Wheel': 744, \"James Blunt/The Dreaming - 'Ere The World\": 745, \"Jamiroquai/Opportunity (Montag'S I Love Her Remix)\": 746, \"Jeff Buckley/Please Don'T Touch\": 747, 'Jeff Buckley/Shadowsphere (The Monologue-World And The Subconscious Symbols)': 748, 'Jeff Buckley/Rien': 749, 'Jeff Buckley/Grandmother With Aids': 750, 'Jeff Buckley/Our Peggy Ate Her': 751, \"Jeff Buckley/You'Re The Ocean\": 752, 'Jefferson Airplane/No Brakes': 753, 'Jefferson Airplane/Soft': 754, 'Jem/The Future': 755, 'Jet/Cherry Twist': 756, 'Jimi Hendrix/Latnemurtsni': 757, 'Jimi Hendrix/Stand 2004 (Dancing) Part 4': 758, 'Jimi Hendrix/It Says Here': 759, 'Jimi Hendrix/Diesel Power': 760, \"Jimi Hendrix/Feats Don'T Fail Me Now\": 761, 'Jimi Hendrix/Hotel': 762, 'Jimi Hendrix/Enough Is Enough': 763, 'Jimmy Eat World/Robot Soul': 764, 'John Lennon/Let Me See You': 765, 'Johnny Cash/To One In Paradise': 766, 'Johnny Cash/Dub In Ya Mind (Beach Club Mix)': 767, \"Johnny Cash/Can'T Take My Eyes Off Of You\": 768, 'Johnny Cash/Ruff Way': 769, 'Johnny Cash/The Gathering': 770, 'Johnny Cash/Come With Us': 771, 'Johnny Cash/Blasting Cap': 772, 'José González/Cœur De Loup': 773, 'José González/The Curse': 774, 'José González/Soma': 775, 'Joy Division/Let It Be': 776, 'Joy Division/Indeed I Love You': 777, 'Joy Division/Mystery': 778, 'Joy Division/Keep On Dubbing': 779, 'Joy Division/Fell On Black Days': 780, 'Joy Division/Analyse': 781, 'Joy Division/Ivy Ivy': 782, 'Joy Division/Disorder': 783, \"Joy Division/Lord I Don'T Even Know My Name\": 784, 'Joy Division/Chime Again': 785, 'Joy Division/Island In The Sun': 786, 'Joy Division/Intro': 787, 'Joy Division/Week-End': 788, 'Joy Division/Summer In The City': 789, 'Joy Division/Lightsabre Cocksucking Blues (Live)': 790, 'Joy Division/The Park': 791, \"Joy Division/Not That Big (Feat. Imogen Heap) (Metronomy'S Not That Remix)\": 792, 'Joy Division/Stygge Lille Trine': 793, 'Joy Division/Buena Vista Social Club': 794, 'Joy Division/Вы Все Лишены Своей Жизни': 795, 'Joy Division/Gimme That': 796, 'Joy Division/The Thrill Is Gone': 797, 'Joy Division/She Bangs The Drums': 798, 'Joy Division/Augustus': 799, 'Joy Division/Altar Boy': 800, 'Joy Division/And/Or Techno Animal (Remix)': 801, 'Junior Senior/Sun Goes Down': 802, 'Justice/Del Cerro Park': 803, 'Justice/E.U.R.O.': 804, 'Justice/Bridge 05': 805, 'Justice/Shadowplay': 806, 'Justice/A Man Needs A Maid': 807, 'Justice/In A Cave': 808, 'Justice/Renegades Of Funk': 809, 'Justice/House Is A Feeling (Main Mix Instrumental)': 810, 'Justin Timberlake/Alien Nation': 811, 'Kaiser Chiefs/Floating In Love Tonite! (Extended Club Mix)': 812, 'Kaiser Chiefs/Switzerland (Edinburgh, Waterloo Bar 1984-12-19)': 813, 'Kaiser Chiefs/Tight Rope': 814, 'Kaiser Chiefs/The Diner/The Slant (Live)': 815, \"Kaiser Chiefs/Crossing On The Green Shadow'S Land\": 816, 'Kaiser Chiefs/Somebody To Love': 817, 'Kaiser Chiefs/Sit Down By The Fire': 818, 'Kaiser Chiefs/Glory Box (Mudflap Mix)': 819, 'Kaiser Chiefs/Here To Go': 820, 'Kaiser Chiefs/Indole Ring': 821, 'Kaiser Chiefs/My Love': 822, 'Kaiser Chiefs/The Boy With The Thorn In His Side': 823, 'Kanye West/S.F.W.': 824, 'Kanye West/Native Tongue': 825, 'Kasabian/The Funhouse': 826, 'Kasabian/Blind': 827, 'Kasabian/Africa': 828, 'Kasabian/Yume No Shima': 829, 'Kasabian/Parallel Lines': 830, 'Kasabian/Gateways Of Bereavement': 831, 'Kasabian/No Aire (Feat. Vast Aire)': 832, 'Kasabian/Fever 99': 833, 'Kasabian/In A Hole': 834, 'Kasabian/What Am I Doing Waisting My Time With You?': 835, 'Katy Perry/Deserve': 836, 'Keane/If You Know What I Know': 837, 'Keane/All The Wine': 838, 'Keane/The Things': 839, \"Keane/I'Ll Be There (Europa Xl Vocal Mix)\": 840, 'Keane/Rain Down On Me': 841, 'Keane/Motion Picture Soundtrack': 842, \"Keane/If There'S No Hope For Us (Rogue Version)\": 843, 'Keane/Teardrop': 844, 'Kimya Dawson/Poker Face (Jody Den Broeder Remix)': 845, 'Kings Of Convenience/Chcę Tego': 846, 'Kings Of Convenience/Aerial Tal': 847, 'Kings Of Convenience/Loving Pauper': 848, 'Kings Of Convenience/The District Sleeps Alone Tonight (Dj Downfall Persistent Beat Mix)': 849, 'Kings Of Convenience/Kashmir': 850, 'Kings Of Convenience/Charade': 851, 'Kings Of Convenience/Lead Injection': 852, 'Kings Of Convenience/The Derby': 853, 'Kings Of Convenience/Amie': 854, 'Kings Of Convenience/Ketchup Sandwich': 855, 'Kings Of Leon/Scenic World': 856, 'Kings Of Leon/Zero': 857, \"Kings Of Leon/I'M Dead\": 858, 'Kings Of Leon/Axe Of Men': 859, 'Kings Of Leon/The Distance Between Us': 860, 'Kings Of Leon/The Hours': 861, 'Kings Of Leon/Brother Of The Mayor Of Bridgewater': 862, 'Kings Of Leon/Lachlom': 863, 'Kings Of Leon/Ladies Of Spain': 864, 'Kings Of Leon/You Can Have It All': 865, \"Kings Of Leon/King'S Weed\": 866, 'Kings Of Leon/Dance Tonight': 867, 'Kings Of Leon/300 M.P.H. Torrential Outpour Blues': 868, 'Kings Of Leon/Dagger': 869, 'Kings Of Leon/Poison Street': 870, 'Kings Of Leon/Ilando Gima Onge': 871, 'Klaxons/Destination Anywhere': 872, 'Klaxons/Php Abstract Podcast Episode 6: Swiftmailer': 873, 'Klaxons/Terrible Angels': 874, 'Klaxons/Chase Me Off/Out': 875, 'Klaxons/Hell Above Water': 876, \"Klaxons/L'Via L'Viaquez\": 877, 'Klaxons/Bruises': 878, 'Klaxons/Skinlike (Equation Mix)': 879, 'Klaxons/Fire': 880, 'Kosheen/Middle Of Nowhere': 881, 'Kt Tunstall/La Breeze (Brian Eno Mix)': 882, 'Lady Gaga/Never Gone': 883, 'Ladytron/Unisphere': 884, 'Ladytron/Sentence': 885, 'Ladytron/London Leatherboys': 886, 'Ladytron/Cris Chana': 887, 'Ladytron/Slavedriver': 888, 'Ladytron/Absolute Zero Drive': 889, 'Ladytron/Peer Police': 890, 'Ladytron/All This Will Pass': 891, 'Lamb/Intro(Armayiee)': 892, \"Lamb/I'M On Fire (Bruce Springsteen Cover)\": 893, 'Late Of The Pier/Humans': 894, 'Lcd Soundsystem/Birds': 895, 'Lcd Soundsystem/Faster Disco': 896, 'Lcd Soundsystem/Bone Bag': 897, 'Lcd Soundsystem/Angola': 898, 'Lcd Soundsystem/Oh! Darling': 899, 'Lcd Soundsystem/The Bends': 900, 'Lcd Soundsystem/Complicated Situation': 901, 'Led Zeppelin/Bongo Bong': 902, 'Led Zeppelin/Cuore': 903, 'Led Zeppelin/Rotting Away Is Better Than Being Gay': 904, 'Led Zeppelin/Another Breakfast With You': 905, 'Led Zeppelin/Pinch Roller': 906, 'Led Zeppelin/Screenager': 907, 'Led Zeppelin/Cenere': 908, 'Led Zeppelin/Thunder On The Mountain': 909, 'Led Zeppelin/Travel Is Dangerous': 910, 'Led Zeppelin Jam/Theme Song': 911, \"Led Zeppelin Jam/This Isn'T Maybe (Radio Edit)\": 912, 'Lez Zeppelin/What People Are Made Of': 913, 'Lez Zeppelin/Plane To Spain': 914, \"Lez Zeppelin/Don'T You Know\": 915, 'Lez Zeppelin/You And I (Nathalie)': 916, 'Lez Zeppelin/Ruff In The Jungle Bizness': 917, 'Lily Allen/Absent Friends: Absent Friends / Ivory Lady': 918, 'Lily Allen/Tidal Wave': 919, 'Lily Allen/Sometimes I Feel It': 920, 'Lily Allen/Something': 921, 'Lily Allen/Sculpting The Throne Ov Seth': 922, 'Lily Allen/Half Day Closing': 923, 'Lily Allen/I Write Sins Not Tragedies': 924, 'Lily Allen/Ice Queen': 925, 'Limp Bizkit/A Chico A Rhytmico': 926, 'Linkin Park/Resist The Transistor': 927, \"Linkin Park/Don'T Fall\": 928, 'Linkin Park/End Of May': 929, 'Lou Reed/Bebe, Arrota E Peida': 930, 'Lou Reed/The Pot': 931, \"Ludwig Van Beethoven/Arjen'S Bag\": 932, 'Lynyrd Skynyrd/Shh': 933, \"M.I.A./We Share Our Mother'S Health (Trentemoller Mix)\": 934, 'M.I.A./How We Know': 935, 'M.I.A./The Waiter': 936, 'M.I.A./Interviews With The Band': 937, 'M.I.A./Breathless': 938, 'M.I.A./Winds Of Destiny (Instrumental)': 939, 'M83/18 We Are Depravated People': 940, \"M83/The Sun Doesn'T Want To Shine\": 941, 'Madonna/Juan Loco': 942, 'Madonna/Lullaby': 943, 'Marilyn Manson/To Have Or To Be': 944, 'Marilyn Manson/Twist Y Gritos': 945, 'Maroon 5/Amputations': 946, \"Maroon 5/U Can'T Touch This\": 947, 'Massive Attack/Fake French': 948, \"Massive Attack/I'M Happy Your Grave Is Next To Mine\": 949, 'Massive Attack/Korea': 950, 'Massive Attack/Shankill Butchers': 951, \"Massive Attack/It'S Cool, We Can Still Be Friends\": 952, 'Massive Attack/Suliram': 953, 'Massive Attack/Metaphor And Metonymy I [5]': 954, 'Massive Attack/Spiralling': 955, 'Massive Attack/Rid Of Me': 956, 'Massive Attack/Drug War': 957, 'Massive Attack/Affetmem Asla Seni': 958, 'Massive Attack/How To Be So Real': 959, 'Massive Attack/Flower': 960, \"Massive Attack/Let'S Dance\": 961, 'Massive Attack/Show Me Forgiveness': 962, \"Massive Attack/Don'T Let Go The Coat\": 963, 'Massive Attack/Spellbound Concerto': 964, 'Massive Attack/The World Is Not Enough': 965, 'Massive Attack/Keeper Of The Seven Keys (Remix)': 966, 'Massive Attack/The Humpty Dance': 967, 'Massive Attack/No Holding Back (Feat. Az & Cormega)': 968, 'Maxïmo Park/Return To Nod': 969, 'Maxïmo Park/As I Die': 970, 'Maxïmo Park/In My Soul (Feat. Laura Vane)': 971, 'Maxïmo Park/Screecher': 972, 'Mazzy Star/Le Monster': 973, 'Metallica/Come On Home': 974, 'Metallica/Scratch Bass': 975, 'Metallica/The Guns Of Brixton': 976, 'Metallica/Over And Over Again (Lost And Found)': 977, 'Metallica/Firestarter': 978, 'Metallica/Mark Ronson In Studio': 979, 'Metallica/Life Is A Flower (Absolom Remix)': 980, \"Metallica/If You'Re Not With Us You Are Against Us\": 981, 'Metric/Dead End Street': 982, 'Metric/Camptown Races (Take 1)': 983, 'Metric/Bellevue Ave': 984, 'Metric/I Get Excited': 985, 'Metric/Hello, I Love You': 986, 'Metric/Johnny Johnny': 987, \"Mgmt/Papa Was A Rollin' Stone\": 988, 'Mgmt/Yattsuke Shigoto': 989, \"Mgmt/Promises (Beyond The Wizard'S Sleeve Reanimation)\": 990, 'Mgmt/Pictures Of Matchstick Men': 991, 'Mgmt/Over Your Shoulder': 992, 'Mgmt/537 Cuba': 993, 'Mgmt/Blind': 994, 'Mgmt/Stone Dead Forever': 995, 'Mgmt/Becoming More Like Alfie': 996, 'Mgmt/Down Under': 997, \"Michael Jackson/Expect The Worst/'Cos She'S A Tourist\": 998, 'Michael Jackson/Truth And Rights': 999, \"Michael Jackson/We Don'T Play Guitars\": 1000, 'Michael Jackson/February': 1001, \"Mika/Anyone Who'S Anyone\": 1002, 'Mika/Kill The Mosquito': 1003, 'Miles Davis/Limp': 1004, 'Moby/1,000 Miles Away': 1005, 'Moby/Fall Winter 2008-2009': 1006, 'Moby/Hail, Hail': 1007, 'Moby/Il Cattivo (Original Mix)': 1008, 'Moby/Pretty Things': 1009, 'Moby/In Your Back': 1010, 'Moby/Bang Bang Rock & Roll': 1011, \"Moby/Don'T Get Me Wrong\": 1012, 'Moby/Trippy Green Skull': 1013, 'Moby/Cemetery Gates': 1014, \"Moby/I'Ll Try Something New\": 1015, 'Modest Mouse/Tobacco Road': 1016, 'Modest Mouse/Scratchrock': 1017, 'Modest Mouse/Child Of Dust': 1018, 'Modest Mouse/Spring Cleaning': 1019, 'Modest Mouse/1St First Then Reverse': 1020, \"Modest Mouse/Livin' For The City\": 1021, 'Modest Mouse/Wishing On A Star': 1022, 'Modest Mouse/Spoonman': 1023, \"Modest Mouse/Don'T Be Afraid\": 1024, 'Modest Mouse/Inside-Looking Out': 1025, 'Modest Mouse/Last Chance For A Slow Dance': 1026, 'Modest Mouse/Black Mountain': 1027, 'Modest Mouse/Keep On Rockin It': 1028, 'Modest Mouse/If You Wanted': 1029, 'Modest Mouse/Voices Of The Night': 1030, 'Modest Mouse/Running With Scissors': 1031, \"Modest Mouse/Don'T Cry For Me Argentina (Instrumental)\": 1032, \"Modest Mouse/They'Ve Come For Me (Nightmares Pt. 2)\": 1033, 'Modest Mouse/Lilac Wine': 1034, 'Modest Mouse/Temptation': 1035, 'Modest Mouse/Volver A Disfrutar': 1036, 'Modest Mouse/No Special Bed': 1037, 'Modest Mouse/And Keep Smiling': 1038, 'Modest Mouse/My World': 1039, 'Modest Mouse/Crazy For You': 1040, 'Modest Mouse/Find Comfort In Yourself': 1041, 'Modest Mouse/Mazecity': 1042, 'Modest Mouse/Pardon Me Girl': 1043, 'Mogwai/Waves': 1044, 'Mogwai/Southern Belle': 1045, 'Mogwai/Act Iii: Carnal Delight In The Vortex Of Evil': 1046, 'Mogwai/Rockstar': 1047, 'Mogwai/All The Lazy Dykes': 1048, 'Mogwai/Love Will Tear Us Apart': 1049, 'Mogwai/Your Protector': 1050, 'Moloko/Thalhiem': 1051, 'Morrissey/Death Valley Clapperboard': 1052, 'Morrissey/She Can Get It (Skit)': 1053, 'Morrissey/Retrato': 1054, 'Mott The Hoople/Babylon Is Fallen': 1055, 'Motörhead/Angels': 1056, \"Muse/Bunny Ain'T No Kind Of Rider\": 1057, 'Muse/The Charm Offensive': 1058, 'Muse/Miss Clare Remembers': 1059, 'Muse/Radio Valkrieone': 1060, 'Muse/Covers': 1061, 'Muse/The Ropes': 1062, 'Muse/Declaration Of Independence': 1063, 'Muse/Half Moon': 1064, 'Muse/Good Ways': 1065, 'Muse/Nafha': 1066, 'Muse/Cry Osaka Cry': 1067, 'Muse/Shrine Of Life': 1068, 'Muse/Looped': 1069, 'Muse/Banking On A Myth': 1070, 'Muse/Slur': 1071, 'Muse/Le Tigre-Dude Yr So Crazy': 1072, 'Muse/Schubert : Gretchens Bitte D564': 1073, 'Muse/Lemon Incest': 1074, 'Muse/Treefingers': 1075, 'Muse/Horses In My Dreams': 1076, 'Muse/Subside': 1077, 'Muse/Jak Zioła': 1078, 'Muse/Chameleon': 1079, 'Muse/Above And Below': 1080, 'Muse/This Is Love': 1081, 'Muse/Céu Distante': 1082, 'Muse/Anywhere': 1083, 'Muse/Track 1': 1084, 'Muse/Rise And Fall': 1085, 'Muse/On A Roll Man': 1086, 'Muse/Disconnect': 1087, 'Muse/In Memoriam': 1088, 'Muse/Boa Constrictor': 1089, 'Muse/The 3Rd Time We Opened The Capsule': 1090, 'Muse/Blue, Blue, Blue Beat': 1091, 'Muse/My Big Nurse': 1092, 'Muse/Krakkatowiak (Excerpt)': 1093, 'Muse/Future Farmers Of America': 1094, 'Muse/Sideways, Here We Come': 1095, 'Muse/Memphis': 1096, 'Muse/Grace': 1097, \"Muse/Thursday'S Child\": 1098, 'My Bloody Valentine/Plays John Cassavettes Pt. 2: Ekkehard Ehlers': 1099, 'My Bloody Valentine/Dark Was The Night -- Cold Was The Ground': 1100, 'My Bloody Valentine/Under The Influence Of Love': 1101, 'My Bloody Valentine/Nude': 1102, 'My Bloody Valentine/Tenth Dimension': 1103, 'My Bloody Valentine/Poison Cup': 1104, 'My Bloody Valentine/Green Onions': 1105, \"My Bloody Valentine/You'Re Welcome\": 1106, \"My Bloody Valentine/Walton'S Bluff\": 1107, 'My Chemical Romance/Love Time': 1108, 'Mylo/Voice Of The Voiceless': 1109, 'Mylo/Side Of The Road': 1110, 'Natalie Imbruglia/Ian Curtis & Stephen Morris Interviewed By Richard Skinner': 1111, 'Neil Young/Talk': 1112, 'Neil Young/Rocket Man': 1113, \"Nelly Furtado/Don'T Stop The Rock - Freestyle\": 1114, 'Nelly Furtado/Le Temps Du Deuil': 1115, 'Nelly Furtado/Timeless': 1116, \"Neutral Milk Hotel/Twisted Transistor (Kupper'S Elektro-Tek Radio Edit)\": 1117, 'Neutral Milk Hotel/The Hideaway': 1118, 'Neutral Milk Hotel/Plume': 1119, 'Neutral Milk Hotel/Dead Souls': 1120, 'Neutral Milk Hotel/Securitron (Police State 2000)': 1121, 'Neutral Milk Hotel/Clockwork': 1122, 'Neutral Milk Hotel/Alice (No Pais Da Malandragem)': 1123, 'New Order/Everyday': 1124, 'New Order/Herd Killing': 1125, 'New Order/The Living Dead': 1126, 'New Order/Love My Way': 1127, 'New Order/Llévame': 1128, 'Nick Cave & The Bad Seeds/Teagen': 1129, 'Nick Drake/Come Rain Or Come Shine': 1130, 'Nick Drake/Annihilation Of The Wicked': 1131, 'Nick Drake/Undeniable Hate': 1132, 'Nick Drake/Never Felt Before': 1133, 'Nick Drake/The Heart Of Rock & Roll': 1134, 'Nick Drake/Bike Scene': 1135, 'Nick Drake/This Sacrament': 1136, 'Nick Drake/Save The Youth (Kenny Dope Edit)': 1137, 'Nickelback/Milkshake (Dancehall Remix)': 1138, 'Nine Inch Nails/Tonight, I Am Going To Wash The Hippy': 1139, 'Nine Inch Nails/Let There Be Rock (Demo, 1998)': 1140, 'Nine Inch Nails/Unicorn': 1141, 'Nine Inch Nails/Stars': 1142, 'Nine Inch Nails/The Dark Of The Matinée': 1143, 'Nine Inch Nails/The Funny Bird': 1144, 'Nine Inch Nails/Heavyweight': 1145, 'Nine Inch Nails/Make Love': 1146, 'Nine Inch Nails/Arm Your Soul': 1147, 'Nine Inch Nails/Tempus Horizon': 1148, 'Nine Inch Nails/All I Need': 1149, 'Nine Inch Nails/Bed Sheet': 1150, 'Nine Inch Nails/Animals': 1151, 'Nine Inch Nails/Over': 1152, \"Nine Inch Nails/What I'Ve Done\": 1153, 'Nine Inch Nails/The Len Ganley Stance': 1154, 'Nine Inch Nails/The Eraser': 1155, 'Nirvana/Who I Am': 1156, 'Nirvana/U Got 2 Know': 1157, 'Nirvana/Disfigured Beyond Recognition': 1158, 'Nirvana/Bad Beat': 1159, 'Nirvana/Incomplete': 1160, 'Nirvana/Reaching Out For You': 1161, 'Nirvana/Highway Star': 1162, 'Nirvana/Pretty Green (Feat. Santogold)': 1163, 'Nirvana/More Adventurous': 1164, 'Nirvana/Miss Murder (Vnv Nation Remix)': 1165, 'Nirvana/Still': 1166, 'Nirvana/Here Come The Fleas': 1167, 'Nirvana/Everybody Knows You Cried Last Night': 1168, 'Nirvana/Hamburger Train': 1169, 'Nirvana/Brine': 1170, 'Nirvana/Stéphane Visite Appart': 1171, 'Nirvana/Claire De Lune': 1172, 'Nirvana/On The Run [Radio Edit Original]': 1173, 'Nirvana/Terrhetoric': 1174, 'Nirvana/Groovy Dub': 1175, 'Nirvana/The Wrong Side Of The World': 1176, 'Nirvana/Myxomatosis. (Judge, Jury & Executioner.)': 1177, 'Nirvana/Stork & Owl': 1178, 'Nirvana/La Breeze (Simian Mobile Disco Remix)': 1179, 'Nirvana/What A Lovely Dance': 1180, 'Nirvana/Your Hand In Mine': 1181, \"Nirvana/I'D Love You Baby\": 1182, 'No Doubt/The Country Life': 1183, 'No Doubt/Bedroom Toys': 1184, 'Norah Jones/African Beat': 1185, 'Norah Jones/A Track And A Train': 1186, 'Norah Jones/Love Is No Big Truth': 1187, 'Nouvelle Vague/Chain Reaction': 1188, 'Nouvelle Vague/Genom Screams -Special Thanxx Rmx-': 1189, 'Nouvelle Vague/Q-Chord': 1190, 'Nouvelle Vague/Feels Like Sex': 1191, \"Oasis/You'Re A Woman, I'M A Machine\": 1192, 'Oasis/All Night Long': 1193, 'Oasis/Autopilot': 1194, 'Oasis/Lawless': 1195, 'Oasis/Love Is Blind': 1196, 'Oasis/My Fave Ex-Wife': 1197, 'Oasis/Dirty Frank': 1198, 'Oasis/Fantasy': 1199, \"Oasis/Desert Dancer (Zeb'S Slow Camel Ride Remix)\": 1200, 'Oasis/North To Alaska': 1201, \"Oasis/Lyin' Eyes\": 1202, 'Oasis/Singaround I Yorkshire': 1203, 'Oasis/Sidewalk Serfer Girl': 1204, 'Oasis/Hard Rock Hallelujah [Full Album Version]': 1205, 'Oasis/Place In The Country': 1206, 'Oasis/Breakdown (Mono 45 Version)': 1207, 'Oasis/Indefinitely': 1208, 'Oasis/But, Honestly': 1209, \"Of Montreal/Girls' School\": 1210, 'Of Montreal/Phoenix': 1211, 'Ok Go/Woods': 1212, 'Outkast/Murhamiesi': 1213, 'Panic At The Disco/Hanging Out & Hung Up On The Line': 1214, 'Panic At The Disco/House Where We All Live': 1215, 'Panic At The Disco/Howling (Tv Size Version)': 1216, 'Panic At The Disco/Thumbelina': 1217, 'Panic At The Disco/Bonus Track': 1218, 'Pavement/Kometenmelodie 2': 1219, 'Pearl Jam/08  Midnight Snack': 1220, 'Pearl Jam/Rebellion (Lies)': 1221, 'Pearl Jam/Minions': 1222, 'Pearl Jam/Got To Get You Out Of My Head (Live)': 1223, 'Pearl Jam/The Cage': 1224, 'Peter Bjorn And John/Mr. Brightside': 1225, \"Phantom Planet/Baby, I'M Yours\": 1226, 'Pink Floyd/Run From Home': 1227, \"Pink Floyd/Cupid'S Trick\": 1228, 'Pink Floyd/Someday My Prince Will Come': 1229, 'Pink Floyd/Room 5': 1230, 'Pink Floyd/Baby': 1231, 'Pink Floyd/Lonely Hearts Still Beat The Same': 1232, 'Pink Floyd/Galang': 1233, 'Pink Floyd/English House': 1234, 'Pink Floyd/One Step Behind': 1235, 'Pink Floyd/Like The Rest Of Us': 1236, 'Pink Floyd/Disenchanted': 1237, 'Pink Floyd/Where Did You Sleep Last Night? (Live)': 1238, 'Pink Floyd/Feel Good Inc.': 1239, 'Pink Floyd/Fight Test': 1240, 'Pink Floyd/Heart Of Soul': 1241, 'Pink Floyd/Chasing The Sun': 1242, 'Pink Floyd/Summer Love': 1243, 'Pink Floyd/Further': 1244, 'Pink Floyd/A Lung': 1245, 'Pink Floyd/Different Worlds': 1246, 'Pink Floyd/Gentle Storm': 1247, \"Pink Floyd/Saturday'S Gone\": 1248, 'Pink Floyd/Feelgood By Numbers': 1249, 'Pink Floyd/Over And Over': 1250, 'Pink Floyd/The Other Side Of Summer': 1251, 'Pink Floyd/Airwaves Backwards': 1252, 'Pink Floyd/Reel Life (Evolution Ii)': 1253, 'Pink Floyd/Slip Into Something More Comfortable': 1254, 'Pink Floyd/爱的代价': 1255, 'Pixies/Silver Wheels': 1256, 'Pixies/Lilly Gilders': 1257, 'Pixies/All The Way': 1258, 'Pixies/It Could Be Sweet': 1259, 'Pixies/Avalon': 1260, 'Pixies/Stork & Owl': 1261, 'Pixies/Questions': 1262, 'Pixies/In My Memory': 1263, 'Pixies/Her Ghost In The Fog': 1264, 'Pixies/Mr. Knowitall': 1265, 'Pixies/Moscow Olympics': 1266, \"Pixies/Toejam And Earl 'Jamesbrowninspace' Oc Remix\": 1267, 'Pixies/Radios In Heaven': 1268, 'Pixies/43C': 1269, 'Pixies/Texture': 1270, \"Pixies/I Know There'S An Answer\": 1271, 'Pixies/Baby Be Mine': 1272, 'Pixies/Suite In D Minor: Prlude': 1273, 'Pixies/Cruz De Navajas': 1274, 'Pixies/Одна Любовь (Gay&Lesbian Version)': 1275, 'Pixies/Nightclubbing': 1276, 'Pixies/Twilight Of The Flies': 1277, \"Pixies/What'S This?\": 1278, 'Pj Harvey/Asilos Magdalena': 1279, 'Pj Harvey/40 Ft': 1280, 'Pj Harvey/Paper Planes': 1281, 'Pj Harvey/Little Black Sandals': 1282, \"Placebo/Prayin' For A Party (Lp Version)\": 1283, 'Placebo/Let The Drummer Kick': 1284, 'Placebo/I Love 1991': 1285, 'Placebo/Why Should I Love You': 1286, 'Placebo/The Jester Race': 1287, 'Placebo/Kill Caustic': 1288, 'Placebo/Spike The Senses': 1289, 'Placebo/Rape Me (Nirvana)': 1290, 'Placebo/Time Bomb (Ramones Cover)': 1291, 'Placebo/Us Mill': 1292, 'Placebo/Joy Ride': 1293, 'Placebo/Karaoke Plays': 1294, 'Placebo/Top Expert': 1295, 'Placebo/Legacy Of Kings': 1296, \"Placebo/The World'S Greatest\": 1297, 'Placebo/Big Indian': 1298, 'Placebo/Aftermath': 1299, 'Placebo/I Summon You': 1300, 'Placebo/Uraqt': 1301, 'Placebo/Bloody Mix By C-Drik': 1302, 'Placebo/Thierry Robin': 1303, 'Placebo/Under Pressure (Feat. Michael Gira)': 1304, 'Placebo/Kyuushutsu Seikou': 1305, 'Placebo/G.M.F.': 1306, 'Placebo/Let It Down': 1307, 'Placebo/Move On Up': 1308, 'Placebo/Seasonspeech': 1309, 'Placebo/My Old Faded Rose': 1310, 'Placebo/Four Ton Mantis': 1311, 'Placebo/Woe': 1312, 'Placebo/Us And Them': 1313, \"Plain White T'S/Dreams And Aspirations (Ft. Stoney Rock, Adad And Kp)\": 1314, 'Portishead/Little Sister': 1315, 'Portishead/Nanook Rubs It': 1316, \"Portishead/Yesterday'S Tomorrow\": 1317, 'Portishead/The Jackals - Things Change': 1318, 'Portishead/Stay Another Day': 1319, 'Portishead/I Wanna Be A Homosexual': 1320, 'Portishead/Pyromane': 1321, 'Portishead/We Stood Transfixed In Blank Devotion As Our Leader Spoke To Us, Looking Down On Our Mute Faces With A Great, Raging, And Unseeing Eye.': 1322, 'Portishead/Stepping Stone': 1323, 'Portishead/She Cracked (Live)': 1324, 'Portishead/Our House (Stretch Mix)': 1325, 'Portishead/The Moment Of Our Love': 1326, 'Portishead/[Silence]': 1327, \"Portishead/I Can'T Make Music\": 1328, 'Portishead/Straight To Video (The Birthday Massacre Dramaclub Mix)': 1329, 'Portishead/Part Of Me (Part Ii)': 1330, 'Portishead/Omega Blaster': 1331, 'Portishead/The House Song': 1332, 'Portishead/Honeymoon In San Francisco': 1333, 'Portishead/The Rhythm Of The Night': 1334, 'Portishead/When The War Came': 1335, 'Portishead/Mister Ant': 1336, 'Portishead/Dark Temper': 1337, 'Portishead/Clouds Across The Moon': 1338, 'Portishead/Bad Diary Days': 1339, 'Portishead/The Last Page': 1340, 'Prince/Sensation No. 5': 1341, 'Public Enemy/So Damn Clever': 1342, 'Pulp/Someone Like The Moon': 1343, 'Pulp/Fly Around My Pretty Little Miss': 1344, \"Pulp/Gypsy'S Curse\": 1345, 'Queen/Non-Pythagorean Composition 3': 1346, 'Queen/Mobira': 1347, 'Queen/One Of My Turns': 1348, 'Queen/Be A Sinner': 1349, 'Queen/All I Want': 1350, 'Queen/Can You Find Me Love': 1351, 'Queen/The Strigger': 1352, 'Queen/Hoops': 1353, 'Queen/Circus': 1354, 'Queen/The Vagabond': 1355, 'Queen/20Th Century Boy': 1356, 'Queen/Miss Teardrop': 1357, 'Queen/Your Mind Belongs To The State': 1358, \"Queen/I'M In The Mood\": 1359, 'Queen/Apply Some Pressure': 1360, 'Queen/Who Do You Think': 1361, 'Queen/Summertime': 1362, 'Queens Of The Stone Age/Kind Of Girl': 1363, 'Queens Of The Stone Age/Still Here (Feat. Eska)': 1364, 'Queens Of The Stone Age/House Of Cards': 1365, 'Queens Of The Stone Age/La Chambre': 1366, 'Queens Of The Stone Age/Sleeping With Ghosts': 1367, 'Queens Of The Stone Age/What Good This Deafness': 1368, \"Queens Of The Stone Age/Hangin' Around\": 1369, 'Queens Of The Stone Age/The Things I Tell You': 1370, 'Queens Of The Stone Age/Fair To You': 1371, 'Queens Of The Stone Age/Sharkhammer': 1372, 'Queens Of The Stone Age/The Lyre Of Orpheus': 1373, 'Queens Of The Stone Age/Strange Times': 1374, 'Queens Of The Stone Age/Kiss Of Life': 1375, 'R.E.M./The Child Beneath': 1376, 'R.E.M./Louise': 1377, 'R.E.M./On Any Other Day': 1378, \"R.E.M./I Just Don'T Know What To Do With Myself\": 1379, \"Radiohead/I Wasn'T Kidding (Freemasons Remix)\": 1380, 'Radiohead/Rilkean Heart': 1381, 'Radiohead/Was It You?': 1382, 'Radiohead/How Long Will They Mourn Me? (Feat. Nate Dogg)': 1383, 'Radiohead/Your Funk Is Fine': 1384, \"Radiohead/I'M Waiting For The Day\": 1385, 'Radiohead/Moonlight Drive': 1386, 'Radiohead/Heat It Up': 1387, 'Radiohead/Slaves Shall Serve': 1388, 'Radiohead/Flat (Dimbiman Feat. Cabanne Remix)': 1389, 'Radiohead/Pieces Mended': 1390, 'Radiohead/Little Girl Blue': 1391, 'Radiohead/You Will Never Change': 1392, 'Radiohead/36': 1393, 'Radiohead/One More Time': 1394, 'Radiohead/Cars Hiss By My Window': 1395, 'Radiohead/Journey Through Sankuan Pass': 1396, 'Radiohead/Chinese Radiation': 1397, 'Radiohead/Violin Concerto In G Major, Op. 11 No. 4: Ii. Largo Cantabile': 1398, 'Radiohead/Piece Of Me (Bimbo Jones Radio Edit)': 1399, \"Radiohead/Space Is The Place (Feat. Sun Ra'S Arkestra)\": 1400, 'Radiohead/Cryptomnesia': 1401, 'Radiohead/Love Me To The End': 1402, 'Radiohead/Thoughts Behind The Scene': 1403, \"Radiohead/I'Ve Got A Life\": 1404, 'Radiohead/Bemused, Confused And Bedraggled': 1405, 'Radiohead/Raindrops Keep Falling On My Head': 1406, 'Radiohead/La Camisa Negra': 1407, 'Radiohead/Phantom, Part Ii': 1408, 'Radiohead/Bullets': 1409, 'Radiohead/She Went Out For Cigarettes': 1410, 'Radiohead/Overture To Egmont': 1411, 'Radiohead/A Church Is Burning (Alternative Version)': 1412, 'Radiohead/Dare': 1413, 'Radiohead/Season Of False Starts': 1414, 'Radiohead/The Bomb': 1415, 'Radiohead/Dreams': 1416, 'Radiohead/Digital Love': 1417, 'Radiohead/The Prize': 1418, 'Radiohead/Station Blue': 1419, 'Radiohead/Box Set': 1420, 'Radiohead/Reflection': 1421, 'Radiohead/Make It Right': 1422, 'Radiohead/La Noyée': 1423, 'Radiohead/Long Long Way (韻シストMix)': 1424, 'Radiohead/Musik Non Stop': 1425, 'Radiohead/43% Burnt': 1426, 'Radiohead/Drown': 1427, 'Radiohead/Adventure Playground': 1428, 'Radiohead/Bang': 1429, 'Radiohead/The War Song': 1430, 'Radiohead/Gecenin Karanlığında': 1431, 'Radiohead/Strange Fruit': 1432, 'Radiohead/Tangerine Man': 1433, 'Radiohead/Against Me! - In The Name Of What': 1434, 'Radiohead/A Lack Of Color': 1435, 'Radiohead/Naima': 1436, 'Radiohead/Werewolves': 1437, 'Radiohead/Gone To The Movies': 1438, 'Radiohead/Speak For Me': 1439, 'Radiohead/Girlfriend': 1440, 'Radiohead/Over My Head (Cable Car)': 1441, \"Radiohead/Ladies' Choice\": 1442, 'Radiohead/Sow Into You': 1443, 'Radiohead/Wild Thing': 1444, 'Radiohead/In The Jungle': 1445, 'Radiohead/Little Secrets / Power Of The Sun': 1446, 'Radiohead/Fallen': 1447, 'Radiohead/Men 2Nd': 1448, 'Radiohead/Night Alone': 1449, \"Radiohead/It'S Alright\": 1450, 'Radiohead/Nevermore': 1451, 'Radiohead/Crystal Cavern': 1452, 'Radiohead/Do It To Me': 1453, 'Radiohead/Galaxy Bounce': 1454, 'Radiohead/She Lives Alone': 1455, 'Rage Against The Machine/South 2Nd': 1456, 'Rage Against The Machine/Drinking': 1457, 'Rage Against The Machine/Between Angels And Insects': 1458, 'Rage Against The Machine/Jamaica': 1459, 'Rage Against The Machine/Chowder': 1460, 'Rage Against The Machine/You Make Me Real': 1461, \"Rage Against The Machine/Fisherman'S Wife\": 1462, 'Rage Against The Machine/Fixing A Hole': 1463, 'Rage Against The Machine/Slipstream': 1464, 'Rage Against The Machine/Angel City': 1465, 'Rage Against The Machine/You And Me': 1466, 'Rammstein/Hold On': 1467, 'Rammstein/Everybody Hurts': 1468, 'Rammstein/What A Shame': 1469, 'Ramones/Raspberry Fields': 1470, 'Ramones/Narcoleptic': 1471, 'Ramones/Wisper': 1472, 'Ratatat/Tiny Silver Hammers (Part 1)': 1473, 'Razorlight/Dare': 1474, 'Razorlight/G By Freefall': 1475, 'Red Hot Chili Peppers/Les Professionnels': 1476, 'Red Hot Chili Peppers/Blue Mind': 1477, 'Red Hot Chili Peppers/Homos': 1478, 'Red Hot Chili Peppers/Fleece On Brain': 1479, 'Red Hot Chili Peppers/This Sounds Bad': 1480, 'Red Hot Chili Peppers/Laisse Tomber Les Filles': 1481, 'Red Hot Chili Peppers/Sweet Words For The Sour': 1482, 'Red Hot Chili Peppers/We Will Rise': 1483, 'Red Hot Chili Peppers/Cortina': 1484, \"Red Hot Chili Peppers/No One'S Dancing\": 1485, 'Red Hot Chili Peppers/New Song': 1486, 'Red Hot Chili Peppers/Scenotaph (Dja Infected Remix)': 1487, \"Red Hot Chili Peppers/Tony'S Theme\": 1488, 'Red Hot Chili Peppers/Estés Donde Estés': 1489, 'Red Hot Chili Peppers/The Seething Rain Weeps For You (Uda Pruda)': 1490, \"Red Hot Chili Peppers/You'Re So Vain\": 1491, 'Red Hot Chili Peppers/Straight Up': 1492, 'Red Hot Chili Peppers/Somewhere': 1493, 'Red Hot Chili Peppers/Phoenus (Pop Razors)': 1494, 'Red Hot Chili Peppers/Wild Wind': 1495, 'Red Hot Chili Peppers/The Leper Affinity': 1496, 'Red Hot Chili Peppers/Son': 1497, 'Red Hot Chili Peppers/Mysteries Of Love (Instrumental)': 1498, 'Red Hot Chili Peppers/That Face': 1499, 'Regina Spektor/Forced To Drive': 1500, 'Regina Spektor/Undead Son': 1501, 'Regina Spektor/Red High Heels': 1502, 'Regina Spektor/Daft Punk Is Playing At My House': 1503, 'Regina Spektor/Planet Queen': 1504, 'Regina Spektor/Intreposage Domestik': 1505, 'Regina Spektor/Millionaire (Feat. André 3000)': 1506, \"Regina Spektor/Jd'S Reply (Eminem & Dr. Dre Diss)\": 1507, \"Regina Spektor/S'En Aller\": 1508, 'Regina Spektor/Sometimes (Mix #9)': 1509, 'Rhianna/My Patch': 1510, 'Rihanna/Hornery': 1511, 'Rilo Kiley/That Girl': 1512, 'Rilo Kiley/On The Road Again': 1513, 'Ryan Adams/Joys Of The Emptiness': 1514, 'Röyksopp/Stinkfist': 1515, 'Röyksopp/A Tady Začíná Ten Příběh': 1516, 'Röyksopp/Do You Remember Walter?': 1517, 'Röyksopp/The Rescue': 1518, 'Röyksopp/Labios Compartidos [En Vivo]': 1519, 'Röyksopp/Looks That Kill': 1520, 'Röyksopp/Home': 1521, 'Röyksopp/Dirty Harry': 1522, 'Röyksopp/Brotherhood Of The Fallen Knights': 1523, 'Röyksopp/Percy Faith - Andalucia': 1524, 'Röyksopp/On Eating In A Restauraunt 4': 1525, \"Röyksopp/I'M An Animal (Triple Door, 25-Jan-09)\": 1526, 'Röyksopp/Mind Station': 1527, 'Röyksopp/Give It To Me Raw': 1528, 'Röyksopp/Face Fisted': 1529, 'Röyksopp/The Telephone Call': 1530, 'Röyksopp/Paperface (Previously Unreleas': 1531, 'Scissor Sisters/Rusted Guns Of Milan': 1532, 'Scissor Sisters/Frenzied Handsome, Hello!': 1533, 'Scissor Sisters/Printemps': 1534, 'Sex Pistols/I Fought Piranhas': 1535, 'Sex Pistols/So Easy': 1536, 'Sex Pistols/It Was Supposed To Be So Easy': 1537, 'Sia/Lying In The Sun': 1538, 'Sigur Rós/Rhineland (Heartland)': 1539, 'Sigur Rós/Sleepwalker': 1540, 'Sigur Rós/Icicle': 1541, 'Sigur Rós/The Magic Bus': 1542, 'Sigur Rós/Animal I Have Become': 1543, 'Sigur Rós/Shock A Move On Me': 1544, 'Sigur Rós/Weakness': 1545, 'Sigur Rós/Get Get Down (Original Mix)': 1546, 'Sigur Rós/Downtown': 1547, 'Sigur Rós/A Tender History In Rust': 1548, 'Sigur Rós/Take Pills': 1549, 'Sigur Rós/Know Your Own Heart': 1550, 'Sigur Rós/Legend Of The Liquid Sword': 1551, 'Sigur Rós/The Flame': 1552, 'Sigur Rós/Cyberwaste': 1553, 'Sigur Rós/Cleanliness': 1554, 'Sigur Rós/Wash Off (First Sketch, Recorded @ Notown, December 2005)': 1555, 'Sigur Rós/Return To Grey': 1556, 'Sigur Rós/Return To Send Her': 1557, 'Sigur Rós/Run Away': 1558, 'Simon & Garfunkel/Good Morning Cockerel': 1559, 'Simon & Garfunkel/Shining Faces': 1560, 'Simon & Garfunkel/Dirt': 1561, 'Simon & Garfunkel/Emotions': 1562, 'Simon & Garfunkel/And Dream Of Sheep': 1563, 'Simple Minds/Love Lockdown': 1564, 'Siouxsie And The Banshees/Earth Intruders (Mark Stent Extended Edit)': 1565, 'Siouxsie And The Banshees/A Daring Tale Of Escape': 1566, 'Sixpence None The Richer/Med Cezir': 1567, 'Slayer/Goodbye Sober Day': 1568, 'Slowdive/Getting Closer (Black Strobe Ebm Homage)': 1569, 'Sneaker Pimps/Evil Energy, The Ill Twin Of...': 1570, 'Snow Patrol/Eye Of The Tiger': 1571, 'Snow Patrol/Champion': 1572, 'Snow Patrol/Everything To Gain': 1573, 'Snow Patrol/Just My Imagination': 1574, 'Snow Patrol/You Gotta Move': 1575, 'Snow Patrol/Beaubourg, Part I': 1576, 'Snow Patrol/Beyond The Tanarian Hills': 1577, 'Snow Patrol/Hovno': 1578, 'Snow Patrol/Land Of Confusion': 1579, 'Snow Patrol/Haykıracak Nefesim': 1580, 'Snow Patrol/Ubik (The Breakz)': 1581, 'Snow Patrol/Safe In Your Hands': 1582, 'Snow Patrol/Move': 1583, 'Snow Patrol/Blue Eden': 1584, 'Snow Patrol/#1': 1585, 'Soft Cell/Lives': 1586, 'Sonic Youth/Down In It': 1587, 'Soundgarden/The Internet Is For Porn': 1588, 'Soundgarden/Undressing The Words': 1589, 'Spice Girls/Inner Meet Me': 1590, 'Spoon/Have Fun': 1591, 'Spoon/Oops, I Did It Again': 1592, 'Spoon/Tinto Tintero': 1593, 'Spoon/Gold Soundz': 1594, 'Spoon/There Cannot Be A Close Second': 1595, 'Spoon/My World': 1596, 'Stars/Om Mani Padme Hum': 1597, 'Stars/Shank/Ganesh Mantra/Om+Didgeri': 1598, \"Stars/I Don'T Want U\": 1599, 'Stars/Simple People': 1600, 'Stereophonics/All I Want Is You': 1601, 'Sufjan Stevens/Soul Driver': 1602, 'Sufjan Stevens/Neighborhood #1 (Tunnels)': 1603, 'Sufjan Stevens/Let Me Go In': 1604, 'Sufjan Stevens/Fall, Fall, Fall': 1605, 'Sufjan Stevens/Hysteria': 1606, 'Sufjan Stevens/Starstruck (Feat. Space Cowboy And Flo Rida)': 1607, 'Sufjan Stevens/Last Ride Together': 1608, \"Sufjan Stevens/I'M Good At Being Bad\": 1609, 'Sufjan Stevens/Leonel, El Feo': 1610, 'Sufjan Stevens/Pallas Athena': 1611, 'Sufjan Stevens/Pablo In Red': 1612, \"Sufjan Stevens/You'Re In The Air\": 1613, 'System Of A Down/Out Of The Blue': 1614, 'System Of A Down/Guilty Of Being White': 1615, 'System Of A Down/Sanansaattaja': 1616, 'System Of A Down/Bleed American': 1617, 'System Of A Down/Who Killed Davey Moore (Bob Dylan Revox)': 1618, \"System Of A Down/Don'T Think Of Me\": 1619, 'System Of A Down/Delta 6 (Hydroponic)': 1620, 'System Of A Down/One Day': 1621, 'System Of A Down/I Made A Tree On The Wold': 1622, 'System Of A Down/Now Is The Time': 1623, 'System Of A Down/Tuningas (®Normaliai)': 1624, 'System Of A Down/15': 1625, 'System Of A Down/Sleep Cycle 6': 1626, 'Talking Heads/If You Only Knew (Feat. Play N Skillz)': 1627, 'Talking Heads/Sol Y Luna': 1628, 'Talking Heads/Metal Beat': 1629, 'Tears For Fears/Good And Bad': 1630, 'Tears For Fears/Sick Priest Learns To Last Forever': 1631, 'Tegan And Sara/Friday Nights': 1632, 'Tegan And Sara/Black Milk': 1633, 'Tenacious D/Standing Right Here': 1634, \"The 5.6.7.8'S/Curl Timeout\": 1635, \"The B-52'S/Nu Ne Mai Trageți Pe Dreapta\": 1636, 'The Beach Boys/The Climber': 1637, 'The Beatles/All My Life': 1638, 'The Beatles/Edward Meets The World: The Cookie Factory': 1639, \"The Beatles/I'Ll Never Be Anybody'S Hero Now\": 1640, 'The Beatles/Smile Like You Mean It': 1641, 'The Beatles/Martha My Dear': 1642, 'The Beatles/Salvation': 1643, 'The Beatles/Heads Day Off (Feat. Chords & Timbuktu)': 1644, 'The Beatles/Letter To Hope': 1645, 'The Beatles/Cthulhu Dawn': 1646, 'The Beatles/St. Francis': 1647, 'The Beatles/The Present': 1648, 'The Beatles/Toz Bulutu': 1649, 'The Beatles/Passado De Gloria': 1650, 'The Beatles/Nothing Comes Easy': 1651, 'The Beatles/Brand New Key': 1652, 'The Beatles/1000 Years Old': 1653, 'The Beatles/Jóga': 1654, 'The Beatles/By My Side': 1655, 'The Beatles/Interlude': 1656, 'The Beatles/The Gazing Moon': 1657, 'The Beatles/Royal Orleans': 1658, 'The Beatles/Μέσα Στον Ίδιο Ουρανό': 1659, 'The Beatles/I Heard It Through The Grapevine': 1660, 'The Beatles/Der Stein Der Weisen 08': 1661, 'The Beatles/For You': 1662, 'The Beatles/Run It': 1663, \"The Beatles/It Only Hurts When I'M Breathing\": 1664, 'The Beatles/Square One': 1665, 'The Beatles/Art School': 1666, 'The Beatles/Hunted Down': 1667, 'The Beatles/A Call To Apathy [Tentative Title]': 1668, 'The Beatles/Eminentia Cruciformis': 1669, 'The Beatles/I Just Want To See You Underwater': 1670, 'The Beatles/07. Besame (Largo Reggaeton) (Junio 2007)': 1671, 'The Beatles/I Put A Spell On You': 1672, \"The Beatles/You'Re Lost Little Girl\": 1673, 'The Beatles/When The Cocoon Is Finished': 1674, 'The Beatles/Expecting To Fly': 1675, 'The Beatles/Graze': 1676, 'The Beatles/Secrets': 1677, 'The Beatles/Raining Blood (Live In Canada 11/86)': 1678, 'The Beatles/Walk On By': 1679, 'The Beatles/Paranoid Android': 1680, 'The Beatles/King Of The Eburones': 1681, 'The Beatles/Seattle, Steakhouse': 1682, 'The Beatles/The Last One': 1683, \"The Beatles/It'S Easy To Sleep When You'Re Dead\": 1684, 'The Beatles/Coast To Coast Am - Jun 13 2007 - Hour 2': 1685, 'The Beatles/The Argument': 1686, 'The Beatles/Summer Stay': 1687, 'The Beatles/Space Invaders': 1688, 'The Beatles/Comfortably Numb': 1689, 'The Beatles/Arizona': 1690, 'The Beatles/Negro Observer': 1691, 'The Beatles/Pork And Beans': 1692, 'The Beatles/Magdeleno': 1693, \"The Beatles/Travelin' Light\": 1694, \"The Beatles/Billie'S Blues\": 1695, 'The Beatles/Doctor Robert': 1696, 'The Beatles/Episode 58 - Is There Yarn In Oz': 1697, 'The Beatles/Shake Me': 1698, 'The Beatles/Freestyle2': 1699, 'The Beatles/Teenage Wasteland': 1700, 'The Beatles/Long Live The Uk Music Scene': 1701, 'The Beatles/No Return': 1702, 'The Beatles/My Impression Now': 1703, 'The Beatles/Neighborhood #3 (Power Out)': 1704, 'The Beatles/Still D.R.E': 1705, 'The Beatles/Marquee Moon': 1706, 'The Beatles/First Lesson In Love': 1707, 'The Beatles/Nothing Left': 1708, 'The Beatles/Run (Live Lounge)': 1709, 'The Beatles/Double Shot': 1710, 'The Beatles/Sound Effects Library - Enterprise D Bridge/Crash Sequence': 1711, \"The Beatles/Slow-Step In 97' (Judgement Mix)\": 1712, 'The Beatles/James Bond': 1713, 'The Beatles/Chorale Ii (Roosh Ka Ma)': 1714, 'The Beatles/Texas Party': 1715, 'The Beatles/Bye Bye Love': 1716, 'The Beatles/All The Things You Are': 1717, \"The Beatles/The Hand We'Re Dealt\": 1718, \"The Beatles/I Can'T Quit You Baby\": 1719, 'The Beatles/Heroine': 1720, 'The Bravery/Oliva': 1721, 'The Cardigans/The Loneliest Guy': 1722, 'The Chemical Brothers/Prisioneiros Do Sistema': 1723, 'The Chemical Brothers/My Hometown': 1724, 'The Chemical Brothers/Waiting For The Miracle': 1725, 'The Chemical Brothers/David Watts': 1726, 'The Chemical Brothers/In Memory Of...': 1727, 'The Clash/Texture': 1728, 'The Clash/Flight Of Icarus': 1729, 'The Clash/First Communion': 1730, 'The Clash/I Like Birds': 1731, 'The Clash/Crack Pipes': 1732, 'The Clash/People': 1733, \"The Clash/Hard Day'S Night (Live)\": 1734, 'The Clash/Song To Anything That Moves': 1735, 'The Clash/After All': 1736, 'The Clash/O Come All Ye Faithful': 1737, 'The Clash/Apple Shampoo': 1738, 'The Clash/I Am A Sunflower': 1739, 'The Clash/Photograph': 1740, 'The Clash/Little One': 1741, 'The Clash/Unspeakable': 1742, 'The Clash/Young At Heart': 1743, 'The Clash/Superheroes': 1744, 'The Clash/No Need (Paris \\'99 - \"Anthony, Are You Around?\")': 1745, 'The Clash/Street Tattoo': 1746, \"The Clash/Dead Man'S End\": 1747, 'The Cranberries/Jerusalem': 1748, 'The Cranberries/Space Oddity': 1749, 'The Cranberries/Dysfunctional Hours (Anders Fridén From In Flames)': 1750, 'The Cult/Kukuk': 1751, \"The Cure/Sleep When I'M Dead\": 1752, 'The Cure/I Need No Trust': 1753, 'The Cure/Soma': 1754, 'The Cure/Will Robinson E Seus Robots': 1755, \"The Cure/Goodbye'S All We'Ve Got Left\": 1756, 'The Cure/One Celled Creature': 1757, 'The Cure/Tits On The Radio': 1758, 'The Cure/Cyanide Breath Mint': 1759, 'The Cure/Porn Piece Or The Scars Of Cold Kisses': 1760, 'The Cure/Re-Offender': 1761, 'The Cure/Wishing (If I Had A Photograph Of You)': 1762, 'The Cure/???': 1763, \"The Cure/Can'T Nobody\": 1764, 'The Cure/You Rascal You': 1765, 'The Cure/Vampire Blues': 1766, 'The Cure/Last Night A Dj Saved My Life': 1767, 'The Cure/Tribal Connection': 1768, 'The Cure/A Part Of The Woods': 1769, 'The Dandy Warhols/Pop Nonsense': 1770, 'The Dandy Warhols/Insanity': 1771, \"The Dandy Warhols/Wishmaster (Live) (Wacken '01)\": 1772, 'The Darkness/Misty Eyes': 1773, 'The Decemberists/Weird Sisters': 1774, 'The Decemberists/Rocket Machine': 1775, 'The Decemberists/Into The Void': 1776, 'The Decemberists/My Weakness': 1777, 'The Decemberists/I Will Never Love You More': 1778, 'The Decemberists/20¢ Goodbye': 1779, 'The Decemberists/Steam Engine': 1780, 'The Decemberists/The Road I Must Travel': 1781, 'The Decemberists/Lessons Learned': 1782, 'The Decemberists/One Way Ride': 1783, 'The Decemberists/Smoke And Mirrors': 1784, 'The Doors/Life Without Love Etc': 1785, 'The Doors/Set Me Free (Main Mix)': 1786, 'The Doors/Billy S.': 1787, 'The Doors/The Nail': 1788, 'The Doors/L-Virata': 1789, 'The Doors/Tequila': 1790, 'The Doors/Lock Up Your Mountain Bikes': 1791, 'The Doors/Risingson': 1792, \"The Doors/Girl I'M Gonna Miss You\": 1793, 'The Doors/Gimme Back My Bullets': 1794, 'The Doors/Paradise Will Shine Like The Moon': 1795, 'The Doors/Not For Sale': 1796, 'The Doors/Feeling Good': 1797, 'The Doors/Wooden Nickels': 1798, 'The Doors/Blacking Out The Friction': 1799, 'The Doors/You Make Me Shiver': 1800, 'The Doors/You Belong To Me': 1801, 'The Doors/Lambs Anger': 1802, \"The Doors/It'S Natural To Be Afraid\": 1803, 'The Doors/Cool Feeling (Original Mix)': 1804, 'The Doors/Joy (Feat. Mos Def)': 1805, 'The Doors/Ambition (Laidback Luke)': 1806, 'The Faint/Vancouver': 1807, 'The Flaming Lips/Autumn’S Grey Solace ～ Tusk': 1808, 'The Flaming Lips/Sister Moon': 1809, 'The Flaming Lips/Israelites': 1810, 'The Flaming Lips/Kiss Off': 1811, \"The Flaming Lips/Talkin' Bout Hey Love\": 1812, 'The Flaming Lips/Çúä¿ 8': 1813, 'The Flaming Lips/Cupido': 1814, 'The Flaming Lips/Punch Me I Bleed': 1815, 'The Flaming Lips/I Will': 1816, 'The Flaming Lips/Will It Ever End': 1817, 'The Fratellis/Illegal I Song': 1818, 'The Fray/The Time Has Come Again': 1819, 'The Futureheads/How Can You Live In The Northeast?': 1820, 'The Futureheads/American Waste': 1821, 'The Futureheads/Sun': 1822, 'The Futureheads/A Kind Of Magic': 1823, 'The Go! Team/Shrink': 1824, 'The Go! Team/Map And Compass': 1825, 'The Go! Team/Cœur Inapaisé': 1826, 'The Go! Team/Play It Cool': 1827, 'The Go! Team/Puke + Cry': 1828, 'The Go! Team/Crystal Love -M&M Remix-': 1829, 'The Goo Goo Dolls/Goodsouls (Echoboy Remix)': 1830, 'The Hives/Nobody Move, Nobody Get Hurt': 1831, 'The Hives/7 Nights To Rock': 1832, 'The Human League/Jack-Ass': 1833, 'The Jesus And Mary Chain/Sin With A Grin': 1834, 'The Killers/Flamengo': 1835, 'The Killers/Penny Lane': 1836, \"The Killers/Something'S Gotta Give\": 1837, \"The Killers/You Ain'T Goin' Nowhere\": 1838, 'The Killers/Make My Day (Haunting)': 1839, 'The Killers/Marakesh': 1840, 'The Killers/Action': 1841, 'The Killers/Get Ready': 1842, 'The Killers/Suburban Relapse': 1843, 'The Killers/Onde Está O Meu Dinheiro?': 1844, 'The Killers/Jungs, Hier Kommt Der Masterplan (Studio, 1994)': 1845, 'The Killers/Am I Wry? No': 1846, 'The Killers/To Hell With Poverty (Go Home Productions Remix)': 1847, 'The Killers/Game Over (Feat. Jay Dee & Phat Kat)': 1848, 'The Killers/Sledgehammer': 1849, 'The Killers/Splash Woman (Acoustic Remix)': 1850, 'The Killers/The List Of Dorms (Peel Session)': 1851, 'The Killers/Landlocked': 1852, 'The Killers/The Wamp Wamp Prayer (Bloc Party Vs Clipse)': 1853, 'The Killers/Crossing The Gates Of Hell': 1854, 'The Killers/All Night Home': 1855, 'The Killers/Modern Way': 1856, 'The Killers/Like A Prayer': 1857, 'The Killers/Epidemic': 1858, 'The Killers/Duet For Guitars #3': 1859, 'The Killers/Home Usa': 1860, \"The Kinks/Don'T Ask Why\": 1861, \"The Kinks/Mouth'S Cradle\": 1862, 'The Kinks/Beyond Your Borrowed Dreams': 1863, 'The Kinks/Charles Haanel': 1864, \"The Knife/You Ain'T Gonna Have Ol' Buck To Kick Around No More\": 1865, 'The Knife/Mad About You': 1866, 'The Knife/Your Picture': 1867, 'The Knife/Crystal': 1868, 'The Knife/Dopes On The Water': 1869, \"The Knife/Ramblin' Man (As Luke The Drifter)\": 1870, 'The Knife/Cool Melody (Andy)': 1871, 'The Knife/Worked Up So Sexual': 1872, 'The Knife/Jennifer Lost The War': 1873, 'The Knife/Panzer Rune': 1874, 'The Kooks/Kings Of Cause': 1875, 'The Kooks/74-75': 1876, 'The Kooks/Madras': 1877, 'The Kooks/Shadow Hand': 1878, \"The Kooks/You'Ve Gotta Be Crazy (Dogs)\": 1879, 'The Kooks/On The Evening Train': 1880, 'The Kooks/Start Me Up': 1881, 'The Last Shadow Puppets/Gimme Some Salt': 1882, 'The Libertines/Franci': 1883, 'The Libertines/Gravity': 1884, 'The Libertines/Only Ash Remains': 1885, 'The Libertines/Muzzle': 1886, 'The Libertines/Papa Doc (Interlude)': 1887, 'The Libertines/Rose Of Los Angeles': 1888, 'The Magic Numbers/On The Beach': 1889, 'The Mamas & The Papas/Pushed Beyond': 1890, \"The Mars Volta/I'M Finding It Harder To Be A Gentleman\": 1891, 'The Mars Volta/Headz': 1892, 'The Mars Volta/Paradise Of Love': 1893, 'The Mars Volta/Pretty In Pity': 1894, \"The Mars Volta/What'S Your Number (Clean Album Version)\": 1895, 'The Mars Volta/The Good Ones': 1896, 'The New Pornographers/Playa Hater (Feat. Young Mad)': 1897, 'The New Pornographers/Step Off': 1898, 'The Offspring/Ice Ice Baby': 1899, 'The Pipettes/Suddenly Everything Has Changed (Death Anxiety Caused By Moments Of Boredom)': 1900, 'The Police/The Beasts Of The Apocalypse': 1901, 'The Police/Man The Ramparts': 1902, 'The Police/Night In Shanghai': 1903, 'The Police/Small': 1904, 'The Postal Service/Cortege': 1905, \"The Postal Service/Swingin' The Blues\": 1906, 'The Postal Service/.': 1907, 'The Postal Service/Live Forever': 1908, 'The Postal Service/Red Light For Go': 1909, 'The Postal Service/La La Love You': 1910, \"The Postal Service/Lord I'Ve Been Trying\": 1911, 'The Postal Service/One Of These Days': 1912, 'The Postal Service/$16 An Hour (Live)': 1913, 'The Postal Service/Colorblind': 1914, 'The Postal Service/Interlude': 1915, 'The Prodigy/Nikki Sudden - Farewell, My Darling': 1916, 'The Prodigy/The Same': 1917, 'The Prodigy/Twinstar': 1918, 'The Prodigy/Untogether': 1919, 'The Prodigy/If Not This Time': 1920, 'The Prodigy/Planet Glass-Heart': 1921, 'The Prodigy/Que Maravilha': 1922, 'The Prodigy/No More Sorry': 1923, 'The Prodigy/Born To Darkness Part I': 1924, 'The Prodigy/Your New Cuckoo': 1925, \"The Prodigy/We'Re Only Gonna Die For Our Own Arrogance\": 1926, 'The Raconteurs/Fake Plastic Trees': 1927, 'The Raconteurs/On The Chin': 1928, 'The Raconteurs/Kittens Got Claws': 1929, 'The Raconteurs/Terrible Lie': 1930, \"The Raconteurs/Nothin' Song\": 1931, 'The Raconteurs/My Justine': 1932, 'The Raconteurs/Greed': 1933, \"The Raconteurs/She'S Lost Control\": 1934, 'The Rakes/When The War Came': 1935, 'The Rakes/Infinity Farm': 1936, 'The Rakes/Henry Lee': 1937, 'The Rolling Stones/Na Svarogovoi Doroge': 1938, 'The Rolling Stones/Nocturnal': 1939, 'The Rolling Stones/Tired Night': 1940, 'The Rolling Stones/Cloaked In Her Unlight': 1941, 'The Rolling Stones/Their Song': 1942, 'The Rolling Stones/Jambi': 1943, 'The Rolling Stones/How Come': 1944, 'The Rolling Stones/Party': 1945, 'The Rolling Stones/T-Rex Ft. C-Rayz Walz': 1946, 'The Rolling Stones/I Need Someone': 1947, 'The Rolling Stones/Escape The Nest': 1948, 'The Rolling Stones/93 Million Miles From The Sun And Counting': 1949, 'The Rolling Stones/Seven Swans': 1950, 'The Rolling Stones/Yah Mo B There': 1951, 'The Shins/Of Angels And Angles': 1952, 'The Shins/Air': 1953, \"The Shins/To The Pirates' Cave!\": 1954, \"The Shins/C'Est Toujours Ça La France\": 1955, 'The Shins/Yoshimi Battles The Pink Robots': 1956, 'The Shins/Unit 4': 1957, \"The Shins/Ray M'Bele\": 1958, 'The Shins/Begin Again': 1959, 'The Shins/The Heaviest Matter Of The Universe': 1960, 'The Shins/I Really Doubt It Baby': 1961, 'The Shins/I Look Around': 1962, 'The Shins/All I Need': 1963, 'The Shins/Theme From Morse': 1964, \"The Shins/Julia'S Walk\": 1965, 'The Shins/When The Saints Go Marching In': 1966, \"The Shins/Whatever Happened To My Rock 'N' Roll (Punk Song)\": 1967, 'The Shins/Sula': 1968, 'The Shins/It Dawned On Me': 1969, 'The Shins/Clumsy': 1970, 'The Shins/Renegade (Feat. Eminem)': 1971, 'The Shins/Go To Work Wasted': 1972, 'The Shins/Smokers Reflect': 1973, 'The Shins/Love Less': 1974, \"The Shins/You Ain'T No Big Thing\": 1975, 'The Shins/Herbal Dub': 1976, 'The Shins/The Other Part': 1977, 'The Smashing Pumpkins/Remember': 1978, 'The Smashing Pumpkins/Vökuró': 1979, 'The Smashing Pumpkins/Ride': 1980, 'The Smashing Pumpkins/From Out Of Nowhere': 1981, 'The Smashing Pumpkins/Circles': 1982, 'The Smashing Pumpkins/Pressure': 1983, 'The Smashing Pumpkins/Consequence': 1984, 'The Smashing Pumpkins/No Sex': 1985, 'The Smashing Pumpkins/Homebase': 1986, 'The Smashing Pumpkins/Just Another Sunday': 1987, 'The Smashing Pumpkins/Memento Mori': 1988, 'The Smashing Pumpkins/Krisâlida': 1989, 'The Smashing Pumpkins/Dutty Rock Intro': 1990, 'The Smashing Pumpkins/11 Am': 1991, 'The Smiths/Jettison': 1992, 'The Smiths/Nobody Knows': 1993, 'The Smiths/Absolutely Not': 1994, 'The Smiths/Weekend Wildfire': 1995, 'The Smiths/So Few Words': 1996, 'The Smiths/Southern Girl': 1997, 'The Smiths/Shouts': 1998, 'The Smiths/If Everybody Looked The Same': 1999, 'The Smiths/Just Like Heaven': 2000, 'The Smiths/Kill Me In A Record Shop': 2001, 'The Smiths/Quand Vous Mourez Des Nos Amours': 2002, 'The Smiths/White Riot (The Clash Cover)': 2003, \"The Smiths/The Mariner'S Revenge Song\": 2004, 'The Smiths/To Get Down': 2005, 'The Smiths/Nitemare Hippy Girl': 2006, 'The Smiths/Футбол': 2007, 'The Smiths/Known For Years': 2008, 'The Smiths/Mushroom': 2009, \"The Smiths/I'M Going To Tell You Something\": 2010, 'The Smiths/Unbroken (Hotel Baby)': 2011, 'The Smiths/Rain In The Night': 2012, 'The Smiths/Baltimore (Tech Itch & Dylan Remix)': 2013, 'The Smiths/What Junior Band Did Next': 2014, 'The Smiths/Electric Nights': 2015, 'The Smiths/Hornswoggle': 2016, 'The Smiths/Asian Dub Foundation - Taa Dee': 2017, 'The Smiths/Black': 2018, 'The Stone Roses/Reverence': 2019, 'The Stone Roses/Blinded By Science': 2020, 'The Stone Roses/The Concept': 2021, 'The Stone Roses/Paris Arm': 2022, 'The Stone Roses/Tragic Flaw': 2023, 'The Stooges/Misty Fields': 2024, 'The Stooges/The Woman Is Killing Me': 2025, 'The Stranglers/Totally Stupid': 2026, 'The Streets/La Petite Voleuse': 2027, \"The Streets/L'Epoque Noire\": 2028, 'The Strokes/Styrofoam Plates': 2029, 'The Strokes/Grind': 2030, 'The Strokes/Get Confused': 2031, 'The Strokes/Grounded': 2032, 'The Strokes/Thin Layer': 2033, 'The Strokes/She Just Wants To Be': 2034, 'The Strokes/Woman Is The Nigger Of The World': 2035, 'The Strokes/Static': 2036, 'The Strokes/Antro': 2037, \"The Strokes/Chillin'\": 2038, 'The Strokes/Please Send Me Someone To Love': 2039, 'The Strokes/Worry Boy': 2040, 'The Strokes/Furthest Moment': 2041, 'The Strokes/Firestarter (Edit)': 2042, 'The Strokes/Restless Feat. Testament': 2043, 'The Strokes/Break Your Back': 2044, 'The Strokes/Token Of Time': 2045, 'The Strokes/Ya No Te Amo': 2046, 'The Strokes/Prelude': 2047, \"The Strokes/I Love Rock 'N' Roll\": 2048, 'The Strokes/Asilos Magdalena': 2049, 'The Strokes/Roots...': 2050, \"The Strokes/Wagon Christ - King'S Lyn\": 2051, 'The Strokes/Will You Follow Me?': 2052, 'The Strokes/Floorkiller': 2053, 'The Strokes/House Of Leaves': 2054, 'The Strokes/She Loves You No Less': 2055, 'The Strokes/Sleep Alone': 2056, 'The Strokes/Cokane In My Brain (Dj Mek Numburg Scratch Mix)': 2057, \"The Strokes/(She'S In A) Bad Mood\": 2058, 'The Strokes/Coward (Melting Mix By Pain Station)': 2059, 'The Strokes/If I Ever Make It Home': 2060, 'The Ting Tings/Carroll 14 Wossman 7': 2061, 'The Ting Tings/The Motorcycle Song - An Education': 2062, 'The Ting Tings/I Gotta Fire': 2063, 'The Velvet Underground/No No No': 2064, 'The Velvet Underground/What People Are Made Of': 2065, 'The Velvet Underground/Dear Lover': 2066, 'The Velvet Underground/Ask Her To Dance': 2067, 'The Velvet Underground/Top Yourself': 2068, \"The Velvet Underground/I'Ll Catch You\": 2069, 'The Velvet Underground/Chiba City Blues': 2070, 'The Velvet Underground/Bloodbeat': 2071, 'The Velvet Underground/Jesus The Mexican Boy': 2072, 'The Velvet Underground/Reality': 2073, \"The Velvet Underground/I'Ve Got A Crush On You\": 2074, 'The Velvet Underground/Drop': 2075, 'The Verve/Chasing Cars (Edit)': 2076, 'The Verve/Mama': 2077, 'The Verve/7': 2078, 'The Verve/Number 1': 2079, 'The Verve/Letzte Tage - Letzte Nächte': 2080, 'The Walkmen/Left On': 2081, 'The White Stripes/Lazy Flies': 2082, 'The White Stripes/In Here': 2083, 'The White Stripes/Fiolina': 2084, 'The White Stripes/Untitled': 2085, \"The White Stripes/I'M Going To Stop Pretending That I Didn'T Break Your Heart\": 2086, 'The White Stripes/Entropy': 2087, 'The White Stripes/It Feels So Good': 2088, 'The White Stripes/Thought @ Work': 2089, 'The White Stripes/I Will Possess Your Heart': 2090, 'The White Stripes/Sleepers': 2091, 'The White Stripes/Despierta, Mi Vida': 2092, 'The White Stripes/Fear': 2093, 'The White Stripes/Should Have Stayed In The Shallows': 2094, 'The White Stripes/Halfway To Fivepoints': 2095, 'The White Stripes/Casanova 70': 2096, 'The White Stripes/Xxzxczx Me': 2097, 'The White Stripes/Dirty Blue Gene': 2098, 'The White Stripes/Hiding On The Staircase': 2099, 'The White Stripes/Another Me \"In Lack\\'Ech\"': 2100, 'The White Stripes/Violence': 2101, 'The White Stripes/Bonustrack': 2102, 'The White Stripes/Main Offender': 2103, 'The White Stripes/City Of Night': 2104, \"The White Stripes/Surgeon'S Girl\": 2105, 'The White Stripes/Under My Umbrella': 2106, 'The White Stripes/Please Sing My Spring Reverb (Styromix)': 2107, 'The White Stripes/You And The Night And The Music': 2108, 'The White Stripes/Energie': 2109, 'The White Stripes/Memphis Emphasis': 2110, \"The White Stripes/Master'S Apprentices\": 2111, 'The White Stripes/Worthwhile': 2112, 'The White Stripes/Today I Sing The Blues': 2113, 'The White Stripes/The Man I Love': 2114, 'The White Stripes/Like You (Supermayer Mix)': 2115, 'The White Stripes/Chingiz': 2116, 'The Whitest Boy Alive/Everybody Knows This Is Nowhere': 2117, 'The Who/Beautiful Things (Gabriel & Dresden Unplugged Mix)': 2118, 'The Who/The Stars Look Familiar': 2119, 'The Who/Fucking The Fetus': 2120, 'The Who/Grapevine Fires': 2121, 'The Who/Nothing Precious At All': 2122, 'The Who/Somebody Told Me': 2123, 'The Who/Speed Trials': 2124, 'Thievery Corporation/Pogo': 2125, 'Thom Yorke/A Cruel Instrument': 2126, 'Thom Yorke/The Eye Of The Hurricane': 2127, 'Thom Yorke/Sweet Charity': 2128, 'Thom Yorke/Slam': 2129, 'Thom Yorke/Jabberwocky': 2130, 'Thom Yorke/Radioresepsjonen 23.04.09': 2131, 'Thom Yorke/Ringfinger': 2132, 'Thom Yorke/Convenient Parking': 2133, 'Tool/Burning Bridges': 2134, 'Tool/Walizka': 2135, 'Tool/Tu Grillo Parlante': 2136, 'Tool/Fit But You Know It / In Da Club (Live)': 2137, 'Tool/Aşk Nereye Kadar': 2138, 'Tool/Dilema': 2139, 'Tool/I Really Like You': 2140, 'Tori Amos/The Space Between All Things': 2141, 'Tori Amos/Stay Out Of Trouble': 2142, 'Tori Amos/Independence Day': 2143, 'Travis/Kyoto Song': 2144, 'Travis/Who The Pop Cares': 2145, 'Travis/Running Scared': 2146, 'Tv On The Radio/The Symptomatic': 2147, 'Tv On The Radio/King Eternal': 2148, 'Tv On The Radio/Hot Dog Baby': 2149, 'Tv On The Radio/Soldier Jane': 2150, 'U2/Eddie And The Boys': 2151, 'U2/Music Of The Night': 2152, 'U2/World Without Fear': 2153, 'U2/Creeping Death': 2154, 'U2/Active Heart': 2155, 'U2/Vicarious': 2156, 'U2/Nonsensica': 2157, 'U2/Born Again': 2158, 'U2/Automatic (Riffs N Rays Mix)': 2159, 'U2/Simply Blue': 2160, 'U2/10Th Avenue Freakout': 2161, 'Vampire Weekend/Rodeo From Hell': 2162, 'Vampire Weekend/The Black Cat': 2163, 'Vampire Weekend/Screwdriver (Live In Manaus, Brazil)': 2164, 'Vampire Weekend/Sweet Life': 2165, 'Vampire Weekend/Trust': 2166, 'Vampire Weekend/Lady Writer': 2167, 'Van Halen/Only Shallow': 2168, 'Violent Femmes/Over My Head (Cable Car)': 2169, 'We Are Scientists/Nakip Ve Sacide Karşılaşması': 2170, 'We Are Scientists/Bodysnatchers': 2171, 'We Are Scientists/Lift Your Head Up High': 2172, 'We Are Scientists/Sweeter As The Years Roll By': 2173, 'We Are Scientists/Profile': 2174, 'Weezer/Little Lover': 2175, 'Weezer/Waiting For A Star To Fall': 2176, 'Weezer/Yeah, Right': 2177, 'Weezer/Pocket Money': 2178, 'Weezer/The Best': 2179, 'Weezer/Bouncing Brinnington Meat+Hag0Balls': 2180, 'Weezer/Dream I Had - Live': 2181, 'Weezer/Grown Man (Feat. Talib Kweli)': 2182, 'Wilco/Deep Down Ascend (Demo)': 2183, 'Wilco/On The Tweek Again': 2184, 'Wilco/Code Red': 2185, 'Wilco/Straight To The Bank': 2186, 'Wilco/Stranger': 2187, 'Wilco/Cloaked In Her Unlight': 2188, 'Wolf Parade/Alright (Brad Carter Remix)': 2189, 'Wolf Parade/Spanish Stroll': 2190, 'Wolf Parade/Digital Fiction': 2191, 'Wolf Parade/The Hit (Featuring Dead Prez)': 2192, 'Wolf Parade/Free': 2193, \"Wolf Parade/I'Ll Be The Heartbreaker\": 2194, 'Wolf Parade/Fame Throwa': 2195, 'Wolfmother/Watching Alice': 2196, 'Yann Tiersen/Dead Melodies': 2197, 'Yann Tiersen/Pneumonia Hawk': 2198, 'Yann Tiersen/Miles Away (Thin White Duke Remix)': 2199, 'Yeah Yeah Yeahs/Little Ghost': 2200, 'Yeah Yeah Yeahs/17': 2201, \"Yeah Yeah Yeahs/Keep Talkin'\": 2202, 'Yeah Yeah Yeahs/Make Me Believe': 2203, 'Yeah Yeah Yeahs/Marching Bands Of Manhattan': 2204, 'Yeah Yeah Yeahs/Watermelon Man': 2205, 'Yeah Yeah Yeahs/Sunadokei': 2206, 'Yeah Yeah Yeahs/Wake Up! Time To Die...': 2207, 'Yeah Yeah Yeahs/Up Middle Finger': 2208, \"Yeah Yeah Yeahs/Spiral (Don'T Fall)\": 2209, 'Yeah Yeah Yeahs/Coffee Talk': 2210, 'Yeah Yeah Yeahs/Pull Me Back Out [Acoustic Version]': 2211, 'Yeah Yeah Yeahs/Ring Ring': 2212, 'Yeah Yeah Yeahs/Zebraskin': 2213, 'Yeah Yeah Yeahs/Central Industrial': 2214, 'Yeah Yeah Yeahs/Feel So Good (The Isle Of Wight Live Version)': 2215, 'Yeah Yeah Yeahs/Something Else': 2216, 'Yeah Yeah Yeahs/Uptight': 2217, 'Yeah Yeah Yeahs/Al Niño Miguel': 2218, 'Yeah Yeah Yeahs/Justice Vs. Simian - Never Be Alone': 2219, 'Yeah Yeah Yeahs/Somebody To Love': 2220, 'Yeah Yeah Yeahs/Out Of Nothing': 2221, 'Yeah Yeah Yeahs/Groovy Feeling (Screwball)': 2222, \"Zero 7/We'Re Here\": 2223, 'Zero 7/Ordinary': 2224, 'Zero 7/No Es Pecado': 2225, 'Zero 7/2 Train': 2226, 'Zero 7/Celos': 2227, 'Zero 7/Sunny Morning': 2228, 'Zero 7/The Inner Light': 2229, 'Zero 7/Turn It Up (Paul Oakenfold Remix)': 2230, 'Zero 7/Downing Street Kindling': 2231}\n",
      "---------- idx_to_song ----------\n",
      "{0: nan, 1: '3 Doors Down/Dilaudid', 2: '30 Seconds To Mars/Mad World', 3: 'A Perfect Circle/That Girl', 4: \"A Perfect Circle/Charlotte (Booka'S No Pain No Gain Mix)\", 5: 'A-Ha/Elišce', 6: 'Abba/Things Are Getting Better', 7: 'Abba/Hallelujah', 8: 'Ac/Dc/What You Meant', 9: 'Ac/Dc/Ad Vitam Aeternam', 10: \"Ac/Dc/It'S Not A Fashion Statement, It'S A Fucking Deathwish\", 11: 'Ac/Dc/Waterman (Trophy Twins Pop Goes The Vox)', 12: 'Ac/Dc/A Door Opens And Closes', 13: 'Ac/Dc/Wind Up', 14: \"Air/Doin' Time (Wyclef Remix)\", 15: 'Air/Desire', 16: 'Air/Rabbit Habits', 17: 'Air/Rock And Roll Music To The World', 18: 'Air/11 - Teenage Highs', 19: 'Air/As I Come Back', 20: 'Air/Minute By Minute', 21: 'Air/Love Song With Flute', 22: 'Air/The Boy With The Thorn In His Side', 23: 'Air/Big Sky City', 24: 'Air/Getting It Wrong', 25: 'Air/My Old Man', 26: 'Air/Twoja D?O¨½ Kayah', 27: 'Air/Autoshape', 28: 'Air/The Mask', 29: 'Air/Saturnine', 30: \"Air/I'M Free\", 31: 'Air/Eu Não Gosto De Ninguém', 32: \"Air/Stage Coach (Yvonne'S)\", 33: \"Air/Miller'S Angels\", 34: 'Air/A Love I Can Feel', 35: 'Air/Empty Cans', 36: 'Air/Blast', 37: 'Air/My Wings', 38: \"Air/It Don'T Matter To The Sun\", 39: 'Air/Until I Die', 40: 'Air/The Hand (Feat. Maximum Bob & Ani Maldjian)', 41: 'Air/Doping For Gold', 42: 'Air/Metallica - (Lars Ulrich) Drum Solo', 43: 'Air/Kids (Unedited Version)', 44: \"Air/It'S Nothing\", 45: 'Air/Alcohol', 46: 'Air/Raspberry Beret', 47: 'Air/The Art Of Walking', 48: 'Al Green/She\\'S Lost Control (12\" Version)', 49: 'Alanis Morissette/8675309', 50: \"Alanis Morissette/The Season (Swag'S Vocal Mix)\", 51: 'Alice Cooper/Drive Me Nuts (Cyber Trance Mix)', 52: 'Alice In Chains/05 - Mike Morovitz', 53: 'Alice In Chains/The Audio Pool', 54: 'Amy Winehouse/Le Vent Nous Portera', 55: 'Amy Winehouse/Frozen', 56: 'Amy Winehouse/Up All Night', 57: 'Amy Winehouse/Brisa Mulher', 58: 'Amy Winehouse/Where I Should Be', 59: 'Amy Winehouse/Four Horsemen', 60: 'Amy Winehouse/Leave The Day (Crystal Tears Remix)', 61: 'Amy Winehouse/Who Are You', 62: 'Amy Winehouse/Bucovina (Haaksman & Haaksman Soca Bogle Mix)', 63: 'Andrew Bird/Nämä Kolme Ovat Yhtä', 64: 'Animal Collective/The Come Up', 65: 'Animal Collective/Sweet Lullaby', 66: 'Animal Collective/Poster Of A Girl', 67: 'Annie/Whiskey Breath', 68: 'Antony And The Johnsons/Crank Dat', 69: \"Antony And The Johnsons/Isn'T It Nice?\", 70: 'Antony And The Johnsons/Lava Lava', 71: 'Antony And The Johnsons/02 - Libra', 72: 'Aqualung/Plots And Plans', 73: \"Arcade Fire/Goin' Down\", 74: 'Arcade Fire/La Flor De Estambul', 75: 'Arcade Fire/Megin Runar', 76: 'Arcade Fire/Rat Feathers', 77: 'Arcade Fire/04- Us & Them', 78: \"Arcade Fire/My Rose Of Waikiki (The 1940'S)\", 79: 'Arcade Fire/Cherchez Laghost', 80: 'Arcade Fire/Pot I Kreff', 81: 'Arcade Fire/Get Out Of My Head (Clean Lp Version)', 82: 'Arcade Fire/Human Fly', 83: \"Arcade Fire/Schindler'S List Piano\", 84: 'Arcade Fire/Sweet Sangria', 85: 'Arcade Fire/Reality Check', 86: 'Arcade Fire/Good Luck Charm', 87: 'Arcade Fire/Stereotypes', 88: 'Arcade Fire/Bye Bye', 89: 'Arcade Fire/Whole New World', 90: 'Arcade Fire/Her Room', 91: 'Arcade Fire/I Can Never Say', 92: 'Arcade Fire/The Wind That Shakes The Barley', 93: 'Arcade Fire/300 M.P.H. Torrential Outpour Blues', 94: 'Arcade Fire/The Razors Edge', 95: \"Architecture In Helsinki/You'Re Not Alone (Feat. Tara Mcdonald)\", 96: 'Architecture In Helsinki/Camdombeando Con  Claudita', 97: 'Architecture In Helsinki/An Ordinary Life', 98: 'Architecture In Helsinki/The Coast Is Always Changing', 99: 'Architecture In Helsinki/Les Baricades Misterieuses', 100: 'Architecture In Helsinki/Miss You', 101: 'Architecture In Helsinki/On And On', 102: 'Architecture In Helsinki/Ii Symfonia', 103: 'Architecture In Helsinki/I Feel It All', 104: \"Arctic Monkeys/I Can'T Come Down\", 105: 'Arctic Monkeys/No Woman No Cry', 106: 'Arctic Monkeys/Spiders', 107: 'Arctic Monkeys/Love That Girl', 108: 'Arctic Monkeys/Pop', 109: 'Arctic Monkeys/Festival', 110: 'Arctic Monkeys/Good Lad', 111: 'Arctic Monkeys/Mess Of Zero', 112: 'Arctic Monkeys/Sebastiana', 113: \"Arctic Monkeys/You'Re No Good\", 114: 'Arctic Monkeys/Walk Down By The River', 115: 'Arctic Monkeys/Diday Diday Day', 116: 'Arctic Monkeys/Paranoya', 117: 'Arctic Monkeys/Crazy Beat', 118: 'Arctic Monkeys/Fortune Faded', 119: \"Arctic Monkeys/Dead Man'S Will\", 120: 'Arctic Monkeys/New Fuhrer', 121: 'Arctic Monkeys/Röyksopp Forever', 122: 'Arctic Monkeys/Halo', 123: 'Arctic Monkeys/Compliments', 124: 'Aretha Franklin/Single Ladies (Put A Ring On It) (Dave Audé Club Mix)', 125: \"Art Brut/Don'T Look Back Into The Sun\", 126: 'Art Brut/Stop The Show', 127: 'Art Brut/Pineapple Mine Fields', 128: 'Art Brut/Op. 19 - Sehr Langsam', 129: 'At The Drive-In/The Light That Will Cease To Fail', 130: 'Audioslave/Hoppipolla', 131: 'Audioslave/The Immortal', 132: 'Audioslave/Child In You', 133: 'Audioslave/Going Down', 134: \"Audioslave/Atta' Boy\", 135: \"Babyshambles/Flora'S Secret\", 136: 'Band Of Horses/Marble House', 137: 'Basement Jaxx/Teenage Kicks', 138: \"Bat For Lashes/Worry 'Til Spring\", 139: 'Battles/The Killing Kind', 140: 'Be Your Own Pet/Tantra Bizarre', 141: 'Beastie Boys/Supermental', 142: 'Beastie Boys/Running Into Time', 143: 'Beck/No Easy Way Out', 144: 'Beck/Microphones', 145: 'Beck/My Boy Says', 146: \"Beck/Don'T Believe In Love\", 147: 'Beck/Fock Steen', 148: 'Beck/Orange', 149: 'Beck/All Apologies', 150: 'Beck/Slow Hands', 151: 'Beck/Conflict Resolution', 152: 'Beirut/Love Song For A Vampire (Performed And Written By Annie Lennox)', 153: 'Beirut/Penny Lane', 154: 'Beirut/Passion', 155: 'Beirut/High Water (For Charlie Patton)', 156: 'Beirut/Classical Favorites 2', 157: 'Beirut/Everyday I Write The Book', 158: 'Belle And Sebastian/Anything (Feat. Usher & Pharrell)', 159: 'Belle And Sebastian/Funkytown', 160: 'Belle And Sebastian/Introduction', 161: 'Belle And Sebastian/Cape Cod Kwassa Kwassa', 162: 'Belle And Sebastian/Kung Fu International', 163: 'Belle And Sebastian/Symphony No. 8: Ii. Spiritual Anarchy', 164: 'Belle And Sebastian/Tarantulove', 165: 'Belle And Sebastian/Robot Rock', 166: 'Belle And Sebastian/They Can Make It Rain Bombs', 167: 'Belle And Sebastian/Catch The Breeze', 168: 'Belle And Sebastian/Cross Your Fingers', 169: 'Belle And Sebastian/Stealing Society', 170: 'Belle And Sebastian/Man Made God', 171: 'Belle And Sebastian/High Above The Pastures', 172: 'Belle And Sebastian/Long Black Veil', 173: 'Belle And Sebastian/Bruise Violet', 174: 'Belle And Sebastian/Gdy Zostajesz U Mnie Na Noc (Po Co)', 175: 'Belle And Sebastian/Mein Prinz (Single Edit)', 176: 'Belle And Sebastian/Turn Back Now', 177: 'Belle And Sebastian/More Than Words', 178: 'Belle And Sebastian/Coda', 179: \"Belle And Sebastian/What'S The Frequency, Kenneth?\", 180: 'Belle And Sebastian/Superstition', 181: \"Belle And Sebastian/I Ain'T Your Savior\", 182: 'Belle And Sebastian/Hock It', 183: 'Benny Benassi/Aki No Kehai', 184: 'Björk/Fairy Godmother Song', 185: 'Björk/System.0.1 In C Major', 186: 'Björk/The Dark Elf', 187: 'Björk/Broken Chairs', 188: 'Björk/Clover Over Dover', 189: 'Björk/Between The Lines', 190: \"Björk/Freakin' You\", 191: 'Björk/Far Away (Album Version)', 192: 'Björk/Homeboys Cry Out For More', 193: 'Björk/Get Your Freak On', 194: 'Björk/Nine Lives', 195: 'Björk/Nina', 196: 'Björk/Laundromat Blues (Lp Version)', 197: 'Björk/Mano De Mono', 198: 'Björk/Astounded', 199: \"Björk/I'M Looking For A Girl\", 200: 'Björk/Tears From The Compound Eye', 201: 'Björk/Big Bad Moon', 202: \"Björk/I'Ll Be Missing You\", 203: 'Björk/King Of The Mountain', 204: 'Björk/Maria Virgin (Quem A Amagen Da Virgin)', 205: 'Björk/Love Me To The End', 206: 'Black Kids/Hide Abstract Jazz', 207: 'Black Rebel Motorcycle Club/Fuel (Live)', 208: \"Black Rebel Motorcycle Club/Pork Chop'S Little Ditty\", 209: 'Black Rebel Motorcycle Club/Two People In A Room', 210: 'Black Sabbath/Hungry Eyes', 211: 'Black Sabbath/Pride War', 212: 'Black Sabbath/13Th Of October 1307', 213: 'Blink-182/Unfinished Sympathy', 214: 'Blink-182/Don’T Even Trip', 215: 'Bloc Party/Madlib-Speto Da Rua Mix (Mocd-008)', 216: 'Bloc Party/Perfect', 217: 'Bloc Party/08 Supernaturale', 218: 'Bloc Party/The Performance', 219: 'Bloc Party/Strike', 220: \"Bloc Party/Cruisin'\", 221: 'Bloc Party/Pure Morning', 222: 'Bloc Party/A Little Priest', 223: 'Bloc Party/Leap Year', 224: 'Bloc Party/Pathetic', 225: 'Bloc Party/Testament - Let Go Of My World (Live)', 226: 'Bloc Party/Epic Torment', 227: 'Bloc Party/Ooh La La', 228: 'Bloc Party/Machete', 229: 'Bloc Party/Cry For The Weeper', 230: 'Bloc Party/My Angel Rocks Back And Forth', 231: 'Bloc Party/Vengeance', 232: 'Bloc Party/Ii. The Prey', 233: 'Bloc Party/Brighteyes', 234: 'Bloc Party/Too Young To Go Steady', 235: 'Bloc Party/Overweight Karate Kid', 236: 'Bloc Party/Oh Girl (I Wanna Be With You)', 237: 'Bloc Party/Belief In The Future', 238: 'Bloc Party/From The Aspect Of Darkly Illuminated', 239: 'Blonde Redhead/Death Favours The Enemy', 240: 'Blondie/Bir Kösede Yalniz', 241: \"Blondie/You Can'T Judge A Book By Its Cover\", 242: 'Blondie/Addiction (Demo)', 243: 'Blondie/Keep On Climbing', 244: 'Blondie/Take Me Back', 245: 'Blondie/Overfloater', 246: 'Blondie/Pink Moon', 247: 'Blur/Afrika Shox', 248: 'Blur/Per Gioco Per Amore', 249: 'Blur/Goodbye Duet', 250: 'Blur/Took You Two Years To Win My Heart', 251: 'Blur/Quick To Make It Happen (Dark Track)', 252: 'Blur/Meditation', 253: 'Blur/A Great Big Sled', 254: 'Blur/Kargyraa', 255: 'Blur/Goldberg Variations, Bwv 988: Xxvii. Variation 26', 256: 'Blur/Rote Riki', 257: 'Blur/Walk Away', 258: 'Blur/Ease Your Feet In The Sea', 259: 'Blur/Settled', 260: 'Boards Of Canada/Feels So Good', 261: 'Boards Of Canada/The Bitter End', 262: 'Boards Of Canada/Never (Past Tense) (Radio Edit)', 263: 'Boards Of Canada/Fort', 264: 'Boards Of Canada/Girl Vii', 265: 'Boards Of Canada/Medicine Dream (Drum Reprise)', 266: 'Boards Of Canada/Filosofía Barata Y Zapatos De Goma', 267: 'Boards Of Canada/Soon Enough', 268: 'Boards Of Canada/Bubble Life', 269: 'Boards Of Canada/Trying My Best To Love You', 270: 'Bob Dylan/20Th Century', 271: 'Bob Dylan/Certain Move', 272: 'Bob Dylan/The Art Of Falling', 273: \"Bob Dylan/She'S A Mover\", 274: 'Bob Dylan/The Deeper The Love', 275: 'Bob Dylan/Raw Hide', 276: 'Bob Dylan/Uncle Joe', 277: 'Bob Dylan/Human Behaviour', 278: 'Bob Marley & The Wailers/Right Equipment', 279: 'Bon Iver/Gravity', 280: 'Boy Division/Ize Of The World', 281: 'Bright Eyes/People Asking Why', 282: 'Bright Eyes/Heartsong', 283: 'Bright Eyes/Funky Acid Stuff', 284: 'Bright Eyes/I Love You', 285: 'Bright Eyes/Into The Galaxy', 286: 'Bright Eyes/Guilt Within Your Head', 287: 'Bright Eyes/Hotel Supernova', 288: \"Bright Eyes/You'Re So Damn Hot\", 289: 'Britney Spears/Open Arms', 290: 'Broken Social Scene/Afternoon Sister', 291: 'Broken Social Scene/Shedspace', 292: 'Broken Social Scene/Orion', 293: 'Broken Social Scene/March To The Shore', 294: 'Broken Social Scene/Red Berry Blossom', 295: 'Broken Social Scene/The Last Winged Unicorn', 296: 'Broken Social Scene/Yes, I Am Blind', 297: 'Broken Social Scene/Seven Nation Army', 298: 'Broken Social Scene/Sky Flowers', 299: 'Broken Social Scene/Golfer Vrs Boxer', 300: 'Broken Social Scene/Science', 301: 'Broken Social Scene/Kalla', 302: 'Broken Social Scene/Korana', 303: 'Broken Social Scene/(Before You Go) Curet Must Be Protected', 304: 'Broken Social Scene/Crime In The Pale Moonlight (Short Version)', 305: 'Broken Social Scene/Blackbird', 306: 'Cansei De Ser Sexy/Body', 307: 'Cansei De Ser Sexy/Tranquillo', 308: 'Cansei De Ser Sexy/Larrows Of The Field', 309: 'Cansei De Ser Sexy/Johnny', 310: 'Cansei De Ser Sexy/Cutting Branches For A Temporary Shelter', 311: 'Cansei De Ser Sexy/Mortals Watch The Day', 312: 'Cat Power/Get Up', 313: 'Cat Power/You Give Love A Bad Name', 314: 'Cat Power/Pastime Paradise', 315: 'Cat Power/Wave Of Mutilation (Uk Surf)', 316: 'Cat Power/Why? Why? Why? (Is It So Hard)', 317: 'Cat Power/Dog Eat Dog', 318: 'Cat Power/Becoming', 319: 'Chuck Berry/Riot Van', 320: 'Clap Your Hands Say Yeah/Your Eyes Open', 321: 'Clap Your Hands Say Yeah/Haemoglobin', 322: 'Clap Your Hands Say Yeah/Gold Chained Leopard Of The Ghetto', 323: 'Clap Your Hands Say Yeah/Common Knowledge', 324: 'Clap Your Hands Say Yeah/Tenant', 325: 'Clap Your Hands Say Yeah/Know Who Is Jah', 326: 'Clap Your Hands Say Yeah/Backdraft', 327: 'Clap Your Hands Say Yeah/Bad Cover Version', 328: 'Clap Your Hands Say Yeah/Laundry', 329: \"Clap Your Hands Say Yeah/Let'S Drag Our Feet!\", 330: 'Cocorosie/The Heartless', 331: 'Cocorosie/Paint It Black', 332: 'Cold War Kids/Caprice No. 16', 333: 'Coldplay/Cosmonaut', 334: 'Coldplay/09-15-00, Part One', 335: 'Coldplay/Vampire Heart', 336: 'Coldplay/Bullets', 337: 'Coldplay/I Love U', 338: 'Coldplay/Let Go', 339: 'Coldplay/Iamgray', 340: 'Coldplay/The Bells', 341: 'Coldplay/Silent Demise', 342: 'Coldplay/Et Sidste Kys', 343: 'Coldplay/Flutter', 344: 'Coldplay/Violently Happy (Fluke Well Tempered)', 345: 'Coldplay/In The Night', 346: 'Coldplay/Parachutes', 347: 'Coldplay/Straight From The Gate', 348: \"Coldplay/Allen'S Wrench\", 349: 'Coldplay/Haiti', 350: 'Coldplay/Buffer Drift', 351: 'Coldplay/My Journey To The Stars', 352: 'Coldplay/The Bumper Book Of Facts And Knowledge', 353: 'Coldplay/Lucifer', 354: 'Coldplay/Saturate', 355: 'Coldplay/Deadbolt', 356: 'Coldplay/In Search Of Hope Pt. 1', 357: 'Coldplay/Represent', 358: 'Coldplay/Les Cigarillos', 359: 'Coldplay/And So The Story Goes', 360: 'Coldplay/Two Halves', 361: 'Coldplay/Rapture', 362: 'Coldplay/Burn', 363: 'Coldplay/Give Yourself To Me', 364: 'Coldplay/Melancholy Clumps', 365: 'Coldplay/Candy Castle', 366: 'Coldplay/Turbo Dreams', 367: 'Coldplay/Dream', 368: 'Coldplay/Gods And Monsters', 369: 'Coldplay/All By Myself', 370: 'Coldplay/Travellers 4 Churchyard Entertainment', 371: 'Coldplay/Crash! (Album Version)', 372: 'Coldplay/But I Might Die Tonight', 373: 'Corinne Bailey Rae/Mr. Self Destruct (Live)', 374: 'Counting Crows/Hiss And Shake', 375: 'Counting Crows/Country Yard', 376: 'Cream/Der Achte Ozean', 377: 'Creedence Clearwater Revisited/Officer', 378: 'Creedence Clearwater Revisited/Die Götter Sind Weiss', 379: 'Creedence Clearwater Revisited/Time For Smiling', 380: 'Creedence Clearwater Revisited/Heavens Fall', 381: 'Crystal Castles/Two Sides', 382: 'Crystal Castles/Austin', 383: 'Cut Copy/Return To The Eve', 384: 'Cut Copy/Le Concert Des Couverts (Remix By Gng)', 385: 'Daft Punk/Swing The Cellar Door', 386: 'Daft Punk/Srxt', 387: 'Daft Punk/Tattoo', 388: 'Daft Punk/Cemetery Drive', 389: 'Daft Punk/Desire Lines', 390: 'Daft Punk/Sono Ancora In Coma', 391: 'Daft Punk/Parallel', 392: \"Daft Punk/L'Arrivée Sur L'Île\", 393: 'Daft Punk/Redneck Woman', 394: 'Daft Punk/The Meter Marks Ok', 395: \"Daft Punk/Where'S My Head\", 396: 'Daft Punk/Le Vieil Amant', 397: 'Daft Punk/I Wanna', 398: 'Daft Punk/Father Is Late', 399: 'Daft Punk/Prelude', 400: 'Daft Punk/Swing 2 Harmony (Matthew Dekay Mix)', 401: 'Daft Punk/Transylvania 90210', 402: 'Daft Punk/M.B.', 403: 'Daft Punk/The Girl Is Mine', 404: 'Daft Punk/The Last Shot Ringing In My Ears', 405: 'Daft Punk/High School Confidential', 406: 'Damien Rice/Once Upon A Time There Was An Ocean', 407: \"Damien Rice/Deep Sensation - Reelin' With The Feelin' - Original Mix\", 408: 'Damien Rice/Left', 409: 'Damien Rice/Jet Fighter', 410: 'Damien Rice/Norwegian Wood (This Bird Has Flown)', 411: 'Damien Rice/The Lighthousekeeper', 412: 'Damien Rice/No More Sorrow', 413: 'Dashboard Confessional/Living After Midnight', 414: 'David Bowie/Standing In For Joe', 415: 'David Bowie/Have Love Will Travel', 416: 'David Bowie/Radioresepsjonen 28.10.08', 417: 'David Bowie/06 - Mark Farina - Dream Farin', 418: \"David Bowie/Sally'S Song\", 419: 'David Bowie/Gerudo Valley', 420: 'David Bowie/Snowman', 421: \"David Bowie/The Dust Blows Forward 'N The Dust Blows Back\", 422: 'David Bowie/The Island', 423: 'David Bowie/Hornswoggle', 424: 'David Bowie/Black', 425: 'David Bowie/07 - The Crooked Man', 426: 'David Bowie/Vado Al Massimo', 427: 'David Bowie/The West Coast Rain', 428: 'David Bowie/Dream Glasses Off', 429: 'David Bowie/Hooray For Humans', 430: 'David Bowie/Lacho Dayo - Biaf Csardas - Friss Csardas', 431: 'David Gray/October Skies', 432: 'Dead Kennedys/Those Were The Days', 433: 'Dead Kennedys/Jah Help The Dread', 434: 'Death Cab For Cutie/Norgewian Wood', 435: 'Death Cab For Cutie/Marvo Ging', 436: 'Death Cab For Cutie/Adrift', 437: 'Death Cab For Cutie/See You Again', 438: 'Death Cab For Cutie/Got No Love', 439: 'Death Cab For Cutie/Inside My Mind (Blue Skies) (Elephant Remix)', 440: 'Death Cab For Cutie/Way Out West', 441: 'Death Cab For Cutie/Fantaisie, Opus 79', 442: 'Death Cab For Cutie/Selling The Wind', 443: 'Death Cab For Cutie/Маша', 444: 'Death Cab For Cutie/Overthought', 445: 'Death Cab For Cutie/Ocean Breathes Salty', 446: 'Death Cab For Cutie/Pippelin Pyörittäjien Kylä', 447: 'Death Cab For Cutie/Tire Me', 448: 'Death Cab For Cutie/Mind Of A Toy', 449: 'Death Cab For Cutie/Variatio 12, Canone All Quarta', 450: 'Death Cab For Cutie/Metropolitan Glide', 451: 'Death Cab For Cutie/Bring On, Bring On', 452: 'Death Cab For Cutie/Hours', 453: 'Death Cab For Cutie/Jesus, Etc.', 454: 'Death Cab For Cutie/Thy Kingdom Gone', 455: 'Death Cab For Cutie/The Dam At Otter Creek', 456: 'Death Cab For Cutie/Love You To', 457: 'Death Cab For Cutie/Palm Reader', 458: \"Death Cab For Cutie/54-46 That'S My Number\", 459: 'Death From Above 1979/Pista 34', 460: 'Death From Above 1979/A Lap Dance Is So Much Better When The Stripper Is Crying', 461: 'Death From Above 1979/Along Comes A Spider', 462: 'Death From Above 1979/Flow', 463: 'Death From Above 1979/02 - 04 - Daemon Lover', 464: 'Death From Above 1979/Julia', 465: 'Death From Above 1979/The League Of Extraordinary Nobodies', 466: 'Deep Purple/Rosa Parks', 467: 'Deep Purple/Homburg', 468: 'Deep Purple/Playboy', 469: 'Deftones/Talk To Me, Dance With Me', 470: 'Depeche Mode/Vienna', 471: 'Depeche Mode/Every-One Peace! (Luffy)', 472: 'Depeche Mode/Round The World', 473: 'Depeche Mode/Message In A Bottle', 474: 'Depeche Mode/Reason Why (Live)', 475: 'Depeche Mode/Through The Fire I Come', 476: 'Depeche Mode/Shadows', 477: 'Depeche Mode/Daddy Cool', 478: 'Depeche Mode/Whipping Tree', 479: 'Depeche Mode/My Hometown (2005-10-09)', 480: 'Depeche Mode/Parts & Wholes (Akio Milanpaak Mix)', 481: 'Depeche Mode/White Man', 482: 'Depeche Mode/Irradiated Non-Future (Dj Rekahoe Remix)', 483: 'Depeche Mode/Derelict', 484: 'Depeche Mode/Music For Silent Movies', 485: 'Depeche Mode/Educes Me', 486: 'Dexys Midnight Runners/Across The Universe', 487: 'Dido/Sidewinder', 488: 'Digitalism/No Reason To Complain', 489: 'Dire Straits/Cigarette In Your Bed', 490: 'Dire Straits/Bonus Track', 491: 'Dire Straits/Take The Veil Cerpin Taxt', 492: 'Dirty Pretty Things/An Audience With The Pope', 493: 'Dj Shadow/24', 494: \"Dj Shadow/The Same Boy You'Ve Always Known\", 495: 'Doves/Careless Minds', 496: 'Dread Zeppelin/Fuck The Valley Fudge', 497: 'Dread Zeppelin/El Rey Que Muncho Madruga', 498: 'Dread Zeppelin/Lotta Love (Acoustic)', 499: 'Dread Zeppelin/Iambic 5 Poetry', 500: 'Dread Zeppelin/Techmology V3', 501: \"Dread Zeppelin/Don'T Leave\", 502: 'Dread Zeppelin/Punk Rock Christmas', 503: 'Dread Zeppelin/I Want You', 504: 'Dread Zeppelin/Ballad Of A Broken Man', 505: 'Dread Zeppelin/Wake Me Up On Judgement Day', 506: 'Dread Zeppelin/Wear Your Love Like Heaven', 507: 'Dread Zeppelin/Soda (Munk Remix)', 508: 'Dread Zeppelin/Bananas', 509: 'Dread Zeppelin/Evacuation', 510: \"Duffy/At Least That'S What You Said\", 511: 'Dusty Springfield/She Said She Said', 512: \"Eagles/You Don'T Love Me\", 513: 'Echo & The Bunnymen/Burning Army Men', 514: 'Editors/Freestyle(Dissin Foxy Brown)', 515: 'Editors/K-Hole', 516: 'Editors/Is There Anybody Here But Me?', 517: 'Editors/Auntie Jane', 518: 'Editors/In My Arms', 519: \"Editors/You Don'T Own Me\", 520: 'Editors/Jupiter Approach', 521: \"Editors/Alan'S Psychedelic Breakfast\", 522: 'Editors/Her Voice Is Beyond Her Years', 523: 'Editors/Bring It On', 524: 'Elliott Smith/Burn It Up', 525: 'Elliott Smith/A Thousand Lies', 526: 'Elliott Smith/Tribulations', 527: 'Elliott Smith/One More Night', 528: 'Elliott Smith/I Believe In A Thing Called Love', 529: 'Elliott Smith/Let Me Watch You Make Love', 530: 'Elliott Smith/Circular Structure', 531: 'Elliott Smith/M.Dupont', 532: 'Elliott Smith/Diving Station', 533: 'Elliott Smith/Therapy Car Noise', 534: 'Elliott Smith/Rainy Night In Georgia', 535: 'Elliott Smith/Rocket Calculator', 536: 'Elliott Smith/The End Of An Act', 537: 'Elliott Smith/Do You Love Someone', 538: 'Elliott Smith/Corpsefiend', 539: 'Elvis Presley/Remembrances', 540: 'Evanescence/Where Good Intentions Go To Die', 541: 'Evanescence/The Norfolk Broads', 542: 'Evanescence/On The Low', 543: 'Evanescence/Dancing Nights', 544: 'Explosions In The Sky/Chez Nous', 545: 'Explosions In The Sky/Es Ist So, Dass Du Fehlst', 546: 'Explosions In The Sky/Gipirales', 547: 'Explosions In The Sky/The Body Of An American', 548: 'Explosions In The Sky/Code', 549: 'Faith No More/Ever Fallen In Love', 550: 'Faithless/Let Your Good Heart Lead You Home', 551: 'Faithless/Depth Charge Ethel', 552: 'Fall Out Boy/The Red Bullet', 553: 'Fall Out Boy/Absolute Lithops Effect', 554: 'Fatboy Slim/Mortming', 555: 'Fatboy Slim/A&E', 556: 'Feist/Hey Joni', 557: 'Feist/Run On (2006 Digital Remaster)', 558: 'Feist/Down', 559: 'Feist/Waste Time', 560: 'Feist/Hands Around My Throat', 561: 'Feist/Shout It Out Loud', 562: 'Feist/To Daimonion, Part Iii', 563: 'Feist/Claustrophobic Sting', 564: 'Feist/Hetzjagd Auf Nazis! (Live In Berlin 25.2.1994)', 565: 'Feist/Semi Charmed Life (Live)', 566: 'Feist/Signposts To Bedposts', 567: 'Feist/Ooops ( Utsula Head Remix )', 568: 'Feist/Theme From Shaft', 569: 'Feist/Hannibal Rising (Unabridged)', 570: 'Feist/Cosmonaut', 571: 'Feist/Lagrimae', 572: 'Feist/Slide In', 573: 'Feist/This Thing Called Progress', 574: 'Feist/Ndw 2005', 575: 'Fiona Apple/Tainted Love', 576: \"Fiona Apple/La Valse D'Amélie\", 577: 'Fischerspooner/One On One', 578: 'Fleet Foxes/A To B', 579: 'Fleet Foxes/Ooh Girl', 580: 'Fleet Foxes/One Hit', 581: 'Fleet Foxes/On Tomorrow', 582: 'Fleet Foxes/Pardon Me', 583: 'Fleet Foxes/Moondance', 584: 'Foo Fighters/In Silence', 585: 'Foo Fighters/The Cosmic Game', 586: 'Foo Fighters/Roberta C. (Version)', 587: 'Foo Fighters/Childhood', 588: 'Foo Fighters/Skinflower', 589: 'Foo Fighters/Lili Danse', 590: 'Foo Fighters/Nether Novas', 591: 'Foo Fighters/Not Right', 592: 'Foo Fighters/The Beatles', 593: 'Foo Fighters/Demon Sanctuary', 594: 'Foo Fighters/Magical Mystery', 595: 'Foo Fighters/Running Into Time Feat. Don Cash', 596: \"Franz Ferdinand/Rockin' Robin\", 597: 'Franz Ferdinand/Variable Geometry', 598: 'Franz Ferdinand/Sarnos In Space', 599: 'Franz Ferdinand/Breakout', 600: \"Franz Ferdinand/La Valse D'Amélie (Version Orchestre)\", 601: 'Franz Ferdinand/Twisted Emotion', 602: 'Franz Ferdinand/Requiem For Ernst-Hugo (1928-1998)', 603: 'Franz Ferdinand/Are You Gonna Go My Way', 604: 'Franz Ferdinand/I Love Life', 605: 'Franz Ferdinand/Common Cold', 606: 'Franz Ferdinand/Tired Of You', 607: 'Franz Ferdinand/Transit', 608: \"Franz Ferdinand/Love, You'Re Makin' All The Fools\", 609: 'Franz Ferdinand/Acid Test', 610: 'Franz Ferdinand/Never And After', 611: \"Franz Ferdinand/She'S My Tracks\", 612: 'Franz Ferdinand/Nazi Mindreader', 613: 'Franz Ferdinand/Calendar Girl', 614: 'Franz Ferdinand/Empty Heart', 615: 'Franz Ferdinand/Rent', 616: 'Franz Ferdinand/Lesson', 617: 'Franz Ferdinand/The Mess', 618: 'Franz Ferdinand/Creatures Of Love', 619: 'Frou Frou/Supermassive Black Hole', 620: 'Frou Frou/Reckoning', 621: 'Frou Frou/38-Love On The Terraces-Serious Drinking', 622: 'Frou Frou/Search And Destroy', 623: 'Frou Frou/Pies Descalzos', 624: \"Garbage/Doin' Time\", 625: \"Garbage/Country Livin' (The World I Know)\", 626: 'Garbage/Gangster Ass Anthony', 627: 'Gary Jules/Friends And Lovers', 628: 'Gnarls Barkley/Sea Of Doubts', 629: 'Gnarls Barkley/Por Que No Follais', 630: 'Gnarls Barkley/Blindfold', 631: 'Goldfrapp/Estrangé (Vinyl D2)', 632: 'Goldfrapp/If It Makes You Happy (Live)', 633: 'Goldfrapp/Will You Fade', 634: 'Goldfrapp/The Lodger', 635: 'Goldfrapp/The Parasomniacs', 636: 'Goldfrapp/Goodbye', 637: 'Goldfrapp/Little Children', 638: 'Goldfrapp/The Gate', 639: \"Goldfrapp/It'S All In My Head\", 640: 'Goldfrapp/Koi O Shitanaka (Day After Day After)', 641: 'Goldfrapp/Honestly Ok', 642: 'Goldfrapp/Dynamite', 643: 'Goldfrapp/Girl With No Eyes', 644: 'Goldfrapp/Alive', 645: \"Goldfrapp/I Really Should'Ve Gone Out Last Night\", 646: 'Goldfrapp/Madman', 647: 'Goldfrapp/Weapon Of Choice', 648: 'Goldfrapp/Darkness Round The Sun (Full Mix)', 649: 'Gorillaz/Station To Station', 650: 'Gorillaz/Noone Appreciates The Sky', 651: 'Gorillaz/Here Comes Santa Claus (Right Down Santa Claus Lane)', 652: 'Gorillaz/Season 03 Episode 18', 653: 'Gorillaz/Everything Is Broken', 654: 'Gorillaz/Liquid Reflective (Kling Klang)', 655: \"Gorillaz/Maybe God'S Trying To Tell You\", 656: 'Gorillaz/Dittany (Rmx)', 657: 'Gorillaz/Strange Glue', 658: \"Gorillaz/I'M Waiting For The Man\", 659: 'Gorillaz/The First Taste', 660: 'Gorillaz/Over And Done', 661: 'Gorillaz/Never Enough', 662: 'Gorillaz/Dead Man Blues', 663: 'Gorillaz/Come Together', 664: 'Gorillaz/Presidential Wave', 665: 'Gorillaz/Bye Bye Love', 666: 'Gorillaz/Christian Smith & John Selway - Giant', 667: 'Gorillaz/Lips Of Ashes', 668: 'Gorillaz/Summary', 669: 'Gorillaz/Dead Moon Rising', 670: 'Green Day/Trying Your Luck', 671: 'Green Day/Doll-Dagga Buzz-Buzz Ziggety-Zag', 672: 'Green Day/Here It Comes', 673: 'Green Day/Afterbirth (Album Version)', 674: 'Green Day/Early In The Morning Rain', 675: 'Green Day/Let Me Get Inside', 676: 'Green Day/Liquefy', 677: \"Guns N' Roses/The Garden\", 678: \"Guns N' Roses/Marco Polo\", 679: \"Guns N' Roses/Join Me In Death\", 680: \"Guns N' Roses/O My Love\", 681: \"Guns N' Roses/Nite Eats Day\", 682: \"Guns N' Roses/Pitter Patter Goes My Heart\", 683: \"Guns N' Roses/Wind Cries Mary\", 684: \"Guns N' Roses/Landmark\", 685: \"Guns N' Roses/Be Young, Be Foolish, Be Happy\", 686: 'Gwen Stefani/I Go To Extremes', 687: 'Hard-Fi/Blankest Year', 688: 'Hoobastank/Reign (Way Out West Remix)', 689: 'Hot Chip/Too Many Too', 690: 'Hot Chip/Stermalm', 691: 'Hot Chip/Marzuraan', 692: 'Hot Chip/Evening Call', 693: 'Hot Hot Heat/Nisse-Polkka (Ville Tuomi)', 694: 'Hot Hot Heat/Aim High', 695: 'Iggy Pop/Stay Tuned', 696: 'Imogen Heap/Birds', 697: 'Imogen Heap/Blown Away', 698: \"Imogen Heap/Heaven'S Fire Gates\", 699: 'Imogen Heap/Speak Slow', 700: 'Imogen Heap/A Bright Handless Man', 701: 'Incubus/Night Train', 702: 'Interpol/Skip Divided (Modeselektor Remix)', 703: 'Interpol/Seasons In The Abyss', 704: 'Interpol/Laid To Rest', 705: \"Interpol/Everyone'S A Loser\", 706: 'Interpol/Adelaide', 707: 'Interpol/Goldberg Variations, Bwv 988: Xiv. Variatio 13 A 2 Clav.', 708: 'Interpol/The Boy Looked At Johnny', 709: 'Interpol/Cold Deceit', 710: 'Interpol/Fight Song (The)', 711: 'Interpol/Floating Cult', 712: 'Interpol/Stop Look And Listen', 713: 'Interpol/Why Do I Lie?', 714: 'Interpol/Galdersbesjungen', 715: 'Interpol/She Moves In Her Own Way', 716: 'Interpol/River Of Sorrow', 717: 'Interpol/C.D.Kinematografii', 718: 'Interpol/Jockpunk', 719: 'Interpol/Trans Europe Express', 720: 'Interpol/Let Go', 721: 'Interpol/Two Sisters', 722: 'Interpol/Get Well Soon', 723: 'Interpol/Winged/Wicked Things', 724: 'Interpol/Ghost Bitch', 725: 'Interpol/Aneurysm', 726: 'Interpol/Spark', 727: 'Interpol/Download', 728: 'Interpol/Original Babylon', 729: 'Interpol/Bizet - Carmen Suite No 2, Dance Boheme', 730: 'Interpol/From A Buried Heart', 731: 'Interpol/Bad Stone', 732: 'Iron & Wine/Pink Batman', 733: 'Iron & Wine/Propaganda', 734: 'Iron & Wine/Hauskat Hautajaiset', 735: 'Iron & Wine/I Need You Back', 736: 'Iron & Wine/Flowers And Football Tops', 737: 'Iron & Wine/Let The Madness Begin', 738: 'Jack Johnson/Sick Sick Sick', 739: 'Jack Johnson/Ride The Snake', 740: 'Jack Johnson/My Sound', 741: \"Jack Johnson/Won'T Get Fooled Again\", 742: 'Jack Johnson/Pow R. Toc H.', 743: 'Jack Johnson/Money For Nothing', 744: 'James Blunt/Behind The Wheel', 745: \"James Blunt/The Dreaming - 'Ere The World\", 746: \"Jamiroquai/Opportunity (Montag'S I Love Her Remix)\", 747: \"Jeff Buckley/Please Don'T Touch\", 748: 'Jeff Buckley/Shadowsphere (The Monologue-World And The Subconscious Symbols)', 749: 'Jeff Buckley/Rien', 750: 'Jeff Buckley/Grandmother With Aids', 751: 'Jeff Buckley/Our Peggy Ate Her', 752: \"Jeff Buckley/You'Re The Ocean\", 753: 'Jefferson Airplane/No Brakes', 754: 'Jefferson Airplane/Soft', 755: 'Jem/The Future', 756: 'Jet/Cherry Twist', 757: 'Jimi Hendrix/Latnemurtsni', 758: 'Jimi Hendrix/Stand 2004 (Dancing) Part 4', 759: 'Jimi Hendrix/It Says Here', 760: 'Jimi Hendrix/Diesel Power', 761: \"Jimi Hendrix/Feats Don'T Fail Me Now\", 762: 'Jimi Hendrix/Hotel', 763: 'Jimi Hendrix/Enough Is Enough', 764: 'Jimmy Eat World/Robot Soul', 765: 'John Lennon/Let Me See You', 766: 'Johnny Cash/To One In Paradise', 767: 'Johnny Cash/Dub In Ya Mind (Beach Club Mix)', 768: \"Johnny Cash/Can'T Take My Eyes Off Of You\", 769: 'Johnny Cash/Ruff Way', 770: 'Johnny Cash/The Gathering', 771: 'Johnny Cash/Come With Us', 772: 'Johnny Cash/Blasting Cap', 773: 'José González/Cœur De Loup', 774: 'José González/The Curse', 775: 'José González/Soma', 776: 'Joy Division/Let It Be', 777: 'Joy Division/Indeed I Love You', 778: 'Joy Division/Mystery', 779: 'Joy Division/Keep On Dubbing', 780: 'Joy Division/Fell On Black Days', 781: 'Joy Division/Analyse', 782: 'Joy Division/Ivy Ivy', 783: 'Joy Division/Disorder', 784: \"Joy Division/Lord I Don'T Even Know My Name\", 785: 'Joy Division/Chime Again', 786: 'Joy Division/Island In The Sun', 787: 'Joy Division/Intro', 788: 'Joy Division/Week-End', 789: 'Joy Division/Summer In The City', 790: 'Joy Division/Lightsabre Cocksucking Blues (Live)', 791: 'Joy Division/The Park', 792: \"Joy Division/Not That Big (Feat. Imogen Heap) (Metronomy'S Not That Remix)\", 793: 'Joy Division/Stygge Lille Trine', 794: 'Joy Division/Buena Vista Social Club', 795: 'Joy Division/Вы Все Лишены Своей Жизни', 796: 'Joy Division/Gimme That', 797: 'Joy Division/The Thrill Is Gone', 798: 'Joy Division/She Bangs The Drums', 799: 'Joy Division/Augustus', 800: 'Joy Division/Altar Boy', 801: 'Joy Division/And/Or Techno Animal (Remix)', 802: 'Junior Senior/Sun Goes Down', 803: 'Justice/Del Cerro Park', 804: 'Justice/E.U.R.O.', 805: 'Justice/Bridge 05', 806: 'Justice/Shadowplay', 807: 'Justice/A Man Needs A Maid', 808: 'Justice/In A Cave', 809: 'Justice/Renegades Of Funk', 810: 'Justice/House Is A Feeling (Main Mix Instrumental)', 811: 'Justin Timberlake/Alien Nation', 812: 'Kaiser Chiefs/Floating In Love Tonite! (Extended Club Mix)', 813: 'Kaiser Chiefs/Switzerland (Edinburgh, Waterloo Bar 1984-12-19)', 814: 'Kaiser Chiefs/Tight Rope', 815: 'Kaiser Chiefs/The Diner/The Slant (Live)', 816: \"Kaiser Chiefs/Crossing On The Green Shadow'S Land\", 817: 'Kaiser Chiefs/Somebody To Love', 818: 'Kaiser Chiefs/Sit Down By The Fire', 819: 'Kaiser Chiefs/Glory Box (Mudflap Mix)', 820: 'Kaiser Chiefs/Here To Go', 821: 'Kaiser Chiefs/Indole Ring', 822: 'Kaiser Chiefs/My Love', 823: 'Kaiser Chiefs/The Boy With The Thorn In His Side', 824: 'Kanye West/S.F.W.', 825: 'Kanye West/Native Tongue', 826: 'Kasabian/The Funhouse', 827: 'Kasabian/Blind', 828: 'Kasabian/Africa', 829: 'Kasabian/Yume No Shima', 830: 'Kasabian/Parallel Lines', 831: 'Kasabian/Gateways Of Bereavement', 832: 'Kasabian/No Aire (Feat. Vast Aire)', 833: 'Kasabian/Fever 99', 834: 'Kasabian/In A Hole', 835: 'Kasabian/What Am I Doing Waisting My Time With You?', 836: 'Katy Perry/Deserve', 837: 'Keane/If You Know What I Know', 838: 'Keane/All The Wine', 839: 'Keane/The Things', 840: \"Keane/I'Ll Be There (Europa Xl Vocal Mix)\", 841: 'Keane/Rain Down On Me', 842: 'Keane/Motion Picture Soundtrack', 843: \"Keane/If There'S No Hope For Us (Rogue Version)\", 844: 'Keane/Teardrop', 845: 'Kimya Dawson/Poker Face (Jody Den Broeder Remix)', 846: 'Kings Of Convenience/Chcę Tego', 847: 'Kings Of Convenience/Aerial Tal', 848: 'Kings Of Convenience/Loving Pauper', 849: 'Kings Of Convenience/The District Sleeps Alone Tonight (Dj Downfall Persistent Beat Mix)', 850: 'Kings Of Convenience/Kashmir', 851: 'Kings Of Convenience/Charade', 852: 'Kings Of Convenience/Lead Injection', 853: 'Kings Of Convenience/The Derby', 854: 'Kings Of Convenience/Amie', 855: 'Kings Of Convenience/Ketchup Sandwich', 856: 'Kings Of Leon/Scenic World', 857: 'Kings Of Leon/Zero', 858: \"Kings Of Leon/I'M Dead\", 859: 'Kings Of Leon/Axe Of Men', 860: 'Kings Of Leon/The Distance Between Us', 861: 'Kings Of Leon/The Hours', 862: 'Kings Of Leon/Brother Of The Mayor Of Bridgewater', 863: 'Kings Of Leon/Lachlom', 864: 'Kings Of Leon/Ladies Of Spain', 865: 'Kings Of Leon/You Can Have It All', 866: \"Kings Of Leon/King'S Weed\", 867: 'Kings Of Leon/Dance Tonight', 868: 'Kings Of Leon/300 M.P.H. Torrential Outpour Blues', 869: 'Kings Of Leon/Dagger', 870: 'Kings Of Leon/Poison Street', 871: 'Kings Of Leon/Ilando Gima Onge', 872: 'Klaxons/Destination Anywhere', 873: 'Klaxons/Php Abstract Podcast Episode 6: Swiftmailer', 874: 'Klaxons/Terrible Angels', 875: 'Klaxons/Chase Me Off/Out', 876: 'Klaxons/Hell Above Water', 877: \"Klaxons/L'Via L'Viaquez\", 878: 'Klaxons/Bruises', 879: 'Klaxons/Skinlike (Equation Mix)', 880: 'Klaxons/Fire', 881: 'Kosheen/Middle Of Nowhere', 882: 'Kt Tunstall/La Breeze (Brian Eno Mix)', 883: 'Lady Gaga/Never Gone', 884: 'Ladytron/Unisphere', 885: 'Ladytron/Sentence', 886: 'Ladytron/London Leatherboys', 887: 'Ladytron/Cris Chana', 888: 'Ladytron/Slavedriver', 889: 'Ladytron/Absolute Zero Drive', 890: 'Ladytron/Peer Police', 891: 'Ladytron/All This Will Pass', 892: 'Lamb/Intro(Armayiee)', 893: \"Lamb/I'M On Fire (Bruce Springsteen Cover)\", 894: 'Late Of The Pier/Humans', 895: 'Lcd Soundsystem/Birds', 896: 'Lcd Soundsystem/Faster Disco', 897: 'Lcd Soundsystem/Bone Bag', 898: 'Lcd Soundsystem/Angola', 899: 'Lcd Soundsystem/Oh! Darling', 900: 'Lcd Soundsystem/The Bends', 901: 'Lcd Soundsystem/Complicated Situation', 902: 'Led Zeppelin/Bongo Bong', 903: 'Led Zeppelin/Cuore', 904: 'Led Zeppelin/Rotting Away Is Better Than Being Gay', 905: 'Led Zeppelin/Another Breakfast With You', 906: 'Led Zeppelin/Pinch Roller', 907: 'Led Zeppelin/Screenager', 908: 'Led Zeppelin/Cenere', 909: 'Led Zeppelin/Thunder On The Mountain', 910: 'Led Zeppelin/Travel Is Dangerous', 911: 'Led Zeppelin Jam/Theme Song', 912: \"Led Zeppelin Jam/This Isn'T Maybe (Radio Edit)\", 913: 'Lez Zeppelin/What People Are Made Of', 914: 'Lez Zeppelin/Plane To Spain', 915: \"Lez Zeppelin/Don'T You Know\", 916: 'Lez Zeppelin/You And I (Nathalie)', 917: 'Lez Zeppelin/Ruff In The Jungle Bizness', 918: 'Lily Allen/Absent Friends: Absent Friends / Ivory Lady', 919: 'Lily Allen/Tidal Wave', 920: 'Lily Allen/Sometimes I Feel It', 921: 'Lily Allen/Something', 922: 'Lily Allen/Sculpting The Throne Ov Seth', 923: 'Lily Allen/Half Day Closing', 924: 'Lily Allen/I Write Sins Not Tragedies', 925: 'Lily Allen/Ice Queen', 926: 'Limp Bizkit/A Chico A Rhytmico', 927: 'Linkin Park/Resist The Transistor', 928: \"Linkin Park/Don'T Fall\", 929: 'Linkin Park/End Of May', 930: 'Lou Reed/Bebe, Arrota E Peida', 931: 'Lou Reed/The Pot', 932: \"Ludwig Van Beethoven/Arjen'S Bag\", 933: 'Lynyrd Skynyrd/Shh', 934: \"M.I.A./We Share Our Mother'S Health (Trentemoller Mix)\", 935: 'M.I.A./How We Know', 936: 'M.I.A./The Waiter', 937: 'M.I.A./Interviews With The Band', 938: 'M.I.A./Breathless', 939: 'M.I.A./Winds Of Destiny (Instrumental)', 940: 'M83/18 We Are Depravated People', 941: \"M83/The Sun Doesn'T Want To Shine\", 942: 'Madonna/Juan Loco', 943: 'Madonna/Lullaby', 944: 'Marilyn Manson/To Have Or To Be', 945: 'Marilyn Manson/Twist Y Gritos', 946: 'Maroon 5/Amputations', 947: \"Maroon 5/U Can'T Touch This\", 948: 'Massive Attack/Fake French', 949: \"Massive Attack/I'M Happy Your Grave Is Next To Mine\", 950: 'Massive Attack/Korea', 951: 'Massive Attack/Shankill Butchers', 952: \"Massive Attack/It'S Cool, We Can Still Be Friends\", 953: 'Massive Attack/Suliram', 954: 'Massive Attack/Metaphor And Metonymy I [5]', 955: 'Massive Attack/Spiralling', 956: 'Massive Attack/Rid Of Me', 957: 'Massive Attack/Drug War', 958: 'Massive Attack/Affetmem Asla Seni', 959: 'Massive Attack/How To Be So Real', 960: 'Massive Attack/Flower', 961: \"Massive Attack/Let'S Dance\", 962: 'Massive Attack/Show Me Forgiveness', 963: \"Massive Attack/Don'T Let Go The Coat\", 964: 'Massive Attack/Spellbound Concerto', 965: 'Massive Attack/The World Is Not Enough', 966: 'Massive Attack/Keeper Of The Seven Keys (Remix)', 967: 'Massive Attack/The Humpty Dance', 968: 'Massive Attack/No Holding Back (Feat. Az & Cormega)', 969: 'Maxïmo Park/Return To Nod', 970: 'Maxïmo Park/As I Die', 971: 'Maxïmo Park/In My Soul (Feat. Laura Vane)', 972: 'Maxïmo Park/Screecher', 973: 'Mazzy Star/Le Monster', 974: 'Metallica/Come On Home', 975: 'Metallica/Scratch Bass', 976: 'Metallica/The Guns Of Brixton', 977: 'Metallica/Over And Over Again (Lost And Found)', 978: 'Metallica/Firestarter', 979: 'Metallica/Mark Ronson In Studio', 980: 'Metallica/Life Is A Flower (Absolom Remix)', 981: \"Metallica/If You'Re Not With Us You Are Against Us\", 982: 'Metric/Dead End Street', 983: 'Metric/Camptown Races (Take 1)', 984: 'Metric/Bellevue Ave', 985: 'Metric/I Get Excited', 986: 'Metric/Hello, I Love You', 987: 'Metric/Johnny Johnny', 988: \"Mgmt/Papa Was A Rollin' Stone\", 989: 'Mgmt/Yattsuke Shigoto', 990: \"Mgmt/Promises (Beyond The Wizard'S Sleeve Reanimation)\", 991: 'Mgmt/Pictures Of Matchstick Men', 992: 'Mgmt/Over Your Shoulder', 993: 'Mgmt/537 Cuba', 994: 'Mgmt/Blind', 995: 'Mgmt/Stone Dead Forever', 996: 'Mgmt/Becoming More Like Alfie', 997: 'Mgmt/Down Under', 998: \"Michael Jackson/Expect The Worst/'Cos She'S A Tourist\", 999: 'Michael Jackson/Truth And Rights', 1000: \"Michael Jackson/We Don'T Play Guitars\", 1001: 'Michael Jackson/February', 1002: \"Mika/Anyone Who'S Anyone\", 1003: 'Mika/Kill The Mosquito', 1004: 'Miles Davis/Limp', 1005: 'Moby/1,000 Miles Away', 1006: 'Moby/Fall Winter 2008-2009', 1007: 'Moby/Hail, Hail', 1008: 'Moby/Il Cattivo (Original Mix)', 1009: 'Moby/Pretty Things', 1010: 'Moby/In Your Back', 1011: 'Moby/Bang Bang Rock & Roll', 1012: \"Moby/Don'T Get Me Wrong\", 1013: 'Moby/Trippy Green Skull', 1014: 'Moby/Cemetery Gates', 1015: \"Moby/I'Ll Try Something New\", 1016: 'Modest Mouse/Tobacco Road', 1017: 'Modest Mouse/Scratchrock', 1018: 'Modest Mouse/Child Of Dust', 1019: 'Modest Mouse/Spring Cleaning', 1020: 'Modest Mouse/1St First Then Reverse', 1021: \"Modest Mouse/Livin' For The City\", 1022: 'Modest Mouse/Wishing On A Star', 1023: 'Modest Mouse/Spoonman', 1024: \"Modest Mouse/Don'T Be Afraid\", 1025: 'Modest Mouse/Inside-Looking Out', 1026: 'Modest Mouse/Last Chance For A Slow Dance', 1027: 'Modest Mouse/Black Mountain', 1028: 'Modest Mouse/Keep On Rockin It', 1029: 'Modest Mouse/If You Wanted', 1030: 'Modest Mouse/Voices Of The Night', 1031: 'Modest Mouse/Running With Scissors', 1032: \"Modest Mouse/Don'T Cry For Me Argentina (Instrumental)\", 1033: \"Modest Mouse/They'Ve Come For Me (Nightmares Pt. 2)\", 1034: 'Modest Mouse/Lilac Wine', 1035: 'Modest Mouse/Temptation', 1036: 'Modest Mouse/Volver A Disfrutar', 1037: 'Modest Mouse/No Special Bed', 1038: 'Modest Mouse/And Keep Smiling', 1039: 'Modest Mouse/My World', 1040: 'Modest Mouse/Crazy For You', 1041: 'Modest Mouse/Find Comfort In Yourself', 1042: 'Modest Mouse/Mazecity', 1043: 'Modest Mouse/Pardon Me Girl', 1044: 'Mogwai/Waves', 1045: 'Mogwai/Southern Belle', 1046: 'Mogwai/Act Iii: Carnal Delight In The Vortex Of Evil', 1047: 'Mogwai/Rockstar', 1048: 'Mogwai/All The Lazy Dykes', 1049: 'Mogwai/Love Will Tear Us Apart', 1050: 'Mogwai/Your Protector', 1051: 'Moloko/Thalhiem', 1052: 'Morrissey/Death Valley Clapperboard', 1053: 'Morrissey/She Can Get It (Skit)', 1054: 'Morrissey/Retrato', 1055: 'Mott The Hoople/Babylon Is Fallen', 1056: 'Motörhead/Angels', 1057: \"Muse/Bunny Ain'T No Kind Of Rider\", 1058: 'Muse/The Charm Offensive', 1059: 'Muse/Miss Clare Remembers', 1060: 'Muse/Radio Valkrieone', 1061: 'Muse/Covers', 1062: 'Muse/The Ropes', 1063: 'Muse/Declaration Of Independence', 1064: 'Muse/Half Moon', 1065: 'Muse/Good Ways', 1066: 'Muse/Nafha', 1067: 'Muse/Cry Osaka Cry', 1068: 'Muse/Shrine Of Life', 1069: 'Muse/Looped', 1070: 'Muse/Banking On A Myth', 1071: 'Muse/Slur', 1072: 'Muse/Le Tigre-Dude Yr So Crazy', 1073: 'Muse/Schubert : Gretchens Bitte D564', 1074: 'Muse/Lemon Incest', 1075: 'Muse/Treefingers', 1076: 'Muse/Horses In My Dreams', 1077: 'Muse/Subside', 1078: 'Muse/Jak Zioła', 1079: 'Muse/Chameleon', 1080: 'Muse/Above And Below', 1081: 'Muse/This Is Love', 1082: 'Muse/Céu Distante', 1083: 'Muse/Anywhere', 1084: 'Muse/Track 1', 1085: 'Muse/Rise And Fall', 1086: 'Muse/On A Roll Man', 1087: 'Muse/Disconnect', 1088: 'Muse/In Memoriam', 1089: 'Muse/Boa Constrictor', 1090: 'Muse/The 3Rd Time We Opened The Capsule', 1091: 'Muse/Blue, Blue, Blue Beat', 1092: 'Muse/My Big Nurse', 1093: 'Muse/Krakkatowiak (Excerpt)', 1094: 'Muse/Future Farmers Of America', 1095: 'Muse/Sideways, Here We Come', 1096: 'Muse/Memphis', 1097: 'Muse/Grace', 1098: \"Muse/Thursday'S Child\", 1099: 'My Bloody Valentine/Plays John Cassavettes Pt. 2: Ekkehard Ehlers', 1100: 'My Bloody Valentine/Dark Was The Night -- Cold Was The Ground', 1101: 'My Bloody Valentine/Under The Influence Of Love', 1102: 'My Bloody Valentine/Nude', 1103: 'My Bloody Valentine/Tenth Dimension', 1104: 'My Bloody Valentine/Poison Cup', 1105: 'My Bloody Valentine/Green Onions', 1106: \"My Bloody Valentine/You'Re Welcome\", 1107: \"My Bloody Valentine/Walton'S Bluff\", 1108: 'My Chemical Romance/Love Time', 1109: 'Mylo/Voice Of The Voiceless', 1110: 'Mylo/Side Of The Road', 1111: 'Natalie Imbruglia/Ian Curtis & Stephen Morris Interviewed By Richard Skinner', 1112: 'Neil Young/Talk', 1113: 'Neil Young/Rocket Man', 1114: \"Nelly Furtado/Don'T Stop The Rock - Freestyle\", 1115: 'Nelly Furtado/Le Temps Du Deuil', 1116: 'Nelly Furtado/Timeless', 1117: \"Neutral Milk Hotel/Twisted Transistor (Kupper'S Elektro-Tek Radio Edit)\", 1118: 'Neutral Milk Hotel/The Hideaway', 1119: 'Neutral Milk Hotel/Plume', 1120: 'Neutral Milk Hotel/Dead Souls', 1121: 'Neutral Milk Hotel/Securitron (Police State 2000)', 1122: 'Neutral Milk Hotel/Clockwork', 1123: 'Neutral Milk Hotel/Alice (No Pais Da Malandragem)', 1124: 'New Order/Everyday', 1125: 'New Order/Herd Killing', 1126: 'New Order/The Living Dead', 1127: 'New Order/Love My Way', 1128: 'New Order/Llévame', 1129: 'Nick Cave & The Bad Seeds/Teagen', 1130: 'Nick Drake/Come Rain Or Come Shine', 1131: 'Nick Drake/Annihilation Of The Wicked', 1132: 'Nick Drake/Undeniable Hate', 1133: 'Nick Drake/Never Felt Before', 1134: 'Nick Drake/The Heart Of Rock & Roll', 1135: 'Nick Drake/Bike Scene', 1136: 'Nick Drake/This Sacrament', 1137: 'Nick Drake/Save The Youth (Kenny Dope Edit)', 1138: 'Nickelback/Milkshake (Dancehall Remix)', 1139: 'Nine Inch Nails/Tonight, I Am Going To Wash The Hippy', 1140: 'Nine Inch Nails/Let There Be Rock (Demo, 1998)', 1141: 'Nine Inch Nails/Unicorn', 1142: 'Nine Inch Nails/Stars', 1143: 'Nine Inch Nails/The Dark Of The Matinée', 1144: 'Nine Inch Nails/The Funny Bird', 1145: 'Nine Inch Nails/Heavyweight', 1146: 'Nine Inch Nails/Make Love', 1147: 'Nine Inch Nails/Arm Your Soul', 1148: 'Nine Inch Nails/Tempus Horizon', 1149: 'Nine Inch Nails/All I Need', 1150: 'Nine Inch Nails/Bed Sheet', 1151: 'Nine Inch Nails/Animals', 1152: 'Nine Inch Nails/Over', 1153: \"Nine Inch Nails/What I'Ve Done\", 1154: 'Nine Inch Nails/The Len Ganley Stance', 1155: 'Nine Inch Nails/The Eraser', 1156: 'Nirvana/Who I Am', 1157: 'Nirvana/U Got 2 Know', 1158: 'Nirvana/Disfigured Beyond Recognition', 1159: 'Nirvana/Bad Beat', 1160: 'Nirvana/Incomplete', 1161: 'Nirvana/Reaching Out For You', 1162: 'Nirvana/Highway Star', 1163: 'Nirvana/Pretty Green (Feat. Santogold)', 1164: 'Nirvana/More Adventurous', 1165: 'Nirvana/Miss Murder (Vnv Nation Remix)', 1166: 'Nirvana/Still', 1167: 'Nirvana/Here Come The Fleas', 1168: 'Nirvana/Everybody Knows You Cried Last Night', 1169: 'Nirvana/Hamburger Train', 1170: 'Nirvana/Brine', 1171: 'Nirvana/Stéphane Visite Appart', 1172: 'Nirvana/Claire De Lune', 1173: 'Nirvana/On The Run [Radio Edit Original]', 1174: 'Nirvana/Terrhetoric', 1175: 'Nirvana/Groovy Dub', 1176: 'Nirvana/The Wrong Side Of The World', 1177: 'Nirvana/Myxomatosis. (Judge, Jury & Executioner.)', 1178: 'Nirvana/Stork & Owl', 1179: 'Nirvana/La Breeze (Simian Mobile Disco Remix)', 1180: 'Nirvana/What A Lovely Dance', 1181: 'Nirvana/Your Hand In Mine', 1182: \"Nirvana/I'D Love You Baby\", 1183: 'No Doubt/The Country Life', 1184: 'No Doubt/Bedroom Toys', 1185: 'Norah Jones/African Beat', 1186: 'Norah Jones/A Track And A Train', 1187: 'Norah Jones/Love Is No Big Truth', 1188: 'Nouvelle Vague/Chain Reaction', 1189: 'Nouvelle Vague/Genom Screams -Special Thanxx Rmx-', 1190: 'Nouvelle Vague/Q-Chord', 1191: 'Nouvelle Vague/Feels Like Sex', 1192: \"Oasis/You'Re A Woman, I'M A Machine\", 1193: 'Oasis/All Night Long', 1194: 'Oasis/Autopilot', 1195: 'Oasis/Lawless', 1196: 'Oasis/Love Is Blind', 1197: 'Oasis/My Fave Ex-Wife', 1198: 'Oasis/Dirty Frank', 1199: 'Oasis/Fantasy', 1200: \"Oasis/Desert Dancer (Zeb'S Slow Camel Ride Remix)\", 1201: 'Oasis/North To Alaska', 1202: \"Oasis/Lyin' Eyes\", 1203: 'Oasis/Singaround I Yorkshire', 1204: 'Oasis/Sidewalk Serfer Girl', 1205: 'Oasis/Hard Rock Hallelujah [Full Album Version]', 1206: 'Oasis/Place In The Country', 1207: 'Oasis/Breakdown (Mono 45 Version)', 1208: 'Oasis/Indefinitely', 1209: 'Oasis/But, Honestly', 1210: \"Of Montreal/Girls' School\", 1211: 'Of Montreal/Phoenix', 1212: 'Ok Go/Woods', 1213: 'Outkast/Murhamiesi', 1214: 'Panic At The Disco/Hanging Out & Hung Up On The Line', 1215: 'Panic At The Disco/House Where We All Live', 1216: 'Panic At The Disco/Howling (Tv Size Version)', 1217: 'Panic At The Disco/Thumbelina', 1218: 'Panic At The Disco/Bonus Track', 1219: 'Pavement/Kometenmelodie 2', 1220: 'Pearl Jam/08  Midnight Snack', 1221: 'Pearl Jam/Rebellion (Lies)', 1222: 'Pearl Jam/Minions', 1223: 'Pearl Jam/Got To Get You Out Of My Head (Live)', 1224: 'Pearl Jam/The Cage', 1225: 'Peter Bjorn And John/Mr. Brightside', 1226: \"Phantom Planet/Baby, I'M Yours\", 1227: 'Pink Floyd/Run From Home', 1228: \"Pink Floyd/Cupid'S Trick\", 1229: 'Pink Floyd/Someday My Prince Will Come', 1230: 'Pink Floyd/Room 5', 1231: 'Pink Floyd/Baby', 1232: 'Pink Floyd/Lonely Hearts Still Beat The Same', 1233: 'Pink Floyd/Galang', 1234: 'Pink Floyd/English House', 1235: 'Pink Floyd/One Step Behind', 1236: 'Pink Floyd/Like The Rest Of Us', 1237: 'Pink Floyd/Disenchanted', 1238: 'Pink Floyd/Where Did You Sleep Last Night? (Live)', 1239: 'Pink Floyd/Feel Good Inc.', 1240: 'Pink Floyd/Fight Test', 1241: 'Pink Floyd/Heart Of Soul', 1242: 'Pink Floyd/Chasing The Sun', 1243: 'Pink Floyd/Summer Love', 1244: 'Pink Floyd/Further', 1245: 'Pink Floyd/A Lung', 1246: 'Pink Floyd/Different Worlds', 1247: 'Pink Floyd/Gentle Storm', 1248: \"Pink Floyd/Saturday'S Gone\", 1249: 'Pink Floyd/Feelgood By Numbers', 1250: 'Pink Floyd/Over And Over', 1251: 'Pink Floyd/The Other Side Of Summer', 1252: 'Pink Floyd/Airwaves Backwards', 1253: 'Pink Floyd/Reel Life (Evolution Ii)', 1254: 'Pink Floyd/Slip Into Something More Comfortable', 1255: 'Pink Floyd/爱的代价', 1256: 'Pixies/Silver Wheels', 1257: 'Pixies/Lilly Gilders', 1258: 'Pixies/All The Way', 1259: 'Pixies/It Could Be Sweet', 1260: 'Pixies/Avalon', 1261: 'Pixies/Stork & Owl', 1262: 'Pixies/Questions', 1263: 'Pixies/In My Memory', 1264: 'Pixies/Her Ghost In The Fog', 1265: 'Pixies/Mr. Knowitall', 1266: 'Pixies/Moscow Olympics', 1267: \"Pixies/Toejam And Earl 'Jamesbrowninspace' Oc Remix\", 1268: 'Pixies/Radios In Heaven', 1269: 'Pixies/43C', 1270: 'Pixies/Texture', 1271: \"Pixies/I Know There'S An Answer\", 1272: 'Pixies/Baby Be Mine', 1273: 'Pixies/Suite In D Minor: Prlude', 1274: 'Pixies/Cruz De Navajas', 1275: 'Pixies/Одна Любовь (Gay&Lesbian Version)', 1276: 'Pixies/Nightclubbing', 1277: 'Pixies/Twilight Of The Flies', 1278: \"Pixies/What'S This?\", 1279: 'Pj Harvey/Asilos Magdalena', 1280: 'Pj Harvey/40 Ft', 1281: 'Pj Harvey/Paper Planes', 1282: 'Pj Harvey/Little Black Sandals', 1283: \"Placebo/Prayin' For A Party (Lp Version)\", 1284: 'Placebo/Let The Drummer Kick', 1285: 'Placebo/I Love 1991', 1286: 'Placebo/Why Should I Love You', 1287: 'Placebo/The Jester Race', 1288: 'Placebo/Kill Caustic', 1289: 'Placebo/Spike The Senses', 1290: 'Placebo/Rape Me (Nirvana)', 1291: 'Placebo/Time Bomb (Ramones Cover)', 1292: 'Placebo/Us Mill', 1293: 'Placebo/Joy Ride', 1294: 'Placebo/Karaoke Plays', 1295: 'Placebo/Top Expert', 1296: 'Placebo/Legacy Of Kings', 1297: \"Placebo/The World'S Greatest\", 1298: 'Placebo/Big Indian', 1299: 'Placebo/Aftermath', 1300: 'Placebo/I Summon You', 1301: 'Placebo/Uraqt', 1302: 'Placebo/Bloody Mix By C-Drik', 1303: 'Placebo/Thierry Robin', 1304: 'Placebo/Under Pressure (Feat. Michael Gira)', 1305: 'Placebo/Kyuushutsu Seikou', 1306: 'Placebo/G.M.F.', 1307: 'Placebo/Let It Down', 1308: 'Placebo/Move On Up', 1309: 'Placebo/Seasonspeech', 1310: 'Placebo/My Old Faded Rose', 1311: 'Placebo/Four Ton Mantis', 1312: 'Placebo/Woe', 1313: 'Placebo/Us And Them', 1314: \"Plain White T'S/Dreams And Aspirations (Ft. Stoney Rock, Adad And Kp)\", 1315: 'Portishead/Little Sister', 1316: 'Portishead/Nanook Rubs It', 1317: \"Portishead/Yesterday'S Tomorrow\", 1318: 'Portishead/The Jackals - Things Change', 1319: 'Portishead/Stay Another Day', 1320: 'Portishead/I Wanna Be A Homosexual', 1321: 'Portishead/Pyromane', 1322: 'Portishead/We Stood Transfixed In Blank Devotion As Our Leader Spoke To Us, Looking Down On Our Mute Faces With A Great, Raging, And Unseeing Eye.', 1323: 'Portishead/Stepping Stone', 1324: 'Portishead/She Cracked (Live)', 1325: 'Portishead/Our House (Stretch Mix)', 1326: 'Portishead/The Moment Of Our Love', 1327: 'Portishead/[Silence]', 1328: \"Portishead/I Can'T Make Music\", 1329: 'Portishead/Straight To Video (The Birthday Massacre Dramaclub Mix)', 1330: 'Portishead/Part Of Me (Part Ii)', 1331: 'Portishead/Omega Blaster', 1332: 'Portishead/The House Song', 1333: 'Portishead/Honeymoon In San Francisco', 1334: 'Portishead/The Rhythm Of The Night', 1335: 'Portishead/When The War Came', 1336: 'Portishead/Mister Ant', 1337: 'Portishead/Dark Temper', 1338: 'Portishead/Clouds Across The Moon', 1339: 'Portishead/Bad Diary Days', 1340: 'Portishead/The Last Page', 1341: 'Prince/Sensation No. 5', 1342: 'Public Enemy/So Damn Clever', 1343: 'Pulp/Someone Like The Moon', 1344: 'Pulp/Fly Around My Pretty Little Miss', 1345: \"Pulp/Gypsy'S Curse\", 1346: 'Queen/Non-Pythagorean Composition 3', 1347: 'Queen/Mobira', 1348: 'Queen/One Of My Turns', 1349: 'Queen/Be A Sinner', 1350: 'Queen/All I Want', 1351: 'Queen/Can You Find Me Love', 1352: 'Queen/The Strigger', 1353: 'Queen/Hoops', 1354: 'Queen/Circus', 1355: 'Queen/The Vagabond', 1356: 'Queen/20Th Century Boy', 1357: 'Queen/Miss Teardrop', 1358: 'Queen/Your Mind Belongs To The State', 1359: \"Queen/I'M In The Mood\", 1360: 'Queen/Apply Some Pressure', 1361: 'Queen/Who Do You Think', 1362: 'Queen/Summertime', 1363: 'Queens Of The Stone Age/Kind Of Girl', 1364: 'Queens Of The Stone Age/Still Here (Feat. Eska)', 1365: 'Queens Of The Stone Age/House Of Cards', 1366: 'Queens Of The Stone Age/La Chambre', 1367: 'Queens Of The Stone Age/Sleeping With Ghosts', 1368: 'Queens Of The Stone Age/What Good This Deafness', 1369: \"Queens Of The Stone Age/Hangin' Around\", 1370: 'Queens Of The Stone Age/The Things I Tell You', 1371: 'Queens Of The Stone Age/Fair To You', 1372: 'Queens Of The Stone Age/Sharkhammer', 1373: 'Queens Of The Stone Age/The Lyre Of Orpheus', 1374: 'Queens Of The Stone Age/Strange Times', 1375: 'Queens Of The Stone Age/Kiss Of Life', 1376: 'R.E.M./The Child Beneath', 1377: 'R.E.M./Louise', 1378: 'R.E.M./On Any Other Day', 1379: \"R.E.M./I Just Don'T Know What To Do With Myself\", 1380: \"Radiohead/I Wasn'T Kidding (Freemasons Remix)\", 1381: 'Radiohead/Rilkean Heart', 1382: 'Radiohead/Was It You?', 1383: 'Radiohead/How Long Will They Mourn Me? (Feat. Nate Dogg)', 1384: 'Radiohead/Your Funk Is Fine', 1385: \"Radiohead/I'M Waiting For The Day\", 1386: 'Radiohead/Moonlight Drive', 1387: 'Radiohead/Heat It Up', 1388: 'Radiohead/Slaves Shall Serve', 1389: 'Radiohead/Flat (Dimbiman Feat. Cabanne Remix)', 1390: 'Radiohead/Pieces Mended', 1391: 'Radiohead/Little Girl Blue', 1392: 'Radiohead/You Will Never Change', 1393: 'Radiohead/36', 1394: 'Radiohead/One More Time', 1395: 'Radiohead/Cars Hiss By My Window', 1396: 'Radiohead/Journey Through Sankuan Pass', 1397: 'Radiohead/Chinese Radiation', 1398: 'Radiohead/Violin Concerto In G Major, Op. 11 No. 4: Ii. Largo Cantabile', 1399: 'Radiohead/Piece Of Me (Bimbo Jones Radio Edit)', 1400: \"Radiohead/Space Is The Place (Feat. Sun Ra'S Arkestra)\", 1401: 'Radiohead/Cryptomnesia', 1402: 'Radiohead/Love Me To The End', 1403: 'Radiohead/Thoughts Behind The Scene', 1404: \"Radiohead/I'Ve Got A Life\", 1405: 'Radiohead/Bemused, Confused And Bedraggled', 1406: 'Radiohead/Raindrops Keep Falling On My Head', 1407: 'Radiohead/La Camisa Negra', 1408: 'Radiohead/Phantom, Part Ii', 1409: 'Radiohead/Bullets', 1410: 'Radiohead/She Went Out For Cigarettes', 1411: 'Radiohead/Overture To Egmont', 1412: 'Radiohead/A Church Is Burning (Alternative Version)', 1413: 'Radiohead/Dare', 1414: 'Radiohead/Season Of False Starts', 1415: 'Radiohead/The Bomb', 1416: 'Radiohead/Dreams', 1417: 'Radiohead/Digital Love', 1418: 'Radiohead/The Prize', 1419: 'Radiohead/Station Blue', 1420: 'Radiohead/Box Set', 1421: 'Radiohead/Reflection', 1422: 'Radiohead/Make It Right', 1423: 'Radiohead/La Noyée', 1424: 'Radiohead/Long Long Way (韻シストMix)', 1425: 'Radiohead/Musik Non Stop', 1426: 'Radiohead/43% Burnt', 1427: 'Radiohead/Drown', 1428: 'Radiohead/Adventure Playground', 1429: 'Radiohead/Bang', 1430: 'Radiohead/The War Song', 1431: 'Radiohead/Gecenin Karanlığında', 1432: 'Radiohead/Strange Fruit', 1433: 'Radiohead/Tangerine Man', 1434: 'Radiohead/Against Me! - In The Name Of What', 1435: 'Radiohead/A Lack Of Color', 1436: 'Radiohead/Naima', 1437: 'Radiohead/Werewolves', 1438: 'Radiohead/Gone To The Movies', 1439: 'Radiohead/Speak For Me', 1440: 'Radiohead/Girlfriend', 1441: 'Radiohead/Over My Head (Cable Car)', 1442: \"Radiohead/Ladies' Choice\", 1443: 'Radiohead/Sow Into You', 1444: 'Radiohead/Wild Thing', 1445: 'Radiohead/In The Jungle', 1446: 'Radiohead/Little Secrets / Power Of The Sun', 1447: 'Radiohead/Fallen', 1448: 'Radiohead/Men 2Nd', 1449: 'Radiohead/Night Alone', 1450: \"Radiohead/It'S Alright\", 1451: 'Radiohead/Nevermore', 1452: 'Radiohead/Crystal Cavern', 1453: 'Radiohead/Do It To Me', 1454: 'Radiohead/Galaxy Bounce', 1455: 'Radiohead/She Lives Alone', 1456: 'Rage Against The Machine/South 2Nd', 1457: 'Rage Against The Machine/Drinking', 1458: 'Rage Against The Machine/Between Angels And Insects', 1459: 'Rage Against The Machine/Jamaica', 1460: 'Rage Against The Machine/Chowder', 1461: 'Rage Against The Machine/You Make Me Real', 1462: \"Rage Against The Machine/Fisherman'S Wife\", 1463: 'Rage Against The Machine/Fixing A Hole', 1464: 'Rage Against The Machine/Slipstream', 1465: 'Rage Against The Machine/Angel City', 1466: 'Rage Against The Machine/You And Me', 1467: 'Rammstein/Hold On', 1468: 'Rammstein/Everybody Hurts', 1469: 'Rammstein/What A Shame', 1470: 'Ramones/Raspberry Fields', 1471: 'Ramones/Narcoleptic', 1472: 'Ramones/Wisper', 1473: 'Ratatat/Tiny Silver Hammers (Part 1)', 1474: 'Razorlight/Dare', 1475: 'Razorlight/G By Freefall', 1476: 'Red Hot Chili Peppers/Les Professionnels', 1477: 'Red Hot Chili Peppers/Blue Mind', 1478: 'Red Hot Chili Peppers/Homos', 1479: 'Red Hot Chili Peppers/Fleece On Brain', 1480: 'Red Hot Chili Peppers/This Sounds Bad', 1481: 'Red Hot Chili Peppers/Laisse Tomber Les Filles', 1482: 'Red Hot Chili Peppers/Sweet Words For The Sour', 1483: 'Red Hot Chili Peppers/We Will Rise', 1484: 'Red Hot Chili Peppers/Cortina', 1485: \"Red Hot Chili Peppers/No One'S Dancing\", 1486: 'Red Hot Chili Peppers/New Song', 1487: 'Red Hot Chili Peppers/Scenotaph (Dja Infected Remix)', 1488: \"Red Hot Chili Peppers/Tony'S Theme\", 1489: 'Red Hot Chili Peppers/Estés Donde Estés', 1490: 'Red Hot Chili Peppers/The Seething Rain Weeps For You (Uda Pruda)', 1491: \"Red Hot Chili Peppers/You'Re So Vain\", 1492: 'Red Hot Chili Peppers/Straight Up', 1493: 'Red Hot Chili Peppers/Somewhere', 1494: 'Red Hot Chili Peppers/Phoenus (Pop Razors)', 1495: 'Red Hot Chili Peppers/Wild Wind', 1496: 'Red Hot Chili Peppers/The Leper Affinity', 1497: 'Red Hot Chili Peppers/Son', 1498: 'Red Hot Chili Peppers/Mysteries Of Love (Instrumental)', 1499: 'Red Hot Chili Peppers/That Face', 1500: 'Regina Spektor/Forced To Drive', 1501: 'Regina Spektor/Undead Son', 1502: 'Regina Spektor/Red High Heels', 1503: 'Regina Spektor/Daft Punk Is Playing At My House', 1504: 'Regina Spektor/Planet Queen', 1505: 'Regina Spektor/Intreposage Domestik', 1506: 'Regina Spektor/Millionaire (Feat. André 3000)', 1507: \"Regina Spektor/Jd'S Reply (Eminem & Dr. Dre Diss)\", 1508: \"Regina Spektor/S'En Aller\", 1509: 'Regina Spektor/Sometimes (Mix #9)', 1510: 'Rhianna/My Patch', 1511: 'Rihanna/Hornery', 1512: 'Rilo Kiley/That Girl', 1513: 'Rilo Kiley/On The Road Again', 1514: 'Ryan Adams/Joys Of The Emptiness', 1515: 'Röyksopp/Stinkfist', 1516: 'Röyksopp/A Tady Začíná Ten Příběh', 1517: 'Röyksopp/Do You Remember Walter?', 1518: 'Röyksopp/The Rescue', 1519: 'Röyksopp/Labios Compartidos [En Vivo]', 1520: 'Röyksopp/Looks That Kill', 1521: 'Röyksopp/Home', 1522: 'Röyksopp/Dirty Harry', 1523: 'Röyksopp/Brotherhood Of The Fallen Knights', 1524: 'Röyksopp/Percy Faith - Andalucia', 1525: 'Röyksopp/On Eating In A Restauraunt 4', 1526: \"Röyksopp/I'M An Animal (Triple Door, 25-Jan-09)\", 1527: 'Röyksopp/Mind Station', 1528: 'Röyksopp/Give It To Me Raw', 1529: 'Röyksopp/Face Fisted', 1530: 'Röyksopp/The Telephone Call', 1531: 'Röyksopp/Paperface (Previously Unreleas', 1532: 'Scissor Sisters/Rusted Guns Of Milan', 1533: 'Scissor Sisters/Frenzied Handsome, Hello!', 1534: 'Scissor Sisters/Printemps', 1535: 'Sex Pistols/I Fought Piranhas', 1536: 'Sex Pistols/So Easy', 1537: 'Sex Pistols/It Was Supposed To Be So Easy', 1538: 'Sia/Lying In The Sun', 1539: 'Sigur Rós/Rhineland (Heartland)', 1540: 'Sigur Rós/Sleepwalker', 1541: 'Sigur Rós/Icicle', 1542: 'Sigur Rós/The Magic Bus', 1543: 'Sigur Rós/Animal I Have Become', 1544: 'Sigur Rós/Shock A Move On Me', 1545: 'Sigur Rós/Weakness', 1546: 'Sigur Rós/Get Get Down (Original Mix)', 1547: 'Sigur Rós/Downtown', 1548: 'Sigur Rós/A Tender History In Rust', 1549: 'Sigur Rós/Take Pills', 1550: 'Sigur Rós/Know Your Own Heart', 1551: 'Sigur Rós/Legend Of The Liquid Sword', 1552: 'Sigur Rós/The Flame', 1553: 'Sigur Rós/Cyberwaste', 1554: 'Sigur Rós/Cleanliness', 1555: 'Sigur Rós/Wash Off (First Sketch, Recorded @ Notown, December 2005)', 1556: 'Sigur Rós/Return To Grey', 1557: 'Sigur Rós/Return To Send Her', 1558: 'Sigur Rós/Run Away', 1559: 'Simon & Garfunkel/Good Morning Cockerel', 1560: 'Simon & Garfunkel/Shining Faces', 1561: 'Simon & Garfunkel/Dirt', 1562: 'Simon & Garfunkel/Emotions', 1563: 'Simon & Garfunkel/And Dream Of Sheep', 1564: 'Simple Minds/Love Lockdown', 1565: 'Siouxsie And The Banshees/Earth Intruders (Mark Stent Extended Edit)', 1566: 'Siouxsie And The Banshees/A Daring Tale Of Escape', 1567: 'Sixpence None The Richer/Med Cezir', 1568: 'Slayer/Goodbye Sober Day', 1569: 'Slowdive/Getting Closer (Black Strobe Ebm Homage)', 1570: 'Sneaker Pimps/Evil Energy, The Ill Twin Of...', 1571: 'Snow Patrol/Eye Of The Tiger', 1572: 'Snow Patrol/Champion', 1573: 'Snow Patrol/Everything To Gain', 1574: 'Snow Patrol/Just My Imagination', 1575: 'Snow Patrol/You Gotta Move', 1576: 'Snow Patrol/Beaubourg, Part I', 1577: 'Snow Patrol/Beyond The Tanarian Hills', 1578: 'Snow Patrol/Hovno', 1579: 'Snow Patrol/Land Of Confusion', 1580: 'Snow Patrol/Haykıracak Nefesim', 1581: 'Snow Patrol/Ubik (The Breakz)', 1582: 'Snow Patrol/Safe In Your Hands', 1583: 'Snow Patrol/Move', 1584: 'Snow Patrol/Blue Eden', 1585: 'Snow Patrol/#1', 1586: 'Soft Cell/Lives', 1587: 'Sonic Youth/Down In It', 1588: 'Soundgarden/The Internet Is For Porn', 1589: 'Soundgarden/Undressing The Words', 1590: 'Spice Girls/Inner Meet Me', 1591: 'Spoon/Have Fun', 1592: 'Spoon/Oops, I Did It Again', 1593: 'Spoon/Tinto Tintero', 1594: 'Spoon/Gold Soundz', 1595: 'Spoon/There Cannot Be A Close Second', 1596: 'Spoon/My World', 1597: 'Stars/Om Mani Padme Hum', 1598: 'Stars/Shank/Ganesh Mantra/Om+Didgeri', 1599: \"Stars/I Don'T Want U\", 1600: 'Stars/Simple People', 1601: 'Stereophonics/All I Want Is You', 1602: 'Sufjan Stevens/Soul Driver', 1603: 'Sufjan Stevens/Neighborhood #1 (Tunnels)', 1604: 'Sufjan Stevens/Let Me Go In', 1605: 'Sufjan Stevens/Fall, Fall, Fall', 1606: 'Sufjan Stevens/Hysteria', 1607: 'Sufjan Stevens/Starstruck (Feat. Space Cowboy And Flo Rida)', 1608: 'Sufjan Stevens/Last Ride Together', 1609: \"Sufjan Stevens/I'M Good At Being Bad\", 1610: 'Sufjan Stevens/Leonel, El Feo', 1611: 'Sufjan Stevens/Pallas Athena', 1612: 'Sufjan Stevens/Pablo In Red', 1613: \"Sufjan Stevens/You'Re In The Air\", 1614: 'System Of A Down/Out Of The Blue', 1615: 'System Of A Down/Guilty Of Being White', 1616: 'System Of A Down/Sanansaattaja', 1617: 'System Of A Down/Bleed American', 1618: 'System Of A Down/Who Killed Davey Moore (Bob Dylan Revox)', 1619: \"System Of A Down/Don'T Think Of Me\", 1620: 'System Of A Down/Delta 6 (Hydroponic)', 1621: 'System Of A Down/One Day', 1622: 'System Of A Down/I Made A Tree On The Wold', 1623: 'System Of A Down/Now Is The Time', 1624: 'System Of A Down/Tuningas (®Normaliai)', 1625: 'System Of A Down/15', 1626: 'System Of A Down/Sleep Cycle 6', 1627: 'Talking Heads/If You Only Knew (Feat. Play N Skillz)', 1628: 'Talking Heads/Sol Y Luna', 1629: 'Talking Heads/Metal Beat', 1630: 'Tears For Fears/Good And Bad', 1631: 'Tears For Fears/Sick Priest Learns To Last Forever', 1632: 'Tegan And Sara/Friday Nights', 1633: 'Tegan And Sara/Black Milk', 1634: 'Tenacious D/Standing Right Here', 1635: \"The 5.6.7.8'S/Curl Timeout\", 1636: \"The B-52'S/Nu Ne Mai Trageți Pe Dreapta\", 1637: 'The Beach Boys/The Climber', 1638: 'The Beatles/All My Life', 1639: 'The Beatles/Edward Meets The World: The Cookie Factory', 1640: \"The Beatles/I'Ll Never Be Anybody'S Hero Now\", 1641: 'The Beatles/Smile Like You Mean It', 1642: 'The Beatles/Martha My Dear', 1643: 'The Beatles/Salvation', 1644: 'The Beatles/Heads Day Off (Feat. Chords & Timbuktu)', 1645: 'The Beatles/Letter To Hope', 1646: 'The Beatles/Cthulhu Dawn', 1647: 'The Beatles/St. Francis', 1648: 'The Beatles/The Present', 1649: 'The Beatles/Toz Bulutu', 1650: 'The Beatles/Passado De Gloria', 1651: 'The Beatles/Nothing Comes Easy', 1652: 'The Beatles/Brand New Key', 1653: 'The Beatles/1000 Years Old', 1654: 'The Beatles/Jóga', 1655: 'The Beatles/By My Side', 1656: 'The Beatles/Interlude', 1657: 'The Beatles/The Gazing Moon', 1658: 'The Beatles/Royal Orleans', 1659: 'The Beatles/Μέσα Στον Ίδιο Ουρανό', 1660: 'The Beatles/I Heard It Through The Grapevine', 1661: 'The Beatles/Der Stein Der Weisen 08', 1662: 'The Beatles/For You', 1663: 'The Beatles/Run It', 1664: \"The Beatles/It Only Hurts When I'M Breathing\", 1665: 'The Beatles/Square One', 1666: 'The Beatles/Art School', 1667: 'The Beatles/Hunted Down', 1668: 'The Beatles/A Call To Apathy [Tentative Title]', 1669: 'The Beatles/Eminentia Cruciformis', 1670: 'The Beatles/I Just Want To See You Underwater', 1671: 'The Beatles/07. Besame (Largo Reggaeton) (Junio 2007)', 1672: 'The Beatles/I Put A Spell On You', 1673: \"The Beatles/You'Re Lost Little Girl\", 1674: 'The Beatles/When The Cocoon Is Finished', 1675: 'The Beatles/Expecting To Fly', 1676: 'The Beatles/Graze', 1677: 'The Beatles/Secrets', 1678: 'The Beatles/Raining Blood (Live In Canada 11/86)', 1679: 'The Beatles/Walk On By', 1680: 'The Beatles/Paranoid Android', 1681: 'The Beatles/King Of The Eburones', 1682: 'The Beatles/Seattle, Steakhouse', 1683: 'The Beatles/The Last One', 1684: \"The Beatles/It'S Easy To Sleep When You'Re Dead\", 1685: 'The Beatles/Coast To Coast Am - Jun 13 2007 - Hour 2', 1686: 'The Beatles/The Argument', 1687: 'The Beatles/Summer Stay', 1688: 'The Beatles/Space Invaders', 1689: 'The Beatles/Comfortably Numb', 1690: 'The Beatles/Arizona', 1691: 'The Beatles/Negro Observer', 1692: 'The Beatles/Pork And Beans', 1693: 'The Beatles/Magdeleno', 1694: \"The Beatles/Travelin' Light\", 1695: \"The Beatles/Billie'S Blues\", 1696: 'The Beatles/Doctor Robert', 1697: 'The Beatles/Episode 58 - Is There Yarn In Oz', 1698: 'The Beatles/Shake Me', 1699: 'The Beatles/Freestyle2', 1700: 'The Beatles/Teenage Wasteland', 1701: 'The Beatles/Long Live The Uk Music Scene', 1702: 'The Beatles/No Return', 1703: 'The Beatles/My Impression Now', 1704: 'The Beatles/Neighborhood #3 (Power Out)', 1705: 'The Beatles/Still D.R.E', 1706: 'The Beatles/Marquee Moon', 1707: 'The Beatles/First Lesson In Love', 1708: 'The Beatles/Nothing Left', 1709: 'The Beatles/Run (Live Lounge)', 1710: 'The Beatles/Double Shot', 1711: 'The Beatles/Sound Effects Library - Enterprise D Bridge/Crash Sequence', 1712: \"The Beatles/Slow-Step In 97' (Judgement Mix)\", 1713: 'The Beatles/James Bond', 1714: 'The Beatles/Chorale Ii (Roosh Ka Ma)', 1715: 'The Beatles/Texas Party', 1716: 'The Beatles/Bye Bye Love', 1717: 'The Beatles/All The Things You Are', 1718: \"The Beatles/The Hand We'Re Dealt\", 1719: \"The Beatles/I Can'T Quit You Baby\", 1720: 'The Beatles/Heroine', 1721: 'The Bravery/Oliva', 1722: 'The Cardigans/The Loneliest Guy', 1723: 'The Chemical Brothers/Prisioneiros Do Sistema', 1724: 'The Chemical Brothers/My Hometown', 1725: 'The Chemical Brothers/Waiting For The Miracle', 1726: 'The Chemical Brothers/David Watts', 1727: 'The Chemical Brothers/In Memory Of...', 1728: 'The Clash/Texture', 1729: 'The Clash/Flight Of Icarus', 1730: 'The Clash/First Communion', 1731: 'The Clash/I Like Birds', 1732: 'The Clash/Crack Pipes', 1733: 'The Clash/People', 1734: \"The Clash/Hard Day'S Night (Live)\", 1735: 'The Clash/Song To Anything That Moves', 1736: 'The Clash/After All', 1737: 'The Clash/O Come All Ye Faithful', 1738: 'The Clash/Apple Shampoo', 1739: 'The Clash/I Am A Sunflower', 1740: 'The Clash/Photograph', 1741: 'The Clash/Little One', 1742: 'The Clash/Unspeakable', 1743: 'The Clash/Young At Heart', 1744: 'The Clash/Superheroes', 1745: 'The Clash/No Need (Paris \\'99 - \"Anthony, Are You Around?\")', 1746: 'The Clash/Street Tattoo', 1747: \"The Clash/Dead Man'S End\", 1748: 'The Cranberries/Jerusalem', 1749: 'The Cranberries/Space Oddity', 1750: 'The Cranberries/Dysfunctional Hours (Anders Fridén From In Flames)', 1751: 'The Cult/Kukuk', 1752: \"The Cure/Sleep When I'M Dead\", 1753: 'The Cure/I Need No Trust', 1754: 'The Cure/Soma', 1755: 'The Cure/Will Robinson E Seus Robots', 1756: \"The Cure/Goodbye'S All We'Ve Got Left\", 1757: 'The Cure/One Celled Creature', 1758: 'The Cure/Tits On The Radio', 1759: 'The Cure/Cyanide Breath Mint', 1760: 'The Cure/Porn Piece Or The Scars Of Cold Kisses', 1761: 'The Cure/Re-Offender', 1762: 'The Cure/Wishing (If I Had A Photograph Of You)', 1763: 'The Cure/???', 1764: \"The Cure/Can'T Nobody\", 1765: 'The Cure/You Rascal You', 1766: 'The Cure/Vampire Blues', 1767: 'The Cure/Last Night A Dj Saved My Life', 1768: 'The Cure/Tribal Connection', 1769: 'The Cure/A Part Of The Woods', 1770: 'The Dandy Warhols/Pop Nonsense', 1771: 'The Dandy Warhols/Insanity', 1772: \"The Dandy Warhols/Wishmaster (Live) (Wacken '01)\", 1773: 'The Darkness/Misty Eyes', 1774: 'The Decemberists/Weird Sisters', 1775: 'The Decemberists/Rocket Machine', 1776: 'The Decemberists/Into The Void', 1777: 'The Decemberists/My Weakness', 1778: 'The Decemberists/I Will Never Love You More', 1779: 'The Decemberists/20¢ Goodbye', 1780: 'The Decemberists/Steam Engine', 1781: 'The Decemberists/The Road I Must Travel', 1782: 'The Decemberists/Lessons Learned', 1783: 'The Decemberists/One Way Ride', 1784: 'The Decemberists/Smoke And Mirrors', 1785: 'The Doors/Life Without Love Etc', 1786: 'The Doors/Set Me Free (Main Mix)', 1787: 'The Doors/Billy S.', 1788: 'The Doors/The Nail', 1789: 'The Doors/L-Virata', 1790: 'The Doors/Tequila', 1791: 'The Doors/Lock Up Your Mountain Bikes', 1792: 'The Doors/Risingson', 1793: \"The Doors/Girl I'M Gonna Miss You\", 1794: 'The Doors/Gimme Back My Bullets', 1795: 'The Doors/Paradise Will Shine Like The Moon', 1796: 'The Doors/Not For Sale', 1797: 'The Doors/Feeling Good', 1798: 'The Doors/Wooden Nickels', 1799: 'The Doors/Blacking Out The Friction', 1800: 'The Doors/You Make Me Shiver', 1801: 'The Doors/You Belong To Me', 1802: 'The Doors/Lambs Anger', 1803: \"The Doors/It'S Natural To Be Afraid\", 1804: 'The Doors/Cool Feeling (Original Mix)', 1805: 'The Doors/Joy (Feat. Mos Def)', 1806: 'The Doors/Ambition (Laidback Luke)', 1807: 'The Faint/Vancouver', 1808: 'The Flaming Lips/Autumn’S Grey Solace ～ Tusk', 1809: 'The Flaming Lips/Sister Moon', 1810: 'The Flaming Lips/Israelites', 1811: 'The Flaming Lips/Kiss Off', 1812: \"The Flaming Lips/Talkin' Bout Hey Love\", 1813: 'The Flaming Lips/Çúä¿ 8', 1814: 'The Flaming Lips/Cupido', 1815: 'The Flaming Lips/Punch Me I Bleed', 1816: 'The Flaming Lips/I Will', 1817: 'The Flaming Lips/Will It Ever End', 1818: 'The Fratellis/Illegal I Song', 1819: 'The Fray/The Time Has Come Again', 1820: 'The Futureheads/How Can You Live In The Northeast?', 1821: 'The Futureheads/American Waste', 1822: 'The Futureheads/Sun', 1823: 'The Futureheads/A Kind Of Magic', 1824: 'The Go! Team/Shrink', 1825: 'The Go! Team/Map And Compass', 1826: 'The Go! Team/Cœur Inapaisé', 1827: 'The Go! Team/Play It Cool', 1828: 'The Go! Team/Puke + Cry', 1829: 'The Go! Team/Crystal Love -M&M Remix-', 1830: 'The Goo Goo Dolls/Goodsouls (Echoboy Remix)', 1831: 'The Hives/Nobody Move, Nobody Get Hurt', 1832: 'The Hives/7 Nights To Rock', 1833: 'The Human League/Jack-Ass', 1834: 'The Jesus And Mary Chain/Sin With A Grin', 1835: 'The Killers/Flamengo', 1836: 'The Killers/Penny Lane', 1837: \"The Killers/Something'S Gotta Give\", 1838: \"The Killers/You Ain'T Goin' Nowhere\", 1839: 'The Killers/Make My Day (Haunting)', 1840: 'The Killers/Marakesh', 1841: 'The Killers/Action', 1842: 'The Killers/Get Ready', 1843: 'The Killers/Suburban Relapse', 1844: 'The Killers/Onde Está O Meu Dinheiro?', 1845: 'The Killers/Jungs, Hier Kommt Der Masterplan (Studio, 1994)', 1846: 'The Killers/Am I Wry? No', 1847: 'The Killers/To Hell With Poverty (Go Home Productions Remix)', 1848: 'The Killers/Game Over (Feat. Jay Dee & Phat Kat)', 1849: 'The Killers/Sledgehammer', 1850: 'The Killers/Splash Woman (Acoustic Remix)', 1851: 'The Killers/The List Of Dorms (Peel Session)', 1852: 'The Killers/Landlocked', 1853: 'The Killers/The Wamp Wamp Prayer (Bloc Party Vs Clipse)', 1854: 'The Killers/Crossing The Gates Of Hell', 1855: 'The Killers/All Night Home', 1856: 'The Killers/Modern Way', 1857: 'The Killers/Like A Prayer', 1858: 'The Killers/Epidemic', 1859: 'The Killers/Duet For Guitars #3', 1860: 'The Killers/Home Usa', 1861: \"The Kinks/Don'T Ask Why\", 1862: \"The Kinks/Mouth'S Cradle\", 1863: 'The Kinks/Beyond Your Borrowed Dreams', 1864: 'The Kinks/Charles Haanel', 1865: \"The Knife/You Ain'T Gonna Have Ol' Buck To Kick Around No More\", 1866: 'The Knife/Mad About You', 1867: 'The Knife/Your Picture', 1868: 'The Knife/Crystal', 1869: 'The Knife/Dopes On The Water', 1870: \"The Knife/Ramblin' Man (As Luke The Drifter)\", 1871: 'The Knife/Cool Melody (Andy)', 1872: 'The Knife/Worked Up So Sexual', 1873: 'The Knife/Jennifer Lost The War', 1874: 'The Knife/Panzer Rune', 1875: 'The Kooks/Kings Of Cause', 1876: 'The Kooks/74-75', 1877: 'The Kooks/Madras', 1878: 'The Kooks/Shadow Hand', 1879: \"The Kooks/You'Ve Gotta Be Crazy (Dogs)\", 1880: 'The Kooks/On The Evening Train', 1881: 'The Kooks/Start Me Up', 1882: 'The Last Shadow Puppets/Gimme Some Salt', 1883: 'The Libertines/Franci', 1884: 'The Libertines/Gravity', 1885: 'The Libertines/Only Ash Remains', 1886: 'The Libertines/Muzzle', 1887: 'The Libertines/Papa Doc (Interlude)', 1888: 'The Libertines/Rose Of Los Angeles', 1889: 'The Magic Numbers/On The Beach', 1890: 'The Mamas & The Papas/Pushed Beyond', 1891: \"The Mars Volta/I'M Finding It Harder To Be A Gentleman\", 1892: 'The Mars Volta/Headz', 1893: 'The Mars Volta/Paradise Of Love', 1894: 'The Mars Volta/Pretty In Pity', 1895: \"The Mars Volta/What'S Your Number (Clean Album Version)\", 1896: 'The Mars Volta/The Good Ones', 1897: 'The New Pornographers/Playa Hater (Feat. Young Mad)', 1898: 'The New Pornographers/Step Off', 1899: 'The Offspring/Ice Ice Baby', 1900: 'The Pipettes/Suddenly Everything Has Changed (Death Anxiety Caused By Moments Of Boredom)', 1901: 'The Police/The Beasts Of The Apocalypse', 1902: 'The Police/Man The Ramparts', 1903: 'The Police/Night In Shanghai', 1904: 'The Police/Small', 1905: 'The Postal Service/Cortege', 1906: \"The Postal Service/Swingin' The Blues\", 1907: 'The Postal Service/.', 1908: 'The Postal Service/Live Forever', 1909: 'The Postal Service/Red Light For Go', 1910: 'The Postal Service/La La Love You', 1911: \"The Postal Service/Lord I'Ve Been Trying\", 1912: 'The Postal Service/One Of These Days', 1913: 'The Postal Service/$16 An Hour (Live)', 1914: 'The Postal Service/Colorblind', 1915: 'The Postal Service/Interlude', 1916: 'The Prodigy/Nikki Sudden - Farewell, My Darling', 1917: 'The Prodigy/The Same', 1918: 'The Prodigy/Twinstar', 1919: 'The Prodigy/Untogether', 1920: 'The Prodigy/If Not This Time', 1921: 'The Prodigy/Planet Glass-Heart', 1922: 'The Prodigy/Que Maravilha', 1923: 'The Prodigy/No More Sorry', 1924: 'The Prodigy/Born To Darkness Part I', 1925: 'The Prodigy/Your New Cuckoo', 1926: \"The Prodigy/We'Re Only Gonna Die For Our Own Arrogance\", 1927: 'The Raconteurs/Fake Plastic Trees', 1928: 'The Raconteurs/On The Chin', 1929: 'The Raconteurs/Kittens Got Claws', 1930: 'The Raconteurs/Terrible Lie', 1931: \"The Raconteurs/Nothin' Song\", 1932: 'The Raconteurs/My Justine', 1933: 'The Raconteurs/Greed', 1934: \"The Raconteurs/She'S Lost Control\", 1935: 'The Rakes/When The War Came', 1936: 'The Rakes/Infinity Farm', 1937: 'The Rakes/Henry Lee', 1938: 'The Rolling Stones/Na Svarogovoi Doroge', 1939: 'The Rolling Stones/Nocturnal', 1940: 'The Rolling Stones/Tired Night', 1941: 'The Rolling Stones/Cloaked In Her Unlight', 1942: 'The Rolling Stones/Their Song', 1943: 'The Rolling Stones/Jambi', 1944: 'The Rolling Stones/How Come', 1945: 'The Rolling Stones/Party', 1946: 'The Rolling Stones/T-Rex Ft. C-Rayz Walz', 1947: 'The Rolling Stones/I Need Someone', 1948: 'The Rolling Stones/Escape The Nest', 1949: 'The Rolling Stones/93 Million Miles From The Sun And Counting', 1950: 'The Rolling Stones/Seven Swans', 1951: 'The Rolling Stones/Yah Mo B There', 1952: 'The Shins/Of Angels And Angles', 1953: 'The Shins/Air', 1954: \"The Shins/To The Pirates' Cave!\", 1955: \"The Shins/C'Est Toujours Ça La France\", 1956: 'The Shins/Yoshimi Battles The Pink Robots', 1957: 'The Shins/Unit 4', 1958: \"The Shins/Ray M'Bele\", 1959: 'The Shins/Begin Again', 1960: 'The Shins/The Heaviest Matter Of The Universe', 1961: 'The Shins/I Really Doubt It Baby', 1962: 'The Shins/I Look Around', 1963: 'The Shins/All I Need', 1964: 'The Shins/Theme From Morse', 1965: \"The Shins/Julia'S Walk\", 1966: 'The Shins/When The Saints Go Marching In', 1967: \"The Shins/Whatever Happened To My Rock 'N' Roll (Punk Song)\", 1968: 'The Shins/Sula', 1969: 'The Shins/It Dawned On Me', 1970: 'The Shins/Clumsy', 1971: 'The Shins/Renegade (Feat. Eminem)', 1972: 'The Shins/Go To Work Wasted', 1973: 'The Shins/Smokers Reflect', 1974: 'The Shins/Love Less', 1975: \"The Shins/You Ain'T No Big Thing\", 1976: 'The Shins/Herbal Dub', 1977: 'The Shins/The Other Part', 1978: 'The Smashing Pumpkins/Remember', 1979: 'The Smashing Pumpkins/Vökuró', 1980: 'The Smashing Pumpkins/Ride', 1981: 'The Smashing Pumpkins/From Out Of Nowhere', 1982: 'The Smashing Pumpkins/Circles', 1983: 'The Smashing Pumpkins/Pressure', 1984: 'The Smashing Pumpkins/Consequence', 1985: 'The Smashing Pumpkins/No Sex', 1986: 'The Smashing Pumpkins/Homebase', 1987: 'The Smashing Pumpkins/Just Another Sunday', 1988: 'The Smashing Pumpkins/Memento Mori', 1989: 'The Smashing Pumpkins/Krisâlida', 1990: 'The Smashing Pumpkins/Dutty Rock Intro', 1991: 'The Smashing Pumpkins/11 Am', 1992: 'The Smiths/Jettison', 1993: 'The Smiths/Nobody Knows', 1994: 'The Smiths/Absolutely Not', 1995: 'The Smiths/Weekend Wildfire', 1996: 'The Smiths/So Few Words', 1997: 'The Smiths/Southern Girl', 1998: 'The Smiths/Shouts', 1999: 'The Smiths/If Everybody Looked The Same', 2000: 'The Smiths/Just Like Heaven', 2001: 'The Smiths/Kill Me In A Record Shop', 2002: 'The Smiths/Quand Vous Mourez Des Nos Amours', 2003: 'The Smiths/White Riot (The Clash Cover)', 2004: \"The Smiths/The Mariner'S Revenge Song\", 2005: 'The Smiths/To Get Down', 2006: 'The Smiths/Nitemare Hippy Girl', 2007: 'The Smiths/Футбол', 2008: 'The Smiths/Known For Years', 2009: 'The Smiths/Mushroom', 2010: \"The Smiths/I'M Going To Tell You Something\", 2011: 'The Smiths/Unbroken (Hotel Baby)', 2012: 'The Smiths/Rain In The Night', 2013: 'The Smiths/Baltimore (Tech Itch & Dylan Remix)', 2014: 'The Smiths/What Junior Band Did Next', 2015: 'The Smiths/Electric Nights', 2016: 'The Smiths/Hornswoggle', 2017: 'The Smiths/Asian Dub Foundation - Taa Dee', 2018: 'The Smiths/Black', 2019: 'The Stone Roses/Reverence', 2020: 'The Stone Roses/Blinded By Science', 2021: 'The Stone Roses/The Concept', 2022: 'The Stone Roses/Paris Arm', 2023: 'The Stone Roses/Tragic Flaw', 2024: 'The Stooges/Misty Fields', 2025: 'The Stooges/The Woman Is Killing Me', 2026: 'The Stranglers/Totally Stupid', 2027: 'The Streets/La Petite Voleuse', 2028: \"The Streets/L'Epoque Noire\", 2029: 'The Strokes/Styrofoam Plates', 2030: 'The Strokes/Grind', 2031: 'The Strokes/Get Confused', 2032: 'The Strokes/Grounded', 2033: 'The Strokes/Thin Layer', 2034: 'The Strokes/She Just Wants To Be', 2035: 'The Strokes/Woman Is The Nigger Of The World', 2036: 'The Strokes/Static', 2037: 'The Strokes/Antro', 2038: \"The Strokes/Chillin'\", 2039: 'The Strokes/Please Send Me Someone To Love', 2040: 'The Strokes/Worry Boy', 2041: 'The Strokes/Furthest Moment', 2042: 'The Strokes/Firestarter (Edit)', 2043: 'The Strokes/Restless Feat. Testament', 2044: 'The Strokes/Break Your Back', 2045: 'The Strokes/Token Of Time', 2046: 'The Strokes/Ya No Te Amo', 2047: 'The Strokes/Prelude', 2048: \"The Strokes/I Love Rock 'N' Roll\", 2049: 'The Strokes/Asilos Magdalena', 2050: 'The Strokes/Roots...', 2051: \"The Strokes/Wagon Christ - King'S Lyn\", 2052: 'The Strokes/Will You Follow Me?', 2053: 'The Strokes/Floorkiller', 2054: 'The Strokes/House Of Leaves', 2055: 'The Strokes/She Loves You No Less', 2056: 'The Strokes/Sleep Alone', 2057: 'The Strokes/Cokane In My Brain (Dj Mek Numburg Scratch Mix)', 2058: \"The Strokes/(She'S In A) Bad Mood\", 2059: 'The Strokes/Coward (Melting Mix By Pain Station)', 2060: 'The Strokes/If I Ever Make It Home', 2061: 'The Ting Tings/Carroll 14 Wossman 7', 2062: 'The Ting Tings/The Motorcycle Song - An Education', 2063: 'The Ting Tings/I Gotta Fire', 2064: 'The Velvet Underground/No No No', 2065: 'The Velvet Underground/What People Are Made Of', 2066: 'The Velvet Underground/Dear Lover', 2067: 'The Velvet Underground/Ask Her To Dance', 2068: 'The Velvet Underground/Top Yourself', 2069: \"The Velvet Underground/I'Ll Catch You\", 2070: 'The Velvet Underground/Chiba City Blues', 2071: 'The Velvet Underground/Bloodbeat', 2072: 'The Velvet Underground/Jesus The Mexican Boy', 2073: 'The Velvet Underground/Reality', 2074: \"The Velvet Underground/I'Ve Got A Crush On You\", 2075: 'The Velvet Underground/Drop', 2076: 'The Verve/Chasing Cars (Edit)', 2077: 'The Verve/Mama', 2078: 'The Verve/7', 2079: 'The Verve/Number 1', 2080: 'The Verve/Letzte Tage - Letzte Nächte', 2081: 'The Walkmen/Left On', 2082: 'The White Stripes/Lazy Flies', 2083: 'The White Stripes/In Here', 2084: 'The White Stripes/Fiolina', 2085: 'The White Stripes/Untitled', 2086: \"The White Stripes/I'M Going To Stop Pretending That I Didn'T Break Your Heart\", 2087: 'The White Stripes/Entropy', 2088: 'The White Stripes/It Feels So Good', 2089: 'The White Stripes/Thought @ Work', 2090: 'The White Stripes/I Will Possess Your Heart', 2091: 'The White Stripes/Sleepers', 2092: 'The White Stripes/Despierta, Mi Vida', 2093: 'The White Stripes/Fear', 2094: 'The White Stripes/Should Have Stayed In The Shallows', 2095: 'The White Stripes/Halfway To Fivepoints', 2096: 'The White Stripes/Casanova 70', 2097: 'The White Stripes/Xxzxczx Me', 2098: 'The White Stripes/Dirty Blue Gene', 2099: 'The White Stripes/Hiding On The Staircase', 2100: 'The White Stripes/Another Me \"In Lack\\'Ech\"', 2101: 'The White Stripes/Violence', 2102: 'The White Stripes/Bonustrack', 2103: 'The White Stripes/Main Offender', 2104: 'The White Stripes/City Of Night', 2105: \"The White Stripes/Surgeon'S Girl\", 2106: 'The White Stripes/Under My Umbrella', 2107: 'The White Stripes/Please Sing My Spring Reverb (Styromix)', 2108: 'The White Stripes/You And The Night And The Music', 2109: 'The White Stripes/Energie', 2110: 'The White Stripes/Memphis Emphasis', 2111: \"The White Stripes/Master'S Apprentices\", 2112: 'The White Stripes/Worthwhile', 2113: 'The White Stripes/Today I Sing The Blues', 2114: 'The White Stripes/The Man I Love', 2115: 'The White Stripes/Like You (Supermayer Mix)', 2116: 'The White Stripes/Chingiz', 2117: 'The Whitest Boy Alive/Everybody Knows This Is Nowhere', 2118: 'The Who/Beautiful Things (Gabriel & Dresden Unplugged Mix)', 2119: 'The Who/The Stars Look Familiar', 2120: 'The Who/Fucking The Fetus', 2121: 'The Who/Grapevine Fires', 2122: 'The Who/Nothing Precious At All', 2123: 'The Who/Somebody Told Me', 2124: 'The Who/Speed Trials', 2125: 'Thievery Corporation/Pogo', 2126: 'Thom Yorke/A Cruel Instrument', 2127: 'Thom Yorke/The Eye Of The Hurricane', 2128: 'Thom Yorke/Sweet Charity', 2129: 'Thom Yorke/Slam', 2130: 'Thom Yorke/Jabberwocky', 2131: 'Thom Yorke/Radioresepsjonen 23.04.09', 2132: 'Thom Yorke/Ringfinger', 2133: 'Thom Yorke/Convenient Parking', 2134: 'Tool/Burning Bridges', 2135: 'Tool/Walizka', 2136: 'Tool/Tu Grillo Parlante', 2137: 'Tool/Fit But You Know It / In Da Club (Live)', 2138: 'Tool/Aşk Nereye Kadar', 2139: 'Tool/Dilema', 2140: 'Tool/I Really Like You', 2141: 'Tori Amos/The Space Between All Things', 2142: 'Tori Amos/Stay Out Of Trouble', 2143: 'Tori Amos/Independence Day', 2144: 'Travis/Kyoto Song', 2145: 'Travis/Who The Pop Cares', 2146: 'Travis/Running Scared', 2147: 'Tv On The Radio/The Symptomatic', 2148: 'Tv On The Radio/King Eternal', 2149: 'Tv On The Radio/Hot Dog Baby', 2150: 'Tv On The Radio/Soldier Jane', 2151: 'U2/Eddie And The Boys', 2152: 'U2/Music Of The Night', 2153: 'U2/World Without Fear', 2154: 'U2/Creeping Death', 2155: 'U2/Active Heart', 2156: 'U2/Vicarious', 2157: 'U2/Nonsensica', 2158: 'U2/Born Again', 2159: 'U2/Automatic (Riffs N Rays Mix)', 2160: 'U2/Simply Blue', 2161: 'U2/10Th Avenue Freakout', 2162: 'Vampire Weekend/Rodeo From Hell', 2163: 'Vampire Weekend/The Black Cat', 2164: 'Vampire Weekend/Screwdriver (Live In Manaus, Brazil)', 2165: 'Vampire Weekend/Sweet Life', 2166: 'Vampire Weekend/Trust', 2167: 'Vampire Weekend/Lady Writer', 2168: 'Van Halen/Only Shallow', 2169: 'Violent Femmes/Over My Head (Cable Car)', 2170: 'We Are Scientists/Nakip Ve Sacide Karşılaşması', 2171: 'We Are Scientists/Bodysnatchers', 2172: 'We Are Scientists/Lift Your Head Up High', 2173: 'We Are Scientists/Sweeter As The Years Roll By', 2174: 'We Are Scientists/Profile', 2175: 'Weezer/Little Lover', 2176: 'Weezer/Waiting For A Star To Fall', 2177: 'Weezer/Yeah, Right', 2178: 'Weezer/Pocket Money', 2179: 'Weezer/The Best', 2180: 'Weezer/Bouncing Brinnington Meat+Hag0Balls', 2181: 'Weezer/Dream I Had - Live', 2182: 'Weezer/Grown Man (Feat. Talib Kweli)', 2183: 'Wilco/Deep Down Ascend (Demo)', 2184: 'Wilco/On The Tweek Again', 2185: 'Wilco/Code Red', 2186: 'Wilco/Straight To The Bank', 2187: 'Wilco/Stranger', 2188: 'Wilco/Cloaked In Her Unlight', 2189: 'Wolf Parade/Alright (Brad Carter Remix)', 2190: 'Wolf Parade/Spanish Stroll', 2191: 'Wolf Parade/Digital Fiction', 2192: 'Wolf Parade/The Hit (Featuring Dead Prez)', 2193: 'Wolf Parade/Free', 2194: \"Wolf Parade/I'Ll Be The Heartbreaker\", 2195: 'Wolf Parade/Fame Throwa', 2196: 'Wolfmother/Watching Alice', 2197: 'Yann Tiersen/Dead Melodies', 2198: 'Yann Tiersen/Pneumonia Hawk', 2199: 'Yann Tiersen/Miles Away (Thin White Duke Remix)', 2200: 'Yeah Yeah Yeahs/Little Ghost', 2201: 'Yeah Yeah Yeahs/17', 2202: \"Yeah Yeah Yeahs/Keep Talkin'\", 2203: 'Yeah Yeah Yeahs/Make Me Believe', 2204: 'Yeah Yeah Yeahs/Marching Bands Of Manhattan', 2205: 'Yeah Yeah Yeahs/Watermelon Man', 2206: 'Yeah Yeah Yeahs/Sunadokei', 2207: 'Yeah Yeah Yeahs/Wake Up! Time To Die...', 2208: 'Yeah Yeah Yeahs/Up Middle Finger', 2209: \"Yeah Yeah Yeahs/Spiral (Don'T Fall)\", 2210: 'Yeah Yeah Yeahs/Coffee Talk', 2211: 'Yeah Yeah Yeahs/Pull Me Back Out [Acoustic Version]', 2212: 'Yeah Yeah Yeahs/Ring Ring', 2213: 'Yeah Yeah Yeahs/Zebraskin', 2214: 'Yeah Yeah Yeahs/Central Industrial', 2215: 'Yeah Yeah Yeahs/Feel So Good (The Isle Of Wight Live Version)', 2216: 'Yeah Yeah Yeahs/Something Else', 2217: 'Yeah Yeah Yeahs/Uptight', 2218: 'Yeah Yeah Yeahs/Al Niño Miguel', 2219: 'Yeah Yeah Yeahs/Justice Vs. Simian - Never Be Alone', 2220: 'Yeah Yeah Yeahs/Somebody To Love', 2221: 'Yeah Yeah Yeahs/Out Of Nothing', 2222: 'Yeah Yeah Yeahs/Groovy Feeling (Screwball)', 2223: \"Zero 7/We'Re Here\", 2224: 'Zero 7/Ordinary', 2225: 'Zero 7/No Es Pecado', 2226: 'Zero 7/2 Train', 2227: 'Zero 7/Celos', 2228: 'Zero 7/Sunny Morning', 2229: 'Zero 7/The Inner Light', 2230: 'Zero 7/Turn It Up (Paul Oakenfold Remix)', 2231: 'Zero 7/Downing Street Kindling'}\n"
     ]
    }
   ],
   "source": [
    "print(\"---------- user_to_idx ----------\")\n",
    "print(user_to_idx)\n",
    "print(\"---------- idx_to_user ----------\")\n",
    "print(idx_to_user)\n",
    "print(\"---------- artist_to_idx ----------\")\n",
    "print(artist_to_idx)\n",
    "print(\"---------- idx_to_artist ----------\")\n",
    "print(idx_to_artist)\n",
    "print(\"---------- song_to_idx ----------\")\n",
    "print(song_to_idx)\n",
    "print(\"---------- idx_to_song ----------\")\n",
    "print(idx_to_song)"
   ]
  },
  {
   "cell_type": "markdown",
   "metadata": {},
   "source": [
    "**Documentació consultada:**\n",
    "\n",
    "[IncludeHelp.(nd)._Keep other columns when using sum() with groupby_.IncludeHelp](https://www.includehelp.com/python/keep-other-columns-when-using-sum-with-groupby.aspx)\n",
    "\n",
    "[Adel Nehme.(14/02/2024)._Mastering the Pandas .explode() Method: A Comprehensive Guide_.datacamp](https://www.datacamp.com/tutorial/pandas-explode)\n",
    "\n",
    "[Vultr.(24/12/2024)._Python Pandas DataFrame explode() - Transform Each Iterable_.Vultr](https://docs.vultr.com/python/third-party/pandas/DataFrame/explode)"
   ]
  },
  {
   "cell_type": "markdown",
   "metadata": {
    "id": "P56DmLkL8SVJ"
   },
   "source": [
    "## 2. Construcció de les matrius de coocurrència usuari-artista i usuari-cançó (3 punts)\n",
    "\n",
    "Representarem les interaccions entre usuaris i contingut musical en format matricial, la qual cosa ens permetrà treballar amb les dades de forma vectorial en els següents blocs de la pràctica.\n",
    "\n",
    "Crea dues matrius binàries:\n",
    "\n",
    "- `user_artist_matrix`: representa si un usuari ha escoltat almenys una vegada a l'artista.\n",
    "- `user_song_matrix`: representa si un usuari ha escoltat almenys una vegada la cançó.\n",
    "\n",
    "De tal manera que a la fila i tindrem tots els artistes/cançons que ha escoltat l'usuari i, i tindrà tantes columnes com artistes i cançons hi hagi.\n",
    "\n",
    "Ambdues matrius tindran valors:\n",
    "\n",
    "- **1** si l'usuari ha escoltat l'artista o la cançó.\n",
    "- **0** si no ho ha fet.\n",
    "\n",
    "Per tant, la cel·la `user_artist_matrix[i,j]` representarà si l'*i-èsim* usuari ha escoltat el *j-èsim* artista.\n",
    "\n",
    "Aquestes matrius ens permetran codificar els usuaris, artistes i cançons com a vectors i aplicar tècniques de reducció de dimensionalitat, agrupació o recomanació més endavant.\n",
    "\n",
    "## 2.1 Representació dispersa\n",
    "\n",
    "Atès que la majoria dels usuaris **no han escoltat la majoria dels artistes ni cançons**, aquestes matrius contenen molts zeros. A aquest tipus de matrius se les anomena **matrius disperses (sparse matrices)**, ja que la majoria dels seus elements són nuls.\n",
    "\n",
    "Per treballar amb elles de forma eficient en memòria i en càlcul, farem servir el format **CSR (Compressed Sparse Row)**. Aquest format emmagatzema només els valors diferents de zero juntament amb les seves posicions, la qual cosa permet estalviar memòria i accelerar algunes operacions.\n",
    "\n",
    "Construirem les matrius en [format **`csr_matrix`** de la llibreria `scipy.sparse`](https://docs.scipy.org/doc/scipy/reference/generated/scipy.sparse.csr_matrix.html).\n",
    "\n"
   ]
  },
  {
   "cell_type": "markdown",
   "metadata": {
    "id": "8sapxGct_m4u"
   },
   "source": [
    "<div style=\"background-color: #EDF7FF; border-color: #7C9DBF; border-left: 5px solid #7C9DBF; padding: 0.5em;\">\n",
    "<strong>Implementació:</strong> Crea les matrius de coocurrència.\n",
    "</div>"
   ]
  },
  {
   "cell_type": "code",
   "execution_count": null,
   "metadata": {
    "id": "TrV0NTDi_146"
   },
   "outputs": [],
   "source": []
  },
  {
   "cell_type": "markdown",
   "metadata": {
    "id": "6jsvLSVD6ywO"
   },
   "source": [
    "<div style=\"background-color: #EDF7FF; border-color: #7C9DBF; border-left: 5px solid #7C9DBF; padding: 0.5em;\">\n",
    "<strong>Implementació:</strong> Per conèixer el grau de dispersió que té la matriu, podem calcular la proporció d'1s respecte al total d'elements de la matriu: user_song_matrix.\n",
    "</div>"
   ]
  },
  {
   "cell_type": "code",
   "execution_count": null,
   "metadata": {
    "id": "3EPXQFUN645c"
   },
   "outputs": [],
   "source": []
  },
  {
   "cell_type": "markdown",
   "metadata": {
    "id": "vZx1WkjZAk7B"
   },
   "source": [
    "## 2.2 Visualització de l'espai d'usuaris\n",
    "\n",
    "Ara que cada usuari està representat com un vector a les matrius `user_artist_matrix` o `user_song_matrix`, podem començar a **explorar visualment l'estructura de gustos musicals**.\n",
    "\n",
    "Cada fila d'aquestes matrius codifica un usuari en funció dels artistes o cançons que ha escoltat. L'objectiu ara és **projectar aquest espai a 2 dimensions** per visualitzar-lo i tractar de detectar **grups d'usuaris amb patrons similars d'escolta**.\n",
    "\n",
    "Tanmateix, en el cas de la matriu d'artistes, cada usuari està representat per un vector de gairebé **3.000 dimensions**, la qual cosa fa impossible visualitzar directament l'espai.\n",
    "\n",
    "Per resoldre això, aplicarem una tècnica de **reducció de dimensionalitat** que ens permeti mantenir l'estructura de l'espai original i projectar-lo en 2D. Algunes de les tècniques més comunes per a aquest tipus de tasca són: *PCA (Anàlisi de Components Principals)*, *t-SNE (t-distributed Stochastic Neighbor Embedding)* o *UMAP (Uniform Manifold Approximation and Projection)*. Tingues en compte que amb el temps tindrem nous usuaris i voldrem afegir-los a la projecció de l'espai juntament amb els altres usuaris que ja tenim (sense haver de recalcular tot).\n",
    "\n"
   ]
  },
  {
   "cell_type": "markdown",
   "metadata": {
    "id": "gQ-9WMvPBHA0"
   },
   "source": [
    "<div style=\"background-color: #EDF7FF; border-color: #7C9DBF; border-left: 5px solid #7C9DBF; padding: 0.5em;\">\n",
    "<strong>Anàlisi:</strong> investiga i justifica quina d'aquestes tècniques consideres més adequada per a aquest cas indicant els criteris que has tingut en compte.\n",
    "</div>"
   ]
  },
  {
   "cell_type": "code",
   "execution_count": null,
   "metadata": {
    "id": "NpQGp4TgBgvX"
   },
   "outputs": [],
   "source": []
  },
  {
   "cell_type": "markdown",
   "metadata": {
    "id": "BFG6RfUBB8Ie"
   },
   "source": [
    "<div style=\"background-color: #EDF7FF; border-color: #7C9DBF; border-left: 5px solid #7C9DBF; padding: 0.5em;\">\n",
    "<strong>Implementació:</strong> Visualitza el resultat de la reducció en un gràfic 2D amb matplotlib i comenta si s'observen agrupaments o patrons interessants en ambdues matrius. En cas de trobar estructures, tria i aplica la tècnica de clustering adequada per localitzar-les. En funció de les estructures presents, pots seleccionar k-means, LDA, jeràrquic, mean-shift, optics, DBSCAN o espectral. <strong>En tots els gràfics, utilitza el paràmetre figsize=(15, 15) per garantir una mida que permeti interpretar-lo correctament</strong>.\n",
    "</div>"
   ]
  },
  {
   "cell_type": "code",
   "execution_count": null,
   "metadata": {
    "id": "wQxAHyV2CPak"
   },
   "outputs": [],
   "source": []
  },
  {
   "cell_type": "markdown",
   "metadata": {
    "id": "e6F3kmrrFxQT"
   },
   "source": [
    "## 2.3 Visualització d'usuaris\n",
    "\n",
    "<div style=\"background-color: #EDF7FF; border-color: #7C9DBF; border-left: 5px solid #7C9DBF; padding: 0.5em;\">\n",
    "<strong>Implementació:</strong> Realitza la mateixa visualització però amb les matrius transposades, és a dir, mantindrem les dimensions d'artistes i cançons, i reduirem la d'usuaris. La seva interpretació seria representar els artistes o cançons en funció de com els usuaris els consumeixen.\n",
    "</div>\n"
   ]
  },
  {
   "cell_type": "code",
   "execution_count": null,
   "metadata": {
    "id": "mpwYv_pMDVT1"
   },
   "outputs": [],
   "source": []
  },
  {
   "cell_type": "markdown",
   "metadata": {
    "id": "rUVmUjtuD8BY"
   },
   "source": [
    "<div style=\"background-color: #EDF7FF; border-color: #7C9DBF; border-left: 5px solid #7C9DBF; padding: 0.5em;\">\n",
    "<strong>Anàlisi:</strong> Què observes a les noves representacions d'artistes i cançons?\n",
    "</div>"
   ]
  },
  {
   "cell_type": "code",
   "execution_count": null,
   "metadata": {
    "id": "9Py1-Y1CEkKW"
   },
   "outputs": [],
   "source": []
  },
  {
   "cell_type": "markdown",
   "metadata": {
    "id": "hyi_qxxkNazx"
   },
   "source": [
    "## 3. Projecció del gust musical amb LDA (3 punts)\n",
    "\n",
    "En aquesta secció explorarem una tècnica diferent per reduir la dimensionalitat del gust musical: **LDA (Latent Dirichlet Allocation)**.\n",
    "\n",
    "A diferència de tècniques com matriu de coocurrència + PCA, t-SNE o UMAP, que busquen per una banda representar l'usuari i reduir aquesta representació a menys dimensions, **LDA té un enfocament més interpretatiu**: tracta de **descobrir temes latents** que expliquen com es combinen els elements observats.\n",
    "\n",
    "## 3.1 Projecció i clustering amb LDA\n",
    "\n",
    "**LDA** és un model probabilístic originalment dissenyat per a l'**anàlisi de temes en textos** (topic modeling). Suposa que cada document (en el nostre cas, usuari) està format per una **combinació de temes ocults** (per exemple: 40% Pop, 20% Rock, 5% Rap...). I que cada tema està format per una **combinació de paraules (o artistes, en el nostre cas)**.\n",
    "\n",
    "Cada **usuari** serà tractat com un \"document\". Cada **artista** serà com una \"paraula\". El model intentarà descobrir **temes musicals** (grups d'artistes que solen aparèixer junts en els gustos dels usuaris).\n",
    "\n",
    "El resultat és una representació de cada usuari com un vector de **probabilitats sobre temes latents**, que podem visualitzar, comparar o usar com a entrada a altres models.\n",
    "\n",
    "Per entendre LDA amb una explicació visual molt clara, recomanem [aquest vídeo](https://youtu.be/1_jq_gWFUuQ).\n",
    "\n",
    "Pots utilitzar la implementació de [LDA a scikit-learn](https://scikit-learn.org/stable/modules/generated/sklearn.decomposition.LatentDirichletAllocation.html). El nombre de temes latents és un paràmetre del model (com la *k* de *k-means*).\n",
    "\n",
    "Amb LDA pots obtenir tant la projecció d'usuaris a l'espai de temes latents, com els artistes o cançons a l'espai de temes latents. Per assegurar-te de si el resultat es correspon amb els usuaris o els artistes o cançons, pots comprovar la dimensió de la matriu obtinguda.\n",
    "\n",
    "Per exemple, si el resultat és una matriu `n_topics` X (`n_artists` o `n_songs`) en funció de la matriu emprada. Estàs obtenint la projecció d'artistes o cançons a l'espai de temes latents. Atès que LDA estima probabilísticament cada paraula (artista o cançó) a un tema latent. En aquest cas, els usuaris equivalen als documents que relacionen les paraules entre si.\n",
    "\n",
    "D'altra banda, també pots obtenir (amb una altra crida) la matriu `n_users` X `n_topics`, que representa la projecció dels usuaris a l'espai de temes latents.\n",
    "\n"
   ]
  },
  {
   "cell_type": "markdown",
   "metadata": {
    "id": "taG5hWyjVHys"
   },
   "source": [
    "<div style=\"background-color: #EDF7FF; border-color: #7C9DBF; border-left: 5px solid #7C9DBF; padding: 0.5em;\">\n",
    "<strong>Implementació:</strong> Aplica LDA sobre la matriu `user_artist_matrix` per descobrir temes musicals i mostra, per a cada clúster (o tema) el top 15 d'artistes. Per seleccionar el valor adequat del paràmetre \"temes latents\", analitza els artistes que apareixen a cada clúster i tracta que tinguin un nexe comú (siguin homogenis).\n",
    "</div>"
   ]
  },
  {
   "cell_type": "code",
   "execution_count": null,
   "metadata": {
    "id": "qgj9ZWCxWXDp"
   },
   "outputs": [],
   "source": []
  },
  {
   "cell_type": "markdown",
   "metadata": {
    "id": "xZw9TV12Zsne"
   },
   "source": [
    "## 3.2 Visualització d'usuaris\n",
    "\n",
    "Ara que has triat un nombre de temes latents tractant que els grups siguin relativament homogenis, visualitza el resultat per comprovar si existeix certa estructura en la projecció."
   ]
  },
  {
   "cell_type": "markdown",
   "metadata": {
    "id": "5_KQFI2RZ2m5"
   },
   "source": [
    "<div style=\"background-color: #EDF7FF; border-color: #7C9DBF; border-left: 5px solid #7C9DBF; padding: 0.5em;\">\n",
    "<strong>Implementació:</strong> Visualitza amb matplotlib els usuaris projectats a l'espai de temes latents (si té més de 2 dimensions redueix la dimensionalitat aplicant UMAP) utilitzant com a color de cada usuari el del seu tema latent més rellevant (de valor més alt).\n",
    "</div>"
   ]
  },
  {
   "cell_type": "code",
   "execution_count": null,
   "metadata": {
    "id": "pZ7ytVS8dA_b"
   },
   "outputs": [],
   "source": []
  },
  {
   "cell_type": "markdown",
   "metadata": {
    "id": "rl78FGQedIMn"
   },
   "source": [
    "## 3.3 Visualització d'artistes i cançons\n",
    "\n",
    "<div style=\"background-color: #EDF7FF; border-color: #7C9DBF; border-left: 5px solid #7C9DBF; padding: 0.5em;\">\n",
    "<strong>Implementació:</strong> Visualitza amb matplotlib la projecció d'artistes i de cançons a l'espai latent de la dimensió seleccionada anteriorment. Mostra aleatòriament les etiquetes (nom de l'artista o títol de la cançó) de 100 punts juntament amb aquests. No mostris totes les etiquetes perquè taparien el contingut del gràfic.\n",
    "</div>"
   ]
  },
  {
   "cell_type": "code",
   "execution_count": null,
   "metadata": {
    "id": "MctR8gIgdba0"
   },
   "outputs": [],
   "source": []
  },
  {
   "cell_type": "markdown",
   "metadata": {
    "id": "9CJ1-zwZdtmE"
   },
   "source": [
    "## 3.4 Anàlisi de resultats\n",
    "\n",
    "<div style=\"background-color: #EDF7FF; border-color: #7C9DBF; border-left: 5px solid #7C9DBF; padding: 0.5em;\">\n",
    "<strong>Anàlisi:</strong> Què observes a les noves representacions d'artistes i cançons respecte a les anteriors? A què creus que es deuen aquestes diferències?\n",
    "</div>"
   ]
  },
  {
   "cell_type": "code",
   "execution_count": null,
   "metadata": {
    "id": "GPcX8n9jewCl"
   },
   "outputs": [],
   "source": []
  },
  {
   "cell_type": "markdown",
   "metadata": {
    "id": "jFm9n43PeAMA"
   },
   "source": [
    "<div style=\"background-color: #EDF7FF; border-color: #7C9DBF; border-left: 5px solid #7C9DBF; padding: 0.5em;\">\n",
    "<strong>Anàlisi:</strong> Si haguessis de recomanar artistes o cançons noves a un usuari en base al que has après amb LDA, com ho faries?\n",
    "</div>"
   ]
  },
  {
   "cell_type": "code",
   "execution_count": null,
   "metadata": {
    "id": "Fjg8sng8exOo"
   },
   "outputs": [],
   "source": []
  },
  {
   "cell_type": "markdown",
   "metadata": {
    "id": "6Y-H9EV7J-h1"
   },
   "source": [
    "## 4. Projectar per recomanar: factorització de matrius (3 punts)\n",
    "\n",
    "Fins ara hem usat coocurrència i LDA per representar els usuaris i detectar patrons d'escolta. Però... i si existís una projecció pensada específicament per **recomanar**?\n",
    "\n",
    "Aquí entra en joc una nova família de mètodes: **factorització de matrius**.\n",
    "\n",
    "Aquests mètodes s'han convertit en una de les eines més utilitzades en sistemes de recomanació (sí, com el de Netflix o Spotify), perquè permeten:\n",
    "\n",
    "- **Predir quines cançons o artistes agradaran a cada usuari**.\n",
    "- **Reduir la dimensionalitat** i representar tant usuaris com ítems (artistes o cançons) en un **mateix espai vectorial**.\n",
    "- **Aprendre afinitats**: si un usuari i un artista tenen vectors similars, és probable que aquest usuari gaudeixi d'aquest artista.\n",
    "\n",
    "Alguns dels models de recomanació més coneguts:\n",
    "\n",
    "- **SVD (Singular Value Decomposition)**: descompon la matriu en components ortogonals, útil quan tenim una matriu densa.\n",
    "- **NNMF (Non-negative Matrix Factorization)**: com SVD, però imposa que els factors siguin positius, la qual cosa facilita la interpretació (no hi ha gustos negatius).\n",
    "- **ALS (Alternating Least Squares)**: molt usat en sistemes de recomanació, especialment amb matrius disperses. Alterna entre actualitzar usuaris i ítems fins a convergir.\n",
    "- **BPR (Bayesian Personalized Ranking)**: orientat a recomanacions per rànquing, no per puntuació.\n",
    "- **LightFM o DeepFM**: integren contingut i interacció en models híbrids (més complexos, no els veurem aquí, però val la pena conèixer-los).\n",
    "\n",
    "Encara que també estem reduint dimensionalitat, la **finalitat principal no és visualitzar ni interpretar temes**, sinó **reconstruir les preferències faltants a la matriu original**.\n",
    "\n",
    "Dit d'una altra manera: a LDA, projectàvem usuaris sobre un espai de temes **que explicaven el seu comportament**. A la factorització, projectem usuaris i ítems en un espai on **la seva proximitat indica afinitat**, i podem **predir el que falta**.\n",
    "\n",
    "![ALS](https://media.springernature.com/lw685/springer-static/image/chp%3A10.1007%2F978-3-030-03405-4_18/MediaObjects/475251_1_En_18_Fig1_HTML.png)\n",
    "\n",
    "És una altra manera de \"veure les dades\", i ens dona noves possibilitats d'anàlisi i recomanació.\n",
    "\n",
    "## 4.1 Entrenament d'ALS\n",
    "\n",
    "Atès que les dades del dataset són molt disperses, [ALS](http://yifanhu.net/PUB/cf.pdf) és una bona elecció. Utilitzarem la implementació de la [llibreria implicit](https://github.com/benfred/implicit). Per tenir una intuïció del seu funcionament, recomanem [aquest vídeo](https://youtu.be/DJR_6fkG66s)."
   ]
  },
  {
   "cell_type": "markdown",
   "metadata": {
    "id": "2OQ9ZNJXKMV2"
   },
   "source": [
    "<div style=\"background-color: #EDF7FF; border-color: #7C9DBF; border-left: 5px solid #7C9DBF; padding: 0.5em;\">\n",
    "<strong>Implementació:</strong> Entrena un model ALS amb la matriu de coocurrència precalculada user_artist_matrix i emmagatzema a les variables user_embeddings i artist_embeddings els factors latents apresos pel model. Pots fer servir el mateix nombre de factors latents que has seleccionat a l'exercici anterior per a LDA.\n",
    "</div>"
   ]
  },
  {
   "cell_type": "code",
   "execution_count": null,
   "metadata": {
    "id": "Wr49GonoKGjm"
   },
   "outputs": [],
   "source": []
  },
  {
   "cell_type": "markdown",
   "metadata": {
    "id": "6_04bhahNbYA"
   },
   "source": [
    "## 4.2 Visualització d'usuaris\n",
    "\n",
    "<div style=\"background-color: #EDF7FF; border-color: #7C9DBF; border-left: 5px solid #7C9DBF; padding: 0.5em;\">\n",
    "<strong>Implementació:</strong> Si l'embedding d'usuari té més de dues dimensions, redueix la seva dimensionalitat amb UMAP. Visualitza amb matpltolib els usuaris en el nou espai latent reduït.\n",
    "</div>"
   ]
  },
  {
   "cell_type": "code",
   "execution_count": null,
   "metadata": {
    "id": "4gcpkLUZNfm2"
   },
   "outputs": [],
   "source": []
  },
  {
   "cell_type": "markdown",
   "metadata": {
    "id": "kyenwJqRNzhL"
   },
   "source": [
    "## 4.3 Visualització d'artistes\n",
    "\n",
    "<div style=\"background-color: #EDF7FF; border-color: #7C9DBF; border-left: 5px solid #7C9DBF; padding: 0.5em;\">\n",
    "<strong>Implementació:</strong> Si l'embedding d'artistes té més de dues dimensions, redueix la seva dimensionalitat amb UMAP. Visualitza amb matpltolib els usuaris en el nou espai latent reduït. Mostra aleatòriament les etiquetes (nom de l'artista) de 100 punts juntament amb aquests. No mostris totes les etiquetes perquè taparien el contingut del gràfic.\n",
    "</div>"
   ]
  },
  {
   "cell_type": "code",
   "execution_count": null,
   "metadata": {
    "id": "4GDXWwP-N4TR"
   },
   "outputs": [],
   "source": []
  },
  {
   "cell_type": "markdown",
   "metadata": {
    "id": "WbvYjS1bOMYe"
   },
   "source": [
    "## 4.4 Recomanació d'artistes\n",
    "\n",
    "<div style=\"background-color: #EDF7FF; border-color: #7C9DBF; border-left: 5px solid #7C9DBF; padding: 0.5em;\">\n",
    "<strong>Implementació:</strong> Ara que tens el model usuari-artistes entrenat, utilitza el mètode recommend per mostrar el top 10 de recomanacions per a un usuari qualsevol. Mostra també els artistes que ha consumit aquest usuari. Tenen relació?\n",
    "</div>"
   ]
  },
  {
   "cell_type": "code",
   "execution_count": null,
   "metadata": {
    "id": "m2pu-DCiOQW2"
   },
   "outputs": [],
   "source": []
  },
  {
   "cell_type": "markdown",
   "metadata": {
    "id": "rfLgyzHIPIMf"
   },
   "source": [
    "## 4.5 Entrenament i recomanació de cançons\n",
    "\n",
    "<div style=\"background-color: #EDF7FF; border-color: #7C9DBF; border-left: 5px solid #7C9DBF; padding: 0.5em;\">\n",
    "<strong>Implementació:</strong> Calcula l'embedding de les cançons. Si té més de dues dimensions, redueix la seva dimensionalitat amb UMAP. Visualitza amb matpltolib els usuaris en el nou espai latent reduït. Mostra aleatòriament les etiquetes (nom de l'artista) de 100 punts juntament amb aquests. No mostris totes les etiquetes perquè taparien el contingut del gràfic.\n",
    "</div>"
   ]
  },
  {
   "cell_type": "code",
   "execution_count": null,
   "metadata": {
    "id": "ZTvXA6Npn8pA"
   },
   "outputs": [],
   "source": []
  },
  {
   "cell_type": "markdown",
   "metadata": {
    "id": "FL90GrJgPcrA"
   },
   "source": [
    "<div style=\"background-color: #EDF7FF; border-color: #7C9DBF; border-left: 5px solid #7C9DBF; padding: 0.5em;\">\n",
    "<strong>Anàlisi:</strong> Quin enfocament de clustering utilitzaries? I quin algoritme en concret? Per què?\n",
    "</div>\n"
   ]
  },
  {
   "cell_type": "code",
   "execution_count": null,
   "metadata": {
    "id": "TzYvLXK6P9n-"
   },
   "outputs": [],
   "source": []
  },
  {
   "cell_type": "markdown",
   "metadata": {
    "id": "lGMQAMsLRI8g"
   },
   "source": [
    "## [OPCIONAL] 5. El context ho és tot: projectant artistes i cançons amb item2vec\n",
    "\n",
    "Fins ara hem representat els artistes i cançons com a punts en espais temàtics (LDA) o latents (factorització), centrant-nos en com es relacionen amb els usuaris. Però... què passaria si en lloc de mirar **qui els escolta**, observem **com es consumeixen junts a la pràctica**?\n",
    "\n",
    "Aquí entra en joc una tècnica inspirada en el processament del llenguatge natural: [**item2vec**](https://arxiv.org/pdf/1603.04259).\n",
    "\n",
    "És una adaptació del famós model [**word2vec**](https://arxiv.org/pdf/1301.3781), però en lloc de predir paraules en frases, **aprèn a representar ítems (en aquest cas, cançons o artistes) a partir del context en què apareixen**. Tot d'una manera no supervisada.\n",
    "\n",
    "La diferència principal entre word2vec i item2vec rau en què **word2vec assumeix que l'ordre de les paraules importa a la frase, mentre que item2vec no**. Això permet aplicar item2vec a conjunts de dades com carros de la compra on desconeixes l'ordre en què el client va introduir els productes al carro.\n",
    "\n",
    "La intuïció és simple: si dues cançons solen escoltar-se dins d'una mateixa sessió, probablement comparteixen alguna cosa en comú, **encara que no siguin exactament del mateix gènere**.\n",
    "\n",
    "Això és molt diferent dels models anteriors:\n",
    "- **Coocurrència** basat en l'estructura d'escolta.\n",
    "- **LDA** enfocament probabilístic recolzant-se en temes latents.\n",
    "- **Factorització** mira preferències individuals.\n",
    "- **item2vec** **atén al \"context d'escolta\"**, com si fossin paraules dins de frases.\n",
    "\n",
    "Un aspecte clau d'item2vec és que dos artistes **no han de necessàriament escoltar-se junts** per acabar projectats *a prop*.\n",
    "Si **ambdós apareixen en contextos semblants**, es col·loquen a la mateixa zona de l'espai d'embeddings.\n",
    "\n",
    "Per això, item2vec pot descobrir **afinitats ocultes** entre artistes que mai han coincidit directament, però que comparteixen **un mateix tipus d'oient o ambient d'escolta** (A i B poden no haver coincidit en cap sessió, però A té com a context C, D i E, igual que B).\n",
    "\n",
    "Un dels aspectes més interessants d'aquest enfocament és la semàntica que és capaç de capturar i forma part dels **fonaments dels LLMs**: la **projecció algebraica permet realitzar operacions al nou espai simplement sumant o restant vectors**, com a la següent imatge.\n",
    "\n",
    "![Word2Vec](https://cdn.analyticsvidhya.com/wp-content/uploads/2017/06/06062705/Word-Vectors.png)\n",
    "\n",
    "Per indagar més en el model word2vec recomanem [aquest article](https://jalammar.github.io/illustrated-word2vec/). També en [aquest vídeo sobre word2vec](https://youtu.be/viZrOnJclY0). I [aquest altre](https://www.youtube.com/watch?v=FJtFZwbvkI4) sobre word embeddings.\n",
    "\n",
    "## 5.1 Representació matricial artista-artista\n",
    "\n",
    "La implementació rigorosa ens portaria a un conjunt d'entrenament molt gran (donada la combinatòria) i a implementar tècniques addicionals com negative sampling. Per simplificar-ho, el context d'un artista vindrà donat per la coocurrència amb altres artistes. Per això començarem calculant la matriu `artist_artist_matrix` a partir de la matriu que vam preparar a la primera secció: `user_artist_matrix`. Atès que el context es compararà amb la sortida d'una funció `softmax`, també normalitzarem la matriu per files. D'aquesta manera, les èpoques d'entrenament seran més lleugeres, a la llarga el resultat serà bastant similar, ja que s'acaba aproximant la matriu de coocurrència."
   ]
  },
  {
   "cell_type": "markdown",
   "metadata": {
    "id": "n-pQjlUmRbF5"
   },
   "source": [
    "<div style=\"background-color: #EDF7FF; border-color: #7C9DBF; border-left: 5px solid #7C9DBF; padding: 0.5em;\">\n",
    "<strong>Implementació:</strong> A partir de la matriu user_artist_matrix, calcula la matriu artist_artist_matrix on cada cel·la indiqui el nombre d'usuaris que han escoltat l'artista de la fila i el de la columna. Normalitza les files de la matriu per entrenar el model.\n",
    "</div>"
   ]
  },
  {
   "cell_type": "code",
   "execution_count": null,
   "metadata": {
    "id": "1OmWmxZeRgfS"
   },
   "outputs": [],
   "source": []
  },
  {
   "cell_type": "markdown",
   "metadata": {
    "id": "u20_XsxbRw61"
   },
   "source": [
    "Per simplificar la tasca, aquí tens el codi de PyTorch referent al Dataset que carrega la matriu calculada al pas anterior:"
   ]
  },
  {
   "cell_type": "code",
   "execution_count": null,
   "metadata": {
    "id": "EvD_AEQ-oCmA"
   },
   "outputs": [],
   "source": []
  },
  {
   "cell_type": "markdown",
   "metadata": {
    "id": "EOF_DRbJR6PH"
   },
   "source": [
    "## 5.2 Disseny de la xarxa i entrenament\n",
    "\n",
    "Ara definirem la xarxa neuronal dissenyada perquè, donat un artista, aprengui a predir el seu “context”: els artistes que solen escoltar-se juntament amb ell. Imita el model item2vec amb un enfocament tipus Skip-Gram.\n",
    "\n",
    "L'implementarem a través de la classe `ArtistModel` que consta dels següents mètodes:\n",
    "\n",
    "`__init__`\n",
    "\n",
    "Contindrà una capa d'`Embedding` que projecti a la dimensió que desitgem (en aquest cas 2 per a fins didàctics, ja que aprendrà una representació en baixa dimensionalitat tot en un), que de veritat és el que ens interessa, ja que ens permet associar un índex d'artista a una representació vectorial (embedding). I finalment, una capa `Lineal` que projecti de 2 dimensions al nombre d'artistes (el context).\n",
    "\n",
    "`forward`\n",
    "\n",
    "Aquí connectem les capes que hem definit a `__init__` de tal manera que rebem un índex, aquest el passem a la capa d'`Embedding` per recuperar la seva representació vectorial (2d), d'aquí a la capa `Lineal` que projectarà al context (de dimensió nombre d'artistes). Finalment, aplicar i retornar el resultat de la funció `softmax` a la sortida de la capa `Lineal` que al bucle principal (fora del mètode) la compararem amb la fila corresponent de la matriu `artist_artist_matrix`."
   ]
  },
  {
   "cell_type": "code",
   "execution_count": null,
   "metadata": {
    "id": "LfbfWIZpR_Ek"
   },
   "outputs": [],
   "source": []
  },
  {
   "cell_type": "markdown",
   "metadata": {
    "id": "c-IQ7BgVSJtM"
   },
   "source": [
    "El siguiente código se corresponde al bucle de entrenamiento donde relacionamos el dataset que se carga y se conecta con el modelo para alimentarlo.\n",
    "\n",
    "Destacar:\n",
    "\n",
    " - Se ejecutarán 500 epochs, es decir, el modelo verá el dataset completo 500 veces.\n",
    " - `for artist_idx, context_dist in artist_dataloader:` aquí se ejecutarán minibatches (el dataset por partes) hasta recorrer el dataset completo (una epoch).\n",
    " - `log_probs = model(artist_idx)` se hace una pasada por el modelo entrando un índice y obteniendo su log_probs (la salida).\n",
    " - `loss = criterion(log_probs, context_dist)` aquí se comparan las predicciones con el contexto calculado en la matriz `artist_artist_matrix`. Previamente se ha definido `criterion` como `KL divergence` que mide cuanto se alejan las dos distribuciones.\n",
    " - `loss.backward()` propaga para atrás las diferencias, haciendo efectivo el entrenamiento de la red.\n",
    "\n",
    "Durante el proceso de entrenamiento verás como la loss (el error) decrece hasta llegar a estabilizarse."
   ]
  },
  {
   "cell_type": "code",
   "execution_count": null,
   "metadata": {
    "id": "9PwgUdQfocT3"
   },
   "outputs": [],
   "source": [
    "model = ArtistModel(n_artists=len(artist_artist_matrix), embedding_dim=2)\n",
    "optimizer = torch.optim.Adam(model.parameters(), lr=1e-1)\n",
    "criterion = nn.KLDivLoss(reduction='batchmean')\n",
    "\n",
    "n_epochs = 500\n",
    "for epoch in range(n_epochs):\n",
    "    model.train()\n",
    "    total_loss = 0\n",
    "    for artist_idx, context_dist in artist_dataloader:\n",
    "        log_probs = model(artist_idx)\n",
    "        loss = criterion(log_probs, context_dist)\n",
    "\n",
    "        optimizer.zero_grad()\n",
    "        loss.backward()\n",
    "        optimizer.step()\n",
    "        total_loss += loss.item()\n",
    "\n",
    "    avg_loss = total_loss / len(artist_dataloader)\n",
    "    print(f\"Epoch {epoch+1}/{n_epochs} - Loss: {avg_loss:.4f}\")"
   ]
  },
  {
   "cell_type": "markdown",
   "metadata": {
    "id": "EWpK5gTzSXmF"
   },
   "source": [
    "## 5.3 Visualització d'artistes\n",
    "\n",
    "<div style=\"background-color: #EDF7FF; border-color: #7C9DBF; border-left: 5px solid #7C9DBF; padding: 0.5em;\">\n",
    "<strong>Implementació:</strong> Recupera els embeddings apresos pel model i visualitza els artistes projectats a l'espai 2d. Mostra aleatòriament les etiquetes (nom de l'artista) de 100 punts juntament amb aquests. No mostris totes les etiquetes perquè taparien el contingut del gràfic.\n",
    "</div>"
   ]
  },
  {
   "cell_type": "code",
   "execution_count": null,
   "metadata": {
    "id": "r94ybu0cSV_G"
   },
   "outputs": [],
   "source": []
  },
  {
   "cell_type": "markdown",
   "metadata": {
    "id": "ZpWCHOInS3xa"
   },
   "source": [
    "La nova representació és una mica diferent de les altres perquè, a diferència de les anteriors, és recomanable utilitzar similitud de cosinus en lloc de la distància euclidiana perquè dos vectors poden apuntar a la mateixa direcció (molt similars), però estar a diferent escala (longitud).\n",
    "\n",
    "Per exemple: [1, 1] i [100, 100] estan molt lluny euclidianament, però apunten exactament a la mateixa direcció → són el mateix tipus d'artista, només amb més magnitud (més popular, més escoltat...).\n",
    "\n",
    "L'euclidiana penalitza l'escala, no només la direcció. Però als embeddings, l'important és la direcció del vector, que representa l'estil, el context o la posició semàntica.\n",
    "\n",
    "Mentre que la similitud de cosinus oscil·la entre -1 (oposats) i 1 (idèntics). Dos vectors amb similitud cosinus propera a 1 estan a la mateixa direcció, per tant, són similars. I dos vectors amb similitud 0 són ortogonals, sense relació. S'ha observat que la similitud de cosinus encaixa millor la representació de la xarxa amb la interpretació dels embeddings."
   ]
  },
  {
   "cell_type": "markdown",
   "metadata": {
    "id": "OPADxjy1S_FU"
   },
   "source": [
    "<div style=\"background-color: #EDF7FF; border-color: #7C9DBF; border-left: 5px solid #7C9DBF; padding: 0.5em;\">\n",
    "<strong>Anàlisi:</strong> Com recomanaries artistes a un usuari amb alguna història d'escolta?\n",
    "</div>"
   ]
  },
  {
   "cell_type": "code",
   "execution_count": null,
   "metadata": {
    "id": "xrSnbxKoTCZR"
   },
   "outputs": [],
   "source": []
  }
 ],
 "metadata": {
  "colab": {
   "provenance": []
  },
  "kernelspec": {
   "display_name": "Python 3 (ipykernel)",
   "language": "python",
   "name": "python3"
  },
  "language_info": {
   "codemirror_mode": {
    "name": "ipython",
    "version": 3
   },
   "file_extension": ".py",
   "mimetype": "text/x-python",
   "name": "python",
   "nbconvert_exporter": "python",
   "pygments_lexer": "ipython3",
   "version": "3.12.9"
  },
  "toc": {
   "base_numbering": 1,
   "nav_menu": {},
   "number_sections": true,
   "sideBar": true,
   "skip_h1_title": false,
   "title_cell": "Table of Contents",
   "title_sidebar": "Contents",
   "toc_cell": false,
   "toc_position": {},
   "toc_section_display": true,
   "toc_window_display": false
  }
 },
 "nbformat": 4,
 "nbformat_minor": 4
}
